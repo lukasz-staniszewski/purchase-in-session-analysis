{
 "cells": [
  {
   "cell_type": "code",
   "execution_count": 40,
   "metadata": {
    "collapsed": true
   },
   "outputs": [],
   "source": [
    "import pandas as pd\n",
    "from matplotlib import pyplot as plt\n",
    "%matplotlib inline\n",
    "from sklearn.metrics import mean_squared_error, accuracy_score, confusion_matrix, classification_report, ConfusionMatrixDisplay\n",
    "from sklearn.model_selection import train_test_split, cross_val_score, cross_val_predict\n",
    "from sklearn.neighbors import KNeighborsClassifier\n",
    "from sklearn.svm import SVC\n",
    "from sklearn.linear_model import LinearRegression\n",
    "from sklearn.ensemble import RandomForestClassifier, GradientBoostingClassifier\n",
    "import tensorflow as tf\n",
    "import numpy as np"
   ]
  },
  {
   "cell_type": "markdown",
   "source": [
    "### Wczytanie już poprawnie przetworzonych danych"
   ],
   "metadata": {
    "collapsed": false,
    "pycharm": {
     "name": "#%% md\n"
    }
   }
  },
  {
   "cell_type": "code",
   "execution_count": 4,
   "outputs": [],
   "source": [
    "df = pd.read_json(path_or_buf='../../data/processed/dataset.jsonl')"
   ],
   "metadata": {
    "collapsed": false,
    "pycharm": {
     "name": "#%%\n"
    }
   }
  },
  {
   "cell_type": "code",
   "execution_count": 5,
   "outputs": [
    {
     "data": {
      "text/plain": "   purchased  offered_discount     price  Akcesoria telefoniczne  Anteny RTV  \\\n0          1                 5    199.98                       0           0   \n1          1                 0  36664.54                       0           0   \n2          1                15    222.60                       0           0   \n3          1                 0    208.50                       0           0   \n4          1                 0    568.94                       0           0   \n\n   Audio  Biurowe urządzenia wielofunkcyjne  Drukarki i skanery  \\\n0      0                                  0                   0   \n1      0                                  9                   9   \n2      0                                  0                   0   \n3      0                                  0                   0   \n4      0                                  0                   0   \n\n   Gry PlayStation3  Gry Xbox 360  ...  Zestawy głośnomówiące  \\\n0                 0             0  ...                      0   \n1                 0             0  ...                      0   \n2                 0             0  ...                      0   \n3                 0             0  ...                      0   \n4                 0             7  ...                      0   \n\n   Zestawy słuchawkowe  Female  Male  session_length  n_views  month  day  \\\n0                    0       1     0             725        1      8   26   \n1                    0       1     0            1547        8      3    8   \n2                    0       1     0             347        2      2   16   \n3                    0       1     0             457        2      3   13   \n4                    0       1     0            1010        6      4   18   \n\n   hour  dayofweek  \n0    22          3  \n1     8          0  \n2    17          1  \n3     6          5  \n4    21          6  \n\n[5 rows x 39 columns]",
      "text/html": "<div>\n<style scoped>\n    .dataframe tbody tr th:only-of-type {\n        vertical-align: middle;\n    }\n\n    .dataframe tbody tr th {\n        vertical-align: top;\n    }\n\n    .dataframe thead th {\n        text-align: right;\n    }\n</style>\n<table border=\"1\" class=\"dataframe\">\n  <thead>\n    <tr style=\"text-align: right;\">\n      <th></th>\n      <th>purchased</th>\n      <th>offered_discount</th>\n      <th>price</th>\n      <th>Akcesoria telefoniczne</th>\n      <th>Anteny RTV</th>\n      <th>Audio</th>\n      <th>Biurowe urządzenia wielofunkcyjne</th>\n      <th>Drukarki i skanery</th>\n      <th>Gry PlayStation3</th>\n      <th>Gry Xbox 360</th>\n      <th>...</th>\n      <th>Zestawy głośnomówiące</th>\n      <th>Zestawy słuchawkowe</th>\n      <th>Female</th>\n      <th>Male</th>\n      <th>session_length</th>\n      <th>n_views</th>\n      <th>month</th>\n      <th>day</th>\n      <th>hour</th>\n      <th>dayofweek</th>\n    </tr>\n  </thead>\n  <tbody>\n    <tr>\n      <th>0</th>\n      <td>1</td>\n      <td>5</td>\n      <td>199.98</td>\n      <td>0</td>\n      <td>0</td>\n      <td>0</td>\n      <td>0</td>\n      <td>0</td>\n      <td>0</td>\n      <td>0</td>\n      <td>...</td>\n      <td>0</td>\n      <td>0</td>\n      <td>1</td>\n      <td>0</td>\n      <td>725</td>\n      <td>1</td>\n      <td>8</td>\n      <td>26</td>\n      <td>22</td>\n      <td>3</td>\n    </tr>\n    <tr>\n      <th>1</th>\n      <td>1</td>\n      <td>0</td>\n      <td>36664.54</td>\n      <td>0</td>\n      <td>0</td>\n      <td>0</td>\n      <td>9</td>\n      <td>9</td>\n      <td>0</td>\n      <td>0</td>\n      <td>...</td>\n      <td>0</td>\n      <td>0</td>\n      <td>1</td>\n      <td>0</td>\n      <td>1547</td>\n      <td>8</td>\n      <td>3</td>\n      <td>8</td>\n      <td>8</td>\n      <td>0</td>\n    </tr>\n    <tr>\n      <th>2</th>\n      <td>1</td>\n      <td>15</td>\n      <td>222.60</td>\n      <td>0</td>\n      <td>0</td>\n      <td>0</td>\n      <td>0</td>\n      <td>0</td>\n      <td>0</td>\n      <td>0</td>\n      <td>...</td>\n      <td>0</td>\n      <td>0</td>\n      <td>1</td>\n      <td>0</td>\n      <td>347</td>\n      <td>2</td>\n      <td>2</td>\n      <td>16</td>\n      <td>17</td>\n      <td>1</td>\n    </tr>\n    <tr>\n      <th>3</th>\n      <td>1</td>\n      <td>0</td>\n      <td>208.50</td>\n      <td>0</td>\n      <td>0</td>\n      <td>0</td>\n      <td>0</td>\n      <td>0</td>\n      <td>0</td>\n      <td>0</td>\n      <td>...</td>\n      <td>0</td>\n      <td>0</td>\n      <td>1</td>\n      <td>0</td>\n      <td>457</td>\n      <td>2</td>\n      <td>3</td>\n      <td>13</td>\n      <td>6</td>\n      <td>5</td>\n    </tr>\n    <tr>\n      <th>4</th>\n      <td>1</td>\n      <td>0</td>\n      <td>568.94</td>\n      <td>0</td>\n      <td>0</td>\n      <td>0</td>\n      <td>0</td>\n      <td>0</td>\n      <td>0</td>\n      <td>7</td>\n      <td>...</td>\n      <td>0</td>\n      <td>0</td>\n      <td>1</td>\n      <td>0</td>\n      <td>1010</td>\n      <td>6</td>\n      <td>4</td>\n      <td>18</td>\n      <td>21</td>\n      <td>6</td>\n    </tr>\n  </tbody>\n</table>\n<p>5 rows × 39 columns</p>\n</div>"
     },
     "execution_count": 5,
     "metadata": {},
     "output_type": "execute_result"
    }
   ],
   "source": [
    "df.head()"
   ],
   "metadata": {
    "collapsed": false,
    "pycharm": {
     "name": "#%%\n"
    }
   }
  },
  {
   "cell_type": "markdown",
   "source": [
    "### Oddzielenie zmiennej celu od pozostałych atrybutów"
   ],
   "metadata": {
    "collapsed": false,
    "pycharm": {
     "name": "#%% md\n"
    }
   }
  },
  {
   "cell_type": "code",
   "execution_count": 6,
   "outputs": [],
   "source": [
    "y = df['purchased'].values\n",
    "X = df.drop(columns=['purchased'])"
   ],
   "metadata": {
    "collapsed": false,
    "pycharm": {
     "name": "#%%\n"
    }
   }
  },
  {
   "cell_type": "code",
   "execution_count": 9,
   "outputs": [
    {
     "data": {
      "text/plain": "   offered_discount     price  Akcesoria telefoniczne  Anteny RTV  Audio  \\\n0                 5    199.98                       0           0      0   \n1                 0  36664.54                       0           0      0   \n2                15    222.60                       0           0      0   \n3                 0    208.50                       0           0      0   \n4                 0    568.94                       0           0      0   \n\n   Biurowe urządzenia wielofunkcyjne  Drukarki i skanery  Gry PlayStation3  \\\n0                                  0                   0                 0   \n1                                  9                   9                 0   \n2                                  0                   0                 0   \n3                                  0                   0                 0   \n4                                  0                   0                 0   \n\n   Gry Xbox 360  Gry i konsole  ...  Zestawy głośnomówiące  \\\n0             0              0  ...                      0   \n1             0              0  ...                      0   \n2             0              0  ...                      0   \n3             0              0  ...                      0   \n4             7              7  ...                      0   \n\n   Zestawy słuchawkowe  Female  Male  session_length  n_views  month  day  \\\n0                    0       1     0             725        1      8   26   \n1                    0       1     0            1547        8      3    8   \n2                    0       1     0             347        2      2   16   \n3                    0       1     0             457        2      3   13   \n4                    0       1     0            1010        6      4   18   \n\n   hour  dayofweek  \n0    22          3  \n1     8          0  \n2    17          1  \n3     6          5  \n4    21          6  \n\n[5 rows x 38 columns]",
      "text/html": "<div>\n<style scoped>\n    .dataframe tbody tr th:only-of-type {\n        vertical-align: middle;\n    }\n\n    .dataframe tbody tr th {\n        vertical-align: top;\n    }\n\n    .dataframe thead th {\n        text-align: right;\n    }\n</style>\n<table border=\"1\" class=\"dataframe\">\n  <thead>\n    <tr style=\"text-align: right;\">\n      <th></th>\n      <th>offered_discount</th>\n      <th>price</th>\n      <th>Akcesoria telefoniczne</th>\n      <th>Anteny RTV</th>\n      <th>Audio</th>\n      <th>Biurowe urządzenia wielofunkcyjne</th>\n      <th>Drukarki i skanery</th>\n      <th>Gry PlayStation3</th>\n      <th>Gry Xbox 360</th>\n      <th>Gry i konsole</th>\n      <th>...</th>\n      <th>Zestawy głośnomówiące</th>\n      <th>Zestawy słuchawkowe</th>\n      <th>Female</th>\n      <th>Male</th>\n      <th>session_length</th>\n      <th>n_views</th>\n      <th>month</th>\n      <th>day</th>\n      <th>hour</th>\n      <th>dayofweek</th>\n    </tr>\n  </thead>\n  <tbody>\n    <tr>\n      <th>0</th>\n      <td>5</td>\n      <td>199.98</td>\n      <td>0</td>\n      <td>0</td>\n      <td>0</td>\n      <td>0</td>\n      <td>0</td>\n      <td>0</td>\n      <td>0</td>\n      <td>0</td>\n      <td>...</td>\n      <td>0</td>\n      <td>0</td>\n      <td>1</td>\n      <td>0</td>\n      <td>725</td>\n      <td>1</td>\n      <td>8</td>\n      <td>26</td>\n      <td>22</td>\n      <td>3</td>\n    </tr>\n    <tr>\n      <th>1</th>\n      <td>0</td>\n      <td>36664.54</td>\n      <td>0</td>\n      <td>0</td>\n      <td>0</td>\n      <td>9</td>\n      <td>9</td>\n      <td>0</td>\n      <td>0</td>\n      <td>0</td>\n      <td>...</td>\n      <td>0</td>\n      <td>0</td>\n      <td>1</td>\n      <td>0</td>\n      <td>1547</td>\n      <td>8</td>\n      <td>3</td>\n      <td>8</td>\n      <td>8</td>\n      <td>0</td>\n    </tr>\n    <tr>\n      <th>2</th>\n      <td>15</td>\n      <td>222.60</td>\n      <td>0</td>\n      <td>0</td>\n      <td>0</td>\n      <td>0</td>\n      <td>0</td>\n      <td>0</td>\n      <td>0</td>\n      <td>0</td>\n      <td>...</td>\n      <td>0</td>\n      <td>0</td>\n      <td>1</td>\n      <td>0</td>\n      <td>347</td>\n      <td>2</td>\n      <td>2</td>\n      <td>16</td>\n      <td>17</td>\n      <td>1</td>\n    </tr>\n    <tr>\n      <th>3</th>\n      <td>0</td>\n      <td>208.50</td>\n      <td>0</td>\n      <td>0</td>\n      <td>0</td>\n      <td>0</td>\n      <td>0</td>\n      <td>0</td>\n      <td>0</td>\n      <td>0</td>\n      <td>...</td>\n      <td>0</td>\n      <td>0</td>\n      <td>1</td>\n      <td>0</td>\n      <td>457</td>\n      <td>2</td>\n      <td>3</td>\n      <td>13</td>\n      <td>6</td>\n      <td>5</td>\n    </tr>\n    <tr>\n      <th>4</th>\n      <td>0</td>\n      <td>568.94</td>\n      <td>0</td>\n      <td>0</td>\n      <td>0</td>\n      <td>0</td>\n      <td>0</td>\n      <td>0</td>\n      <td>7</td>\n      <td>7</td>\n      <td>...</td>\n      <td>0</td>\n      <td>0</td>\n      <td>1</td>\n      <td>0</td>\n      <td>1010</td>\n      <td>6</td>\n      <td>4</td>\n      <td>18</td>\n      <td>21</td>\n      <td>6</td>\n    </tr>\n  </tbody>\n</table>\n<p>5 rows × 38 columns</p>\n</div>"
     },
     "execution_count": 9,
     "metadata": {},
     "output_type": "execute_result"
    }
   ],
   "source": [
    "X.head()"
   ],
   "metadata": {
    "collapsed": false,
    "pycharm": {
     "name": "#%%\n"
    }
   }
  },
  {
   "cell_type": "code",
   "execution_count": 11,
   "outputs": [
    {
     "data": {
      "text/plain": "array([1, 1, 1, 1, 1])"
     },
     "execution_count": 11,
     "metadata": {},
     "output_type": "execute_result"
    }
   ],
   "source": [
    "y[:5]"
   ],
   "metadata": {
    "collapsed": false,
    "pycharm": {
     "name": "#%%\n"
    }
   }
  },
  {
   "cell_type": "markdown",
   "source": [
    "### Podział zbioru danych na zbiór treningowy i testowy"
   ],
   "metadata": {
    "collapsed": false,
    "pycharm": {
     "name": "#%% md\n"
    }
   }
  },
  {
   "cell_type": "code",
   "execution_count": 59,
   "outputs": [],
   "source": [
    "X_train, X_test, y_train, y_test = train_test_split(X, y, test_size=0.3)"
   ],
   "metadata": {
    "collapsed": false,
    "pycharm": {
     "name": "#%%\n"
    }
   }
  },
  {
   "cell_type": "code",
   "execution_count": 13,
   "outputs": [
    {
     "data": {
      "text/plain": "(2821, 38)"
     },
     "execution_count": 13,
     "metadata": {},
     "output_type": "execute_result"
    }
   ],
   "source": [
    "X_test.shape"
   ],
   "metadata": {
    "collapsed": false,
    "pycharm": {
     "name": "#%%\n"
    }
   }
  },
  {
   "cell_type": "code",
   "execution_count": 14,
   "outputs": [
    {
     "data": {
      "text/plain": "(6582, 38)"
     },
     "execution_count": 14,
     "metadata": {},
     "output_type": "execute_result"
    }
   ],
   "source": [
    "X_train.shape"
   ],
   "metadata": {
    "collapsed": false,
    "pycharm": {
     "name": "#%%\n"
    }
   }
  },
  {
   "cell_type": "markdown",
   "source": [
    "## Analiza modeli"
   ],
   "metadata": {
    "collapsed": false,
    "pycharm": {
     "name": "#%% md\n"
    }
   }
  },
  {
   "cell_type": "markdown",
   "source": [
    "### Las losowy"
   ],
   "metadata": {
    "collapsed": false,
    "pycharm": {
     "name": "#%% md\n"
    }
   }
  },
  {
   "cell_type": "code",
   "execution_count": 15,
   "outputs": [
    {
     "data": {
      "text/plain": "RandomForestClassifier()"
     },
     "execution_count": 15,
     "metadata": {},
     "output_type": "execute_result"
    }
   ],
   "source": [
    "random_forest = RandomForestClassifier()\n",
    "random_forest.fit(X_train, y_train)"
   ],
   "metadata": {
    "collapsed": false,
    "pycharm": {
     "name": "#%%\n"
    }
   }
  },
  {
   "cell_type": "code",
   "execution_count": 30,
   "outputs": [
    {
     "data": {
      "text/plain": "0.9234305691301407"
     },
     "execution_count": 30,
     "metadata": {},
     "output_type": "execute_result"
    }
   ],
   "source": [
    "rand_forest_scores = cross_val_score(random_forest, X_test, y_test, cv=10, scoring=\"accuracy\")\n",
    "rand_forest_scores.mean()"
   ],
   "metadata": {
    "collapsed": false,
    "pycharm": {
     "name": "#%%\n"
    }
   }
  },
  {
   "cell_type": "markdown",
   "source": [
    "### KNN"
   ],
   "metadata": {
    "collapsed": false,
    "pycharm": {
     "name": "#%% md\n"
    }
   }
  },
  {
   "cell_type": "code",
   "execution_count": 17,
   "outputs": [
    {
     "data": {
      "text/plain": "KNeighborsClassifier()"
     },
     "execution_count": 17,
     "metadata": {},
     "output_type": "execute_result"
    }
   ],
   "source": [
    "knn = KNeighborsClassifier()\n",
    "knn.fit(X_train, y_train)"
   ],
   "metadata": {
    "collapsed": false,
    "pycharm": {
     "name": "#%%\n"
    }
   }
  },
  {
   "cell_type": "code",
   "execution_count": 31,
   "outputs": [
    {
     "data": {
      "text/plain": "0.7015236949602787"
     },
     "execution_count": 31,
     "metadata": {},
     "output_type": "execute_result"
    }
   ],
   "source": [
    "knn_forest_scores = cross_val_score(knn, X_test, y_test, cv=10, scoring=\"accuracy\")\n",
    "knn_forest_scores.mean()"
   ],
   "metadata": {
    "collapsed": false,
    "pycharm": {
     "name": "#%%\n"
    }
   }
  },
  {
   "cell_type": "markdown",
   "source": [
    "### SVM"
   ],
   "metadata": {
    "collapsed": false,
    "pycharm": {
     "name": "#%% md\n"
    }
   }
  },
  {
   "cell_type": "code",
   "execution_count": 19,
   "outputs": [
    {
     "data": {
      "text/plain": "SVC()"
     },
     "execution_count": 19,
     "metadata": {},
     "output_type": "execute_result"
    }
   ],
   "source": [
    "svm = SVC(kernel=\"rbf\")\n",
    "svm.fit(X_train, y_train)"
   ],
   "metadata": {
    "collapsed": false,
    "pycharm": {
     "name": "#%%\n"
    }
   }
  },
  {
   "cell_type": "code",
   "execution_count": 32,
   "outputs": [
    {
     "data": {
      "text/plain": "0.6022755181314688"
     },
     "execution_count": 32,
     "metadata": {},
     "output_type": "execute_result"
    }
   ],
   "source": [
    "svm_scores = cross_val_score(svm, X_test, y_test, cv=10, scoring=\"accuracy\")\n",
    "svm_scores.mean()"
   ],
   "metadata": {
    "collapsed": false,
    "pycharm": {
     "name": "#%%\n"
    }
   }
  },
  {
   "cell_type": "markdown",
   "source": [
    "### Gradient Boosting"
   ],
   "metadata": {
    "collapsed": false,
    "pycharm": {
     "name": "#%% md\n"
    }
   }
  },
  {
   "cell_type": "code",
   "execution_count": 21,
   "outputs": [
    {
     "data": {
      "text/plain": "GradientBoostingClassifier()"
     },
     "execution_count": 21,
     "metadata": {},
     "output_type": "execute_result"
    }
   ],
   "source": [
    "gradient_boosting = GradientBoostingClassifier()\n",
    "gradient_boosting.fit(X_train, y_train)"
   ],
   "metadata": {
    "collapsed": false,
    "pycharm": {
     "name": "#%%\n"
    }
   }
  },
  {
   "cell_type": "code",
   "execution_count": 33,
   "outputs": [
    {
     "data": {
      "text/plain": "0.90499807809709"
     },
     "execution_count": 33,
     "metadata": {},
     "output_type": "execute_result"
    }
   ],
   "source": [
    "gradient_boosting_scores = cross_val_score(gradient_boosting, X_test, y_test, cv=3, scoring=\"accuracy\")\n",
    "gradient_boosting_scores.mean()"
   ],
   "metadata": {
    "collapsed": false,
    "pycharm": {
     "name": "#%%\n"
    }
   }
  },
  {
   "cell_type": "markdown",
   "source": [
    "### Sieć neuronowa"
   ],
   "metadata": {
    "collapsed": false,
    "pycharm": {
     "name": "#%% md\n"
    }
   }
  },
  {
   "cell_type": "code",
   "execution_count": 24,
   "outputs": [
    {
     "name": "stderr",
     "output_type": "stream",
     "text": [
      "2022-01-08 00:09:31.986305: I tensorflow/stream_executor/cuda/cuda_gpu_executor.cc:939] successful NUMA node read from SysFS had negative value (-1), but there must be at least one NUMA node, so returning NUMA node zero\n",
      "2022-01-08 00:09:31.992252: W tensorflow/stream_executor/platform/default/dso_loader.cc:64] Could not load dynamic library 'libcudnn.so.8'; dlerror: libcudnn.so.8: cannot open shared object file: No such file or directory\n",
      "2022-01-08 00:09:31.992273: W tensorflow/core/common_runtime/gpu/gpu_device.cc:1850] Cannot dlopen some GPU libraries. Please make sure the missing libraries mentioned above are installed properly if you would like to use GPU. Follow the guide at https://www.tensorflow.org/install/gpu for how to download and setup the required libraries for your platform.\n",
      "Skipping registering GPU devices...\n",
      "2022-01-08 00:09:31.992917: I tensorflow/core/platform/cpu_feature_guard.cc:151] This TensorFlow binary is optimized with oneAPI Deep Neural Network Library (oneDNN) to use the following CPU instructions in performance-critical operations:  AVX2 FMA\n",
      "To enable them in other operations, rebuild TensorFlow with the appropriate compiler flags.\n"
     ]
    }
   ],
   "source": [
    "model = tf.keras.Sequential([\n",
    "    tf.keras.layers.Dense(128, activation='relu', input_dim=len(df.columns)-1),\n",
    "    tf.keras.layers.Dense(64, activation='relu'),\n",
    "    tf.keras.layers.Dense(32, activation='relu'),\n",
    "    tf.keras.layers.Dense(1, activation=\"sigmoid\")\n",
    "\n",
    "])"
   ],
   "metadata": {
    "collapsed": false,
    "pycharm": {
     "name": "#%%\n"
    }
   }
  },
  {
   "cell_type": "code",
   "execution_count": 25,
   "outputs": [
    {
     "name": "stdout",
     "output_type": "stream",
     "text": [
      "Model: \"sequential\"\n",
      "_________________________________________________________________\n",
      " Layer (type)                Output Shape              Param #   \n",
      "=================================================================\n",
      " dense (Dense)               (None, 128)               4992      \n",
      "                                                                 \n",
      " dense_1 (Dense)             (None, 64)                8256      \n",
      "                                                                 \n",
      " dense_2 (Dense)             (None, 32)                2080      \n",
      "                                                                 \n",
      " dense_3 (Dense)             (None, 1)                 33        \n",
      "                                                                 \n",
      "=================================================================\n",
      "Total params: 15,361\n",
      "Trainable params: 15,361\n",
      "Non-trainable params: 0\n",
      "_________________________________________________________________\n"
     ]
    }
   ],
   "source": [
    "model.summary()"
   ],
   "metadata": {
    "collapsed": false,
    "pycharm": {
     "name": "#%%\n"
    }
   }
  },
  {
   "cell_type": "code",
   "execution_count": 26,
   "outputs": [],
   "source": [
    "model.compile(optimizer='adam',\n",
    "              loss=tf.keras.losses.BinaryCrossentropy(),\n",
    "              metrics=['accuracy'])"
   ],
   "metadata": {
    "collapsed": false,
    "pycharm": {
     "name": "#%%\n"
    }
   }
  },
  {
   "cell_type": "code",
   "execution_count": 27,
   "outputs": [
    {
     "name": "stdout",
     "output_type": "stream",
     "text": [
      "Epoch 1/200\n",
      "206/206 [==============================] - 0s 622us/step - loss: 13.1128 - accuracy: 0.5345\n",
      "Epoch 2/200\n",
      "206/206 [==============================] - 0s 621us/step - loss: 8.2611 - accuracy: 0.5500\n",
      "Epoch 3/200\n",
      "206/206 [==============================] - 0s 638us/step - loss: 4.6262 - accuracy: 0.5573\n",
      "Epoch 4/200\n",
      "206/206 [==============================] - 0s 630us/step - loss: 2.8240 - accuracy: 0.5766\n",
      "Epoch 5/200\n",
      "206/206 [==============================] - 0s 613us/step - loss: 1.5583 - accuracy: 0.5940\n",
      "Epoch 6/200\n",
      "206/206 [==============================] - 0s 626us/step - loss: 2.5626 - accuracy: 0.5833\n",
      "Epoch 7/200\n",
      "206/206 [==============================] - 0s 604us/step - loss: 1.8092 - accuracy: 0.5962\n",
      "Epoch 8/200\n",
      "206/206 [==============================] - 0s 611us/step - loss: 1.1681 - accuracy: 0.6161\n",
      "Epoch 9/200\n",
      "206/206 [==============================] - 0s 611us/step - loss: 1.1131 - accuracy: 0.6155\n",
      "Epoch 10/200\n",
      "206/206 [==============================] - 0s 624us/step - loss: 0.8991 - accuracy: 0.6215\n",
      "Epoch 11/200\n",
      "206/206 [==============================] - 0s 618us/step - loss: 0.8169 - accuracy: 0.6317\n",
      "Epoch 12/200\n",
      "206/206 [==============================] - 0s 619us/step - loss: 0.7947 - accuracy: 0.6323\n",
      "Epoch 13/200\n",
      "206/206 [==============================] - 0s 623us/step - loss: 0.7426 - accuracy: 0.6329\n",
      "Epoch 14/200\n",
      "206/206 [==============================] - 0s 596us/step - loss: 0.6979 - accuracy: 0.6408\n",
      "Epoch 15/200\n",
      "206/206 [==============================] - 0s 598us/step - loss: 0.6658 - accuracy: 0.6449\n",
      "Epoch 16/200\n",
      "206/206 [==============================] - 0s 573us/step - loss: 0.6287 - accuracy: 0.6510\n",
      "Epoch 17/200\n",
      "206/206 [==============================] - 0s 631us/step - loss: 0.6589 - accuracy: 0.6510\n",
      "Epoch 18/200\n",
      "206/206 [==============================] - 0s 602us/step - loss: 0.6342 - accuracy: 0.6548\n",
      "Epoch 19/200\n",
      "206/206 [==============================] - 0s 601us/step - loss: 0.5869 - accuracy: 0.6648\n",
      "Epoch 20/200\n",
      "206/206 [==============================] - 0s 578us/step - loss: 0.6480 - accuracy: 0.6668\n",
      "Epoch 21/200\n",
      "206/206 [==============================] - 0s 613us/step - loss: 0.6805 - accuracy: 0.6559\n",
      "Epoch 22/200\n",
      "206/206 [==============================] - 0s 616us/step - loss: 0.6382 - accuracy: 0.6705\n",
      "Epoch 23/200\n",
      "206/206 [==============================] - 0s 589us/step - loss: 0.5703 - accuracy: 0.6796\n",
      "Epoch 24/200\n",
      "206/206 [==============================] - 0s 629us/step - loss: 0.5355 - accuracy: 0.7065\n",
      "Epoch 25/200\n",
      "206/206 [==============================] - 0s 625us/step - loss: 0.5141 - accuracy: 0.7229\n",
      "Epoch 26/200\n",
      "206/206 [==============================] - 0s 609us/step - loss: 0.4623 - accuracy: 0.7562\n",
      "Epoch 27/200\n",
      "206/206 [==============================] - 0s 640us/step - loss: 0.4443 - accuracy: 0.7721\n",
      "Epoch 28/200\n",
      "206/206 [==============================] - 0s 599us/step - loss: 0.5416 - accuracy: 0.7185\n",
      "Epoch 29/200\n",
      "206/206 [==============================] - 0s 625us/step - loss: 0.4356 - accuracy: 0.7729\n",
      "Epoch 30/200\n",
      "206/206 [==============================] - 0s 656us/step - loss: 0.3735 - accuracy: 0.8104\n",
      "Epoch 31/200\n",
      "206/206 [==============================] - 0s 623us/step - loss: 0.3681 - accuracy: 0.8083\n",
      "Epoch 32/200\n",
      "206/206 [==============================] - 0s 630us/step - loss: 0.3721 - accuracy: 0.8031\n",
      "Epoch 33/200\n",
      "206/206 [==============================] - 0s 571us/step - loss: 0.4012 - accuracy: 0.7922\n",
      "Epoch 34/200\n",
      "206/206 [==============================] - 0s 601us/step - loss: 0.3260 - accuracy: 0.8333\n",
      "Epoch 35/200\n",
      "206/206 [==============================] - 0s 613us/step - loss: 0.3051 - accuracy: 0.8409\n",
      "Epoch 36/200\n",
      "206/206 [==============================] - 0s 603us/step - loss: 0.2892 - accuracy: 0.8441\n",
      "Epoch 37/200\n",
      "206/206 [==============================] - 0s 644us/step - loss: 0.3475 - accuracy: 0.8224\n",
      "Epoch 38/200\n",
      "206/206 [==============================] - 0s 646us/step - loss: 0.3082 - accuracy: 0.8379\n",
      "Epoch 39/200\n",
      "206/206 [==============================] - 0s 639us/step - loss: 0.3026 - accuracy: 0.8409\n",
      "Epoch 40/200\n",
      "206/206 [==============================] - 0s 621us/step - loss: 0.2917 - accuracy: 0.8443\n",
      "Epoch 41/200\n",
      "206/206 [==============================] - 0s 628us/step - loss: 0.2853 - accuracy: 0.8432\n",
      "Epoch 42/200\n",
      "206/206 [==============================] - 0s 597us/step - loss: 0.3340 - accuracy: 0.8197\n",
      "Epoch 43/200\n",
      "206/206 [==============================] - 0s 597us/step - loss: 0.2433 - accuracy: 0.8652\n",
      "Epoch 44/200\n",
      "206/206 [==============================] - 0s 610us/step - loss: 0.2561 - accuracy: 0.8599\n",
      "Epoch 45/200\n",
      "206/206 [==============================] - 0s 612us/step - loss: 0.3025 - accuracy: 0.8406\n",
      "Epoch 46/200\n",
      "206/206 [==============================] - 0s 618us/step - loss: 0.2629 - accuracy: 0.8601\n",
      "Epoch 47/200\n",
      "206/206 [==============================] - 0s 653us/step - loss: 0.2430 - accuracy: 0.8630\n",
      "Epoch 48/200\n",
      "206/206 [==============================] - 0s 600us/step - loss: 0.3347 - accuracy: 0.8279\n",
      "Epoch 49/200\n",
      "206/206 [==============================] - 0s 580us/step - loss: 0.3116 - accuracy: 0.8320\n",
      "Epoch 50/200\n",
      "206/206 [==============================] - 0s 607us/step - loss: 0.2521 - accuracy: 0.8620\n",
      "Epoch 51/200\n",
      "206/206 [==============================] - 0s 611us/step - loss: 0.2588 - accuracy: 0.8596\n",
      "Epoch 52/200\n",
      "206/206 [==============================] - 0s 608us/step - loss: 0.2613 - accuracy: 0.8579\n",
      "Epoch 53/200\n",
      "206/206 [==============================] - 0s 623us/step - loss: 0.2659 - accuracy: 0.8589\n",
      "Epoch 54/200\n",
      "206/206 [==============================] - 0s 627us/step - loss: 0.3236 - accuracy: 0.8298\n",
      "Epoch 55/200\n",
      "206/206 [==============================] - 0s 630us/step - loss: 0.2720 - accuracy: 0.8534\n",
      "Epoch 56/200\n",
      "206/206 [==============================] - 0s 621us/step - loss: 0.2683 - accuracy: 0.8598\n",
      "Epoch 57/200\n",
      "206/206 [==============================] - 0s 597us/step - loss: 0.2200 - accuracy: 0.8842\n",
      "Epoch 58/200\n",
      "206/206 [==============================] - 0s 611us/step - loss: 0.2622 - accuracy: 0.8555\n",
      "Epoch 59/200\n",
      "206/206 [==============================] - 0s 601us/step - loss: 0.2408 - accuracy: 0.8672\n",
      "Epoch 60/200\n",
      "206/206 [==============================] - 0s 663us/step - loss: 0.2677 - accuracy: 0.8572\n",
      "Epoch 61/200\n",
      "206/206 [==============================] - 0s 609us/step - loss: 0.2403 - accuracy: 0.8733\n",
      "Epoch 62/200\n",
      "206/206 [==============================] - 0s 580us/step - loss: 0.2213 - accuracy: 0.8803\n",
      "Epoch 63/200\n",
      "206/206 [==============================] - 0s 629us/step - loss: 0.2258 - accuracy: 0.8765\n",
      "Epoch 64/200\n",
      "206/206 [==============================] - 0s 582us/step - loss: 0.2043 - accuracy: 0.8867\n",
      "Epoch 65/200\n",
      "206/206 [==============================] - 0s 605us/step - loss: 0.2782 - accuracy: 0.8514\n",
      "Epoch 66/200\n",
      "206/206 [==============================] - 0s 657us/step - loss: 0.3351 - accuracy: 0.8232\n",
      "Epoch 67/200\n",
      "206/206 [==============================] - 0s 618us/step - loss: 0.3041 - accuracy: 0.8417\n",
      "Epoch 68/200\n",
      "206/206 [==============================] - 0s 598us/step - loss: 0.2815 - accuracy: 0.8566\n",
      "Epoch 69/200\n",
      "206/206 [==============================] - 0s 624us/step - loss: 0.2353 - accuracy: 0.8706\n",
      "Epoch 70/200\n",
      "206/206 [==============================] - 0s 594us/step - loss: 0.2119 - accuracy: 0.8867\n",
      "Epoch 71/200\n",
      "206/206 [==============================] - 0s 679us/step - loss: 0.2045 - accuracy: 0.8868\n",
      "Epoch 72/200\n",
      "206/206 [==============================] - 0s 563us/step - loss: 0.1977 - accuracy: 0.8897\n",
      "Epoch 73/200\n",
      "206/206 [==============================] - 0s 617us/step - loss: 0.1979 - accuracy: 0.8865\n",
      "Epoch 74/200\n",
      "206/206 [==============================] - 0s 606us/step - loss: 0.2016 - accuracy: 0.8873\n",
      "Epoch 75/200\n",
      "206/206 [==============================] - 0s 609us/step - loss: 0.2466 - accuracy: 0.8671\n",
      "Epoch 76/200\n",
      "206/206 [==============================] - 0s 610us/step - loss: 0.1953 - accuracy: 0.8941\n",
      "Epoch 77/200\n",
      "206/206 [==============================] - 0s 620us/step - loss: 0.2735 - accuracy: 0.8733\n",
      "Epoch 78/200\n",
      "206/206 [==============================] - 0s 613us/step - loss: 0.3875 - accuracy: 0.8092\n",
      "Epoch 79/200\n",
      "206/206 [==============================] - 0s 610us/step - loss: 0.2184 - accuracy: 0.8713\n",
      "Epoch 80/200\n",
      "206/206 [==============================] - 0s 672us/step - loss: 0.2676 - accuracy: 0.8655\n",
      "Epoch 81/200\n",
      "206/206 [==============================] - 0s 677us/step - loss: 0.1945 - accuracy: 0.8958\n",
      "Epoch 82/200\n",
      "206/206 [==============================] - 0s 618us/step - loss: 0.2345 - accuracy: 0.8759\n",
      "Epoch 83/200\n",
      "206/206 [==============================] - 0s 604us/step - loss: 0.1954 - accuracy: 0.8958\n",
      "Epoch 84/200\n",
      "206/206 [==============================] - 0s 617us/step - loss: 0.2257 - accuracy: 0.8757\n",
      "Epoch 85/200\n",
      "206/206 [==============================] - 0s 587us/step - loss: 0.2284 - accuracy: 0.8807\n",
      "Epoch 86/200\n",
      "206/206 [==============================] - 0s 629us/step - loss: 0.2206 - accuracy: 0.8775\n",
      "Epoch 87/200\n",
      "206/206 [==============================] - 0s 606us/step - loss: 0.2056 - accuracy: 0.8836\n",
      "Epoch 88/200\n",
      "206/206 [==============================] - 0s 593us/step - loss: 0.1839 - accuracy: 0.8949\n",
      "Epoch 89/200\n",
      "206/206 [==============================] - 0s 613us/step - loss: 0.1889 - accuracy: 0.8880\n",
      "Epoch 90/200\n",
      "206/206 [==============================] - 0s 587us/step - loss: 0.1848 - accuracy: 0.8987\n",
      "Epoch 91/200\n",
      "206/206 [==============================] - 0s 614us/step - loss: 0.1926 - accuracy: 0.8933\n",
      "Epoch 92/200\n",
      "206/206 [==============================] - 0s 645us/step - loss: 0.2580 - accuracy: 0.8651\n",
      "Epoch 93/200\n",
      "206/206 [==============================] - 0s 555us/step - loss: 0.2024 - accuracy: 0.8908\n",
      "Epoch 94/200\n",
      "206/206 [==============================] - 0s 612us/step - loss: 0.3113 - accuracy: 0.8453\n",
      "Epoch 95/200\n",
      "206/206 [==============================] - 0s 656us/step - loss: 0.1825 - accuracy: 0.8956\n",
      "Epoch 96/200\n",
      "206/206 [==============================] - 0s 615us/step - loss: 0.2147 - accuracy: 0.8847\n",
      "Epoch 97/200\n",
      "206/206 [==============================] - 0s 581us/step - loss: 0.2127 - accuracy: 0.8856\n",
      "Epoch 98/200\n",
      "206/206 [==============================] - 0s 612us/step - loss: 0.2167 - accuracy: 0.8797\n",
      "Epoch 99/200\n",
      "206/206 [==============================] - 0s 641us/step - loss: 0.2206 - accuracy: 0.8850\n",
      "Epoch 100/200\n",
      "206/206 [==============================] - 0s 592us/step - loss: 0.1825 - accuracy: 0.9052\n",
      "Epoch 101/200\n",
      "206/206 [==============================] - 0s 598us/step - loss: 0.2452 - accuracy: 0.8669\n",
      "Epoch 102/200\n",
      "206/206 [==============================] - 0s 642us/step - loss: 0.2340 - accuracy: 0.8786\n",
      "Epoch 103/200\n",
      "206/206 [==============================] - 0s 591us/step - loss: 0.2087 - accuracy: 0.8932\n",
      "Epoch 104/200\n",
      "206/206 [==============================] - 0s 556us/step - loss: 0.1971 - accuracy: 0.8894\n",
      "Epoch 105/200\n",
      "206/206 [==============================] - 0s 588us/step - loss: 0.2125 - accuracy: 0.8891\n",
      "Epoch 106/200\n",
      "206/206 [==============================] - 0s 619us/step - loss: 0.1756 - accuracy: 0.8990\n",
      "Epoch 107/200\n",
      "206/206 [==============================] - 0s 658us/step - loss: 0.1677 - accuracy: 0.9057\n",
      "Epoch 108/200\n",
      "206/206 [==============================] - 0s 612us/step - loss: 0.1954 - accuracy: 0.8927\n",
      "Epoch 109/200\n",
      "206/206 [==============================] - 0s 586us/step - loss: 0.1751 - accuracy: 0.9041\n",
      "Epoch 110/200\n",
      "206/206 [==============================] - 0s 626us/step - loss: 0.2328 - accuracy: 0.8824\n",
      "Epoch 111/200\n",
      "206/206 [==============================] - 0s 600us/step - loss: 0.2439 - accuracy: 0.8756\n",
      "Epoch 112/200\n",
      "206/206 [==============================] - 0s 593us/step - loss: 0.2425 - accuracy: 0.8780\n",
      "Epoch 113/200\n",
      "206/206 [==============================] - 0s 665us/step - loss: 0.1707 - accuracy: 0.9044\n",
      "Epoch 114/200\n",
      "206/206 [==============================] - 0s 578us/step - loss: 0.2100 - accuracy: 0.8862\n",
      "Epoch 115/200\n",
      "206/206 [==============================] - 0s 599us/step - loss: 0.1985 - accuracy: 0.8847\n",
      "Epoch 116/200\n",
      "206/206 [==============================] - 0s 619us/step - loss: 0.1884 - accuracy: 0.8950\n",
      "Epoch 117/200\n",
      "206/206 [==============================] - 0s 611us/step - loss: 0.1614 - accuracy: 0.9105\n",
      "Epoch 118/200\n",
      "206/206 [==============================] - 0s 639us/step - loss: 0.2336 - accuracy: 0.8695\n",
      "Epoch 119/200\n",
      "206/206 [==============================] - 0s 611us/step - loss: 0.1760 - accuracy: 0.8973\n",
      "Epoch 120/200\n",
      "206/206 [==============================] - 0s 616us/step - loss: 0.2389 - accuracy: 0.8856\n",
      "Epoch 121/200\n",
      "206/206 [==============================] - 0s 626us/step - loss: 0.1812 - accuracy: 0.8917\n",
      "Epoch 122/200\n",
      "206/206 [==============================] - 0s 637us/step - loss: 0.1784 - accuracy: 0.9002\n",
      "Epoch 123/200\n",
      "206/206 [==============================] - 0s 595us/step - loss: 0.1589 - accuracy: 0.9145\n",
      "Epoch 124/200\n",
      "206/206 [==============================] - 0s 627us/step - loss: 0.1802 - accuracy: 0.8999\n",
      "Epoch 125/200\n",
      "206/206 [==============================] - 0s 592us/step - loss: 0.1731 - accuracy: 0.9050\n",
      "Epoch 126/200\n",
      "206/206 [==============================] - 0s 594us/step - loss: 0.1938 - accuracy: 0.8976\n",
      "Epoch 127/200\n",
      "206/206 [==============================] - 0s 625us/step - loss: 0.1621 - accuracy: 0.9099\n",
      "Epoch 128/200\n",
      "206/206 [==============================] - 0s 599us/step - loss: 0.2431 - accuracy: 0.9002\n",
      "Epoch 129/200\n",
      "206/206 [==============================] - 0s 599us/step - loss: 0.1880 - accuracy: 0.9023\n",
      "Epoch 130/200\n",
      "206/206 [==============================] - 0s 618us/step - loss: 0.1581 - accuracy: 0.9093\n",
      "Epoch 131/200\n",
      "206/206 [==============================] - 0s 596us/step - loss: 0.1344 - accuracy: 0.9222\n",
      "Epoch 132/200\n",
      "206/206 [==============================] - 0s 611us/step - loss: 0.1763 - accuracy: 0.9073\n",
      "Epoch 133/200\n",
      "206/206 [==============================] - 0s 592us/step - loss: 0.1803 - accuracy: 0.8964\n",
      "Epoch 134/200\n",
      "206/206 [==============================] - 0s 643us/step - loss: 0.1698 - accuracy: 0.8958\n",
      "Epoch 135/200\n",
      "206/206 [==============================] - 0s 657us/step - loss: 0.1615 - accuracy: 0.9070\n",
      "Epoch 136/200\n",
      "206/206 [==============================] - 0s 643us/step - loss: 0.1825 - accuracy: 0.8993\n",
      "Epoch 137/200\n",
      "206/206 [==============================] - 0s 593us/step - loss: 0.1649 - accuracy: 0.9094\n",
      "Epoch 138/200\n",
      "206/206 [==============================] - 0s 581us/step - loss: 0.2018 - accuracy: 0.8899\n",
      "Epoch 139/200\n",
      "206/206 [==============================] - 0s 575us/step - loss: 0.1714 - accuracy: 0.9099\n",
      "Epoch 140/200\n",
      "206/206 [==============================] - 0s 590us/step - loss: 0.1689 - accuracy: 0.9075\n",
      "Epoch 141/200\n",
      "206/206 [==============================] - 0s 590us/step - loss: 0.2325 - accuracy: 0.8845\n",
      "Epoch 142/200\n",
      "206/206 [==============================] - 0s 635us/step - loss: 0.1446 - accuracy: 0.9174\n",
      "Epoch 143/200\n",
      "206/206 [==============================] - 0s 630us/step - loss: 0.1623 - accuracy: 0.9050\n",
      "Epoch 144/200\n",
      "206/206 [==============================] - 0s 618us/step - loss: 0.1814 - accuracy: 0.8950\n",
      "Epoch 145/200\n",
      "206/206 [==============================] - 0s 599us/step - loss: 0.1708 - accuracy: 0.9029\n",
      "Epoch 146/200\n",
      "206/206 [==============================] - 0s 609us/step - loss: 0.1763 - accuracy: 0.9034\n",
      "Epoch 147/200\n",
      "206/206 [==============================] - 0s 637us/step - loss: 0.1664 - accuracy: 0.9046\n",
      "Epoch 148/200\n",
      "206/206 [==============================] - 0s 613us/step - loss: 0.1392 - accuracy: 0.9186\n",
      "Epoch 149/200\n",
      "206/206 [==============================] - 0s 622us/step - loss: 0.1861 - accuracy: 0.9061\n",
      "Epoch 150/200\n",
      "206/206 [==============================] - 0s 611us/step - loss: 0.1699 - accuracy: 0.9057\n",
      "Epoch 151/200\n",
      "206/206 [==============================] - 0s 628us/step - loss: 0.1920 - accuracy: 0.8973\n",
      "Epoch 152/200\n",
      "206/206 [==============================] - 0s 603us/step - loss: 0.1936 - accuracy: 0.9012\n",
      "Epoch 153/200\n",
      "206/206 [==============================] - 0s 609us/step - loss: 0.1406 - accuracy: 0.9225\n",
      "Epoch 154/200\n",
      "206/206 [==============================] - 0s 633us/step - loss: 0.1713 - accuracy: 0.8930\n",
      "Epoch 155/200\n",
      "206/206 [==============================] - 0s 630us/step - loss: 0.1752 - accuracy: 0.9038\n",
      "Epoch 156/200\n",
      "206/206 [==============================] - 0s 600us/step - loss: 0.1775 - accuracy: 0.8999\n",
      "Epoch 157/200\n",
      "206/206 [==============================] - 0s 615us/step - loss: 0.1819 - accuracy: 0.9008\n",
      "Epoch 158/200\n",
      "206/206 [==============================] - 0s 616us/step - loss: 0.1635 - accuracy: 0.9088\n",
      "Epoch 159/200\n",
      "206/206 [==============================] - 0s 667us/step - loss: 0.1553 - accuracy: 0.9195\n",
      "Epoch 160/200\n",
      "206/206 [==============================] - 0s 632us/step - loss: 0.1752 - accuracy: 0.9032\n",
      "Epoch 161/200\n",
      "206/206 [==============================] - 0s 616us/step - loss: 0.1369 - accuracy: 0.9316\n",
      "Epoch 162/200\n",
      "206/206 [==============================] - 0s 613us/step - loss: 0.1477 - accuracy: 0.9201\n",
      "Epoch 163/200\n",
      "206/206 [==============================] - 0s 603us/step - loss: 0.1607 - accuracy: 0.9119\n",
      "Epoch 164/200\n",
      "206/206 [==============================] - 0s 622us/step - loss: 0.2407 - accuracy: 0.8789\n",
      "Epoch 165/200\n",
      "206/206 [==============================] - 0s 603us/step - loss: 0.1539 - accuracy: 0.9105\n",
      "Epoch 166/200\n",
      "206/206 [==============================] - 0s 611us/step - loss: 0.1480 - accuracy: 0.9108\n",
      "Epoch 167/200\n",
      "206/206 [==============================] - 0s 632us/step - loss: 0.1760 - accuracy: 0.9028\n",
      "Epoch 168/200\n",
      "206/206 [==============================] - 0s 662us/step - loss: 0.1705 - accuracy: 0.9210\n",
      "Epoch 169/200\n",
      "206/206 [==============================] - 0s 655us/step - loss: 0.1685 - accuracy: 0.9139\n",
      "Epoch 170/200\n",
      "206/206 [==============================] - 0s 562us/step - loss: 0.1695 - accuracy: 0.9025\n",
      "Epoch 171/200\n",
      "206/206 [==============================] - 0s 584us/step - loss: 0.1675 - accuracy: 0.9038\n",
      "Epoch 172/200\n",
      "206/206 [==============================] - 0s 611us/step - loss: 0.1662 - accuracy: 0.9009\n",
      "Epoch 173/200\n",
      "206/206 [==============================] - 0s 630us/step - loss: 0.1294 - accuracy: 0.9249\n",
      "Epoch 174/200\n",
      "206/206 [==============================] - 0s 634us/step - loss: 0.1630 - accuracy: 0.9207\n",
      "Epoch 175/200\n",
      "206/206 [==============================] - 0s 638us/step - loss: 0.1770 - accuracy: 0.9297\n",
      "Epoch 176/200\n",
      "206/206 [==============================] - 0s 564us/step - loss: 0.1558 - accuracy: 0.9297\n",
      "Epoch 177/200\n",
      "206/206 [==============================] - 0s 603us/step - loss: 0.1754 - accuracy: 0.9094\n",
      "Epoch 178/200\n",
      "206/206 [==============================] - 0s 582us/step - loss: 0.1346 - accuracy: 0.9202\n",
      "Epoch 179/200\n",
      "206/206 [==============================] - 0s 589us/step - loss: 0.1412 - accuracy: 0.9208\n",
      "Epoch 180/200\n",
      "206/206 [==============================] - 0s 582us/step - loss: 0.1596 - accuracy: 0.9101\n",
      "Epoch 181/200\n",
      "206/206 [==============================] - 0s 589us/step - loss: 0.2220 - accuracy: 0.8713\n",
      "Epoch 182/200\n",
      "206/206 [==============================] - 0s 612us/step - loss: 0.2035 - accuracy: 0.8847\n",
      "Epoch 183/200\n",
      "206/206 [==============================] - 0s 655us/step - loss: 0.1542 - accuracy: 0.9026\n",
      "Epoch 184/200\n",
      "206/206 [==============================] - 0s 587us/step - loss: 0.1410 - accuracy: 0.9245\n",
      "Epoch 185/200\n",
      "206/206 [==============================] - 0s 636us/step - loss: 0.1481 - accuracy: 0.9063\n",
      "Epoch 186/200\n",
      "206/206 [==============================] - 0s 606us/step - loss: 0.1788 - accuracy: 0.9012\n",
      "Epoch 187/200\n",
      "206/206 [==============================] - 0s 615us/step - loss: 0.1580 - accuracy: 0.9034\n",
      "Epoch 188/200\n",
      "206/206 [==============================] - 0s 612us/step - loss: 0.1314 - accuracy: 0.9277\n",
      "Epoch 189/200\n",
      "206/206 [==============================] - 0s 605us/step - loss: 0.1726 - accuracy: 0.9008\n",
      "Epoch 190/200\n",
      "206/206 [==============================] - 0s 602us/step - loss: 0.1429 - accuracy: 0.9181\n",
      "Epoch 191/200\n",
      "206/206 [==============================] - 0s 615us/step - loss: 0.1845 - accuracy: 0.9049\n",
      "Epoch 192/200\n",
      "206/206 [==============================] - 0s 611us/step - loss: 0.2096 - accuracy: 0.8958\n",
      "Epoch 193/200\n",
      "206/206 [==============================] - 0s 596us/step - loss: 0.1971 - accuracy: 0.9047\n",
      "Epoch 194/200\n",
      "206/206 [==============================] - 0s 620us/step - loss: 0.1457 - accuracy: 0.9262\n",
      "Epoch 195/200\n",
      "206/206 [==============================] - 0s 619us/step - loss: 0.1352 - accuracy: 0.9345\n",
      "Epoch 196/200\n",
      "206/206 [==============================] - 0s 626us/step - loss: 0.1991 - accuracy: 0.9009\n",
      "Epoch 197/200\n",
      "206/206 [==============================] - 0s 611us/step - loss: 0.1350 - accuracy: 0.9284\n",
      "Epoch 198/200\n",
      "206/206 [==============================] - 0s 623us/step - loss: 0.1178 - accuracy: 0.9397\n",
      "Epoch 199/200\n",
      "206/206 [==============================] - 0s 621us/step - loss: 0.1600 - accuracy: 0.9140\n",
      "Epoch 200/200\n",
      "206/206 [==============================] - 0s 613us/step - loss: 0.1295 - accuracy: 0.9300\n"
     ]
    },
    {
     "data": {
      "text/plain": "<keras.callbacks.History at 0x7f7228ee3ac0>"
     },
     "execution_count": 27,
     "metadata": {},
     "output_type": "execute_result"
    }
   ],
   "source": [
    "model.fit(np.array(X_train, dtype=np.float64), np.array(y_train,dtype=np.float64), epochs=200)"
   ],
   "metadata": {
    "collapsed": false,
    "pycharm": {
     "name": "#%%\n"
    }
   }
  },
  {
   "cell_type": "code",
   "execution_count": 36,
   "outputs": [],
   "source": [
    "predictions_train = model.predict(np.array(X_train,dtype=np.float64)) > 0.5"
   ],
   "metadata": {
    "collapsed": false,
    "pycharm": {
     "name": "#%%\n"
    }
   }
  },
  {
   "cell_type": "code",
   "execution_count": 37,
   "outputs": [],
   "source": [
    "predictions_test = model.predict(np.array(X_test,dtype=np.float64)) > 0.5"
   ],
   "metadata": {
    "collapsed": false,
    "pycharm": {
     "name": "#%%\n"
    }
   }
  },
  {
   "cell_type": "code",
   "execution_count": 38,
   "outputs": [
    {
     "data": {
      "text/plain": "0.9269762495568947"
     },
     "execution_count": 38,
     "metadata": {},
     "output_type": "execute_result"
    }
   ],
   "source": [
    "accuracy_score(y_test, predictions_test)"
   ],
   "metadata": {
    "collapsed": false,
    "pycharm": {
     "name": "#%%\n"
    }
   }
  },
  {
   "cell_type": "code",
   "execution_count": 35,
   "outputs": [
    {
     "name": "stdout",
     "output_type": "stream",
     "text": [
      "INFO:tensorflow:Assets written to: ../../models/nn/assets\n"
     ]
    }
   ],
   "source": [
    "model.save('../../models/nn')"
   ],
   "metadata": {
    "collapsed": false,
    "pycharm": {
     "name": "#%%\n"
    }
   }
  },
  {
   "cell_type": "code",
   "execution_count": 42,
   "outputs": [],
   "source": [
    "cm_test = ConfusionMatrixDisplay(confusion_matrix(y_test, predictions_test))\n",
    "cm_train = ConfusionMatrixDisplay(confusion_matrix(y_train, predictions_train))"
   ],
   "metadata": {
    "collapsed": false,
    "pycharm": {
     "name": "#%%\n"
    }
   }
  },
  {
   "cell_type": "code",
   "execution_count": 43,
   "outputs": [
    {
     "data": {
      "text/plain": "<sklearn.metrics._plot.confusion_matrix.ConfusionMatrixDisplay at 0x7f7228df0220>"
     },
     "execution_count": 43,
     "metadata": {},
     "output_type": "execute_result"
    },
    {
     "data": {
      "text/plain": "<Figure size 432x288 with 2 Axes>",
      "image/png": "[encoded data removed]"
     },
     "metadata": {
      "needs_background": "light"
     },
     "output_type": "display_data"
    }
   ],
   "source": [
    "cm_test.plot()"
   ],
   "metadata": {
    "collapsed": false,
    "pycharm": {
     "name": "#%%\n"
    }
   }
  },
  {
   "cell_type": "code",
   "execution_count": 44,
   "outputs": [
    {
     "data": {
      "text/plain": "<sklearn.metrics._plot.confusion_matrix.ConfusionMatrixDisplay at 0x7f72b37b4e50>"
     },
     "execution_count": 44,
     "metadata": {},
     "output_type": "execute_result"
    },
    {
     "data": {
      "text/plain": "<Figure size 432x288 with 2 Axes>",
      "image/png": "[encoded data removed]"
     },
     "metadata": {
      "needs_background": "light"
     },
     "output_type": "display_data"
    }
   ],
   "source": [
    "cm_train.plot()"
   ],
   "metadata": {
    "collapsed": false,
    "pycharm": {
     "name": "#%%\n"
    }
   }
  },
  {
   "cell_type": "code",
   "execution_count": 46,
   "outputs": [
    {
     "name": "stdout",
     "output_type": "stream",
     "text": [
      "              precision    recall  f1-score   support\n",
      "\n",
      "           0       0.85      1.00      0.92      1155\n",
      "           1       1.00      0.88      0.93      1666\n",
      "\n",
      "    accuracy                           0.93      2821\n",
      "   macro avg       0.92      0.94      0.93      2821\n",
      "weighted avg       0.94      0.93      0.93      2821\n",
      "\n"
     ]
    }
   ],
   "source": [
    "print(classification_report(y_test, predictions_test))"
   ],
   "metadata": {
    "collapsed": false,
    "pycharm": {
     "name": "#%%\n"
    }
   }
  },
  {
   "cell_type": "code",
   "execution_count": 47,
   "outputs": [
    {
     "name": "stdout",
     "output_type": "stream",
     "text": [
      "              precision    recall  f1-score   support\n",
      "\n",
      "           0       0.86      1.00      0.92      2774\n",
      "           1       1.00      0.88      0.94      3808\n",
      "\n",
      "    accuracy                           0.93      6582\n",
      "   macro avg       0.93      0.94      0.93      6582\n",
      "weighted avg       0.94      0.93      0.93      6582\n",
      "\n"
     ]
    }
   ],
   "source": [
    "print(classification_report(y_train, predictions_train))"
   ],
   "metadata": {
    "collapsed": false,
    "pycharm": {
     "name": "#%%\n"
    }
   }
  },
  {
   "cell_type": "markdown",
   "source": [
    "## Wnioski:\n",
    "Wybraliśmy sieć neuronową ponieważ osiągnęła ona najlepsze wyniki."
   ],
   "metadata": {
    "collapsed": false,
    "pycharm": {
     "name": "#%% md\n"
    }
   }
  },
  {
   "cell_type": "code",
   "execution_count": null,
   "outputs": [],
   "source": [],
   "metadata": {
    "collapsed": false,
    "pycharm": {
     "name": "#%%\n"
    }
   }
  }
 ],
 "metadata": {
  "kernelspec": {
   "display_name": "Python 3",
   "language": "python",
   "name": "python3"
  },
  "language_info": {
   "codemirror_mode": {
    "name": "ipython",
    "version": 2
   },
   "file_extension": ".py",
   "mimetype": "text/x-python",
   "name": "python",
   "nbconvert_exporter": "python",
   "pygments_lexer": "ipython2",
   "version": "2.7.6"
  }
 },
 "nbformat": 4,
 "nbformat_minor": 0
}