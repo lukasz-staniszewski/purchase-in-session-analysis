{
 "cells": [
  {
   "cell_type": "code",
   "execution_count": 39,
   "metadata": {
    "collapsed": true
   },
   "outputs": [],
   "source": [
    "import pandas as pd\n",
    "from matplotlib import pyplot as plt\n",
    "%matplotlib inline\n",
    "from sklearn.metrics import mean_squared_error, accuracy_score, confusion_matrix, classification_report, ConfusionMatrixDisplay\n",
    "from sklearn.model_selection import train_test_split, cross_val_score, cross_val_predict\n",
    "from sklearn.neighbors import KNeighborsClassifier\n",
    "from sklearn.svm import SVC\n",
    "from sklearn.linear_model import LinearRegression\n",
    "from sklearn.ensemble import RandomForestClassifier, GradientBoostingClassifier, RandomForestRegressor\n",
    "import tensorflow as tf\n",
    "import numpy as np"
   ]
  },
  {
   "cell_type": "markdown",
   "source": [
    "### Wczytanie już poprawnie przetworzonych danych"
   ],
   "metadata": {
    "collapsed": false,
    "pycharm": {
     "name": "#%% md\n"
    }
   }
  },
  {
   "cell_type": "code",
   "execution_count": 40,
   "outputs": [],
   "source": [
    "train_df = pd.read_json(path_or_buf='../../data/processed/train_set.jsonl')\n",
    "test_df = pd.read_json(path_or_buf='../../data/processed/test_set.jsonl')"
   ],
   "metadata": {
    "collapsed": false,
    "pycharm": {
     "name": "#%%\n"
    }
   }
  },
  {
   "cell_type": "code",
   "execution_count": 41,
   "outputs": [
    {
     "data": {
      "text/plain": "   session_id  offered_discount    price  Akcesoria telefoniczne  Anteny RTV  \\\n0        8570                 0   117.94                       0           0   \n1        3139                 0  2614.56                       0           0   \n2        7477                 0   495.00                       0           0   \n3        5109                 0   169.80                       0           0   \n4        4917                20   157.80                       0           0   \n\n   Audio  Biurowe urządzenia wielofunkcyjne  Drukarki i skanery  \\\n0      0                                  0                   0   \n1      0                                  0                   0   \n2      0                                  0                   0   \n3      0                                  0                   0   \n4      0                                  0                   0   \n\n   Gry PlayStation3  Gry Xbox 360  ...  Zestawy słuchawkowe  Female  Male  \\\n0                 0             0  ...                    0       0     1   \n1                 0             0  ...                    0       1     0   \n2                 0             0  ...                    0       0     1   \n3                 2             0  ...                    0       0     1   \n4                 0             0  ...                    0       0     1   \n\n   session_length  n_views  month  day  hour  dayofweek  purchased  \n0             150        1      4   18    21          5          1  \n1             179        2      4    5     5          6          1  \n2             264        2      1   10     3          4          1  \n3             134        2      5    2     4          5          0  \n4             243        1     10    4    21          0          1  \n\n[5 rows x 40 columns]",
      "text/html": "<div>\n<style scoped>\n    .dataframe tbody tr th:only-of-type {\n        vertical-align: middle;\n    }\n\n    .dataframe tbody tr th {\n        vertical-align: top;\n    }\n\n    .dataframe thead th {\n        text-align: right;\n    }\n</style>\n<table border=\"1\" class=\"dataframe\">\n  <thead>\n    <tr style=\"text-align: right;\">\n      <th></th>\n      <th>session_id</th>\n      <th>offered_discount</th>\n      <th>price</th>\n      <th>Akcesoria telefoniczne</th>\n      <th>Anteny RTV</th>\n      <th>Audio</th>\n      <th>Biurowe urządzenia wielofunkcyjne</th>\n      <th>Drukarki i skanery</th>\n      <th>Gry PlayStation3</th>\n      <th>Gry Xbox 360</th>\n      <th>...</th>\n      <th>Zestawy słuchawkowe</th>\n      <th>Female</th>\n      <th>Male</th>\n      <th>session_length</th>\n      <th>n_views</th>\n      <th>month</th>\n      <th>day</th>\n      <th>hour</th>\n      <th>dayofweek</th>\n      <th>purchased</th>\n    </tr>\n  </thead>\n  <tbody>\n    <tr>\n      <th>0</th>\n      <td>8570</td>\n      <td>0</td>\n      <td>117.94</td>\n      <td>0</td>\n      <td>0</td>\n      <td>0</td>\n      <td>0</td>\n      <td>0</td>\n      <td>0</td>\n      <td>0</td>\n      <td>...</td>\n      <td>0</td>\n      <td>0</td>\n      <td>1</td>\n      <td>150</td>\n      <td>1</td>\n      <td>4</td>\n      <td>18</td>\n      <td>21</td>\n      <td>5</td>\n      <td>1</td>\n    </tr>\n    <tr>\n      <th>1</th>\n      <td>3139</td>\n      <td>0</td>\n      <td>2614.56</td>\n      <td>0</td>\n      <td>0</td>\n      <td>0</td>\n      <td>0</td>\n      <td>0</td>\n      <td>0</td>\n      <td>0</td>\n      <td>...</td>\n      <td>0</td>\n      <td>1</td>\n      <td>0</td>\n      <td>179</td>\n      <td>2</td>\n      <td>4</td>\n      <td>5</td>\n      <td>5</td>\n      <td>6</td>\n      <td>1</td>\n    </tr>\n    <tr>\n      <th>2</th>\n      <td>7477</td>\n      <td>0</td>\n      <td>495.00</td>\n      <td>0</td>\n      <td>0</td>\n      <td>0</td>\n      <td>0</td>\n      <td>0</td>\n      <td>0</td>\n      <td>0</td>\n      <td>...</td>\n      <td>0</td>\n      <td>0</td>\n      <td>1</td>\n      <td>264</td>\n      <td>2</td>\n      <td>1</td>\n      <td>10</td>\n      <td>3</td>\n      <td>4</td>\n      <td>1</td>\n    </tr>\n    <tr>\n      <th>3</th>\n      <td>5109</td>\n      <td>0</td>\n      <td>169.80</td>\n      <td>0</td>\n      <td>0</td>\n      <td>0</td>\n      <td>0</td>\n      <td>0</td>\n      <td>2</td>\n      <td>0</td>\n      <td>...</td>\n      <td>0</td>\n      <td>0</td>\n      <td>1</td>\n      <td>134</td>\n      <td>2</td>\n      <td>5</td>\n      <td>2</td>\n      <td>4</td>\n      <td>5</td>\n      <td>0</td>\n    </tr>\n    <tr>\n      <th>4</th>\n      <td>4917</td>\n      <td>20</td>\n      <td>157.80</td>\n      <td>0</td>\n      <td>0</td>\n      <td>0</td>\n      <td>0</td>\n      <td>0</td>\n      <td>0</td>\n      <td>0</td>\n      <td>...</td>\n      <td>0</td>\n      <td>0</td>\n      <td>1</td>\n      <td>243</td>\n      <td>1</td>\n      <td>10</td>\n      <td>4</td>\n      <td>21</td>\n      <td>0</td>\n      <td>1</td>\n    </tr>\n  </tbody>\n</table>\n<p>5 rows × 40 columns</p>\n</div>"
     },
     "execution_count": 41,
     "metadata": {},
     "output_type": "execute_result"
    }
   ],
   "source": [
    "train_df.head()"
   ],
   "metadata": {
    "collapsed": false,
    "pycharm": {
     "name": "#%%\n"
    }
   }
  },
  {
   "cell_type": "markdown",
   "source": [
    "### Oddzielenie zmiennej celu od pozostałych atrybutów"
   ],
   "metadata": {
    "collapsed": false,
    "pycharm": {
     "name": "#%% md\n"
    }
   }
  },
  {
   "cell_type": "code",
   "execution_count": 42,
   "outputs": [],
   "source": [
    "y_train = train_df['purchased'].values\n",
    "X_train = train_df.drop(columns=['session_id', 'purchased']).values\n",
    "y_test = test_df['purchased'].values\n",
    "X_test = test_df.drop(columns=['session_id', 'purchased']).values"
   ],
   "metadata": {
    "collapsed": false,
    "pycharm": {
     "name": "#%%\n"
    }
   }
  },
  {
   "cell_type": "code",
   "execution_count": 43,
   "outputs": [
    {
     "data": {
      "text/plain": "array([[0.00000e+00, 1.17940e+02, 0.00000e+00, ..., 1.80000e+01,\n        2.10000e+01, 5.00000e+00],\n       [0.00000e+00, 2.61456e+03, 0.00000e+00, ..., 5.00000e+00,\n        5.00000e+00, 6.00000e+00],\n       [0.00000e+00, 4.95000e+02, 0.00000e+00, ..., 1.00000e+01,\n        3.00000e+00, 4.00000e+00],\n       ...,\n       [0.00000e+00, 3.86000e+02, 0.00000e+00, ..., 2.20000e+01,\n        2.00000e+00, 5.00000e+00],\n       [0.00000e+00, 4.63404e+03, 0.00000e+00, ..., 2.00000e+01,\n        1.20000e+01, 1.00000e+00],\n       [0.00000e+00, 1.43700e+02, 0.00000e+00, ..., 7.00000e+00,\n        2.10000e+01, 5.00000e+00]])"
     },
     "execution_count": 43,
     "metadata": {},
     "output_type": "execute_result"
    }
   ],
   "source": [
    "X_train"
   ],
   "metadata": {
    "collapsed": false,
    "pycharm": {
     "name": "#%%\n"
    }
   }
  },
  {
   "cell_type": "code",
   "execution_count": 44,
   "outputs": [
    {
     "data": {
      "text/plain": "array([1, 1, 1, ..., 1, 1, 0])"
     },
     "execution_count": 44,
     "metadata": {},
     "output_type": "execute_result"
    }
   ],
   "source": [
    "y_train"
   ],
   "metadata": {
    "collapsed": false,
    "pycharm": {
     "name": "#%%\n"
    }
   }
  },
  {
   "cell_type": "markdown",
   "source": [
    "### Podział zbioru danych na zbiór treningowy i testowy"
   ],
   "metadata": {
    "collapsed": false,
    "pycharm": {
     "name": "#%% md\n"
    }
   }
  },
  {
   "cell_type": "markdown",
   "source": [
    "## Analiza modeli"
   ],
   "metadata": {
    "collapsed": false,
    "pycharm": {
     "name": "#%% md\n"
    }
   }
  },
  {
   "cell_type": "code",
   "source": [
    "random_forest_reg = RandomForestRegressor()\n",
    "random_forest_reg.fit(X_train, y_train)"
   ],
   "metadata": {
    "collapsed": false,
    "pycharm": {
     "name": "#%%\n"
    }
   },
   "execution_count": 45,
   "outputs": [
    {
     "data": {
      "text/plain": "RandomForestRegressor()"
     },
     "execution_count": 45,
     "metadata": {},
     "output_type": "execute_result"
    }
   ]
  },
  {
   "cell_type": "code",
   "execution_count": 46,
   "outputs": [
    {
     "data": {
      "text/plain": "0.965060162976336"
     },
     "execution_count": 46,
     "metadata": {},
     "output_type": "execute_result"
    }
   ],
   "source": [
    "rand_forest_scores = cross_val_score(random_forest_reg, X_test, y_test, cv=10)\n",
    "rand_forest_scores.mean()"
   ],
   "metadata": {
    "collapsed": false,
    "pycharm": {
     "name": "#%%\n"
    }
   }
  },
  {
   "cell_type": "markdown",
   "source": [
    "### Las losowy"
   ],
   "metadata": {
    "collapsed": false,
    "pycharm": {
     "name": "#%% md\n"
    }
   }
  },
  {
   "cell_type": "code",
   "execution_count": 47,
   "outputs": [
    {
     "data": {
      "text/plain": "RandomForestClassifier()"
     },
     "execution_count": 47,
     "metadata": {},
     "output_type": "execute_result"
    }
   ],
   "source": [
    "random_forest = RandomForestClassifier()\n",
    "random_forest.fit(X_train, y_train)"
   ],
   "metadata": {
    "collapsed": false,
    "pycharm": {
     "name": "#%%\n"
    }
   }
  },
  {
   "cell_type": "code",
   "execution_count": 48,
   "outputs": [
    {
     "data": {
      "text/plain": "0.9497821888186762"
     },
     "execution_count": 48,
     "metadata": {},
     "output_type": "execute_result"
    }
   ],
   "source": [
    "rand_forest_scores = cross_val_score(random_forest, X_test, y_test, cv=10, scoring=\"accuracy\")\n",
    "rand_forest_scores.mean()"
   ],
   "metadata": {
    "collapsed": false,
    "pycharm": {
     "name": "#%%\n"
    }
   }
  },
  {
   "cell_type": "markdown",
   "source": [
    "### KNN"
   ],
   "metadata": {
    "collapsed": false,
    "pycharm": {
     "name": "#%% md\n"
    }
   }
  },
  {
   "cell_type": "code",
   "execution_count": 49,
   "outputs": [
    {
     "data": {
      "text/plain": "KNeighborsClassifier()"
     },
     "execution_count": 49,
     "metadata": {},
     "output_type": "execute_result"
    }
   ],
   "source": [
    "knn = KNeighborsClassifier()\n",
    "knn.fit(X_train, y_train)"
   ],
   "metadata": {
    "collapsed": false,
    "pycharm": {
     "name": "#%%\n"
    }
   }
  },
  {
   "cell_type": "code",
   "execution_count": 50,
   "outputs": [
    {
     "data": {
      "text/plain": "0.796606344341108"
     },
     "execution_count": 50,
     "metadata": {},
     "output_type": "execute_result"
    }
   ],
   "source": [
    "knn_forest_scores = cross_val_score(knn, X_test, y_test, cv=10, scoring=\"accuracy\")\n",
    "knn_forest_scores.mean()"
   ],
   "metadata": {
    "collapsed": false,
    "pycharm": {
     "name": "#%%\n"
    }
   }
  },
  {
   "cell_type": "markdown",
   "source": [
    "### SVM"
   ],
   "metadata": {
    "collapsed": false,
    "pycharm": {
     "name": "#%% md\n"
    }
   }
  },
  {
   "cell_type": "code",
   "execution_count": 51,
   "outputs": [
    {
     "data": {
      "text/plain": "SVC()"
     },
     "execution_count": 51,
     "metadata": {},
     "output_type": "execute_result"
    }
   ],
   "source": [
    "svm = SVC(kernel=\"rbf\")\n",
    "svm.fit(X_train, y_train)"
   ],
   "metadata": {
    "collapsed": false,
    "pycharm": {
     "name": "#%%\n"
    }
   }
  },
  {
   "cell_type": "code",
   "execution_count": 52,
   "outputs": [
    {
     "data": {
      "text/plain": "0.5496410051854806"
     },
     "execution_count": 52,
     "metadata": {},
     "output_type": "execute_result"
    }
   ],
   "source": [
    "svm_scores = cross_val_score(svm, X_test, y_test, cv=10, scoring=\"accuracy\")\n",
    "svm_scores.mean()"
   ],
   "metadata": {
    "collapsed": false,
    "pycharm": {
     "name": "#%%\n"
    }
   }
  },
  {
   "cell_type": "markdown",
   "source": [
    "### Gradient Boosting"
   ],
   "metadata": {
    "collapsed": false,
    "pycharm": {
     "name": "#%% md\n"
    }
   }
  },
  {
   "cell_type": "code",
   "execution_count": 53,
   "outputs": [
    {
     "data": {
      "text/plain": "GradientBoostingClassifier()"
     },
     "execution_count": 53,
     "metadata": {},
     "output_type": "execute_result"
    }
   ],
   "source": [
    "gradient_boosting = GradientBoostingClassifier()\n",
    "gradient_boosting.fit(X_train, y_train)"
   ],
   "metadata": {
    "collapsed": false,
    "pycharm": {
     "name": "#%%\n"
    }
   }
  },
  {
   "cell_type": "code",
   "execution_count": 54,
   "outputs": [
    {
     "data": {
      "text/plain": "0.9284553484340293"
     },
     "execution_count": 54,
     "metadata": {},
     "output_type": "execute_result"
    }
   ],
   "source": [
    "gradient_boosting_scores = cross_val_score(gradient_boosting, X_test, y_test, cv=3, scoring=\"accuracy\")\n",
    "gradient_boosting_scores.mean()"
   ],
   "metadata": {
    "collapsed": false,
    "pycharm": {
     "name": "#%%\n"
    }
   }
  },
  {
   "cell_type": "markdown",
   "source": [
    "### Sieć neuronowa"
   ],
   "metadata": {
    "collapsed": false,
    "pycharm": {
     "name": "#%% md\n"
    }
   }
  },
  {
   "cell_type": "code",
   "execution_count": 59,
   "outputs": [],
   "source": [
    "model = tf.keras.Sequential([\n",
    "    tf.keras.layers.Dense(128, activation='relu', input_dim=len(train_df.columns)-2),\n",
    "    tf.keras.layers.Dense(64, activation='relu'),\n",
    "    tf.keras.layers.Dense(32, activation='relu'),\n",
    "    tf.keras.layers.Dense(1, activation=\"sigmoid\")\n",
    "\n",
    "])"
   ],
   "metadata": {
    "collapsed": false,
    "pycharm": {
     "name": "#%%\n"
    }
   }
  },
  {
   "cell_type": "code",
   "execution_count": 60,
   "outputs": [
    {
     "name": "stdout",
     "output_type": "stream",
     "text": [
      "Model: \"sequential_1\"\n",
      "_________________________________________________________________\n",
      " Layer (type)                Output Shape              Param #   \n",
      "=================================================================\n",
      " dense_4 (Dense)             (None, 128)               4992      \n",
      "                                                                 \n",
      " dense_5 (Dense)             (None, 64)                8256      \n",
      "                                                                 \n",
      " dense_6 (Dense)             (None, 32)                2080      \n",
      "                                                                 \n",
      " dense_7 (Dense)             (None, 1)                 33        \n",
      "                                                                 \n",
      "=================================================================\n",
      "Total params: 15,361\n",
      "Trainable params: 15,361\n",
      "Non-trainable params: 0\n",
      "_________________________________________________________________\n"
     ]
    }
   ],
   "source": [
    "model.summary()"
   ],
   "metadata": {
    "collapsed": false,
    "pycharm": {
     "name": "#%%\n"
    }
   }
  },
  {
   "cell_type": "code",
   "execution_count": 61,
   "outputs": [],
   "source": [
    "model.compile(optimizer='adam',\n",
    "              loss=tf.keras.losses.BinaryCrossentropy(),\n",
    "              metrics=['accuracy'])"
   ],
   "metadata": {
    "collapsed": false,
    "pycharm": {
     "name": "#%%\n"
    }
   }
  },
  {
   "cell_type": "code",
   "execution_count": 62,
   "outputs": [
    {
     "name": "stdout",
     "output_type": "stream",
     "text": [
      "Epoch 1/200\n",
      "318/318 [==============================] - 0s 605us/step - loss: 8.8981 - accuracy: 0.5994\n",
      "Epoch 2/200\n",
      "318/318 [==============================] - 0s 625us/step - loss: 4.6185 - accuracy: 0.6381\n",
      "Epoch 3/200\n",
      "318/318 [==============================] - 0s 590us/step - loss: 4.8733 - accuracy: 0.6462\n",
      "Epoch 4/200\n",
      "318/318 [==============================] - 0s 591us/step - loss: 2.8123 - accuracy: 0.6651\n",
      "Epoch 5/200\n",
      "318/318 [==============================] - 0s 616us/step - loss: 2.2832 - accuracy: 0.6866\n",
      "Epoch 6/200\n",
      "318/318 [==============================] - 0s 608us/step - loss: 2.0407 - accuracy: 0.6911\n",
      "Epoch 7/200\n",
      "318/318 [==============================] - 0s 614us/step - loss: 1.6832 - accuracy: 0.6983\n",
      "Epoch 8/200\n",
      "318/318 [==============================] - 0s 601us/step - loss: 1.1331 - accuracy: 0.7067\n",
      "Epoch 9/200\n",
      "318/318 [==============================] - 0s 639us/step - loss: 0.9138 - accuracy: 0.7112\n",
      "Epoch 10/200\n",
      "318/318 [==============================] - 0s 608us/step - loss: 0.9837 - accuracy: 0.7131\n",
      "Epoch 11/200\n",
      "318/318 [==============================] - 0s 596us/step - loss: 0.7769 - accuracy: 0.7141\n",
      "Epoch 12/200\n",
      "318/318 [==============================] - 0s 593us/step - loss: 0.6320 - accuracy: 0.7265\n",
      "Epoch 13/200\n",
      "318/318 [==============================] - 0s 607us/step - loss: 0.5448 - accuracy: 0.7357\n",
      "Epoch 14/200\n",
      "318/318 [==============================] - 0s 581us/step - loss: 0.5718 - accuracy: 0.7346\n",
      "Epoch 15/200\n",
      "318/318 [==============================] - 0s 616us/step - loss: 0.4801 - accuracy: 0.7417\n",
      "Epoch 16/200\n",
      "318/318 [==============================] - 0s 642us/step - loss: 0.4622 - accuracy: 0.7630\n",
      "Epoch 17/200\n",
      "318/318 [==============================] - 0s 607us/step - loss: 0.4459 - accuracy: 0.7713\n",
      "Epoch 18/200\n",
      "318/318 [==============================] - 0s 595us/step - loss: 0.4033 - accuracy: 0.7957\n",
      "Epoch 19/200\n",
      "318/318 [==============================] - 0s 589us/step - loss: 0.5030 - accuracy: 0.7532\n",
      "Epoch 20/200\n",
      "318/318 [==============================] - 0s 601us/step - loss: 0.4541 - accuracy: 0.7557\n",
      "Epoch 21/200\n",
      "318/318 [==============================] - 0s 632us/step - loss: 0.4148 - accuracy: 0.7702\n",
      "Epoch 22/200\n",
      "318/318 [==============================] - 0s 638us/step - loss: 0.3697 - accuracy: 0.7984\n",
      "Epoch 23/200\n",
      "318/318 [==============================] - 0s 578us/step - loss: 0.4453 - accuracy: 0.7371\n",
      "Epoch 24/200\n",
      "318/318 [==============================] - 0s 646us/step - loss: 0.3781 - accuracy: 0.7834\n",
      "Epoch 25/200\n",
      "318/318 [==============================] - 0s 631us/step - loss: 0.3516 - accuracy: 0.8064\n",
      "Epoch 26/200\n",
      "318/318 [==============================] - 0s 655us/step - loss: 0.3394 - accuracy: 0.8143\n",
      "Epoch 27/200\n",
      "318/318 [==============================] - 0s 612us/step - loss: 0.3180 - accuracy: 0.8149\n",
      "Epoch 28/200\n",
      "318/318 [==============================] - 0s 577us/step - loss: 0.3314 - accuracy: 0.8066\n",
      "Epoch 29/200\n",
      "318/318 [==============================] - 0s 620us/step - loss: 0.3127 - accuracy: 0.8277\n",
      "Epoch 30/200\n",
      "318/318 [==============================] - 0s 610us/step - loss: 0.3210 - accuracy: 0.8173\n",
      "Epoch 31/200\n",
      "318/318 [==============================] - 0s 643us/step - loss: 0.3064 - accuracy: 0.8298\n",
      "Epoch 32/200\n",
      "318/318 [==============================] - 0s 632us/step - loss: 0.3014 - accuracy: 0.8260\n",
      "Epoch 33/200\n",
      "318/318 [==============================] - 0s 609us/step - loss: 0.2926 - accuracy: 0.8326\n",
      "Epoch 34/200\n",
      "318/318 [==============================] - 0s 618us/step - loss: 0.3522 - accuracy: 0.8012\n",
      "Epoch 35/200\n",
      "318/318 [==============================] - 0s 615us/step - loss: 0.2889 - accuracy: 0.8315\n",
      "Epoch 36/200\n",
      "318/318 [==============================] - 0s 602us/step - loss: 0.2791 - accuracy: 0.8333\n",
      "Epoch 37/200\n",
      "318/318 [==============================] - 0s 600us/step - loss: 0.2810 - accuracy: 0.8341\n",
      "Epoch 38/200\n",
      "318/318 [==============================] - 0s 615us/step - loss: 0.3430 - accuracy: 0.8219\n",
      "Epoch 39/200\n",
      "318/318 [==============================] - 0s 617us/step - loss: 0.2939 - accuracy: 0.8326\n",
      "Epoch 40/200\n",
      "318/318 [==============================] - 0s 589us/step - loss: 0.2640 - accuracy: 0.8462\n",
      "Epoch 41/200\n",
      "318/318 [==============================] - 0s 638us/step - loss: 0.2616 - accuracy: 0.8486\n",
      "Epoch 42/200\n",
      "318/318 [==============================] - 0s 633us/step - loss: 0.2588 - accuracy: 0.8443\n",
      "Epoch 43/200\n",
      "318/318 [==============================] - 0s 606us/step - loss: 0.2300 - accuracy: 0.8569\n",
      "Epoch 44/200\n",
      "318/318 [==============================] - 0s 587us/step - loss: 0.2972 - accuracy: 0.8285\n",
      "Epoch 45/200\n",
      "318/318 [==============================] - 0s 585us/step - loss: 0.2580 - accuracy: 0.8520\n",
      "Epoch 46/200\n",
      "318/318 [==============================] - 0s 594us/step - loss: 0.2569 - accuracy: 0.8533\n",
      "Epoch 47/200\n",
      "318/318 [==============================] - 0s 620us/step - loss: 0.2592 - accuracy: 0.8500\n",
      "Epoch 48/200\n",
      "318/318 [==============================] - 0s 618us/step - loss: 0.2672 - accuracy: 0.8439\n",
      "Epoch 49/200\n",
      "318/318 [==============================] - 0s 628us/step - loss: 0.2838 - accuracy: 0.8437\n",
      "Epoch 50/200\n",
      "318/318 [==============================] - 0s 590us/step - loss: 0.2444 - accuracy: 0.8494\n",
      "Epoch 51/200\n",
      "318/318 [==============================] - 0s 585us/step - loss: 0.2456 - accuracy: 0.8511\n",
      "Epoch 52/200\n",
      "318/318 [==============================] - 0s 611us/step - loss: 0.2495 - accuracy: 0.8605\n",
      "Epoch 53/200\n",
      "318/318 [==============================] - 0s 621us/step - loss: 0.2604 - accuracy: 0.8459\n",
      "Epoch 54/200\n",
      "318/318 [==============================] - 0s 617us/step - loss: 0.2596 - accuracy: 0.8472\n",
      "Epoch 55/200\n",
      "318/318 [==============================] - 0s 617us/step - loss: 0.2564 - accuracy: 0.8537\n",
      "Epoch 56/200\n",
      "318/318 [==============================] - 0s 642us/step - loss: 0.2229 - accuracy: 0.8672\n",
      "Epoch 57/200\n",
      "318/318 [==============================] - 0s 593us/step - loss: 0.2145 - accuracy: 0.8707\n",
      "Epoch 58/200\n",
      "318/318 [==============================] - 0s 625us/step - loss: 0.2368 - accuracy: 0.8725\n",
      "Epoch 59/200\n",
      "318/318 [==============================] - 0s 618us/step - loss: 0.2130 - accuracy: 0.8801\n",
      "Epoch 60/200\n",
      "318/318 [==============================] - 0s 642us/step - loss: 0.2958 - accuracy: 0.8336\n",
      "Epoch 61/200\n",
      "318/318 [==============================] - 0s 629us/step - loss: 0.2375 - accuracy: 0.8582\n",
      "Epoch 62/200\n",
      "318/318 [==============================] - 0s 641us/step - loss: 0.2861 - accuracy: 0.8411\n",
      "Epoch 63/200\n",
      "318/318 [==============================] - 0s 610us/step - loss: 0.2561 - accuracy: 0.8557\n",
      "Epoch 64/200\n",
      "318/318 [==============================] - 0s 616us/step - loss: 0.2824 - accuracy: 0.8381\n",
      "Epoch 65/200\n",
      "318/318 [==============================] - 0s 598us/step - loss: 0.2471 - accuracy: 0.8559\n",
      "Epoch 66/200\n",
      "318/318 [==============================] - 0s 620us/step - loss: 0.2959 - accuracy: 0.8368\n",
      "Epoch 67/200\n",
      "318/318 [==============================] - 0s 609us/step - loss: 0.3110 - accuracy: 0.8345\n",
      "Epoch 68/200\n",
      "318/318 [==============================] - 0s 596us/step - loss: 0.2659 - accuracy: 0.8503\n",
      "Epoch 69/200\n",
      "318/318 [==============================] - 0s 585us/step - loss: 0.2603 - accuracy: 0.8520\n",
      "Epoch 70/200\n",
      "318/318 [==============================] - 0s 607us/step - loss: 0.2546 - accuracy: 0.8482\n",
      "Epoch 71/200\n",
      "318/318 [==============================] - 0s 623us/step - loss: 0.2056 - accuracy: 0.8707\n",
      "Epoch 72/200\n",
      "318/318 [==============================] - 0s 601us/step - loss: 0.2426 - accuracy: 0.8637\n",
      "Epoch 73/200\n",
      "318/318 [==============================] - 0s 616us/step - loss: 0.2220 - accuracy: 0.8701\n",
      "Epoch 74/200\n",
      "318/318 [==============================] - 0s 611us/step - loss: 0.2610 - accuracy: 0.8560\n",
      "Epoch 75/200\n",
      "318/318 [==============================] - 0s 604us/step - loss: 0.2602 - accuracy: 0.8601\n",
      "Epoch 76/200\n",
      "318/318 [==============================] - 0s 625us/step - loss: 0.2473 - accuracy: 0.8651\n",
      "Epoch 77/200\n",
      "318/318 [==============================] - 0s 606us/step - loss: 0.2491 - accuracy: 0.8520\n",
      "Epoch 78/200\n",
      "318/318 [==============================] - 0s 593us/step - loss: 0.2124 - accuracy: 0.8741\n",
      "Epoch 79/200\n",
      "318/318 [==============================] - 0s 608us/step - loss: 0.2374 - accuracy: 0.8603\n",
      "Epoch 80/200\n",
      "318/318 [==============================] - 0s 608us/step - loss: 0.2230 - accuracy: 0.8651\n",
      "Epoch 81/200\n",
      "318/318 [==============================] - 0s 620us/step - loss: 0.1978 - accuracy: 0.8811\n",
      "Epoch 82/200\n",
      "318/318 [==============================] - 0s 628us/step - loss: 0.2009 - accuracy: 0.8809\n",
      "Epoch 83/200\n",
      "318/318 [==============================] - 0s 607us/step - loss: 0.2165 - accuracy: 0.8597\n",
      "Epoch 84/200\n",
      "318/318 [==============================] - 0s 605us/step - loss: 0.2037 - accuracy: 0.8800\n",
      "Epoch 85/200\n",
      "318/318 [==============================] - 0s 592us/step - loss: 0.2059 - accuracy: 0.8822\n",
      "Epoch 86/200\n",
      "318/318 [==============================] - 0s 653us/step - loss: 0.2047 - accuracy: 0.8816\n",
      "Epoch 87/200\n",
      "318/318 [==============================] - 0s 603us/step - loss: 0.2020 - accuracy: 0.8779\n",
      "Epoch 88/200\n",
      "318/318 [==============================] - 0s 608us/step - loss: 0.2008 - accuracy: 0.8782\n",
      "Epoch 89/200\n",
      "318/318 [==============================] - 0s 599us/step - loss: 0.2904 - accuracy: 0.8487\n",
      "Epoch 90/200\n",
      "318/318 [==============================] - 0s 610us/step - loss: 0.2259 - accuracy: 0.8718\n",
      "Epoch 91/200\n",
      "318/318 [==============================] - 0s 661us/step - loss: 0.2631 - accuracy: 0.8566\n",
      "Epoch 92/200\n",
      "318/318 [==============================] - 0s 610us/step - loss: 0.2417 - accuracy: 0.8555\n",
      "Epoch 93/200\n",
      "318/318 [==============================] - 0s 600us/step - loss: 0.2655 - accuracy: 0.8508\n",
      "Epoch 94/200\n",
      "318/318 [==============================] - 0s 626us/step - loss: 0.2235 - accuracy: 0.8669\n",
      "Epoch 95/200\n",
      "318/318 [==============================] - 0s 617us/step - loss: 0.1949 - accuracy: 0.8840\n",
      "Epoch 96/200\n",
      "318/318 [==============================] - 0s 626us/step - loss: 0.2338 - accuracy: 0.8744\n",
      "Epoch 97/200\n",
      "318/318 [==============================] - 0s 633us/step - loss: 0.2605 - accuracy: 0.8673\n",
      "Epoch 98/200\n",
      "318/318 [==============================] - 0s 651us/step - loss: 0.2378 - accuracy: 0.8707\n",
      "Epoch 99/200\n",
      "318/318 [==============================] - 0s 597us/step - loss: 0.2123 - accuracy: 0.8839\n",
      "Epoch 100/200\n",
      "318/318 [==============================] - 0s 598us/step - loss: 0.2590 - accuracy: 0.8464\n",
      "Epoch 101/200\n",
      "318/318 [==============================] - 0s 571us/step - loss: 0.2012 - accuracy: 0.8762\n",
      "Epoch 102/200\n",
      "318/318 [==============================] - 0s 611us/step - loss: 0.1870 - accuracy: 0.8856\n",
      "Epoch 103/200\n",
      "318/318 [==============================] - 0s 613us/step - loss: 0.2531 - accuracy: 0.8669\n",
      "Epoch 104/200\n",
      "318/318 [==============================] - 0s 600us/step - loss: 0.1990 - accuracy: 0.8888\n",
      "Epoch 105/200\n",
      "318/318 [==============================] - 0s 613us/step - loss: 0.2325 - accuracy: 0.8714\n",
      "Epoch 106/200\n",
      "318/318 [==============================] - 0s 623us/step - loss: 0.3286 - accuracy: 0.8389\n",
      "Epoch 107/200\n",
      "318/318 [==============================] - 0s 613us/step - loss: 0.2567 - accuracy: 0.8594\n",
      "Epoch 108/200\n",
      "318/318 [==============================] - 0s 591us/step - loss: 0.2267 - accuracy: 0.8764\n",
      "Epoch 109/200\n",
      "318/318 [==============================] - 0s 621us/step - loss: 0.2568 - accuracy: 0.8610\n",
      "Epoch 110/200\n",
      "318/318 [==============================] - 0s 609us/step - loss: 0.2411 - accuracy: 0.8593\n",
      "Epoch 111/200\n",
      "318/318 [==============================] - 0s 609us/step - loss: 0.3149 - accuracy: 0.8327\n",
      "Epoch 112/200\n",
      "318/318 [==============================] - 0s 598us/step - loss: 0.1896 - accuracy: 0.8930\n",
      "Epoch 113/200\n",
      "318/318 [==============================] - 0s 593us/step - loss: 0.2181 - accuracy: 0.8755\n",
      "Epoch 114/200\n",
      "318/318 [==============================] - 0s 616us/step - loss: 0.1739 - accuracy: 0.8937\n",
      "Epoch 115/200\n",
      "318/318 [==============================] - 0s 597us/step - loss: 0.1904 - accuracy: 0.8879\n",
      "Epoch 116/200\n",
      "318/318 [==============================] - 0s 638us/step - loss: 0.2070 - accuracy: 0.8906\n",
      "Epoch 117/200\n",
      "318/318 [==============================] - 0s 591us/step - loss: 0.1898 - accuracy: 0.8945\n",
      "Epoch 118/200\n",
      "318/318 [==============================] - 0s 617us/step - loss: 0.1992 - accuracy: 0.8893\n",
      "Epoch 119/200\n",
      "318/318 [==============================] - 0s 616us/step - loss: 0.1946 - accuracy: 0.8989\n",
      "Epoch 120/200\n",
      "318/318 [==============================] - 0s 613us/step - loss: 0.2012 - accuracy: 0.8939\n",
      "Epoch 121/200\n",
      "318/318 [==============================] - 0s 621us/step - loss: 0.1604 - accuracy: 0.9123\n",
      "Epoch 122/200\n",
      "318/318 [==============================] - 0s 627us/step - loss: 0.2022 - accuracy: 0.8940\n",
      "Epoch 123/200\n",
      "318/318 [==============================] - 0s 619us/step - loss: 0.1906 - accuracy: 0.8916\n",
      "Epoch 124/200\n",
      "318/318 [==============================] - 0s 634us/step - loss: 0.1684 - accuracy: 0.9007\n",
      "Epoch 125/200\n",
      "318/318 [==============================] - 0s 606us/step - loss: 0.2194 - accuracy: 0.8863\n",
      "Epoch 126/200\n",
      "318/318 [==============================] - 0s 610us/step - loss: 0.1770 - accuracy: 0.8970\n",
      "Epoch 127/200\n",
      "318/318 [==============================] - 0s 598us/step - loss: 0.2330 - accuracy: 0.8724\n",
      "Epoch 128/200\n",
      "318/318 [==============================] - 0s 611us/step - loss: 0.1822 - accuracy: 0.8894\n",
      "Epoch 129/200\n",
      "318/318 [==============================] - 0s 612us/step - loss: 0.1832 - accuracy: 0.9004\n",
      "Epoch 130/200\n",
      "318/318 [==============================] - 0s 624us/step - loss: 0.1911 - accuracy: 0.8964\n",
      "Epoch 131/200\n",
      "318/318 [==============================] - 0s 598us/step - loss: 0.1920 - accuracy: 0.8978\n",
      "Epoch 132/200\n",
      "318/318 [==============================] - 0s 602us/step - loss: 0.2208 - accuracy: 0.8914\n",
      "Epoch 133/200\n",
      "318/318 [==============================] - 0s 629us/step - loss: 0.2021 - accuracy: 0.8914\n",
      "Epoch 134/200\n",
      "318/318 [==============================] - 0s 633us/step - loss: 0.2360 - accuracy: 0.8823\n",
      "Epoch 135/200\n",
      "318/318 [==============================] - 0s 583us/step - loss: 0.2037 - accuracy: 0.9009\n",
      "Epoch 136/200\n",
      "318/318 [==============================] - 0s 574us/step - loss: 0.1720 - accuracy: 0.9074\n",
      "Epoch 137/200\n",
      "318/318 [==============================] - 0s 630us/step - loss: 0.1795 - accuracy: 0.9038\n",
      "Epoch 138/200\n",
      "318/318 [==============================] - 0s 587us/step - loss: 0.1873 - accuracy: 0.9025\n",
      "Epoch 139/200\n",
      "318/318 [==============================] - 0s 632us/step - loss: 0.1585 - accuracy: 0.9139\n",
      "Epoch 140/200\n",
      "318/318 [==============================] - 0s 629us/step - loss: 0.1673 - accuracy: 0.9140\n",
      "Epoch 141/200\n",
      "318/318 [==============================] - 0s 607us/step - loss: 0.2069 - accuracy: 0.8953\n",
      "Epoch 142/200\n",
      "318/318 [==============================] - 0s 605us/step - loss: 0.1900 - accuracy: 0.9003\n",
      "Epoch 143/200\n",
      "318/318 [==============================] - 0s 629us/step - loss: 0.1760 - accuracy: 0.8991\n",
      "Epoch 144/200\n",
      "318/318 [==============================] - 0s 588us/step - loss: 0.1845 - accuracy: 0.9038\n",
      "Epoch 145/200\n",
      "318/318 [==============================] - 0s 614us/step - loss: 0.1462 - accuracy: 0.9248\n",
      "Epoch 146/200\n",
      "318/318 [==============================] - 0s 633us/step - loss: 0.1683 - accuracy: 0.9116\n",
      "Epoch 147/200\n",
      "318/318 [==============================] - 0s 604us/step - loss: 0.1662 - accuracy: 0.9101\n",
      "Epoch 148/200\n",
      "318/318 [==============================] - 0s 604us/step - loss: 0.1397 - accuracy: 0.9222\n",
      "Epoch 149/200\n",
      "318/318 [==============================] - 0s 583us/step - loss: 0.1605 - accuracy: 0.9224\n",
      "Epoch 150/200\n",
      "318/318 [==============================] - 0s 630us/step - loss: 0.1641 - accuracy: 0.9128\n",
      "Epoch 151/200\n",
      "318/318 [==============================] - 0s 660us/step - loss: 0.1940 - accuracy: 0.8837\n",
      "Epoch 152/200\n",
      "318/318 [==============================] - 0s 613us/step - loss: 0.2240 - accuracy: 0.8830\n",
      "Epoch 153/200\n",
      "318/318 [==============================] - 0s 618us/step - loss: 0.2055 - accuracy: 0.8766\n",
      "Epoch 154/200\n",
      "318/318 [==============================] - 0s 646us/step - loss: 0.1681 - accuracy: 0.9041\n",
      "Epoch 155/200\n",
      "318/318 [==============================] - 0s 617us/step - loss: 0.2034 - accuracy: 0.8819\n",
      "Epoch 156/200\n",
      "318/318 [==============================] - 0s 644us/step - loss: 0.1436 - accuracy: 0.9265\n",
      "Epoch 157/200\n",
      "318/318 [==============================] - 0s 641us/step - loss: 0.1303 - accuracy: 0.9353\n",
      "Epoch 158/200\n",
      "318/318 [==============================] - 0s 606us/step - loss: 0.1934 - accuracy: 0.8990\n",
      "Epoch 159/200\n",
      "318/318 [==============================] - 0s 596us/step - loss: 0.1969 - accuracy: 0.8863\n",
      "Epoch 160/200\n",
      "318/318 [==============================] - 0s 628us/step - loss: 0.1651 - accuracy: 0.9119\n",
      "Epoch 161/200\n",
      "318/318 [==============================] - 0s 596us/step - loss: 0.1823 - accuracy: 0.9084\n",
      "Epoch 162/200\n",
      "318/318 [==============================] - 0s 624us/step - loss: 0.1414 - accuracy: 0.9327\n",
      "Epoch 163/200\n",
      "318/318 [==============================] - 0s 616us/step - loss: 0.1812 - accuracy: 0.9242\n",
      "Epoch 164/200\n",
      "318/318 [==============================] - 0s 617us/step - loss: 0.2005 - accuracy: 0.8759\n",
      "Epoch 165/200\n",
      "318/318 [==============================] - 0s 630us/step - loss: 0.1344 - accuracy: 0.9335\n",
      "Epoch 166/200\n",
      "318/318 [==============================] - 0s 591us/step - loss: 0.1597 - accuracy: 0.9055\n",
      "Epoch 167/200\n",
      "318/318 [==============================] - 0s 631us/step - loss: 0.1604 - accuracy: 0.9158\n",
      "Epoch 168/200\n",
      "318/318 [==============================] - 0s 598us/step - loss: 0.1504 - accuracy: 0.9280\n",
      "Epoch 169/200\n",
      "318/318 [==============================] - 0s 617us/step - loss: 0.1608 - accuracy: 0.8960\n",
      "Epoch 170/200\n",
      "318/318 [==============================] - 0s 636us/step - loss: 0.1196 - accuracy: 0.9402\n",
      "Epoch 171/200\n",
      "318/318 [==============================] - 0s 615us/step - loss: 0.1800 - accuracy: 0.9107\n",
      "Epoch 172/200\n",
      "318/318 [==============================] - 0s 608us/step - loss: 0.1612 - accuracy: 0.9235\n",
      "Epoch 173/200\n",
      "318/318 [==============================] - 0s 623us/step - loss: 0.2457 - accuracy: 0.8796\n",
      "Epoch 174/200\n",
      "318/318 [==============================] - 0s 613us/step - loss: 0.1714 - accuracy: 0.8917\n",
      "Epoch 175/200\n",
      "318/318 [==============================] - 0s 637us/step - loss: 0.1529 - accuracy: 0.9099\n",
      "Epoch 176/200\n",
      "318/318 [==============================] - 0s 621us/step - loss: 0.1663 - accuracy: 0.9049\n",
      "Epoch 177/200\n",
      "318/318 [==============================] - 0s 623us/step - loss: 0.1296 - accuracy: 0.9328\n",
      "Epoch 178/200\n",
      "318/318 [==============================] - 0s 616us/step - loss: 0.1164 - accuracy: 0.9415\n",
      "Epoch 179/200\n",
      "318/318 [==============================] - 0s 608us/step - loss: 0.1213 - accuracy: 0.9371\n",
      "Epoch 180/200\n",
      "318/318 [==============================] - 0s 637us/step - loss: 0.1189 - accuracy: 0.9407\n",
      "Epoch 181/200\n",
      "318/318 [==============================] - 0s 641us/step - loss: 0.1766 - accuracy: 0.9183\n",
      "Epoch 182/200\n",
      "318/318 [==============================] - 0s 612us/step - loss: 0.2855 - accuracy: 0.8761\n",
      "Epoch 183/200\n",
      "318/318 [==============================] - 0s 614us/step - loss: 0.1442 - accuracy: 0.9216\n",
      "Epoch 184/200\n",
      "318/318 [==============================] - 0s 598us/step - loss: 0.1636 - accuracy: 0.9181\n",
      "Epoch 185/200\n",
      "318/318 [==============================] - 0s 594us/step - loss: 0.2371 - accuracy: 0.8545\n",
      "Epoch 186/200\n",
      "318/318 [==============================] - 0s 604us/step - loss: 0.1692 - accuracy: 0.9186\n",
      "Epoch 187/200\n",
      "318/318 [==============================] - 0s 629us/step - loss: 0.1668 - accuracy: 0.8986\n",
      "Epoch 188/200\n",
      "318/318 [==============================] - 0s 639us/step - loss: 0.1447 - accuracy: 0.9289\n",
      "Epoch 189/200\n",
      "318/318 [==============================] - 0s 632us/step - loss: 0.1676 - accuracy: 0.9018\n",
      "Epoch 190/200\n",
      "318/318 [==============================] - 0s 609us/step - loss: 0.1444 - accuracy: 0.9228\n",
      "Epoch 191/200\n",
      "318/318 [==============================] - 0s 630us/step - loss: 0.1147 - accuracy: 0.9430\n",
      "Epoch 192/200\n",
      "318/318 [==============================] - 0s 637us/step - loss: 0.1962 - accuracy: 0.8852\n",
      "Epoch 193/200\n",
      "318/318 [==============================] - 0s 600us/step - loss: 0.1344 - accuracy: 0.9275\n",
      "Epoch 194/200\n",
      "318/318 [==============================] - 0s 605us/step - loss: 0.1399 - accuracy: 0.9235\n",
      "Epoch 195/200\n",
      "318/318 [==============================] - 0s 652us/step - loss: 0.1389 - accuracy: 0.9195\n",
      "Epoch 196/200\n",
      "318/318 [==============================] - 0s 650us/step - loss: 0.1218 - accuracy: 0.9402\n",
      "Epoch 197/200\n",
      "318/318 [==============================] - 0s 644us/step - loss: 0.1118 - accuracy: 0.9416\n",
      "Epoch 198/200\n",
      "318/318 [==============================] - 0s 625us/step - loss: 0.1445 - accuracy: 0.9325\n",
      "Epoch 199/200\n",
      "318/318 [==============================] - 0s 593us/step - loss: 0.2203 - accuracy: 0.8889\n",
      "Epoch 200/200\n",
      "318/318 [==============================] - 0s 630us/step - loss: 0.2092 - accuracy: 0.8848\n"
     ]
    },
    {
     "data": {
      "text/plain": "<keras.callbacks.History at 0x7fbcb407ca90>"
     },
     "execution_count": 62,
     "metadata": {},
     "output_type": "execute_result"
    }
   ],
   "source": [
    "model.fit(np.array(X_train, dtype=np.float64), np.array(y_train,dtype=np.float64), epochs=200)"
   ],
   "metadata": {
    "collapsed": false,
    "pycharm": {
     "name": "#%%\n"
    }
   }
  },
  {
   "cell_type": "code",
   "execution_count": 66,
   "outputs": [],
   "source": [
    "predictions_train = model.predict(np.array(X_train,dtype=np.float64)) > 0.5"
   ],
   "metadata": {
    "collapsed": false,
    "pycharm": {
     "name": "#%%\n"
    }
   }
  },
  {
   "cell_type": "code",
   "execution_count": 67,
   "outputs": [],
   "source": [
    "predictions_test = model.predict(np.array(X_test,dtype=np.float64)) > 0.5"
   ],
   "metadata": {
    "collapsed": false,
    "pycharm": {
     "name": "#%%\n"
    }
   }
  },
  {
   "cell_type": "code",
   "execution_count": 68,
   "outputs": [
    {
     "data": {
      "text/plain": "0.9690437972941985"
     },
     "execution_count": 68,
     "metadata": {},
     "output_type": "execute_result"
    }
   ],
   "source": [
    "accuracy_score(y_test, predictions_test)"
   ],
   "metadata": {
    "collapsed": false,
    "pycharm": {
     "name": "#%%\n"
    }
   }
  },
  {
   "cell_type": "code",
   "execution_count": 69,
   "outputs": [],
   "source": [
    "cm_test = ConfusionMatrixDisplay(confusion_matrix(y_test, predictions_test))\n",
    "cm_train = ConfusionMatrixDisplay(confusion_matrix(y_train, predictions_train))"
   ],
   "metadata": {
    "collapsed": false,
    "pycharm": {
     "name": "#%%\n"
    }
   }
  },
  {
   "cell_type": "code",
   "execution_count": 70,
   "outputs": [
    {
     "data": {
      "text/plain": "<sklearn.metrics._plot.confusion_matrix.ConfusionMatrixDisplay at 0x7fbcb05a99a0>"
     },
     "execution_count": 70,
     "metadata": {},
     "output_type": "execute_result"
    },
    {
     "data": {
      "text/plain": "<Figure size 432x288 with 2 Axes>",
      "image/png": "[encoded data removed]"
     },
     "metadata": {
      "needs_background": "light"
     },
     "output_type": "display_data"
    }
   ],
   "source": [
    "cm_test.plot()"
   ],
   "metadata": {
    "collapsed": false,
    "pycharm": {
     "name": "#%%\n"
    }
   }
  },
  {
   "cell_type": "code",
   "execution_count": 71,
   "outputs": [
    {
     "data": {
      "text/plain": "<sklearn.metrics._plot.confusion_matrix.ConfusionMatrixDisplay at 0x7fbcb05ad910>"
     },
     "execution_count": 71,
     "metadata": {},
     "output_type": "execute_result"
    },
    {
     "data": {
      "text/plain": "<Figure size 432x288 with 2 Axes>",
      "image/png": "[encoded data removed]"
     },
     "metadata": {
      "needs_background": "light"
     },
     "output_type": "display_data"
    }
   ],
   "source": [
    "cm_train.plot()"
   ],
   "metadata": {
    "collapsed": false,
    "pycharm": {
     "name": "#%%\n"
    }
   }
  },
  {
   "cell_type": "code",
   "execution_count": 72,
   "outputs": [
    {
     "name": "stdout",
     "output_type": "stream",
     "text": [
      "              precision    recall  f1-score   support\n",
      "\n",
      "           0       0.94      1.00      0.97      2228\n",
      "           1       1.00      0.94      0.97      2133\n",
      "\n",
      "    accuracy                           0.97      4361\n",
      "   macro avg       0.97      0.97      0.97      4361\n",
      "weighted avg       0.97      0.97      0.97      4361\n",
      "\n"
     ]
    }
   ],
   "source": [
    "print(classification_report(y_test, predictions_test))"
   ],
   "metadata": {
    "collapsed": false,
    "pycharm": {
     "name": "#%%\n"
    }
   }
  },
  {
   "cell_type": "code",
   "execution_count": 73,
   "outputs": [
    {
     "name": "stdout",
     "output_type": "stream",
     "text": [
      "              precision    recall  f1-score   support\n",
      "\n",
      "           0       0.94      1.00      0.97      5350\n",
      "           1       1.00      0.93      0.96      4824\n",
      "\n",
      "    accuracy                           0.97     10174\n",
      "   macro avg       0.97      0.96      0.97     10174\n",
      "weighted avg       0.97      0.97      0.97     10174\n",
      "\n"
     ]
    }
   ],
   "source": [
    "print(classification_report(y_train, predictions_train))"
   ],
   "metadata": {
    "collapsed": false,
    "pycharm": {
     "name": "#%%\n"
    }
   }
  },
  {
   "cell_type": "markdown",
   "source": [
    "## Wnioski:\n",
    "Wybraliśmy las losowy ze względu na bardzo szybki trening i bardzo dobre wyniki oraz sieć neuronową"
   ],
   "metadata": {
    "collapsed": false,
    "pycharm": {
     "name": "#%% md\n"
    }
   }
  },
  {
   "cell_type": "code",
   "execution_count": null,
   "outputs": [],
   "source": [],
   "metadata": {
    "collapsed": false,
    "pycharm": {
     "name": "#%%\n"
    }
   }
  }
 ],
 "metadata": {
  "kernelspec": {
   "display_name": "Python 3",
   "language": "python",
   "name": "python3"
  },
  "language_info": {
   "codemirror_mode": {
    "name": "ipython",
    "version": 2
   },
   "file_extension": ".py",
   "mimetype": "text/x-python",
   "name": "python",
   "nbconvert_exporter": "python",
   "pygments_lexer": "ipython2",
   "version": "2.7.6"
  }
 },
 "nbformat": 4,
 "nbformat_minor": 0
}