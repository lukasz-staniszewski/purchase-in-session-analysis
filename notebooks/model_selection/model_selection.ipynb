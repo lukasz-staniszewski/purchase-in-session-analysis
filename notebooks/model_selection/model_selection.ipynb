{
 "cells": [
  {
   "cell_type": "code",
   "execution_count": 171,
   "metadata": {
    "collapsed": true
   },
   "outputs": [],
   "source": [
    "import pandas as pd\n",
    "%matplotlib inline\n",
    "from sklearn.linear_model import LinearRegression\n",
    "from sklearn.metrics import confusion_matrix, ConfusionMatrixDisplay\n",
    "from sklearn.model_selection import cross_val_score\n",
    "from sklearn.neighbors import KNeighborsRegressor\n",
    "from sklearn.ensemble import RandomForestRegressor, GradientBoostingRegressor\n",
    "import tensorflow as tf\n",
    "import numpy as np"
   ]
  },
  {
   "cell_type": "markdown",
   "source": [
    "### Wczytanie już poprawnie przetworzonych danych"
   ],
   "metadata": {
    "collapsed": false,
    "pycharm": {
     "name": "#%% md\n"
    }
   }
  },
  {
   "cell_type": "code",
   "execution_count": 135,
   "outputs": [],
   "source": [
    "train_df = pd.read_json(path_or_buf='../../data/processed/train_set.jsonl')\n",
    "test_df = pd.read_json(path_or_buf='../../data/processed/test_set.jsonl')"
   ],
   "metadata": {
    "collapsed": false,
    "pycharm": {
     "name": "#%%\n"
    }
   }
  },
  {
   "cell_type": "code",
   "execution_count": 136,
   "outputs": [
    {
     "data": {
      "text/plain": "   session_id  offered_discount    price  Akcesoria telefoniczne  Anteny RTV  \\\n0        8570                 0   117.94                       0           0   \n1        3139                 0  2614.56                       0           0   \n2        7477                 0   495.00                       0           0   \n3        5109                 0   169.80                       0           0   \n4        4917                20   157.80                       0           0   \n\n   Audio  Biurowe urządzenia wielofunkcyjne  Drukarki i skanery  \\\n0      0                                  0                   0   \n1      0                                  0                   0   \n2      0                                  0                   0   \n3      0                                  0                   0   \n4      0                                  0                   0   \n\n   Gry PlayStation3  Gry Xbox 360  ...  Zestawy słuchawkowe  Female  Male  \\\n0                 0             0  ...                    0       0     1   \n1                 0             0  ...                    0       1     0   \n2                 0             0  ...                    0       0     1   \n3                 2             0  ...                    0       0     1   \n4                 0             0  ...                    0       0     1   \n\n   session_length  n_views  month  day  hour  dayofweek  purchased  \n0             150        1      4   18    21          5          1  \n1             179        2      4    5     5          6          1  \n2             264        2      1   10     3          4          1  \n3             134        2      5    2     4          5          0  \n4             243        1     10    4    21          0          1  \n\n[5 rows x 40 columns]",
      "text/html": "<div>\n<style scoped>\n    .dataframe tbody tr th:only-of-type {\n        vertical-align: middle;\n    }\n\n    .dataframe tbody tr th {\n        vertical-align: top;\n    }\n\n    .dataframe thead th {\n        text-align: right;\n    }\n</style>\n<table border=\"1\" class=\"dataframe\">\n  <thead>\n    <tr style=\"text-align: right;\">\n      <th></th>\n      <th>session_id</th>\n      <th>offered_discount</th>\n      <th>price</th>\n      <th>Akcesoria telefoniczne</th>\n      <th>Anteny RTV</th>\n      <th>Audio</th>\n      <th>Biurowe urządzenia wielofunkcyjne</th>\n      <th>Drukarki i skanery</th>\n      <th>Gry PlayStation3</th>\n      <th>Gry Xbox 360</th>\n      <th>...</th>\n      <th>Zestawy słuchawkowe</th>\n      <th>Female</th>\n      <th>Male</th>\n      <th>session_length</th>\n      <th>n_views</th>\n      <th>month</th>\n      <th>day</th>\n      <th>hour</th>\n      <th>dayofweek</th>\n      <th>purchased</th>\n    </tr>\n  </thead>\n  <tbody>\n    <tr>\n      <th>0</th>\n      <td>8570</td>\n      <td>0</td>\n      <td>117.94</td>\n      <td>0</td>\n      <td>0</td>\n      <td>0</td>\n      <td>0</td>\n      <td>0</td>\n      <td>0</td>\n      <td>0</td>\n      <td>...</td>\n      <td>0</td>\n      <td>0</td>\n      <td>1</td>\n      <td>150</td>\n      <td>1</td>\n      <td>4</td>\n      <td>18</td>\n      <td>21</td>\n      <td>5</td>\n      <td>1</td>\n    </tr>\n    <tr>\n      <th>1</th>\n      <td>3139</td>\n      <td>0</td>\n      <td>2614.56</td>\n      <td>0</td>\n      <td>0</td>\n      <td>0</td>\n      <td>0</td>\n      <td>0</td>\n      <td>0</td>\n      <td>0</td>\n      <td>...</td>\n      <td>0</td>\n      <td>1</td>\n      <td>0</td>\n      <td>179</td>\n      <td>2</td>\n      <td>4</td>\n      <td>5</td>\n      <td>5</td>\n      <td>6</td>\n      <td>1</td>\n    </tr>\n    <tr>\n      <th>2</th>\n      <td>7477</td>\n      <td>0</td>\n      <td>495.00</td>\n      <td>0</td>\n      <td>0</td>\n      <td>0</td>\n      <td>0</td>\n      <td>0</td>\n      <td>0</td>\n      <td>0</td>\n      <td>...</td>\n      <td>0</td>\n      <td>0</td>\n      <td>1</td>\n      <td>264</td>\n      <td>2</td>\n      <td>1</td>\n      <td>10</td>\n      <td>3</td>\n      <td>4</td>\n      <td>1</td>\n    </tr>\n    <tr>\n      <th>3</th>\n      <td>5109</td>\n      <td>0</td>\n      <td>169.80</td>\n      <td>0</td>\n      <td>0</td>\n      <td>0</td>\n      <td>0</td>\n      <td>0</td>\n      <td>2</td>\n      <td>0</td>\n      <td>...</td>\n      <td>0</td>\n      <td>0</td>\n      <td>1</td>\n      <td>134</td>\n      <td>2</td>\n      <td>5</td>\n      <td>2</td>\n      <td>4</td>\n      <td>5</td>\n      <td>0</td>\n    </tr>\n    <tr>\n      <th>4</th>\n      <td>4917</td>\n      <td>20</td>\n      <td>157.80</td>\n      <td>0</td>\n      <td>0</td>\n      <td>0</td>\n      <td>0</td>\n      <td>0</td>\n      <td>0</td>\n      <td>0</td>\n      <td>...</td>\n      <td>0</td>\n      <td>0</td>\n      <td>1</td>\n      <td>243</td>\n      <td>1</td>\n      <td>10</td>\n      <td>4</td>\n      <td>21</td>\n      <td>0</td>\n      <td>1</td>\n    </tr>\n  </tbody>\n</table>\n<p>5 rows × 40 columns</p>\n</div>"
     },
     "execution_count": 136,
     "metadata": {},
     "output_type": "execute_result"
    }
   ],
   "source": [
    "train_df.head()"
   ],
   "metadata": {
    "collapsed": false,
    "pycharm": {
     "name": "#%%\n"
    }
   }
  },
  {
   "cell_type": "markdown",
   "source": [
    "### Oddzielenie zmiennej celu od pozostałych atrybutów"
   ],
   "metadata": {
    "collapsed": false,
    "pycharm": {
     "name": "#%% md\n"
    }
   }
  },
  {
   "cell_type": "code",
   "execution_count": 137,
   "outputs": [],
   "source": [
    "y_train = train_df['purchased'].values\n",
    "X_train = train_df.drop(columns=['session_id', 'purchased']).values\n",
    "y_test = test_df['purchased'].values\n",
    "X_test = test_df.drop(columns=['session_id', 'purchased']).values"
   ],
   "metadata": {
    "collapsed": false,
    "pycharm": {
     "name": "#%%\n"
    }
   }
  },
  {
   "cell_type": "code",
   "execution_count": 138,
   "outputs": [
    {
     "data": {
      "text/plain": "array([[0.00000e+00, 1.17940e+02, 0.00000e+00, ..., 1.80000e+01,\n        2.10000e+01, 5.00000e+00],\n       [0.00000e+00, 2.61456e+03, 0.00000e+00, ..., 5.00000e+00,\n        5.00000e+00, 6.00000e+00],\n       [0.00000e+00, 4.95000e+02, 0.00000e+00, ..., 1.00000e+01,\n        3.00000e+00, 4.00000e+00],\n       ...,\n       [0.00000e+00, 3.86000e+02, 0.00000e+00, ..., 2.20000e+01,\n        2.00000e+00, 5.00000e+00],\n       [0.00000e+00, 4.63404e+03, 0.00000e+00, ..., 2.00000e+01,\n        1.20000e+01, 1.00000e+00],\n       [0.00000e+00, 1.43700e+02, 0.00000e+00, ..., 7.00000e+00,\n        2.10000e+01, 5.00000e+00]])"
     },
     "execution_count": 138,
     "metadata": {},
     "output_type": "execute_result"
    }
   ],
   "source": [
    "X_train"
   ],
   "metadata": {
    "collapsed": false,
    "pycharm": {
     "name": "#%%\n"
    }
   }
  },
  {
   "cell_type": "code",
   "execution_count": 139,
   "outputs": [
    {
     "data": {
      "text/plain": "array([1, 1, 1, ..., 1, 1, 0])"
     },
     "execution_count": 139,
     "metadata": {},
     "output_type": "execute_result"
    }
   ],
   "source": [
    "y_train"
   ],
   "metadata": {
    "collapsed": false,
    "pycharm": {
     "name": "#%%\n"
    }
   }
  },
  {
   "cell_type": "markdown",
   "source": [
    "### Podział zbioru danych na zbiór treningowy i testowy"
   ],
   "metadata": {
    "collapsed": false,
    "pycharm": {
     "name": "#%% md\n"
    }
   }
  },
  {
   "cell_type": "markdown",
   "source": [
    "## Analiza modeli"
   ],
   "metadata": {
    "collapsed": false,
    "pycharm": {
     "name": "#%% md\n"
    }
   }
  },
  {
   "cell_type": "markdown",
   "source": [
    "### Las losowy"
   ],
   "metadata": {
    "collapsed": false,
    "pycharm": {
     "name": "#%% md\n"
    }
   }
  },
  {
   "cell_type": "code",
   "source": [
    "random_forest_reg = RandomForestRegressor()\n",
    "random_forest_reg.fit(X_train, y_train)"
   ],
   "metadata": {
    "collapsed": false,
    "pycharm": {
     "name": "#%%\n"
    }
   },
   "execution_count": 154,
   "outputs": [
    {
     "data": {
      "text/plain": "RandomForestRegressor()"
     },
     "execution_count": 154,
     "metadata": {},
     "output_type": "execute_result"
    }
   ]
  },
  {
   "cell_type": "code",
   "execution_count": 155,
   "outputs": [
    {
     "data": {
      "text/plain": "0.965712568682948"
     },
     "execution_count": 155,
     "metadata": {},
     "output_type": "execute_result"
    }
   ],
   "source": [
    "rand_forest_reg_scores = cross_val_score(random_forest_reg, X_test, y_test, cv=10)\n",
    "rand_forest_reg_scores.mean()"
   ],
   "metadata": {
    "collapsed": false,
    "pycharm": {
     "name": "#%%\n"
    }
   }
  },
  {
   "cell_type": "code",
   "execution_count": 156,
   "outputs": [],
   "source": [
    "predictions_train_random_forest_reg = random_forest_reg.predict(np.array(X_train,dtype=np.float64)) > 0.5\n",
    "predictions_test_random_forest_reg = random_forest_reg.predict(np.array(X_test,dtype=np.float64)) > 0.5"
   ],
   "metadata": {
    "collapsed": false,
    "pycharm": {
     "name": "#%%\n"
    }
   }
  },
  {
   "cell_type": "code",
   "execution_count": 162,
   "outputs": [],
   "source": [
    "cm_train_random_forest_reg = ConfusionMatrixDisplay(confusion_matrix(y_train, predictions_train_random_forest_reg))\n",
    "cm_test_random_forest_reg = ConfusionMatrixDisplay(confusion_matrix(y_test, predictions_test_random_forest_reg))"
   ],
   "metadata": {
    "collapsed": false,
    "pycharm": {
     "name": "#%%\n"
    }
   }
  },
  {
   "cell_type": "code",
   "execution_count": 163,
   "outputs": [
    {
     "data": {
      "text/plain": "<sklearn.metrics._plot.confusion_matrix.ConfusionMatrixDisplay at 0x7fbca05b3760>"
     },
     "execution_count": 163,
     "metadata": {},
     "output_type": "execute_result"
    },
    {
     "data": {
      "text/plain": "<Figure size 432x288 with 2 Axes>",
      "image/png": "[encoded data removed]"
     },
     "metadata": {
      "needs_background": "light"
     },
     "output_type": "display_data"
    }
   ],
   "source": [
    "cm_train_random_forest_reg.plot()"
   ],
   "metadata": {
    "collapsed": false,
    "pycharm": {
     "name": "#%%\n"
    }
   }
  },
  {
   "cell_type": "code",
   "execution_count": 164,
   "outputs": [
    {
     "data": {
      "text/plain": "<sklearn.metrics._plot.confusion_matrix.ConfusionMatrixDisplay at 0x7fbc146fa9a0>"
     },
     "execution_count": 164,
     "metadata": {},
     "output_type": "execute_result"
    },
    {
     "data": {
      "text/plain": "<Figure size 432x288 with 2 Axes>",
      "image/png": "[encoded data removed]"
     },
     "metadata": {
      "needs_background": "light"
     },
     "output_type": "display_data"
    }
   ],
   "source": [
    "cm_test_random_forest_reg.plot()"
   ],
   "metadata": {
    "collapsed": false,
    "pycharm": {
     "name": "#%%\n"
    }
   }
  },
  {
   "cell_type": "markdown",
   "source": [
    "### KNN"
   ],
   "metadata": {
    "collapsed": false,
    "pycharm": {
     "name": "#%% md\n"
    }
   }
  },
  {
   "cell_type": "code",
   "execution_count": 175,
   "outputs": [
    {
     "data": {
      "text/plain": "KNeighborsRegressor()"
     },
     "execution_count": 175,
     "metadata": {},
     "output_type": "execute_result"
    }
   ],
   "source": [
    "knn = KNeighborsRegressor()\n",
    "knn.fit(X_train, y_train)"
   ],
   "metadata": {
    "collapsed": false,
    "pycharm": {
     "name": "#%%\n"
    }
   }
  },
  {
   "cell_type": "code",
   "execution_count": 176,
   "outputs": [
    {
     "data": {
      "text/plain": "0.43646502046715935"
     },
     "execution_count": 176,
     "metadata": {},
     "output_type": "execute_result"
    }
   ],
   "source": [
    "knn_forest_scores = cross_val_score(knn, X_test, y_test, cv=10)\n",
    "knn_forest_scores.mean()"
   ],
   "metadata": {
    "collapsed": false,
    "pycharm": {
     "name": "#%%\n"
    }
   }
  },
  {
   "cell_type": "code",
   "execution_count": 177,
   "outputs": [],
   "source": [
    "predictions_train_knn = knn.predict(np.array(X_train,dtype=np.float64)) > 0.5\n",
    "predictions_test_knn = knn.predict(np.array(X_test,dtype=np.float64)) > 0.5"
   ],
   "metadata": {
    "collapsed": false,
    "pycharm": {
     "name": "#%%\n"
    }
   }
  },
  {
   "cell_type": "code",
   "execution_count": 178,
   "outputs": [],
   "source": [
    "cm_train_knn = ConfusionMatrixDisplay(confusion_matrix(y_train, predictions_train_knn))\n",
    "cm_test_knn = ConfusionMatrixDisplay(confusion_matrix(y_test, predictions_test_knn))"
   ],
   "metadata": {
    "collapsed": false,
    "pycharm": {
     "name": "#%%\n"
    }
   }
  },
  {
   "cell_type": "code",
   "execution_count": 179,
   "outputs": [
    {
     "data": {
      "text/plain": "<sklearn.metrics._plot.confusion_matrix.ConfusionMatrixDisplay at 0x7fbca02f3820>"
     },
     "execution_count": 179,
     "metadata": {},
     "output_type": "execute_result"
    },
    {
     "data": {
      "text/plain": "<Figure size 432x288 with 2 Axes>",
      "image/png": "[encoded data removed]"
     },
     "metadata": {
      "needs_background": "light"
     },
     "output_type": "display_data"
    }
   ],
   "source": [
    "cm_train_knn.plot()"
   ],
   "metadata": {
    "collapsed": false,
    "pycharm": {
     "name": "#%%\n"
    }
   }
  },
  {
   "cell_type": "code",
   "execution_count": 180,
   "outputs": [
    {
     "data": {
      "text/plain": "<sklearn.metrics._plot.confusion_matrix.ConfusionMatrixDisplay at 0x7fbca028f340>"
     },
     "execution_count": 180,
     "metadata": {},
     "output_type": "execute_result"
    },
    {
     "data": {
      "text/plain": "<Figure size 432x288 with 2 Axes>",
      "image/png": "[encoded data removed]"
     },
     "metadata": {
      "needs_background": "light"
     },
     "output_type": "display_data"
    }
   ],
   "source": [
    "cm_test_knn.plot()"
   ],
   "metadata": {
    "collapsed": false,
    "pycharm": {
     "name": "#%%\n"
    }
   }
  },
  {
   "cell_type": "markdown",
   "source": [
    "### Gradient Boosting"
   ],
   "metadata": {
    "collapsed": false,
    "pycharm": {
     "name": "#%% md\n"
    }
   }
  },
  {
   "cell_type": "code",
   "execution_count": 181,
   "outputs": [
    {
     "data": {
      "text/plain": "GradientBoostingRegressor()"
     },
     "execution_count": 181,
     "metadata": {},
     "output_type": "execute_result"
    }
   ],
   "source": [
    "gradient_boosting = GradientBoostingRegressor()\n",
    "gradient_boosting.fit(X_train, y_train)"
   ],
   "metadata": {
    "collapsed": false,
    "pycharm": {
     "name": "#%%\n"
    }
   }
  },
  {
   "cell_type": "code",
   "execution_count": 183,
   "outputs": [
    {
     "data": {
      "text/plain": "0.7462468693076946"
     },
     "execution_count": 183,
     "metadata": {},
     "output_type": "execute_result"
    }
   ],
   "source": [
    "gradient_boosting_scores = cross_val_score(gradient_boosting, X_test, y_test, cv=3)\n",
    "gradient_boosting_scores.mean()"
   ],
   "metadata": {
    "collapsed": false,
    "pycharm": {
     "name": "#%%\n"
    }
   }
  },
  {
   "cell_type": "code",
   "execution_count": 184,
   "outputs": [],
   "source": [
    "predictions_train_gb = gradient_boosting.predict(np.array(X_train,dtype=np.float64)) > 0.5\n",
    "predictions_test_gb = gradient_boosting.predict(np.array(X_test,dtype=np.float64)) > 0.5"
   ],
   "metadata": {
    "collapsed": false,
    "pycharm": {
     "name": "#%%\n"
    }
   }
  },
  {
   "cell_type": "code",
   "execution_count": 186,
   "outputs": [],
   "source": [
    "cm_train_gb = ConfusionMatrixDisplay(confusion_matrix(y_train, predictions_train_gb))\n",
    "cm_test_gb = ConfusionMatrixDisplay(confusion_matrix(y_test, predictions_test_gb))"
   ],
   "metadata": {
    "collapsed": false,
    "pycharm": {
     "name": "#%%\n"
    }
   }
  },
  {
   "cell_type": "code",
   "execution_count": 187,
   "outputs": [
    {
     "data": {
      "text/plain": "<sklearn.metrics._plot.confusion_matrix.ConfusionMatrixDisplay at 0x7fbcb0106490>"
     },
     "execution_count": 187,
     "metadata": {},
     "output_type": "execute_result"
    },
    {
     "data": {
      "text/plain": "<Figure size 432x288 with 2 Axes>",
      "image/png": "[encoded data removed]"
     },
     "metadata": {
      "needs_background": "light"
     },
     "output_type": "display_data"
    }
   ],
   "source": [
    "cm_train_gb.plot()"
   ],
   "metadata": {
    "collapsed": false,
    "pycharm": {
     "name": "#%%\n"
    }
   }
  },
  {
   "cell_type": "code",
   "execution_count": 188,
   "outputs": [
    {
     "data": {
      "text/plain": "<sklearn.metrics._plot.confusion_matrix.ConfusionMatrixDisplay at 0x7fbca00fb5b0>"
     },
     "execution_count": 188,
     "metadata": {},
     "output_type": "execute_result"
    },
    {
     "data": {
      "text/plain": "<Figure size 432x288 with 2 Axes>",
      "image/png": "[encoded data removed]"
     },
     "metadata": {
      "needs_background": "light"
     },
     "output_type": "display_data"
    }
   ],
   "source": [
    "cm_test_gb.plot()"
   ],
   "metadata": {
    "collapsed": false,
    "pycharm": {
     "name": "#%%\n"
    }
   }
  },
  {
   "cell_type": "markdown",
   "source": [
    "### Sieć neuronowa"
   ],
   "metadata": {
    "collapsed": false,
    "pycharm": {
     "name": "#%% md\n"
    }
   }
  },
  {
   "cell_type": "code",
   "execution_count": 123,
   "outputs": [],
   "source": [
    "model = tf.keras.Sequential([\n",
    "    tf.keras.layers.Dense(128, activation='relu', input_dim=len(train_df.columns)-2),\n",
    "    tf.keras.layers.Dense(64, activation='relu'),\n",
    "    tf.keras.layers.Dense(32, activation='relu'),\n",
    "    tf.keras.layers.Dense(1, activation=\"sigmoid\")\n",
    "\n",
    "])"
   ],
   "metadata": {
    "collapsed": false,
    "pycharm": {
     "name": "#%%\n"
    }
   }
  },
  {
   "cell_type": "code",
   "execution_count": 124,
   "outputs": [
    {
     "name": "stdout",
     "output_type": "stream",
     "text": [
      "Model: \"sequential_2\"\n",
      "_________________________________________________________________\n",
      " Layer (type)                Output Shape              Param #   \n",
      "=================================================================\n",
      " dense_8 (Dense)             (None, 128)               4992      \n",
      "                                                                 \n",
      " dense_9 (Dense)             (None, 64)                8256      \n",
      "                                                                 \n",
      " dense_10 (Dense)            (None, 32)                2080      \n",
      "                                                                 \n",
      " dense_11 (Dense)            (None, 1)                 33        \n",
      "                                                                 \n",
      "=================================================================\n",
      "Total params: 15,361\n",
      "Trainable params: 15,361\n",
      "Non-trainable params: 0\n",
      "_________________________________________________________________\n"
     ]
    }
   ],
   "source": [
    "model.summary()"
   ],
   "metadata": {
    "collapsed": false,
    "pycharm": {
     "name": "#%%\n"
    }
   }
  },
  {
   "cell_type": "code",
   "execution_count": 125,
   "outputs": [],
   "source": [
    "model.compile(optimizer='adam',\n",
    "              loss=tf.keras.losses.BinaryCrossentropy(),\n",
    "              metrics=['accuracy'])"
   ],
   "metadata": {
    "collapsed": false,
    "pycharm": {
     "name": "#%%\n"
    }
   }
  },
  {
   "cell_type": "code",
   "execution_count": 126,
   "outputs": [
    {
     "name": "stdout",
     "output_type": "stream",
     "text": [
      "Epoch 1/200\n",
      "318/318 [==============================] - 0s 640us/step - loss: 5.6726 - accuracy: 0.5956\n",
      "Epoch 2/200\n",
      "318/318 [==============================] - 0s 610us/step - loss: 3.3968 - accuracy: 0.6333\n",
      "Epoch 3/200\n",
      "318/318 [==============================] - 0s 595us/step - loss: 1.8864 - accuracy: 0.6576\n",
      "Epoch 4/200\n",
      "318/318 [==============================] - 0s 574us/step - loss: 1.9149 - accuracy: 0.6570\n",
      "Epoch 5/200\n",
      "318/318 [==============================] - 0s 615us/step - loss: 1.0547 - accuracy: 0.6899\n",
      "Epoch 6/200\n",
      "318/318 [==============================] - 0s 650us/step - loss: 1.0613 - accuracy: 0.7021\n",
      "Epoch 7/200\n",
      "318/318 [==============================] - 0s 621us/step - loss: 0.8272 - accuracy: 0.6978\n",
      "Epoch 8/200\n",
      "318/318 [==============================] - 0s 586us/step - loss: 0.6603 - accuracy: 0.7185\n",
      "Epoch 9/200\n",
      "318/318 [==============================] - 0s 591us/step - loss: 0.7079 - accuracy: 0.7080\n",
      "Epoch 10/200\n",
      "318/318 [==============================] - 0s 577us/step - loss: 0.6202 - accuracy: 0.7148\n",
      "Epoch 11/200\n",
      "318/318 [==============================] - 0s 601us/step - loss: 0.5339 - accuracy: 0.7268\n",
      "Epoch 12/200\n",
      "318/318 [==============================] - 0s 597us/step - loss: 0.5941 - accuracy: 0.7275\n",
      "Epoch 13/200\n",
      "318/318 [==============================] - 0s 625us/step - loss: 0.5302 - accuracy: 0.7318\n",
      "Epoch 14/200\n",
      "318/318 [==============================] - 0s 634us/step - loss: 0.5771 - accuracy: 0.7392\n",
      "Epoch 15/200\n",
      "318/318 [==============================] - 0s 590us/step - loss: 0.4734 - accuracy: 0.7319\n",
      "Epoch 16/200\n",
      "318/318 [==============================] - 0s 634us/step - loss: 0.5183 - accuracy: 0.7343\n",
      "Epoch 17/200\n",
      "318/318 [==============================] - 0s 649us/step - loss: 0.4287 - accuracy: 0.7607\n",
      "Epoch 18/200\n",
      "318/318 [==============================] - 0s 599us/step - loss: 0.4268 - accuracy: 0.7657\n",
      "Epoch 19/200\n",
      "318/318 [==============================] - 0s 588us/step - loss: 0.4410 - accuracy: 0.7659\n",
      "Epoch 20/200\n",
      "318/318 [==============================] - 0s 585us/step - loss: 0.4158 - accuracy: 0.7617\n",
      "Epoch 21/200\n",
      "318/318 [==============================] - 0s 626us/step - loss: 0.4105 - accuracy: 0.7739\n",
      "Epoch 22/200\n",
      "318/318 [==============================] - 0s 605us/step - loss: 0.4023 - accuracy: 0.7815\n",
      "Epoch 23/200\n",
      "318/318 [==============================] - 0s 609us/step - loss: 0.3747 - accuracy: 0.7857\n",
      "Epoch 24/200\n",
      "318/318 [==============================] - 0s 597us/step - loss: 0.3514 - accuracy: 0.8016\n",
      "Epoch 25/200\n",
      "318/318 [==============================] - 0s 592us/step - loss: 0.3444 - accuracy: 0.8060\n",
      "Epoch 26/200\n",
      "318/318 [==============================] - 0s 593us/step - loss: 0.3322 - accuracy: 0.8106\n",
      "Epoch 27/200\n",
      "318/318 [==============================] - 0s 576us/step - loss: 0.4196 - accuracy: 0.7817\n",
      "Epoch 28/200\n",
      "318/318 [==============================] - 0s 607us/step - loss: 0.3893 - accuracy: 0.7854\n",
      "Epoch 29/200\n",
      "318/318 [==============================] - 0s 589us/step - loss: 0.3276 - accuracy: 0.8132\n",
      "Epoch 30/200\n",
      "318/318 [==============================] - 0s 587us/step - loss: 0.3133 - accuracy: 0.8148\n",
      "Epoch 31/200\n",
      "318/318 [==============================] - 0s 607us/step - loss: 0.3255 - accuracy: 0.8089\n",
      "Epoch 32/200\n",
      "318/318 [==============================] - 0s 618us/step - loss: 0.3684 - accuracy: 0.8027\n",
      "Epoch 33/200\n",
      "318/318 [==============================] - 0s 614us/step - loss: 0.3549 - accuracy: 0.8268\n",
      "Epoch 34/200\n",
      "318/318 [==============================] - 0s 617us/step - loss: 0.3224 - accuracy: 0.8245\n",
      "Epoch 35/200\n",
      "318/318 [==============================] - 0s 602us/step - loss: 0.2812 - accuracy: 0.8507\n",
      "Epoch 36/200\n",
      "318/318 [==============================] - 0s 613us/step - loss: 0.2621 - accuracy: 0.8595\n",
      "Epoch 37/200\n",
      "318/318 [==============================] - 0s 613us/step - loss: 0.2906 - accuracy: 0.8313\n",
      "Epoch 38/200\n",
      "318/318 [==============================] - 0s 595us/step - loss: 0.2905 - accuracy: 0.8323\n",
      "Epoch 39/200\n",
      "318/318 [==============================] - 0s 605us/step - loss: 0.2859 - accuracy: 0.8342\n",
      "Epoch 40/200\n",
      "318/318 [==============================] - 0s 641us/step - loss: 0.4405 - accuracy: 0.7984\n",
      "Epoch 41/200\n",
      "318/318 [==============================] - 0s 591us/step - loss: 0.3014 - accuracy: 0.8291\n",
      "Epoch 42/200\n",
      "318/318 [==============================] - 0s 622us/step - loss: 0.2613 - accuracy: 0.8419\n",
      "Epoch 43/200\n",
      "318/318 [==============================] - 0s 615us/step - loss: 0.2307 - accuracy: 0.8571\n",
      "Epoch 44/200\n",
      "318/318 [==============================] - 0s 600us/step - loss: 0.2826 - accuracy: 0.8445\n",
      "Epoch 45/200\n",
      "318/318 [==============================] - 0s 589us/step - loss: 0.2825 - accuracy: 0.8415\n",
      "Epoch 46/200\n",
      "318/318 [==============================] - 0s 622us/step - loss: 0.2691 - accuracy: 0.8475\n",
      "Epoch 47/200\n",
      "318/318 [==============================] - 0s 593us/step - loss: 0.2354 - accuracy: 0.8586\n",
      "Epoch 48/200\n",
      "318/318 [==============================] - 0s 656us/step - loss: 0.2458 - accuracy: 0.8587\n",
      "Epoch 49/200\n",
      "318/318 [==============================] - 0s 606us/step - loss: 0.2463 - accuracy: 0.8573\n",
      "Epoch 50/200\n",
      "318/318 [==============================] - 0s 630us/step - loss: 0.2361 - accuracy: 0.8659\n",
      "Epoch 51/200\n",
      "318/318 [==============================] - 0s 647us/step - loss: 0.2242 - accuracy: 0.8613\n",
      "Epoch 52/200\n",
      "318/318 [==============================] - 0s 572us/step - loss: 0.2420 - accuracy: 0.8555\n",
      "Epoch 53/200\n",
      "318/318 [==============================] - 0s 599us/step - loss: 0.2221 - accuracy: 0.8671\n",
      "Epoch 54/200\n",
      "318/318 [==============================] - 0s 592us/step - loss: 0.2255 - accuracy: 0.8563\n",
      "Epoch 55/200\n",
      "318/318 [==============================] - 0s 594us/step - loss: 0.2373 - accuracy: 0.8669\n",
      "Epoch 56/200\n",
      "318/318 [==============================] - 0s 625us/step - loss: 0.3151 - accuracy: 0.8406\n",
      "Epoch 57/200\n",
      "318/318 [==============================] - 0s 626us/step - loss: 0.2050 - accuracy: 0.8786\n",
      "Epoch 58/200\n",
      "318/318 [==============================] - 0s 627us/step - loss: 0.2249 - accuracy: 0.8779\n",
      "Epoch 59/200\n",
      "318/318 [==============================] - 0s 608us/step - loss: 0.2369 - accuracy: 0.8682\n",
      "Epoch 60/200\n",
      "318/318 [==============================] - 0s 611us/step - loss: 0.2582 - accuracy: 0.8573\n",
      "Epoch 61/200\n",
      "318/318 [==============================] - 0s 621us/step - loss: 0.2107 - accuracy: 0.8706\n",
      "Epoch 62/200\n",
      "318/318 [==============================] - 0s 588us/step - loss: 0.1976 - accuracy: 0.8834\n",
      "Epoch 63/200\n",
      "318/318 [==============================] - 0s 584us/step - loss: 0.2381 - accuracy: 0.8695\n",
      "Epoch 64/200\n",
      "318/318 [==============================] - 0s 599us/step - loss: 0.1965 - accuracy: 0.8750\n",
      "Epoch 65/200\n",
      "318/318 [==============================] - 0s 619us/step - loss: 0.2182 - accuracy: 0.8761\n",
      "Epoch 66/200\n",
      "318/318 [==============================] - 0s 598us/step - loss: 0.2149 - accuracy: 0.8672\n",
      "Epoch 67/200\n",
      "318/318 [==============================] - 0s 592us/step - loss: 0.2459 - accuracy: 0.8619\n",
      "Epoch 68/200\n",
      "318/318 [==============================] - 0s 647us/step - loss: 0.2580 - accuracy: 0.8705\n",
      "Epoch 69/200\n",
      "318/318 [==============================] - 0s 617us/step - loss: 0.2034 - accuracy: 0.8857\n",
      "Epoch 70/200\n",
      "318/318 [==============================] - 0s 614us/step - loss: 0.2083 - accuracy: 0.8773\n",
      "Epoch 71/200\n",
      "318/318 [==============================] - 0s 612us/step - loss: 0.2863 - accuracy: 0.8704\n",
      "Epoch 72/200\n",
      "318/318 [==============================] - 0s 613us/step - loss: 0.2029 - accuracy: 0.8903\n",
      "Epoch 73/200\n",
      "318/318 [==============================] - 0s 596us/step - loss: 0.1802 - accuracy: 0.8932\n",
      "Epoch 74/200\n",
      "318/318 [==============================] - 0s 618us/step - loss: 0.1948 - accuracy: 0.8847\n",
      "Epoch 75/200\n",
      "318/318 [==============================] - 0s 584us/step - loss: 0.2087 - accuracy: 0.8806\n",
      "Epoch 76/200\n",
      "318/318 [==============================] - 0s 647us/step - loss: 0.1852 - accuracy: 0.8987\n",
      "Epoch 77/200\n",
      "318/318 [==============================] - 0s 610us/step - loss: 0.1922 - accuracy: 0.8924\n",
      "Epoch 78/200\n",
      "318/318 [==============================] - 0s 648us/step - loss: 0.2057 - accuracy: 0.8794\n",
      "Epoch 79/200\n",
      "318/318 [==============================] - 0s 630us/step - loss: 0.1854 - accuracy: 0.8897\n",
      "Epoch 80/200\n",
      "318/318 [==============================] - 0s 602us/step - loss: 0.2620 - accuracy: 0.8664\n",
      "Epoch 81/200\n",
      "318/318 [==============================] - 0s 652us/step - loss: 0.2074 - accuracy: 0.8881\n",
      "Epoch 82/200\n",
      "318/318 [==============================] - 0s 611us/step - loss: 0.1990 - accuracy: 0.8953\n",
      "Epoch 83/200\n",
      "318/318 [==============================] - 0s 594us/step - loss: 0.1911 - accuracy: 0.8887\n",
      "Epoch 84/200\n",
      "318/318 [==============================] - 0s 630us/step - loss: 0.1827 - accuracy: 0.8910\n",
      "Epoch 85/200\n",
      "318/318 [==============================] - 0s 596us/step - loss: 0.2648 - accuracy: 0.8768\n",
      "Epoch 86/200\n",
      "318/318 [==============================] - 0s 621us/step - loss: 0.1856 - accuracy: 0.8906\n",
      "Epoch 87/200\n",
      "318/318 [==============================] - 0s 613us/step - loss: 0.1913 - accuracy: 0.8868\n",
      "Epoch 88/200\n",
      "318/318 [==============================] - 0s 607us/step - loss: 0.2090 - accuracy: 0.8753\n",
      "Epoch 89/200\n",
      "318/318 [==============================] - 0s 614us/step - loss: 0.1777 - accuracy: 0.8852\n",
      "Epoch 90/200\n",
      "318/318 [==============================] - 0s 609us/step - loss: 0.1833 - accuracy: 0.8866\n",
      "Epoch 91/200\n",
      "318/318 [==============================] - 0s 610us/step - loss: 0.1797 - accuracy: 0.8879\n",
      "Epoch 92/200\n",
      "318/318 [==============================] - 0s 602us/step - loss: 0.2398 - accuracy: 0.8773\n",
      "Epoch 93/200\n",
      "318/318 [==============================] - 0s 627us/step - loss: 0.1880 - accuracy: 0.9070\n",
      "Epoch 94/200\n",
      "318/318 [==============================] - 0s 644us/step - loss: 0.1624 - accuracy: 0.9093\n",
      "Epoch 95/200\n",
      "318/318 [==============================] - 0s 596us/step - loss: 0.1753 - accuracy: 0.9086\n",
      "Epoch 96/200\n",
      "318/318 [==============================] - 0s 624us/step - loss: 0.1635 - accuracy: 0.9083\n",
      "Epoch 97/200\n",
      "318/318 [==============================] - 0s 617us/step - loss: 0.2039 - accuracy: 0.8862\n",
      "Epoch 98/200\n",
      "318/318 [==============================] - 0s 612us/step - loss: 0.1845 - accuracy: 0.8966\n",
      "Epoch 99/200\n",
      "318/318 [==============================] - 0s 617us/step - loss: 0.1855 - accuracy: 0.8935\n",
      "Epoch 100/200\n",
      "318/318 [==============================] - 0s 616us/step - loss: 0.1724 - accuracy: 0.9075\n",
      "Epoch 101/200\n",
      "318/318 [==============================] - 0s 608us/step - loss: 0.1562 - accuracy: 0.9212\n",
      "Epoch 102/200\n",
      "318/318 [==============================] - 0s 592us/step - loss: 0.1934 - accuracy: 0.8970\n",
      "Epoch 103/200\n",
      "318/318 [==============================] - 0s 608us/step - loss: 0.1757 - accuracy: 0.9098\n",
      "Epoch 104/200\n",
      "318/318 [==============================] - 0s 615us/step - loss: 0.2182 - accuracy: 0.8891\n",
      "Epoch 105/200\n",
      "318/318 [==============================] - 0s 597us/step - loss: 0.1680 - accuracy: 0.9070\n",
      "Epoch 106/200\n",
      "318/318 [==============================] - 0s 603us/step - loss: 0.1814 - accuracy: 0.9134\n",
      "Epoch 107/200\n",
      "318/318 [==============================] - 0s 611us/step - loss: 0.1635 - accuracy: 0.9166\n",
      "Epoch 108/200\n",
      "318/318 [==============================] - 0s 639us/step - loss: 0.1414 - accuracy: 0.9252\n",
      "Epoch 109/200\n",
      "318/318 [==============================] - 0s 649us/step - loss: 0.1634 - accuracy: 0.9125\n",
      "Epoch 110/200\n",
      "318/318 [==============================] - 0s 607us/step - loss: 0.1335 - accuracy: 0.9309\n",
      "Epoch 111/200\n",
      "318/318 [==============================] - 0s 625us/step - loss: 0.1348 - accuracy: 0.9370\n",
      "Epoch 112/200\n",
      "318/318 [==============================] - 0s 620us/step - loss: 0.1620 - accuracy: 0.9030\n",
      "Epoch 113/200\n",
      "318/318 [==============================] - 0s 625us/step - loss: 0.1775 - accuracy: 0.8969\n",
      "Epoch 114/200\n",
      "318/318 [==============================] - 0s 633us/step - loss: 0.2049 - accuracy: 0.8933\n",
      "Epoch 115/200\n",
      "318/318 [==============================] - 0s 613us/step - loss: 0.1805 - accuracy: 0.9072\n",
      "Epoch 116/200\n",
      "318/318 [==============================] - 0s 617us/step - loss: 0.1526 - accuracy: 0.9285\n",
      "Epoch 117/200\n",
      "318/318 [==============================] - 0s 634us/step - loss: 0.1755 - accuracy: 0.8970\n",
      "Epoch 118/200\n",
      "318/318 [==============================] - 0s 600us/step - loss: 0.1750 - accuracy: 0.9014\n",
      "Epoch 119/200\n",
      "318/318 [==============================] - 0s 619us/step - loss: 0.1310 - accuracy: 0.9342\n",
      "Epoch 120/200\n",
      "318/318 [==============================] - 0s 609us/step - loss: 0.1296 - accuracy: 0.9336\n",
      "Epoch 121/200\n",
      "318/318 [==============================] - 0s 607us/step - loss: 0.1598 - accuracy: 0.9097\n",
      "Epoch 122/200\n",
      "318/318 [==============================] - 0s 625us/step - loss: 0.1686 - accuracy: 0.9090\n",
      "Epoch 123/200\n",
      "318/318 [==============================] - 0s 610us/step - loss: 0.1603 - accuracy: 0.9147\n",
      "Epoch 124/200\n",
      "318/318 [==============================] - 0s 590us/step - loss: 0.1740 - accuracy: 0.9131\n",
      "Epoch 125/200\n",
      "318/318 [==============================] - 0s 610us/step - loss: 0.1610 - accuracy: 0.9127\n",
      "Epoch 126/200\n",
      "318/318 [==============================] - 0s 640us/step - loss: 0.1469 - accuracy: 0.9158\n",
      "Epoch 127/200\n",
      "318/318 [==============================] - 0s 611us/step - loss: 0.1764 - accuracy: 0.9080\n",
      "Epoch 128/200\n",
      "318/318 [==============================] - 0s 582us/step - loss: 0.1814 - accuracy: 0.8950\n",
      "Epoch 129/200\n",
      "318/318 [==============================] - 0s 592us/step - loss: 0.1445 - accuracy: 0.9252\n",
      "Epoch 130/200\n",
      "318/318 [==============================] - 0s 587us/step - loss: 0.1471 - accuracy: 0.9233\n",
      "Epoch 131/200\n",
      "318/318 [==============================] - 0s 597us/step - loss: 0.1300 - accuracy: 0.9361\n",
      "Epoch 132/200\n",
      "318/318 [==============================] - 0s 627us/step - loss: 0.1807 - accuracy: 0.9135\n",
      "Epoch 133/200\n",
      "318/318 [==============================] - 0s 592us/step - loss: 0.1615 - accuracy: 0.9077\n",
      "Epoch 134/200\n",
      "318/318 [==============================] - 0s 587us/step - loss: 0.1610 - accuracy: 0.9189\n",
      "Epoch 135/200\n",
      "318/318 [==============================] - 0s 637us/step - loss: 0.1789 - accuracy: 0.9155\n",
      "Epoch 136/200\n",
      "318/318 [==============================] - 0s 625us/step - loss: 0.1621 - accuracy: 0.9074\n",
      "Epoch 137/200\n",
      "318/318 [==============================] - 0s 617us/step - loss: 0.1503 - accuracy: 0.9157\n",
      "Epoch 138/200\n",
      "318/318 [==============================] - 0s 605us/step - loss: 0.1559 - accuracy: 0.9270\n",
      "Epoch 139/200\n",
      "318/318 [==============================] - 0s 620us/step - loss: 0.1829 - accuracy: 0.8794\n",
      "Epoch 140/200\n",
      "318/318 [==============================] - 0s 632us/step - loss: 0.1526 - accuracy: 0.9179\n",
      "Epoch 141/200\n",
      "318/318 [==============================] - 0s 671us/step - loss: 0.1401 - accuracy: 0.9318\n",
      "Epoch 142/200\n",
      "318/318 [==============================] - 0s 610us/step - loss: 0.1323 - accuracy: 0.9362\n",
      "Epoch 143/200\n",
      "318/318 [==============================] - 0s 628us/step - loss: 0.1462 - accuracy: 0.9243\n",
      "Epoch 144/200\n",
      "318/318 [==============================] - 0s 618us/step - loss: 0.1068 - accuracy: 0.9471\n",
      "Epoch 145/200\n",
      "318/318 [==============================] - 0s 602us/step - loss: 0.1424 - accuracy: 0.9281\n",
      "Epoch 146/200\n",
      "318/318 [==============================] - 0s 622us/step - loss: 0.1424 - accuracy: 0.9312\n",
      "Epoch 147/200\n",
      "318/318 [==============================] - 0s 614us/step - loss: 0.1928 - accuracy: 0.8994\n",
      "Epoch 148/200\n",
      "318/318 [==============================] - 0s 624us/step - loss: 0.1998 - accuracy: 0.8927\n",
      "Epoch 149/200\n",
      "318/318 [==============================] - 0s 619us/step - loss: 0.1327 - accuracy: 0.9252\n",
      "Epoch 150/200\n",
      "318/318 [==============================] - 0s 604us/step - loss: 0.1687 - accuracy: 0.9115\n",
      "Epoch 151/200\n",
      "318/318 [==============================] - 0s 623us/step - loss: 0.1444 - accuracy: 0.9263\n",
      "Epoch 152/200\n",
      "318/318 [==============================] - 0s 596us/step - loss: 0.1214 - accuracy: 0.9358\n",
      "Epoch 153/200\n",
      "318/318 [==============================] - 0s 617us/step - loss: 0.1379 - accuracy: 0.9401\n",
      "Epoch 154/200\n",
      "318/318 [==============================] - 0s 619us/step - loss: 0.1824 - accuracy: 0.8978\n",
      "Epoch 155/200\n",
      "318/318 [==============================] - 0s 610us/step - loss: 0.1065 - accuracy: 0.9486\n",
      "Epoch 156/200\n",
      "318/318 [==============================] - 0s 590us/step - loss: 0.1876 - accuracy: 0.9038\n",
      "Epoch 157/200\n",
      "318/318 [==============================] - 0s 615us/step - loss: 0.1671 - accuracy: 0.8951\n",
      "Epoch 158/200\n",
      "318/318 [==============================] - 0s 603us/step - loss: 0.1613 - accuracy: 0.9084\n",
      "Epoch 159/200\n",
      "318/318 [==============================] - 0s 609us/step - loss: 0.1535 - accuracy: 0.9148\n",
      "Epoch 160/200\n",
      "318/318 [==============================] - 0s 649us/step - loss: 0.1534 - accuracy: 0.9184\n",
      "Epoch 161/200\n",
      "318/318 [==============================] - 0s 611us/step - loss: 0.1586 - accuracy: 0.9073\n",
      "Epoch 162/200\n",
      "318/318 [==============================] - 0s 604us/step - loss: 0.1320 - accuracy: 0.9239\n",
      "Epoch 163/200\n",
      "318/318 [==============================] - 0s 598us/step - loss: 0.1312 - accuracy: 0.9343\n",
      "Epoch 164/200\n",
      "318/318 [==============================] - 0s 632us/step - loss: 0.1330 - accuracy: 0.9264\n",
      "Epoch 165/200\n",
      "318/318 [==============================] - 0s 616us/step - loss: 0.1836 - accuracy: 0.9033\n",
      "Epoch 166/200\n",
      "318/318 [==============================] - 0s 587us/step - loss: 0.1511 - accuracy: 0.9096\n",
      "Epoch 167/200\n",
      "318/318 [==============================] - 0s 585us/step - loss: 0.1722 - accuracy: 0.9025\n",
      "Epoch 168/200\n",
      "318/318 [==============================] - 0s 603us/step - loss: 0.1466 - accuracy: 0.9203\n",
      "Epoch 169/200\n",
      "318/318 [==============================] - 0s 662us/step - loss: 0.1416 - accuracy: 0.9185\n",
      "Epoch 170/200\n",
      "318/318 [==============================] - 0s 597us/step - loss: 0.1082 - accuracy: 0.9468\n",
      "Epoch 171/200\n",
      "318/318 [==============================] - 0s 609us/step - loss: 0.2085 - accuracy: 0.8857\n",
      "Epoch 172/200\n",
      "318/318 [==============================] - 0s 580us/step - loss: 0.1505 - accuracy: 0.9172\n",
      "Epoch 173/200\n",
      "318/318 [==============================] - 0s 618us/step - loss: 0.1526 - accuracy: 0.9168\n",
      "Epoch 174/200\n",
      "318/318 [==============================] - 0s 644us/step - loss: 0.1568 - accuracy: 0.9131\n",
      "Epoch 175/200\n",
      "318/318 [==============================] - 0s 612us/step - loss: 0.1541 - accuracy: 0.9091\n",
      "Epoch 176/200\n",
      "318/318 [==============================] - 0s 613us/step - loss: 0.1191 - accuracy: 0.9352\n",
      "Epoch 177/200\n",
      "318/318 [==============================] - 0s 579us/step - loss: 0.1769 - accuracy: 0.9041\n",
      "Epoch 178/200\n",
      "318/318 [==============================] - 0s 589us/step - loss: 0.2214 - accuracy: 0.8830\n",
      "Epoch 179/200\n",
      "318/318 [==============================] - 0s 627us/step - loss: 0.1574 - accuracy: 0.9142\n",
      "Epoch 180/200\n",
      "318/318 [==============================] - 0s 590us/step - loss: 0.1748 - accuracy: 0.9104\n",
      "Epoch 181/200\n",
      "318/318 [==============================] - 0s 589us/step - loss: 0.1406 - accuracy: 0.9284\n",
      "Epoch 182/200\n",
      "318/318 [==============================] - 0s 594us/step - loss: 0.1074 - accuracy: 0.9465\n",
      "Epoch 183/200\n",
      "318/318 [==============================] - 0s 586us/step - loss: 0.1082 - accuracy: 0.9475\n",
      "Epoch 184/200\n",
      "318/318 [==============================] - 0s 599us/step - loss: 0.1301 - accuracy: 0.9311\n",
      "Epoch 185/200\n",
      "318/318 [==============================] - 0s 616us/step - loss: 0.1215 - accuracy: 0.9390\n",
      "Epoch 186/200\n",
      "318/318 [==============================] - 0s 625us/step - loss: 0.1066 - accuracy: 0.9481\n",
      "Epoch 187/200\n",
      "318/318 [==============================] - 0s 610us/step - loss: 0.0818 - accuracy: 0.9606\n",
      "Epoch 188/200\n",
      "318/318 [==============================] - 0s 592us/step - loss: 0.1851 - accuracy: 0.9161\n",
      "Epoch 189/200\n",
      "318/318 [==============================] - 0s 583us/step - loss: 0.1014 - accuracy: 0.9574\n",
      "Epoch 190/200\n",
      "318/318 [==============================] - 0s 603us/step - loss: 0.1082 - accuracy: 0.9460\n",
      "Epoch 191/200\n",
      "318/318 [==============================] - 0s 613us/step - loss: 0.1238 - accuracy: 0.9465\n",
      "Epoch 192/200\n",
      "318/318 [==============================] - 0s 592us/step - loss: 0.1252 - accuracy: 0.9396\n",
      "Epoch 193/200\n",
      "318/318 [==============================] - 0s 634us/step - loss: 0.1811 - accuracy: 0.9047\n",
      "Epoch 194/200\n",
      "318/318 [==============================] - 0s 628us/step - loss: 0.1629 - accuracy: 0.9303\n",
      "Epoch 195/200\n",
      "318/318 [==============================] - 0s 614us/step - loss: 0.1177 - accuracy: 0.9420\n",
      "Epoch 196/200\n",
      "318/318 [==============================] - 0s 630us/step - loss: 0.1142 - accuracy: 0.9403\n",
      "Epoch 197/200\n",
      "318/318 [==============================] - 0s 615us/step - loss: 0.1795 - accuracy: 0.9206\n",
      "Epoch 198/200\n",
      "318/318 [==============================] - 0s 622us/step - loss: 0.2789 - accuracy: 0.8459\n",
      "Epoch 199/200\n",
      "318/318 [==============================] - 0s 575us/step - loss: 0.1447 - accuracy: 0.9255\n",
      "Epoch 200/200\n",
      "318/318 [==============================] - 0s 596us/step - loss: 0.1276 - accuracy: 0.9366\n"
     ]
    },
    {
     "data": {
      "text/plain": "<keras.callbacks.History at 0x7fbc34351f40>"
     },
     "execution_count": 126,
     "metadata": {},
     "output_type": "execute_result"
    }
   ],
   "source": [
    "model.fit(np.array(X_train, dtype=np.float64), np.array(y_train,dtype=np.float64), epochs=200)"
   ],
   "metadata": {
    "collapsed": false,
    "pycharm": {
     "name": "#%%\n"
    }
   }
  },
  {
   "cell_type": "code",
   "execution_count": 189,
   "outputs": [],
   "source": [
    "predictions_train_nn = model.predict(np.array(X_train,dtype=np.float64)) > 0.5"
   ],
   "metadata": {
    "collapsed": false,
    "pycharm": {
     "name": "#%%\n"
    }
   }
  },
  {
   "cell_type": "code",
   "execution_count": 190,
   "outputs": [],
   "source": [
    "predictions_test_nn = model.predict(np.array(X_test,dtype=np.float64)) > 0.5"
   ],
   "metadata": {
    "collapsed": false,
    "pycharm": {
     "name": "#%%\n"
    }
   }
  },
  {
   "cell_type": "code",
   "execution_count": 191,
   "outputs": [],
   "source": [
    "cm_test_nn = ConfusionMatrixDisplay(confusion_matrix(y_test, predictions_test_nn))\n",
    "cm_train_nn = ConfusionMatrixDisplay(confusion_matrix(y_train, predictions_train_nn))"
   ],
   "metadata": {
    "collapsed": false,
    "pycharm": {
     "name": "#%%\n"
    }
   }
  },
  {
   "cell_type": "code",
   "execution_count": 192,
   "outputs": [
    {
     "data": {
      "text/plain": "<sklearn.metrics._plot.confusion_matrix.ConfusionMatrixDisplay at 0x7fbc346ce850>"
     },
     "execution_count": 192,
     "metadata": {},
     "output_type": "execute_result"
    },
    {
     "data": {
      "text/plain": "<Figure size 432x288 with 2 Axes>",
      "image/png": "[encoded data removed]"
     },
     "metadata": {
      "needs_background": "light"
     },
     "output_type": "display_data"
    }
   ],
   "source": [
    "cm_train_nn.plot()"
   ],
   "metadata": {
    "collapsed": false,
    "pycharm": {
     "name": "#%%\n"
    }
   }
  },
  {
   "cell_type": "code",
   "execution_count": 193,
   "outputs": [
    {
     "data": {
      "text/plain": "<sklearn.metrics._plot.confusion_matrix.ConfusionMatrixDisplay at 0x7fbcb00d1670>"
     },
     "execution_count": 193,
     "metadata": {},
     "output_type": "execute_result"
    },
    {
     "data": {
      "text/plain": "<Figure size 432x288 with 2 Axes>",
      "image/png": "[encoded data removed]"
     },
     "metadata": {
      "needs_background": "light"
     },
     "output_type": "display_data"
    }
   ],
   "source": [
    "cm_test_nn.plot()"
   ],
   "metadata": {
    "collapsed": false,
    "pycharm": {
     "name": "#%%\n"
    }
   }
  },
  {
   "cell_type": "markdown",
   "source": [
    "## Wnioski:\n",
    "Wybraliśmy las losowy ze względu na bardzo szybki trening i bardzo dobre wyniki oraz sieć neuronową."
   ],
   "metadata": {
    "collapsed": false,
    "pycharm": {
     "name": "#%% md\n"
    }
   }
  }
 ],
 "metadata": {
  "kernelspec": {
   "display_name": "Python 3",
   "language": "python",
   "name": "python3"
  },
  "language_info": {
   "codemirror_mode": {
    "name": "ipython",
    "version": 2
   },
   "file_extension": ".py",
   "mimetype": "text/x-python",
   "name": "python",
   "nbconvert_exporter": "python",
   "pygments_lexer": "ipython2",
   "version": "2.7.6"
  }
 },
 "nbformat": 4,
 "nbformat_minor": 0
}