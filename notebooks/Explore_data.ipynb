{
 "cells": [
  {
   "cell_type": "code",
   "execution_count": 1,
   "id": "065b933a",
   "metadata": {
    "ExecuteTime": {
     "end_time": "2021-10-28T20:16:19.386105Z",
     "start_time": "2021-10-28T20:16:19.339068Z"
    }
   },
   "outputs": [],
   "source": [
    "# Adding autoreload will let you edit your package and see the changes without restarting the notebook.\n",
    "\n",
    "%load_ext autoreload\n",
    "\n",
    "%autoreload 2"
   ]
  },
  {
   "cell_type": "code",
   "execution_count": 2,
   "id": "06d04a0b",
   "metadata": {
    "ExecuteTime": {
     "end_time": "2021-10-28T20:16:20.449959Z",
     "start_time": "2021-10-28T20:16:19.984730Z"
    }
   },
   "outputs": [],
   "source": [
    "import pandas as pd"
   ]
  },
  {
   "cell_type": "code",
   "execution_count": 3,
   "id": "82e79ba9",
   "metadata": {
    "ExecuteTime": {
     "end_time": "2021-10-28T20:16:20.686738Z",
     "start_time": "2021-10-28T20:16:20.450938Z"
    }
   },
   "outputs": [],
   "source": [
    "df_sessions = pd.read_json(path_or_buf='../data/raw/sessions.jsonl', lines=True)\n",
    "df_delivers = pd.read_json(path_or_buf='../data/raw/deliveries.jsonl', lines=True)\n",
    "df_products = pd.read_json(path_or_buf='../data/raw/products.jsonl', lines=True)\n",
    "df_users = pd.read_json(path_or_buf='../data/raw/users.jsonl', lines=True)"
   ]
  },
  {
   "cell_type": "code",
   "execution_count": 4,
   "id": "dc1feb76",
   "metadata": {
    "ExecuteTime": {
     "end_time": "2021-10-28T20:16:20.907411Z",
     "start_time": "2021-10-28T20:16:20.827379Z"
    }
   },
   "outputs": [
    {
     "data": {
      "text/plain": "   session_id           timestamp  user_id  product_id    event_type  \\\n0         124 2021-07-28 15:47:21      102        1283  VIEW_PRODUCT   \n1         124 2021-07-28 15:47:40      102        1283   BUY_PRODUCT   \n2         125 2021-09-12 16:43:16      102        1076  VIEW_PRODUCT   \n3         125 2021-09-12 16:46:24      102        1080  VIEW_PRODUCT   \n4         125 2021-09-12 16:48:08      102        1079  VIEW_PRODUCT   \n\n   offered_discount  purchase_id  \n0                 5          NaN  \n1                 5      20001.0  \n2                 0          NaN  \n3                 0          NaN  \n4                 0          NaN  ",
      "text/html": "<div>\n<style scoped>\n    .dataframe tbody tr th:only-of-type {\n        vertical-align: middle;\n    }\n\n    .dataframe tbody tr th {\n        vertical-align: top;\n    }\n\n    .dataframe thead th {\n        text-align: right;\n    }\n</style>\n<table border=\"1\" class=\"dataframe\">\n  <thead>\n    <tr style=\"text-align: right;\">\n      <th></th>\n      <th>session_id</th>\n      <th>timestamp</th>\n      <th>user_id</th>\n      <th>product_id</th>\n      <th>event_type</th>\n      <th>offered_discount</th>\n      <th>purchase_id</th>\n    </tr>\n  </thead>\n  <tbody>\n    <tr>\n      <th>0</th>\n      <td>124</td>\n      <td>2021-07-28 15:47:21</td>\n      <td>102</td>\n      <td>1283</td>\n      <td>VIEW_PRODUCT</td>\n      <td>5</td>\n      <td>NaN</td>\n    </tr>\n    <tr>\n      <th>1</th>\n      <td>124</td>\n      <td>2021-07-28 15:47:40</td>\n      <td>102</td>\n      <td>1283</td>\n      <td>BUY_PRODUCT</td>\n      <td>5</td>\n      <td>20001.0</td>\n    </tr>\n    <tr>\n      <th>2</th>\n      <td>125</td>\n      <td>2021-09-12 16:43:16</td>\n      <td>102</td>\n      <td>1076</td>\n      <td>VIEW_PRODUCT</td>\n      <td>0</td>\n      <td>NaN</td>\n    </tr>\n    <tr>\n      <th>3</th>\n      <td>125</td>\n      <td>2021-09-12 16:46:24</td>\n      <td>102</td>\n      <td>1080</td>\n      <td>VIEW_PRODUCT</td>\n      <td>0</td>\n      <td>NaN</td>\n    </tr>\n    <tr>\n      <th>4</th>\n      <td>125</td>\n      <td>2021-09-12 16:48:08</td>\n      <td>102</td>\n      <td>1079</td>\n      <td>VIEW_PRODUCT</td>\n      <td>0</td>\n      <td>NaN</td>\n    </tr>\n  </tbody>\n</table>\n</div>"
     },
     "execution_count": 4,
     "metadata": {},
     "output_type": "execute_result"
    }
   ],
   "source": [
    "df_sessions.head()"
   ]
  },
  {
   "cell_type": "code",
   "execution_count": 5,
   "outputs": [
    {
     "data": {
      "text/plain": "array(['VIEW_PRODUCT', 'BUY_PRODUCT'], dtype=object)"
     },
     "execution_count": 5,
     "metadata": {},
     "output_type": "execute_result"
    }
   ],
   "source": [
    "df_sessions['event_type'].unique()"
   ],
   "metadata": {
    "collapsed": false,
    "pycharm": {
     "name": "#%%\n"
    }
   }
  },
  {
   "cell_type": "code",
   "execution_count": 7,
   "outputs": [
    {
     "data": {
      "text/plain": "       purchase_id  delivery_company\ncount   5525.00000       5525.000000\nmean   22763.00000        497.007059\nstd     1595.07445        108.042028\nmin    20001.00000        360.000000\n25%    21382.00000        360.000000\n50%    22763.00000        516.000000\n75%    24144.00000        620.000000\nmax    25525.00000        620.000000",
      "text/html": "<div>\n<style scoped>\n    .dataframe tbody tr th:only-of-type {\n        vertical-align: middle;\n    }\n\n    .dataframe tbody tr th {\n        vertical-align: top;\n    }\n\n    .dataframe thead th {\n        text-align: right;\n    }\n</style>\n<table border=\"1\" class=\"dataframe\">\n  <thead>\n    <tr style=\"text-align: right;\">\n      <th></th>\n      <th>purchase_id</th>\n      <th>delivery_company</th>\n    </tr>\n  </thead>\n  <tbody>\n    <tr>\n      <th>count</th>\n      <td>5525.00000</td>\n      <td>5525.000000</td>\n    </tr>\n    <tr>\n      <th>mean</th>\n      <td>22763.00000</td>\n      <td>497.007059</td>\n    </tr>\n    <tr>\n      <th>std</th>\n      <td>1595.07445</td>\n      <td>108.042028</td>\n    </tr>\n    <tr>\n      <th>min</th>\n      <td>20001.00000</td>\n      <td>360.000000</td>\n    </tr>\n    <tr>\n      <th>25%</th>\n      <td>21382.00000</td>\n      <td>360.000000</td>\n    </tr>\n    <tr>\n      <th>50%</th>\n      <td>22763.00000</td>\n      <td>516.000000</td>\n    </tr>\n    <tr>\n      <th>75%</th>\n      <td>24144.00000</td>\n      <td>620.000000</td>\n    </tr>\n    <tr>\n      <th>max</th>\n      <td>25525.00000</td>\n      <td>620.000000</td>\n    </tr>\n  </tbody>\n</table>\n</div>"
     },
     "execution_count": 7,
     "metadata": {},
     "output_type": "execute_result"
    }
   ],
   "source": [
    "df_delivers.describe()"
   ],
   "metadata": {
    "collapsed": false,
    "pycharm": {
     "name": "#%%\n"
    }
   }
  },
  {
   "cell_type": "code",
   "execution_count": 17,
   "id": "887be7e8",
   "metadata": {
    "ExecuteTime": {
     "end_time": "2021-10-28T20:16:22.451513Z",
     "start_time": "2021-10-28T20:16:22.384479Z"
    }
   },
   "outputs": [
    {
     "data": {
      "text/plain": "   product_id                                    product_name  \\\n0        1001                   Telefon Siemens Gigaset DA310   \n1        1002                              Kyocera FS-1135MFP   \n2        1003                              Kyocera FS-3640MFP   \n3        1004                            Fallout 3 (Xbox 360)   \n4        1005  Szalone Króliki Na żywo i w kolorze (Xbox 360)   \n\n                                       category_path    price  \n0          Telefony i akcesoria;Telefony stacjonarne    58.97  \n1  Komputery;Drukarki i skanery;Biurowe urządzeni...  2048.50  \n2  Komputery;Drukarki i skanery;Biurowe urządzeni...  7639.00  \n3          Gry i konsole;Gry na konsole;Gry Xbox 360    49.99  \n4          Gry i konsole;Gry na konsole;Gry Xbox 360    49.99  ",
      "text/html": "<div>\n<style scoped>\n    .dataframe tbody tr th:only-of-type {\n        vertical-align: middle;\n    }\n\n    .dataframe tbody tr th {\n        vertical-align: top;\n    }\n\n    .dataframe thead th {\n        text-align: right;\n    }\n</style>\n<table border=\"1\" class=\"dataframe\">\n  <thead>\n    <tr style=\"text-align: right;\">\n      <th></th>\n      <th>product_id</th>\n      <th>product_name</th>\n      <th>category_path</th>\n      <th>price</th>\n    </tr>\n  </thead>\n  <tbody>\n    <tr>\n      <th>0</th>\n      <td>1001</td>\n      <td>Telefon Siemens Gigaset DA310</td>\n      <td>Telefony i akcesoria;Telefony stacjonarne</td>\n      <td>58.97</td>\n    </tr>\n    <tr>\n      <th>1</th>\n      <td>1002</td>\n      <td>Kyocera FS-1135MFP</td>\n      <td>Komputery;Drukarki i skanery;Biurowe urządzeni...</td>\n      <td>2048.50</td>\n    </tr>\n    <tr>\n      <th>2</th>\n      <td>1003</td>\n      <td>Kyocera FS-3640MFP</td>\n      <td>Komputery;Drukarki i skanery;Biurowe urządzeni...</td>\n      <td>7639.00</td>\n    </tr>\n    <tr>\n      <th>3</th>\n      <td>1004</td>\n      <td>Fallout 3 (Xbox 360)</td>\n      <td>Gry i konsole;Gry na konsole;Gry Xbox 360</td>\n      <td>49.99</td>\n    </tr>\n    <tr>\n      <th>4</th>\n      <td>1005</td>\n      <td>Szalone Króliki Na żywo i w kolorze (Xbox 360)</td>\n      <td>Gry i konsole;Gry na konsole;Gry Xbox 360</td>\n      <td>49.99</td>\n    </tr>\n  </tbody>\n</table>\n</div>"
     },
     "execution_count": 17,
     "metadata": {},
     "output_type": "execute_result"
    }
   ],
   "source": [
    "df_products.head()"
   ]
  },
  {
   "cell_type": "code",
   "execution_count": 18,
   "id": "0f8ba956",
   "metadata": {
    "ExecuteTime": {
     "end_time": "2021-10-28T20:16:23.029861Z",
     "start_time": "2021-10-28T20:16:22.954895Z"
    }
   },
   "outputs": [
    {
     "data": {
      "text/plain": "   user_id              name      city                   street\n0      102     Aurelia Malon    Poznań  pl. Brzoskwiniowa 11/53\n1      103     Mateusz Kobel    Poznań        al. Wrocławska 10\n2      104    Radosław Ratka  Szczecin           pl. Nowa 89/04\n3      105  Anastazja Oszust  Warszawa     ul. Częstochowska 80\n4      106      Sylwia Nurek  Warszawa          al. Wiosenna 72",
      "text/html": "<div>\n<style scoped>\n    .dataframe tbody tr th:only-of-type {\n        vertical-align: middle;\n    }\n\n    .dataframe tbody tr th {\n        vertical-align: top;\n    }\n\n    .dataframe thead th {\n        text-align: right;\n    }\n</style>\n<table border=\"1\" class=\"dataframe\">\n  <thead>\n    <tr style=\"text-align: right;\">\n      <th></th>\n      <th>user_id</th>\n      <th>name</th>\n      <th>city</th>\n      <th>street</th>\n    </tr>\n  </thead>\n  <tbody>\n    <tr>\n      <th>0</th>\n      <td>102</td>\n      <td>Aurelia Malon</td>\n      <td>Poznań</td>\n      <td>pl. Brzoskwiniowa 11/53</td>\n    </tr>\n    <tr>\n      <th>1</th>\n      <td>103</td>\n      <td>Mateusz Kobel</td>\n      <td>Poznań</td>\n      <td>al. Wrocławska 10</td>\n    </tr>\n    <tr>\n      <th>2</th>\n      <td>104</td>\n      <td>Radosław Ratka</td>\n      <td>Szczecin</td>\n      <td>pl. Nowa 89/04</td>\n    </tr>\n    <tr>\n      <th>3</th>\n      <td>105</td>\n      <td>Anastazja Oszust</td>\n      <td>Warszawa</td>\n      <td>ul. Częstochowska 80</td>\n    </tr>\n    <tr>\n      <th>4</th>\n      <td>106</td>\n      <td>Sylwia Nurek</td>\n      <td>Warszawa</td>\n      <td>al. Wiosenna 72</td>\n    </tr>\n  </tbody>\n</table>\n</div>"
     },
     "execution_count": 18,
     "metadata": {},
     "output_type": "execute_result"
    }
   ],
   "source": [
    "df_users.head()"
   ]
  },
  {
   "cell_type": "code",
   "execution_count": 9,
   "id": "12d307ac",
   "metadata": {
    "ExecuteTime": {
     "end_time": "2021-10-28T20:19:10.182536Z",
     "start_time": "2021-10-28T20:19:10.046572Z"
    }
   },
   "outputs": [],
   "source": [
    "import qgrid\n",
    "qgrid_widget_sessions = qgrid.show_grid(df_sessions, show_toolbar=True)\n",
    "qgrid_widget_delivers = qgrid.show_grid(df_delivers, show_toolbar=True)\n",
    "qgrid_widget_products = qgrid.show_grid(df_products, show_toolbar=True)\n",
    "qgrid_widget_users = qgrid.show_grid(df_users, show_toolbar=True)"
   ]
  },
  {
   "cell_type": "code",
   "execution_count": 10,
   "id": "9ef4094e",
   "metadata": {
    "ExecuteTime": {
     "end_time": "2021-10-28T20:19:16.067519Z",
     "start_time": "2021-10-28T20:19:16.002554Z"
    }
   },
   "outputs": [
    {
     "data": {
      "text/plain": "QgridWidget(grid_options={'fullWidthRows': True, 'syncColumnCellResize': True, 'forceFitColumns': True, 'defau…",
      "application/vnd.jupyter.widget-view+json": {
       "version_major": 2,
       "version_minor": 0,
       "model_id": "3ab8e14f70984170931cb0dae7d537f3"
      }
     },
     "metadata": {},
     "output_type": "display_data"
    }
   ],
   "source": [
    "qgrid_widget_delivers"
   ]
  },
  {
   "cell_type": "code",
   "execution_count": 11,
   "id": "e893d00f",
   "metadata": {
    "ExecuteTime": {
     "end_time": "2021-10-28T20:19:19.549218Z",
     "start_time": "2021-10-28T20:19:19.484148Z"
    }
   },
   "outputs": [
    {
     "data": {
      "application/vnd.jupyter.widget-view+json": {
       "model_id": "af27441b09c540b4b5a1c11e1a62b465",
       "version_major": 2,
       "version_minor": 0
      },
      "text/plain": [
       "QgridWidget(grid_options={'fullWidthRows': True, 'syncColumnCellResize': True, 'forceFitColumns': True, 'defau…"
      ]
     },
     "metadata": {},
     "output_type": "display_data"
    }
   ],
   "source": [
    "qgrid_widget_products"
   ]
  },
  {
   "cell_type": "code",
   "execution_count": 12,
   "id": "cfc45bbc",
   "metadata": {
    "ExecuteTime": {
     "end_time": "2021-10-28T20:19:24.978630Z",
     "start_time": "2021-10-28T20:19:24.899632Z"
    }
   },
   "outputs": [
    {
     "data": {
      "application/vnd.jupyter.widget-view+json": {
       "model_id": "d7c72b2a30e547a5a53f3b3176207942",
       "version_major": 2,
       "version_minor": 0
      },
      "text/plain": [
       "QgridWidget(grid_options={'fullWidthRows': True, 'syncColumnCellResize': True, 'forceFitColumns': True, 'defau…"
      ]
     },
     "metadata": {},
     "output_type": "display_data"
    }
   ],
   "source": [
    "qgrid_widget_sessions"
   ]
  },
  {
   "cell_type": "code",
   "execution_count": 13,
   "id": "95e99f34",
   "metadata": {
    "ExecuteTime": {
     "end_time": "2021-10-28T20:19:31.172555Z",
     "start_time": "2021-10-28T20:19:31.101489Z"
    }
   },
   "outputs": [
    {
     "data": {
      "application/vnd.jupyter.widget-view+json": {
       "model_id": "48b03e2bc4da418dae2400db715227c7",
       "version_major": 2,
       "version_minor": 0
      },
      "text/plain": [
       "QgridWidget(grid_options={'fullWidthRows': True, 'syncColumnCellResize': True, 'forceFitColumns': True, 'defau…"
      ]
     },
     "metadata": {},
     "output_type": "display_data"
    }
   ],
   "source": [
    "qgrid_widget_users"
   ]
  },
  {
   "cell_type": "code",
   "execution_count": null,
   "id": "5ed52e77",
   "metadata": {},
   "outputs": [],
   "source": []
  }
 ],
 "metadata": {
  "kernelspec": {
   "display_name": "Python 3 (ipykernel)",
   "language": "python",
   "name": "python3"
  },
  "language_info": {
   "codemirror_mode": {
    "name": "ipython",
    "version": 3
   },
   "file_extension": ".py",
   "mimetype": "text/x-python",
   "name": "python",
   "nbconvert_exporter": "python",
   "pygments_lexer": "ipython3",
   "version": "3.9.5"
  },
  "toc": {
   "base_numbering": 1,
   "nav_menu": {},
   "number_sections": true,
   "sideBar": true,
   "skip_h1_title": false,
   "title_cell": "Table of Contents",
   "title_sidebar": "Contents",
   "toc_cell": false,
   "toc_position": {},
   "toc_section_display": true,
   "toc_window_display": true
  }
 },
 "nbformat": 4,
 "nbformat_minor": 5
}