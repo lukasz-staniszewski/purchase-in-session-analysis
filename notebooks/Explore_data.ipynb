{
 "cells": [
  {
   "cell_type": "code",
   "execution_count": 1,
   "id": "065b933a",
   "metadata": {
    "ExecuteTime": {
     "end_time": "2021-10-28T20:16:19.386105Z",
     "start_time": "2021-10-28T20:16:19.339068Z"
    }
   },
   "outputs": [],
   "source": [
    "# Adding autoreload will let you edit your package and see the changes without restarting the notebook.\n",
    "\n",
    "%load_ext autoreload\n",
    "\n",
    "%autoreload 2"
   ]
  },
  {
   "cell_type": "code",
   "execution_count": 2,
   "id": "06d04a0b",
   "metadata": {
    "ExecuteTime": {
     "end_time": "2021-10-28T20:16:20.449959Z",
     "start_time": "2021-10-28T20:16:19.984730Z"
    }
   },
   "outputs": [],
   "source": [
    "import pandas as pd"
   ]
  },
  {
   "cell_type": "code",
   "execution_count": 3,
   "id": "82e79ba9",
   "metadata": {
    "ExecuteTime": {
     "end_time": "2021-10-28T20:16:20.686738Z",
     "start_time": "2021-10-28T20:16:20.450938Z"
    }
   },
   "outputs": [],
   "source": [
    "sessions_data_json = pd.read_json(path_or_buf='../data/raw/sessions.jsonl', lines=True)\n",
    "delivers_data_json = pd.read_json(path_or_buf='../data/raw/deliveries.jsonl', lines=True)\n",
    "products_data_json = pd.read_json(path_or_buf='../data/raw/products.jsonl', lines=True)\n",
    "users_data_json = pd.read_json(path_or_buf='../data/raw/users.jsonl', lines=True)\n",
    "\n",
    "df_sessions = pd.DataFrame(sessions_data_json)\n",
    "df_delivers = pd.DataFrame(delivers_data_json)\n",
    "df_products = pd.DataFrame(products_data_json)\n",
    "df_users = pd.DataFrame(users_data_json)"
   ]
  },
  {
   "cell_type": "code",
   "execution_count": 4,
   "id": "dc1feb76",
   "metadata": {
    "ExecuteTime": {
     "end_time": "2021-10-28T20:16:20.907411Z",
     "start_time": "2021-10-28T20:16:20.827379Z"
    }
   },
   "outputs": [
    {
     "data": {
      "text/html": [
       "<div>\n",
       "<style scoped>\n",
       "    .dataframe tbody tr th:only-of-type {\n",
       "        vertical-align: middle;\n",
       "    }\n",
       "\n",
       "    .dataframe tbody tr th {\n",
       "        vertical-align: top;\n",
       "    }\n",
       "\n",
       "    .dataframe thead th {\n",
       "        text-align: right;\n",
       "    }\n",
       "</style>\n",
       "<table border=\"1\" class=\"dataframe\">\n",
       "  <thead>\n",
       "    <tr style=\"text-align: right;\">\n",
       "      <th></th>\n",
       "      <th>session_id</th>\n",
       "      <th>timestamp</th>\n",
       "      <th>user_id</th>\n",
       "      <th>product_id</th>\n",
       "      <th>event_type</th>\n",
       "      <th>offered_discount</th>\n",
       "      <th>purchase_id</th>\n",
       "    </tr>\n",
       "  </thead>\n",
       "  <tbody>\n",
       "    <tr>\n",
       "      <th>0</th>\n",
       "      <td>124</td>\n",
       "      <td>2021-07-28 15:47:21</td>\n",
       "      <td>102</td>\n",
       "      <td>1283</td>\n",
       "      <td>VIEW_PRODUCT</td>\n",
       "      <td>5</td>\n",
       "      <td>NaN</td>\n",
       "    </tr>\n",
       "    <tr>\n",
       "      <th>1</th>\n",
       "      <td>124</td>\n",
       "      <td>2021-07-28 15:47:40</td>\n",
       "      <td>102</td>\n",
       "      <td>1283</td>\n",
       "      <td>BUY_PRODUCT</td>\n",
       "      <td>5</td>\n",
       "      <td>20001.0</td>\n",
       "    </tr>\n",
       "    <tr>\n",
       "      <th>2</th>\n",
       "      <td>125</td>\n",
       "      <td>2021-09-12 16:43:16</td>\n",
       "      <td>102</td>\n",
       "      <td>1076</td>\n",
       "      <td>VIEW_PRODUCT</td>\n",
       "      <td>0</td>\n",
       "      <td>NaN</td>\n",
       "    </tr>\n",
       "    <tr>\n",
       "      <th>3</th>\n",
       "      <td>125</td>\n",
       "      <td>2021-09-12 16:46:24</td>\n",
       "      <td>102</td>\n",
       "      <td>1080</td>\n",
       "      <td>VIEW_PRODUCT</td>\n",
       "      <td>0</td>\n",
       "      <td>NaN</td>\n",
       "    </tr>\n",
       "    <tr>\n",
       "      <th>4</th>\n",
       "      <td>125</td>\n",
       "      <td>2021-09-12 16:48:08</td>\n",
       "      <td>102</td>\n",
       "      <td>1079</td>\n",
       "      <td>VIEW_PRODUCT</td>\n",
       "      <td>0</td>\n",
       "      <td>NaN</td>\n",
       "    </tr>\n",
       "    <tr>\n",
       "      <th>...</th>\n",
       "      <td>...</td>\n",
       "      <td>...</td>\n",
       "      <td>...</td>\n",
       "      <td>...</td>\n",
       "      <td>...</td>\n",
       "      <td>...</td>\n",
       "      <td>...</td>\n",
       "    </tr>\n",
       "    <tr>\n",
       "      <th>34999</th>\n",
       "      <td>9648</td>\n",
       "      <td>2021-03-07 07:48:53</td>\n",
       "      <td>301</td>\n",
       "      <td>1292</td>\n",
       "      <td>VIEW_PRODUCT</td>\n",
       "      <td>0</td>\n",
       "      <td>NaN</td>\n",
       "    </tr>\n",
       "    <tr>\n",
       "      <th>35000</th>\n",
       "      <td>9648</td>\n",
       "      <td>2021-03-07 07:52:54</td>\n",
       "      <td>301</td>\n",
       "      <td>1285</td>\n",
       "      <td>VIEW_PRODUCT</td>\n",
       "      <td>0</td>\n",
       "      <td>NaN</td>\n",
       "    </tr>\n",
       "    <tr>\n",
       "      <th>35001</th>\n",
       "      <td>9648</td>\n",
       "      <td>2021-03-07 07:54:47</td>\n",
       "      <td>301</td>\n",
       "      <td>1288</td>\n",
       "      <td>VIEW_PRODUCT</td>\n",
       "      <td>0</td>\n",
       "      <td>NaN</td>\n",
       "    </tr>\n",
       "    <tr>\n",
       "      <th>35002</th>\n",
       "      <td>9649</td>\n",
       "      <td>2021-10-12 00:19:45</td>\n",
       "      <td>301</td>\n",
       "      <td>1040</td>\n",
       "      <td>VIEW_PRODUCT</td>\n",
       "      <td>20</td>\n",
       "      <td>NaN</td>\n",
       "    </tr>\n",
       "    <tr>\n",
       "      <th>35003</th>\n",
       "      <td>9650</td>\n",
       "      <td>2021-08-19 21:20:58</td>\n",
       "      <td>301</td>\n",
       "      <td>1233</td>\n",
       "      <td>VIEW_PRODUCT</td>\n",
       "      <td>0</td>\n",
       "      <td>NaN</td>\n",
       "    </tr>\n",
       "  </tbody>\n",
       "</table>\n",
       "<p>35004 rows × 7 columns</p>\n",
       "</div>"
      ],
      "text/plain": [
       "       session_id           timestamp  user_id  product_id    event_type  \\\n",
       "0             124 2021-07-28 15:47:21      102        1283  VIEW_PRODUCT   \n",
       "1             124 2021-07-28 15:47:40      102        1283   BUY_PRODUCT   \n",
       "2             125 2021-09-12 16:43:16      102        1076  VIEW_PRODUCT   \n",
       "3             125 2021-09-12 16:46:24      102        1080  VIEW_PRODUCT   \n",
       "4             125 2021-09-12 16:48:08      102        1079  VIEW_PRODUCT   \n",
       "...           ...                 ...      ...         ...           ...   \n",
       "34999        9648 2021-03-07 07:48:53      301        1292  VIEW_PRODUCT   \n",
       "35000        9648 2021-03-07 07:52:54      301        1285  VIEW_PRODUCT   \n",
       "35001        9648 2021-03-07 07:54:47      301        1288  VIEW_PRODUCT   \n",
       "35002        9649 2021-10-12 00:19:45      301        1040  VIEW_PRODUCT   \n",
       "35003        9650 2021-08-19 21:20:58      301        1233  VIEW_PRODUCT   \n",
       "\n",
       "       offered_discount  purchase_id  \n",
       "0                     5          NaN  \n",
       "1                     5      20001.0  \n",
       "2                     0          NaN  \n",
       "3                     0          NaN  \n",
       "4                     0          NaN  \n",
       "...                 ...          ...  \n",
       "34999                 0          NaN  \n",
       "35000                 0          NaN  \n",
       "35001                 0          NaN  \n",
       "35002                20          NaN  \n",
       "35003                 0          NaN  \n",
       "\n",
       "[35004 rows x 7 columns]"
      ]
     },
     "execution_count": 4,
     "metadata": {},
     "output_type": "execute_result"
    }
   ],
   "source": [
    "df_sessions"
   ]
  },
  {
   "cell_type": "code",
   "execution_count": 5,
   "id": "71758602",
   "metadata": {
    "ExecuteTime": {
     "end_time": "2021-10-28T20:16:21.810854Z",
     "start_time": "2021-10-28T20:16:21.743858Z"
    }
   },
   "outputs": [
    {
     "data": {
      "text/html": [
       "<div>\n",
       "<style scoped>\n",
       "    .dataframe tbody tr th:only-of-type {\n",
       "        vertical-align: middle;\n",
       "    }\n",
       "\n",
       "    .dataframe tbody tr th {\n",
       "        vertical-align: top;\n",
       "    }\n",
       "\n",
       "    .dataframe thead th {\n",
       "        text-align: right;\n",
       "    }\n",
       "</style>\n",
       "<table border=\"1\" class=\"dataframe\">\n",
       "  <thead>\n",
       "    <tr style=\"text-align: right;\">\n",
       "      <th></th>\n",
       "      <th>purchase_id</th>\n",
       "      <th>purchase_timestamp</th>\n",
       "      <th>delivery_timestamp</th>\n",
       "      <th>delivery_company</th>\n",
       "    </tr>\n",
       "  </thead>\n",
       "  <tbody>\n",
       "    <tr>\n",
       "      <th>0</th>\n",
       "      <td>20001</td>\n",
       "      <td>2021-07-28T15:47:40</td>\n",
       "      <td>2021-08-01T15:48:37</td>\n",
       "      <td>620</td>\n",
       "    </tr>\n",
       "    <tr>\n",
       "      <th>1</th>\n",
       "      <td>20002</td>\n",
       "      <td>2021-09-12T17:07:12</td>\n",
       "      <td>2021-09-17T17:09:45</td>\n",
       "      <td>516</td>\n",
       "    </tr>\n",
       "    <tr>\n",
       "      <th>2</th>\n",
       "      <td>20003</td>\n",
       "      <td>2021-04-09T22:33:05</td>\n",
       "      <td>2021-04-11T22:36:44</td>\n",
       "      <td>516</td>\n",
       "    </tr>\n",
       "    <tr>\n",
       "      <th>3</th>\n",
       "      <td>20004</td>\n",
       "      <td>2021-08-15T16:54:45</td>\n",
       "      <td>2021-08-17T16:59:19</td>\n",
       "      <td>620</td>\n",
       "    </tr>\n",
       "    <tr>\n",
       "      <th>4</th>\n",
       "      <td>20005</td>\n",
       "      <td>2021-01-05T00:19:45</td>\n",
       "      <td>2021-01-09T00:23:45</td>\n",
       "      <td>360</td>\n",
       "    </tr>\n",
       "    <tr>\n",
       "      <th>...</th>\n",
       "      <td>...</td>\n",
       "      <td>...</td>\n",
       "      <td>...</td>\n",
       "      <td>...</td>\n",
       "    </tr>\n",
       "    <tr>\n",
       "      <th>5520</th>\n",
       "      <td>25521</td>\n",
       "      <td>2021-10-16T15:26:25</td>\n",
       "      <td>2021-10-19T15:29:23</td>\n",
       "      <td>516</td>\n",
       "    </tr>\n",
       "    <tr>\n",
       "      <th>5521</th>\n",
       "      <td>25522</td>\n",
       "      <td>2021-08-20T01:01:15</td>\n",
       "      <td>2021-08-24T01:04:33</td>\n",
       "      <td>620</td>\n",
       "    </tr>\n",
       "    <tr>\n",
       "      <th>5522</th>\n",
       "      <td>25523</td>\n",
       "      <td>2021-09-07T10:37:45</td>\n",
       "      <td>2021-09-09T10:38:26</td>\n",
       "      <td>620</td>\n",
       "    </tr>\n",
       "    <tr>\n",
       "      <th>5523</th>\n",
       "      <td>25524</td>\n",
       "      <td>2021-08-25T20:41:49</td>\n",
       "      <td>2021-08-30T20:44:45</td>\n",
       "      <td>360</td>\n",
       "    </tr>\n",
       "    <tr>\n",
       "      <th>5524</th>\n",
       "      <td>25525</td>\n",
       "      <td>2021-07-06T16:24:39</td>\n",
       "      <td>2021-07-08T16:27:22</td>\n",
       "      <td>516</td>\n",
       "    </tr>\n",
       "  </tbody>\n",
       "</table>\n",
       "<p>5525 rows × 4 columns</p>\n",
       "</div>"
      ],
      "text/plain": [
       "      purchase_id   purchase_timestamp   delivery_timestamp  delivery_company\n",
       "0           20001  2021-07-28T15:47:40  2021-08-01T15:48:37               620\n",
       "1           20002  2021-09-12T17:07:12  2021-09-17T17:09:45               516\n",
       "2           20003  2021-04-09T22:33:05  2021-04-11T22:36:44               516\n",
       "3           20004  2021-08-15T16:54:45  2021-08-17T16:59:19               620\n",
       "4           20005  2021-01-05T00:19:45  2021-01-09T00:23:45               360\n",
       "...           ...                  ...                  ...               ...\n",
       "5520        25521  2021-10-16T15:26:25  2021-10-19T15:29:23               516\n",
       "5521        25522  2021-08-20T01:01:15  2021-08-24T01:04:33               620\n",
       "5522        25523  2021-09-07T10:37:45  2021-09-09T10:38:26               620\n",
       "5523        25524  2021-08-25T20:41:49  2021-08-30T20:44:45               360\n",
       "5524        25525  2021-07-06T16:24:39  2021-07-08T16:27:22               516\n",
       "\n",
       "[5525 rows x 4 columns]"
      ]
     },
     "execution_count": 5,
     "metadata": {},
     "output_type": "execute_result"
    }
   ],
   "source": [
    "df_delivers"
   ]
  },
  {
   "cell_type": "code",
   "execution_count": 6,
   "id": "887be7e8",
   "metadata": {
    "ExecuteTime": {
     "end_time": "2021-10-28T20:16:22.451513Z",
     "start_time": "2021-10-28T20:16:22.384479Z"
    }
   },
   "outputs": [
    {
     "data": {
      "text/html": [
       "<div>\n",
       "<style scoped>\n",
       "    .dataframe tbody tr th:only-of-type {\n",
       "        vertical-align: middle;\n",
       "    }\n",
       "\n",
       "    .dataframe tbody tr th {\n",
       "        vertical-align: top;\n",
       "    }\n",
       "\n",
       "    .dataframe thead th {\n",
       "        text-align: right;\n",
       "    }\n",
       "</style>\n",
       "<table border=\"1\" class=\"dataframe\">\n",
       "  <thead>\n",
       "    <tr style=\"text-align: right;\">\n",
       "      <th></th>\n",
       "      <th>product_id</th>\n",
       "      <th>product_name</th>\n",
       "      <th>category_path</th>\n",
       "      <th>price</th>\n",
       "    </tr>\n",
       "  </thead>\n",
       "  <tbody>\n",
       "    <tr>\n",
       "      <th>0</th>\n",
       "      <td>1001</td>\n",
       "      <td>Telefon Siemens Gigaset DA310</td>\n",
       "      <td>Telefony i akcesoria;Telefony stacjonarne</td>\n",
       "      <td>58.97</td>\n",
       "    </tr>\n",
       "    <tr>\n",
       "      <th>1</th>\n",
       "      <td>1002</td>\n",
       "      <td>Kyocera FS-1135MFP</td>\n",
       "      <td>Komputery;Drukarki i skanery;Biurowe urządzeni...</td>\n",
       "      <td>2048.50</td>\n",
       "    </tr>\n",
       "    <tr>\n",
       "      <th>2</th>\n",
       "      <td>1003</td>\n",
       "      <td>Kyocera FS-3640MFP</td>\n",
       "      <td>Komputery;Drukarki i skanery;Biurowe urządzeni...</td>\n",
       "      <td>7639.00</td>\n",
       "    </tr>\n",
       "    <tr>\n",
       "      <th>3</th>\n",
       "      <td>1004</td>\n",
       "      <td>Fallout 3 (Xbox 360)</td>\n",
       "      <td>Gry i konsole;Gry na konsole;Gry Xbox 360</td>\n",
       "      <td>49.99</td>\n",
       "    </tr>\n",
       "    <tr>\n",
       "      <th>4</th>\n",
       "      <td>1005</td>\n",
       "      <td>Szalone Króliki Na żywo i w kolorze (Xbox 360)</td>\n",
       "      <td>Gry i konsole;Gry na konsole;Gry Xbox 360</td>\n",
       "      <td>49.99</td>\n",
       "    </tr>\n",
       "    <tr>\n",
       "      <th>...</th>\n",
       "      <td>...</td>\n",
       "      <td>...</td>\n",
       "      <td>...</td>\n",
       "      <td>...</td>\n",
       "    </tr>\n",
       "    <tr>\n",
       "      <th>314</th>\n",
       "      <td>1315</td>\n",
       "      <td>Jabra Talk</td>\n",
       "      <td>Telefony i akcesoria;Akcesoria telefoniczne;Ze...</td>\n",
       "      <td>54.99</td>\n",
       "    </tr>\n",
       "    <tr>\n",
       "      <th>315</th>\n",
       "      <td>1316</td>\n",
       "      <td>Plantronics Voyager Legend</td>\n",
       "      <td>Telefony i akcesoria;Akcesoria telefoniczne;Ze...</td>\n",
       "      <td>249.00</td>\n",
       "    </tr>\n",
       "    <tr>\n",
       "      <th>316</th>\n",
       "      <td>1317</td>\n",
       "      <td>Plantronics Savi W740</td>\n",
       "      <td>Telefony i akcesoria;Akcesoria telefoniczne;Ze...</td>\n",
       "      <td>1303.96</td>\n",
       "    </tr>\n",
       "    <tr>\n",
       "      <th>317</th>\n",
       "      <td>1318</td>\n",
       "      <td>Plantronics Savi W710</td>\n",
       "      <td>Sprzęt RTV;Audio;Słuchawki</td>\n",
       "      <td>553.00</td>\n",
       "    </tr>\n",
       "    <tr>\n",
       "      <th>318</th>\n",
       "      <td>1319</td>\n",
       "      <td>HTC HS-S200</td>\n",
       "      <td>Telefony i akcesoria;Akcesoria telefoniczne;Ze...</td>\n",
       "      <td>14.99</td>\n",
       "    </tr>\n",
       "  </tbody>\n",
       "</table>\n",
       "<p>319 rows × 4 columns</p>\n",
       "</div>"
      ],
      "text/plain": [
       "     product_id                                    product_name  \\\n",
       "0          1001                   Telefon Siemens Gigaset DA310   \n",
       "1          1002                              Kyocera FS-1135MFP   \n",
       "2          1003                              Kyocera FS-3640MFP   \n",
       "3          1004                            Fallout 3 (Xbox 360)   \n",
       "4          1005  Szalone Króliki Na żywo i w kolorze (Xbox 360)   \n",
       "..          ...                                             ...   \n",
       "314        1315                                      Jabra Talk   \n",
       "315        1316                      Plantronics Voyager Legend   \n",
       "316        1317                           Plantronics Savi W740   \n",
       "317        1318                           Plantronics Savi W710   \n",
       "318        1319                                     HTC HS-S200   \n",
       "\n",
       "                                         category_path    price  \n",
       "0            Telefony i akcesoria;Telefony stacjonarne    58.97  \n",
       "1    Komputery;Drukarki i skanery;Biurowe urządzeni...  2048.50  \n",
       "2    Komputery;Drukarki i skanery;Biurowe urządzeni...  7639.00  \n",
       "3            Gry i konsole;Gry na konsole;Gry Xbox 360    49.99  \n",
       "4            Gry i konsole;Gry na konsole;Gry Xbox 360    49.99  \n",
       "..                                                 ...      ...  \n",
       "314  Telefony i akcesoria;Akcesoria telefoniczne;Ze...    54.99  \n",
       "315  Telefony i akcesoria;Akcesoria telefoniczne;Ze...   249.00  \n",
       "316  Telefony i akcesoria;Akcesoria telefoniczne;Ze...  1303.96  \n",
       "317                         Sprzęt RTV;Audio;Słuchawki   553.00  \n",
       "318  Telefony i akcesoria;Akcesoria telefoniczne;Ze...    14.99  \n",
       "\n",
       "[319 rows x 4 columns]"
      ]
     },
     "execution_count": 6,
     "metadata": {},
     "output_type": "execute_result"
    }
   ],
   "source": [
    "df_products"
   ]
  },
  {
   "cell_type": "code",
   "execution_count": 7,
   "id": "0f8ba956",
   "metadata": {
    "ExecuteTime": {
     "end_time": "2021-10-28T20:16:23.029861Z",
     "start_time": "2021-10-28T20:16:22.954895Z"
    }
   },
   "outputs": [
    {
     "data": {
      "text/html": [
       "<div>\n",
       "<style scoped>\n",
       "    .dataframe tbody tr th:only-of-type {\n",
       "        vertical-align: middle;\n",
       "    }\n",
       "\n",
       "    .dataframe tbody tr th {\n",
       "        vertical-align: top;\n",
       "    }\n",
       "\n",
       "    .dataframe thead th {\n",
       "        text-align: right;\n",
       "    }\n",
       "</style>\n",
       "<table border=\"1\" class=\"dataframe\">\n",
       "  <thead>\n",
       "    <tr style=\"text-align: right;\">\n",
       "      <th></th>\n",
       "      <th>user_id</th>\n",
       "      <th>name</th>\n",
       "      <th>city</th>\n",
       "      <th>street</th>\n",
       "    </tr>\n",
       "  </thead>\n",
       "  <tbody>\n",
       "    <tr>\n",
       "      <th>0</th>\n",
       "      <td>102</td>\n",
       "      <td>Aurelia Malon</td>\n",
       "      <td>Poznań</td>\n",
       "      <td>pl. Brzoskwiniowa 11/53</td>\n",
       "    </tr>\n",
       "    <tr>\n",
       "      <th>1</th>\n",
       "      <td>103</td>\n",
       "      <td>Mateusz Kobel</td>\n",
       "      <td>Poznań</td>\n",
       "      <td>al. Wrocławska 10</td>\n",
       "    </tr>\n",
       "    <tr>\n",
       "      <th>2</th>\n",
       "      <td>104</td>\n",
       "      <td>Radosław Ratka</td>\n",
       "      <td>Szczecin</td>\n",
       "      <td>pl. Nowa 89/04</td>\n",
       "    </tr>\n",
       "    <tr>\n",
       "      <th>3</th>\n",
       "      <td>105</td>\n",
       "      <td>Anastazja Oszust</td>\n",
       "      <td>Warszawa</td>\n",
       "      <td>ul. Częstochowska 80</td>\n",
       "    </tr>\n",
       "    <tr>\n",
       "      <th>4</th>\n",
       "      <td>106</td>\n",
       "      <td>Sylwia Nurek</td>\n",
       "      <td>Warszawa</td>\n",
       "      <td>al. Wiosenna 72</td>\n",
       "    </tr>\n",
       "    <tr>\n",
       "      <th>...</th>\n",
       "      <td>...</td>\n",
       "      <td>...</td>\n",
       "      <td>...</td>\n",
       "      <td>...</td>\n",
       "    </tr>\n",
       "    <tr>\n",
       "      <th>195</th>\n",
       "      <td>297</td>\n",
       "      <td>Andrzej Kreczmer</td>\n",
       "      <td>Szczecin</td>\n",
       "      <td>ul. Zdrojowa 43/11</td>\n",
       "    </tr>\n",
       "    <tr>\n",
       "      <th>196</th>\n",
       "      <td>298</td>\n",
       "      <td>Natan Świadek</td>\n",
       "      <td>Szczecin</td>\n",
       "      <td>pl. Staffa 801</td>\n",
       "    </tr>\n",
       "    <tr>\n",
       "      <th>197</th>\n",
       "      <td>299</td>\n",
       "      <td>Jeremi Kajstura</td>\n",
       "      <td>Kraków</td>\n",
       "      <td>pl. Wiklinowa 022</td>\n",
       "    </tr>\n",
       "    <tr>\n",
       "      <th>198</th>\n",
       "      <td>300</td>\n",
       "      <td>Gustaw Cofała</td>\n",
       "      <td>Gdynia</td>\n",
       "      <td>ulica Krakowska 847</td>\n",
       "    </tr>\n",
       "    <tr>\n",
       "      <th>199</th>\n",
       "      <td>301</td>\n",
       "      <td>Sara Nóżka</td>\n",
       "      <td>Warszawa</td>\n",
       "      <td>aleja Słoneczna 78/05</td>\n",
       "    </tr>\n",
       "  </tbody>\n",
       "</table>\n",
       "<p>200 rows × 4 columns</p>\n",
       "</div>"
      ],
      "text/plain": [
       "     user_id              name      city                   street\n",
       "0        102     Aurelia Malon    Poznań  pl. Brzoskwiniowa 11/53\n",
       "1        103     Mateusz Kobel    Poznań        al. Wrocławska 10\n",
       "2        104    Radosław Ratka  Szczecin           pl. Nowa 89/04\n",
       "3        105  Anastazja Oszust  Warszawa     ul. Częstochowska 80\n",
       "4        106      Sylwia Nurek  Warszawa          al. Wiosenna 72\n",
       "..       ...               ...       ...                      ...\n",
       "195      297  Andrzej Kreczmer  Szczecin       ul. Zdrojowa 43/11\n",
       "196      298     Natan Świadek  Szczecin           pl. Staffa 801\n",
       "197      299   Jeremi Kajstura    Kraków        pl. Wiklinowa 022\n",
       "198      300     Gustaw Cofała    Gdynia      ulica Krakowska 847\n",
       "199      301        Sara Nóżka  Warszawa    aleja Słoneczna 78/05\n",
       "\n",
       "[200 rows x 4 columns]"
      ]
     },
     "execution_count": 7,
     "metadata": {},
     "output_type": "execute_result"
    }
   ],
   "source": [
    "df_users"
   ]
  },
  {
   "cell_type": "code",
   "execution_count": 9,
   "id": "12d307ac",
   "metadata": {
    "ExecuteTime": {
     "end_time": "2021-10-28T20:19:10.182536Z",
     "start_time": "2021-10-28T20:19:10.046572Z"
    }
   },
   "outputs": [],
   "source": [
    "import qgrid\n",
    "qgrid_widget_sessions = qgrid.show_grid(df_sessions, show_toolbar=True)\n",
    "qgrid_widget_delivers = qgrid.show_grid(df_delivers, show_toolbar=True)\n",
    "qgrid_widget_products = qgrid.show_grid(df_products, show_toolbar=True)\n",
    "qgrid_widget_users = qgrid.show_grid(df_users, show_toolbar=True)"
   ]
  },
  {
   "cell_type": "code",
   "execution_count": 10,
   "id": "9ef4094e",
   "metadata": {
    "ExecuteTime": {
     "end_time": "2021-10-28T20:19:16.067519Z",
     "start_time": "2021-10-28T20:19:16.002554Z"
    }
   },
   "outputs": [
    {
     "data": {
      "application/vnd.jupyter.widget-view+json": {
       "model_id": "c255818c5e204725a4e48df8e271f4aa",
       "version_major": 2,
       "version_minor": 0
      },
      "text/plain": [
       "QgridWidget(grid_options={'fullWidthRows': True, 'syncColumnCellResize': True, 'forceFitColumns': True, 'defau…"
      ]
     },
     "metadata": {},
     "output_type": "display_data"
    }
   ],
   "source": [
    "qgrid_widget_delivers"
   ]
  },
  {
   "cell_type": "code",
   "execution_count": 11,
   "id": "e893d00f",
   "metadata": {
    "ExecuteTime": {
     "end_time": "2021-10-28T20:19:19.549218Z",
     "start_time": "2021-10-28T20:19:19.484148Z"
    }
   },
   "outputs": [
    {
     "data": {
      "application/vnd.jupyter.widget-view+json": {
       "model_id": "af27441b09c540b4b5a1c11e1a62b465",
       "version_major": 2,
       "version_minor": 0
      },
      "text/plain": [
       "QgridWidget(grid_options={'fullWidthRows': True, 'syncColumnCellResize': True, 'forceFitColumns': True, 'defau…"
      ]
     },
     "metadata": {},
     "output_type": "display_data"
    }
   ],
   "source": [
    "qgrid_widget_products"
   ]
  },
  {
   "cell_type": "code",
   "execution_count": 12,
   "id": "cfc45bbc",
   "metadata": {
    "ExecuteTime": {
     "end_time": "2021-10-28T20:19:24.978630Z",
     "start_time": "2021-10-28T20:19:24.899632Z"
    }
   },
   "outputs": [
    {
     "data": {
      "application/vnd.jupyter.widget-view+json": {
       "model_id": "d7c72b2a30e547a5a53f3b3176207942",
       "version_major": 2,
       "version_minor": 0
      },
      "text/plain": [
       "QgridWidget(grid_options={'fullWidthRows': True, 'syncColumnCellResize': True, 'forceFitColumns': True, 'defau…"
      ]
     },
     "metadata": {},
     "output_type": "display_data"
    }
   ],
   "source": [
    "qgrid_widget_sessions"
   ]
  },
  {
   "cell_type": "code",
   "execution_count": 13,
   "id": "95e99f34",
   "metadata": {
    "ExecuteTime": {
     "end_time": "2021-10-28T20:19:31.172555Z",
     "start_time": "2021-10-28T20:19:31.101489Z"
    }
   },
   "outputs": [
    {
     "data": {
      "application/vnd.jupyter.widget-view+json": {
       "model_id": "48b03e2bc4da418dae2400db715227c7",
       "version_major": 2,
       "version_minor": 0
      },
      "text/plain": [
       "QgridWidget(grid_options={'fullWidthRows': True, 'syncColumnCellResize': True, 'forceFitColumns': True, 'defau…"
      ]
     },
     "metadata": {},
     "output_type": "display_data"
    }
   ],
   "source": [
    "qgrid_widget_users"
   ]
  },
  {
   "cell_type": "code",
   "execution_count": null,
   "id": "5ed52e77",
   "metadata": {},
   "outputs": [],
   "source": []
  }
 ],
 "metadata": {
  "kernelspec": {
   "display_name": "Python 3 (ipykernel)",
   "language": "python",
   "name": "python3"
  },
  "language_info": {
   "codemirror_mode": {
    "name": "ipython",
    "version": 3
   },
   "file_extension": ".py",
   "mimetype": "text/x-python",
   "name": "python",
   "nbconvert_exporter": "python",
   "pygments_lexer": "ipython3",
   "version": "3.9.5"
  },
  "toc": {
   "base_numbering": 1,
   "nav_menu": {},
   "number_sections": true,
   "sideBar": true,
   "skip_h1_title": false,
   "title_cell": "Table of Contents",
   "title_sidebar": "Contents",
   "toc_cell": false,
   "toc_position": {},
   "toc_section_display": true,
   "toc_window_display": true
  }
 },
 "nbformat": 4,
 "nbformat_minor": 5
}
