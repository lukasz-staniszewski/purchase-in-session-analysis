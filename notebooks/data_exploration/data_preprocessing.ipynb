{
 "cells": [
  {
   "cell_type": "code",
   "execution_count": 1,
   "metadata": {
    "collapsed": true
   },
   "outputs": [],
   "source": [
    "import pandas as pd\n",
    "from matplotlib import pyplot as plt\n",
    "%matplotlib inline\n",
    "from sklearn.metrics import accuracy_score\n",
    "from sklearn.model_selection import train_test_split, cross_val_score\n",
    "from sklearn.neighbors import KNeighborsClassifier\n",
    "from sklearn.svm import SVC\n",
    "from sklearn.ensemble import RandomForestClassifier, GradientBoostingClassifier\n",
    "import tensorflow as tf\n",
    "import numpy as np"
   ]
  },
  {
   "cell_type": "code",
   "execution_count": 2,
   "outputs": [],
   "source": [
    "df_sessions = pd.read_json(path_or_buf='../../data/raw/sessions.jsonl', lines=True)\n",
    "df_products = pd.read_json(path_or_buf='../../data/raw/products.jsonl', lines=True)\n",
    "df_users = pd.read_json(path_or_buf='../../data/raw/users.jsonl', lines=True)"
   ],
   "metadata": {
    "collapsed": false,
    "pycharm": {
     "name": "#%%\n"
    }
   }
  },
  {
   "cell_type": "code",
   "execution_count": 3,
   "outputs": [
    {
     "data": {
      "text/plain": "   user_id              name      city                   street\n0      102     Aurelia Malon    Poznań  pl. Brzoskwiniowa 11/53\n1      103     Mateusz Kobel    Poznań        al. Wrocławska 10\n2      104    Radosław Ratka  Szczecin           pl. Nowa 89/04\n3      105  Anastazja Oszust  Warszawa     ul. Częstochowska 80\n4      106      Sylwia Nurek  Warszawa          al. Wiosenna 72",
      "text/html": "<div>\n<style scoped>\n    .dataframe tbody tr th:only-of-type {\n        vertical-align: middle;\n    }\n\n    .dataframe tbody tr th {\n        vertical-align: top;\n    }\n\n    .dataframe thead th {\n        text-align: right;\n    }\n</style>\n<table border=\"1\" class=\"dataframe\">\n  <thead>\n    <tr style=\"text-align: right;\">\n      <th></th>\n      <th>user_id</th>\n      <th>name</th>\n      <th>city</th>\n      <th>street</th>\n    </tr>\n  </thead>\n  <tbody>\n    <tr>\n      <th>0</th>\n      <td>102</td>\n      <td>Aurelia Malon</td>\n      <td>Poznań</td>\n      <td>pl. Brzoskwiniowa 11/53</td>\n    </tr>\n    <tr>\n      <th>1</th>\n      <td>103</td>\n      <td>Mateusz Kobel</td>\n      <td>Poznań</td>\n      <td>al. Wrocławska 10</td>\n    </tr>\n    <tr>\n      <th>2</th>\n      <td>104</td>\n      <td>Radosław Ratka</td>\n      <td>Szczecin</td>\n      <td>pl. Nowa 89/04</td>\n    </tr>\n    <tr>\n      <th>3</th>\n      <td>105</td>\n      <td>Anastazja Oszust</td>\n      <td>Warszawa</td>\n      <td>ul. Częstochowska 80</td>\n    </tr>\n    <tr>\n      <th>4</th>\n      <td>106</td>\n      <td>Sylwia Nurek</td>\n      <td>Warszawa</td>\n      <td>al. Wiosenna 72</td>\n    </tr>\n  </tbody>\n</table>\n</div>"
     },
     "execution_count": 3,
     "metadata": {},
     "output_type": "execute_result"
    }
   ],
   "source": [
    "df_users.head()"
   ],
   "metadata": {
    "collapsed": false,
    "pycharm": {
     "name": "#%%\n"
    }
   }
  },
  {
   "cell_type": "code",
   "execution_count": 4,
   "outputs": [
    {
     "data": {
      "text/plain": "   product_id                                    product_name  \\\n0        1001                   Telefon Siemens Gigaset DA310   \n1        1002                              Kyocera FS-1135MFP   \n2        1003                              Kyocera FS-3640MFP   \n3        1004                            Fallout 3 (Xbox 360)   \n4        1005  Szalone Króliki Na żywo i w kolorze (Xbox 360)   \n\n                                       category_path    price  \n0          Telefony i akcesoria;Telefony stacjonarne    58.97  \n1  Komputery;Drukarki i skanery;Biurowe urządzeni...  2048.50  \n2  Komputery;Drukarki i skanery;Biurowe urządzeni...  7639.00  \n3          Gry i konsole;Gry na konsole;Gry Xbox 360    49.99  \n4          Gry i konsole;Gry na konsole;Gry Xbox 360    49.99  ",
      "text/html": "<div>\n<style scoped>\n    .dataframe tbody tr th:only-of-type {\n        vertical-align: middle;\n    }\n\n    .dataframe tbody tr th {\n        vertical-align: top;\n    }\n\n    .dataframe thead th {\n        text-align: right;\n    }\n</style>\n<table border=\"1\" class=\"dataframe\">\n  <thead>\n    <tr style=\"text-align: right;\">\n      <th></th>\n      <th>product_id</th>\n      <th>product_name</th>\n      <th>category_path</th>\n      <th>price</th>\n    </tr>\n  </thead>\n  <tbody>\n    <tr>\n      <th>0</th>\n      <td>1001</td>\n      <td>Telefon Siemens Gigaset DA310</td>\n      <td>Telefony i akcesoria;Telefony stacjonarne</td>\n      <td>58.97</td>\n    </tr>\n    <tr>\n      <th>1</th>\n      <td>1002</td>\n      <td>Kyocera FS-1135MFP</td>\n      <td>Komputery;Drukarki i skanery;Biurowe urządzeni...</td>\n      <td>2048.50</td>\n    </tr>\n    <tr>\n      <th>2</th>\n      <td>1003</td>\n      <td>Kyocera FS-3640MFP</td>\n      <td>Komputery;Drukarki i skanery;Biurowe urządzeni...</td>\n      <td>7639.00</td>\n    </tr>\n    <tr>\n      <th>3</th>\n      <td>1004</td>\n      <td>Fallout 3 (Xbox 360)</td>\n      <td>Gry i konsole;Gry na konsole;Gry Xbox 360</td>\n      <td>49.99</td>\n    </tr>\n    <tr>\n      <th>4</th>\n      <td>1005</td>\n      <td>Szalone Króliki Na żywo i w kolorze (Xbox 360)</td>\n      <td>Gry i konsole;Gry na konsole;Gry Xbox 360</td>\n      <td>49.99</td>\n    </tr>\n  </tbody>\n</table>\n</div>"
     },
     "execution_count": 4,
     "metadata": {},
     "output_type": "execute_result"
    }
   ],
   "source": [
    "df_products.head()"
   ],
   "metadata": {
    "collapsed": false,
    "pycharm": {
     "name": "#%%\n"
    }
   }
  },
  {
   "cell_type": "code",
   "execution_count": 5,
   "outputs": [
    {
     "data": {
      "text/plain": "   Akcesoria telefoniczne  Anteny RTV  Audio  \\\n0                       0           0      0   \n1                       0           0      0   \n2                       0           0      0   \n3                       0           0      0   \n4                       0           0      0   \n\n   Biurowe urządzenia wielofunkcyjne  Drukarki i skanery  Gry PlayStation3  \\\n0                                  0                   0                 0   \n1                                  1                   1                 0   \n2                                  1                   1                 0   \n3                                  0                   0                 0   \n4                                  0                   0                 0   \n\n   Gry Xbox 360  Gry i konsole  Gry komputerowe  Gry na konsole  ...  \\\n0             0              0                0               0  ...   \n1             0              0                0               0  ...   \n2             0              0                0               0  ...   \n3             1              1                0               1  ...   \n4             1              1                0               1  ...   \n\n   Słuchawki  Tablety  Tablety i akcesoria  Telefony i akcesoria  \\\n0          0        0                    0                     1   \n1          0        0                    0                     0   \n2          0        0                    0                     0   \n3          0        0                    0                     0   \n4          0        0                    0                     0   \n\n   Telefony komórkowe  Telefony stacjonarne  Telewizory i akcesoria  Video  \\\n0                   0                     1                       0      0   \n1                   0                     0                       0      0   \n2                   0                     0                       0      0   \n3                   0                     0                       0      0   \n4                   0                     0                       0      0   \n\n   Zestawy głośnomówiące  Zestawy słuchawkowe  \n0                      0                    0  \n1                      0                    0  \n2                      0                    0  \n3                      0                    0  \n4                      0                    0  \n\n[5 rows x 28 columns]",
      "text/html": "<div>\n<style scoped>\n    .dataframe tbody tr th:only-of-type {\n        vertical-align: middle;\n    }\n\n    .dataframe tbody tr th {\n        vertical-align: top;\n    }\n\n    .dataframe thead th {\n        text-align: right;\n    }\n</style>\n<table border=\"1\" class=\"dataframe\">\n  <thead>\n    <tr style=\"text-align: right;\">\n      <th></th>\n      <th>Akcesoria telefoniczne</th>\n      <th>Anteny RTV</th>\n      <th>Audio</th>\n      <th>Biurowe urządzenia wielofunkcyjne</th>\n      <th>Drukarki i skanery</th>\n      <th>Gry PlayStation3</th>\n      <th>Gry Xbox 360</th>\n      <th>Gry i konsole</th>\n      <th>Gry komputerowe</th>\n      <th>Gry na konsole</th>\n      <th>...</th>\n      <th>Słuchawki</th>\n      <th>Tablety</th>\n      <th>Tablety i akcesoria</th>\n      <th>Telefony i akcesoria</th>\n      <th>Telefony komórkowe</th>\n      <th>Telefony stacjonarne</th>\n      <th>Telewizory i akcesoria</th>\n      <th>Video</th>\n      <th>Zestawy głośnomówiące</th>\n      <th>Zestawy słuchawkowe</th>\n    </tr>\n  </thead>\n  <tbody>\n    <tr>\n      <th>0</th>\n      <td>0</td>\n      <td>0</td>\n      <td>0</td>\n      <td>0</td>\n      <td>0</td>\n      <td>0</td>\n      <td>0</td>\n      <td>0</td>\n      <td>0</td>\n      <td>0</td>\n      <td>...</td>\n      <td>0</td>\n      <td>0</td>\n      <td>0</td>\n      <td>1</td>\n      <td>0</td>\n      <td>1</td>\n      <td>0</td>\n      <td>0</td>\n      <td>0</td>\n      <td>0</td>\n    </tr>\n    <tr>\n      <th>1</th>\n      <td>0</td>\n      <td>0</td>\n      <td>0</td>\n      <td>1</td>\n      <td>1</td>\n      <td>0</td>\n      <td>0</td>\n      <td>0</td>\n      <td>0</td>\n      <td>0</td>\n      <td>...</td>\n      <td>0</td>\n      <td>0</td>\n      <td>0</td>\n      <td>0</td>\n      <td>0</td>\n      <td>0</td>\n      <td>0</td>\n      <td>0</td>\n      <td>0</td>\n      <td>0</td>\n    </tr>\n    <tr>\n      <th>2</th>\n      <td>0</td>\n      <td>0</td>\n      <td>0</td>\n      <td>1</td>\n      <td>1</td>\n      <td>0</td>\n      <td>0</td>\n      <td>0</td>\n      <td>0</td>\n      <td>0</td>\n      <td>...</td>\n      <td>0</td>\n      <td>0</td>\n      <td>0</td>\n      <td>0</td>\n      <td>0</td>\n      <td>0</td>\n      <td>0</td>\n      <td>0</td>\n      <td>0</td>\n      <td>0</td>\n    </tr>\n    <tr>\n      <th>3</th>\n      <td>0</td>\n      <td>0</td>\n      <td>0</td>\n      <td>0</td>\n      <td>0</td>\n      <td>0</td>\n      <td>1</td>\n      <td>1</td>\n      <td>0</td>\n      <td>1</td>\n      <td>...</td>\n      <td>0</td>\n      <td>0</td>\n      <td>0</td>\n      <td>0</td>\n      <td>0</td>\n      <td>0</td>\n      <td>0</td>\n      <td>0</td>\n      <td>0</td>\n      <td>0</td>\n    </tr>\n    <tr>\n      <th>4</th>\n      <td>0</td>\n      <td>0</td>\n      <td>0</td>\n      <td>0</td>\n      <td>0</td>\n      <td>0</td>\n      <td>1</td>\n      <td>1</td>\n      <td>0</td>\n      <td>1</td>\n      <td>...</td>\n      <td>0</td>\n      <td>0</td>\n      <td>0</td>\n      <td>0</td>\n      <td>0</td>\n      <td>0</td>\n      <td>0</td>\n      <td>0</td>\n      <td>0</td>\n      <td>0</td>\n    </tr>\n  </tbody>\n</table>\n<p>5 rows × 28 columns</p>\n</div>"
     },
     "execution_count": 5,
     "metadata": {},
     "output_type": "execute_result"
    }
   ],
   "source": [
    "categories_one_hot = df_products.category_path.str.get_dummies(';')\n",
    "categories_one_hot.head()"
   ],
   "metadata": {
    "collapsed": false,
    "pycharm": {
     "name": "#%%\n"
    }
   }
  },
  {
   "cell_type": "code",
   "execution_count": 6,
   "outputs": [
    {
     "data": {
      "text/plain": "   Gdynia  Kraków  Poznań  Radom  Szczecin  Warszawa  Wrocław\n0       0       0       1      0         0         0        0\n1       0       0       1      0         0         0        0\n2       0       0       0      0         1         0        0\n3       0       0       0      0         0         1        0\n4       0       0       0      0         0         1        0",
      "text/html": "<div>\n<style scoped>\n    .dataframe tbody tr th:only-of-type {\n        vertical-align: middle;\n    }\n\n    .dataframe tbody tr th {\n        vertical-align: top;\n    }\n\n    .dataframe thead th {\n        text-align: right;\n    }\n</style>\n<table border=\"1\" class=\"dataframe\">\n  <thead>\n    <tr style=\"text-align: right;\">\n      <th></th>\n      <th>Gdynia</th>\n      <th>Kraków</th>\n      <th>Poznań</th>\n      <th>Radom</th>\n      <th>Szczecin</th>\n      <th>Warszawa</th>\n      <th>Wrocław</th>\n    </tr>\n  </thead>\n  <tbody>\n    <tr>\n      <th>0</th>\n      <td>0</td>\n      <td>0</td>\n      <td>1</td>\n      <td>0</td>\n      <td>0</td>\n      <td>0</td>\n      <td>0</td>\n    </tr>\n    <tr>\n      <th>1</th>\n      <td>0</td>\n      <td>0</td>\n      <td>1</td>\n      <td>0</td>\n      <td>0</td>\n      <td>0</td>\n      <td>0</td>\n    </tr>\n    <tr>\n      <th>2</th>\n      <td>0</td>\n      <td>0</td>\n      <td>0</td>\n      <td>0</td>\n      <td>1</td>\n      <td>0</td>\n      <td>0</td>\n    </tr>\n    <tr>\n      <th>3</th>\n      <td>0</td>\n      <td>0</td>\n      <td>0</td>\n      <td>0</td>\n      <td>0</td>\n      <td>1</td>\n      <td>0</td>\n    </tr>\n    <tr>\n      <th>4</th>\n      <td>0</td>\n      <td>0</td>\n      <td>0</td>\n      <td>0</td>\n      <td>0</td>\n      <td>1</td>\n      <td>0</td>\n    </tr>\n  </tbody>\n</table>\n</div>"
     },
     "execution_count": 6,
     "metadata": {},
     "output_type": "execute_result"
    }
   ],
   "source": [
    "cities_one_hot = df_users.city.str.get_dummies()\n",
    "cities_one_hot.head()"
   ],
   "metadata": {
    "collapsed": false,
    "pycharm": {
     "name": "#%%\n"
    }
   }
  },
  {
   "cell_type": "code",
   "execution_count": 7,
   "outputs": [],
   "source": [
    "df_products.drop(columns=['product_name', 'category_path'], inplace=True)\n",
    "df_products = df_products.join(categories_one_hot)"
   ],
   "metadata": {
    "collapsed": false,
    "pycharm": {
     "name": "#%%\n"
    }
   }
  },
  {
   "cell_type": "code",
   "execution_count": 8,
   "outputs": [],
   "source": [
    "df_users.drop(columns=['city'], inplace=True)\n",
    "df_users = df_users.join(cities_one_hot)"
   ],
   "metadata": {
    "collapsed": false,
    "pycharm": {
     "name": "#%%\n"
    }
   }
  },
  {
   "cell_type": "code",
   "execution_count": 9,
   "outputs": [
    {
     "data": {
      "text/plain": "   product_id    price  Akcesoria telefoniczne  Anteny RTV  Audio  \\\n0        1001    58.97                       0           0      0   \n1        1002  2048.50                       0           0      0   \n2        1003  7639.00                       0           0      0   \n3        1004    49.99                       0           0      0   \n4        1005    49.99                       0           0      0   \n\n   Biurowe urządzenia wielofunkcyjne  Drukarki i skanery  Gry PlayStation3  \\\n0                                  0                   0                 0   \n1                                  1                   1                 0   \n2                                  1                   1                 0   \n3                                  0                   0                 0   \n4                                  0                   0                 0   \n\n   Gry Xbox 360  Gry i konsole  ...  Słuchawki  Tablety  Tablety i akcesoria  \\\n0             0              0  ...          0        0                    0   \n1             0              0  ...          0        0                    0   \n2             0              0  ...          0        0                    0   \n3             1              1  ...          0        0                    0   \n4             1              1  ...          0        0                    0   \n\n   Telefony i akcesoria  Telefony komórkowe  Telefony stacjonarne  \\\n0                     1                   0                     1   \n1                     0                   0                     0   \n2                     0                   0                     0   \n3                     0                   0                     0   \n4                     0                   0                     0   \n\n   Telewizory i akcesoria  Video  Zestawy głośnomówiące  Zestawy słuchawkowe  \n0                       0      0                      0                    0  \n1                       0      0                      0                    0  \n2                       0      0                      0                    0  \n3                       0      0                      0                    0  \n4                       0      0                      0                    0  \n\n[5 rows x 30 columns]",
      "text/html": "<div>\n<style scoped>\n    .dataframe tbody tr th:only-of-type {\n        vertical-align: middle;\n    }\n\n    .dataframe tbody tr th {\n        vertical-align: top;\n    }\n\n    .dataframe thead th {\n        text-align: right;\n    }\n</style>\n<table border=\"1\" class=\"dataframe\">\n  <thead>\n    <tr style=\"text-align: right;\">\n      <th></th>\n      <th>product_id</th>\n      <th>price</th>\n      <th>Akcesoria telefoniczne</th>\n      <th>Anteny RTV</th>\n      <th>Audio</th>\n      <th>Biurowe urządzenia wielofunkcyjne</th>\n      <th>Drukarki i skanery</th>\n      <th>Gry PlayStation3</th>\n      <th>Gry Xbox 360</th>\n      <th>Gry i konsole</th>\n      <th>...</th>\n      <th>Słuchawki</th>\n      <th>Tablety</th>\n      <th>Tablety i akcesoria</th>\n      <th>Telefony i akcesoria</th>\n      <th>Telefony komórkowe</th>\n      <th>Telefony stacjonarne</th>\n      <th>Telewizory i akcesoria</th>\n      <th>Video</th>\n      <th>Zestawy głośnomówiące</th>\n      <th>Zestawy słuchawkowe</th>\n    </tr>\n  </thead>\n  <tbody>\n    <tr>\n      <th>0</th>\n      <td>1001</td>\n      <td>58.97</td>\n      <td>0</td>\n      <td>0</td>\n      <td>0</td>\n      <td>0</td>\n      <td>0</td>\n      <td>0</td>\n      <td>0</td>\n      <td>0</td>\n      <td>...</td>\n      <td>0</td>\n      <td>0</td>\n      <td>0</td>\n      <td>1</td>\n      <td>0</td>\n      <td>1</td>\n      <td>0</td>\n      <td>0</td>\n      <td>0</td>\n      <td>0</td>\n    </tr>\n    <tr>\n      <th>1</th>\n      <td>1002</td>\n      <td>2048.50</td>\n      <td>0</td>\n      <td>0</td>\n      <td>0</td>\n      <td>1</td>\n      <td>1</td>\n      <td>0</td>\n      <td>0</td>\n      <td>0</td>\n      <td>...</td>\n      <td>0</td>\n      <td>0</td>\n      <td>0</td>\n      <td>0</td>\n      <td>0</td>\n      <td>0</td>\n      <td>0</td>\n      <td>0</td>\n      <td>0</td>\n      <td>0</td>\n    </tr>\n    <tr>\n      <th>2</th>\n      <td>1003</td>\n      <td>7639.00</td>\n      <td>0</td>\n      <td>0</td>\n      <td>0</td>\n      <td>1</td>\n      <td>1</td>\n      <td>0</td>\n      <td>0</td>\n      <td>0</td>\n      <td>...</td>\n      <td>0</td>\n      <td>0</td>\n      <td>0</td>\n      <td>0</td>\n      <td>0</td>\n      <td>0</td>\n      <td>0</td>\n      <td>0</td>\n      <td>0</td>\n      <td>0</td>\n    </tr>\n    <tr>\n      <th>3</th>\n      <td>1004</td>\n      <td>49.99</td>\n      <td>0</td>\n      <td>0</td>\n      <td>0</td>\n      <td>0</td>\n      <td>0</td>\n      <td>0</td>\n      <td>1</td>\n      <td>1</td>\n      <td>...</td>\n      <td>0</td>\n      <td>0</td>\n      <td>0</td>\n      <td>0</td>\n      <td>0</td>\n      <td>0</td>\n      <td>0</td>\n      <td>0</td>\n      <td>0</td>\n      <td>0</td>\n    </tr>\n    <tr>\n      <th>4</th>\n      <td>1005</td>\n      <td>49.99</td>\n      <td>0</td>\n      <td>0</td>\n      <td>0</td>\n      <td>0</td>\n      <td>0</td>\n      <td>0</td>\n      <td>1</td>\n      <td>1</td>\n      <td>...</td>\n      <td>0</td>\n      <td>0</td>\n      <td>0</td>\n      <td>0</td>\n      <td>0</td>\n      <td>0</td>\n      <td>0</td>\n      <td>0</td>\n      <td>0</td>\n      <td>0</td>\n    </tr>\n  </tbody>\n</table>\n<p>5 rows × 30 columns</p>\n</div>"
     },
     "execution_count": 9,
     "metadata": {},
     "output_type": "execute_result"
    }
   ],
   "source": [
    "df_products.head()"
   ],
   "metadata": {
    "collapsed": false,
    "pycharm": {
     "name": "#%%\n"
    }
   }
  },
  {
   "cell_type": "code",
   "execution_count": 10,
   "outputs": [
    {
     "data": {
      "text/plain": "   session_id           timestamp  user_id  product_id    event_type  \\\n0         124 2021-07-28 15:47:21      102        1283  VIEW_PRODUCT   \n1         124 2021-07-28 15:47:40      102        1283   BUY_PRODUCT   \n2         125 2021-09-12 16:43:16      102        1076  VIEW_PRODUCT   \n3         125 2021-09-12 16:46:24      102        1080  VIEW_PRODUCT   \n4         125 2021-09-12 16:48:08      102        1079  VIEW_PRODUCT   \n\n   offered_discount  purchase_id  \n0                 5          NaN  \n1                 5      20001.0  \n2                 0          NaN  \n3                 0          NaN  \n4                 0          NaN  ",
      "text/html": "<div>\n<style scoped>\n    .dataframe tbody tr th:only-of-type {\n        vertical-align: middle;\n    }\n\n    .dataframe tbody tr th {\n        vertical-align: top;\n    }\n\n    .dataframe thead th {\n        text-align: right;\n    }\n</style>\n<table border=\"1\" class=\"dataframe\">\n  <thead>\n    <tr style=\"text-align: right;\">\n      <th></th>\n      <th>session_id</th>\n      <th>timestamp</th>\n      <th>user_id</th>\n      <th>product_id</th>\n      <th>event_type</th>\n      <th>offered_discount</th>\n      <th>purchase_id</th>\n    </tr>\n  </thead>\n  <tbody>\n    <tr>\n      <th>0</th>\n      <td>124</td>\n      <td>2021-07-28 15:47:21</td>\n      <td>102</td>\n      <td>1283</td>\n      <td>VIEW_PRODUCT</td>\n      <td>5</td>\n      <td>NaN</td>\n    </tr>\n    <tr>\n      <th>1</th>\n      <td>124</td>\n      <td>2021-07-28 15:47:40</td>\n      <td>102</td>\n      <td>1283</td>\n      <td>BUY_PRODUCT</td>\n      <td>5</td>\n      <td>20001.0</td>\n    </tr>\n    <tr>\n      <th>2</th>\n      <td>125</td>\n      <td>2021-09-12 16:43:16</td>\n      <td>102</td>\n      <td>1076</td>\n      <td>VIEW_PRODUCT</td>\n      <td>0</td>\n      <td>NaN</td>\n    </tr>\n    <tr>\n      <th>3</th>\n      <td>125</td>\n      <td>2021-09-12 16:46:24</td>\n      <td>102</td>\n      <td>1080</td>\n      <td>VIEW_PRODUCT</td>\n      <td>0</td>\n      <td>NaN</td>\n    </tr>\n    <tr>\n      <th>4</th>\n      <td>125</td>\n      <td>2021-09-12 16:48:08</td>\n      <td>102</td>\n      <td>1079</td>\n      <td>VIEW_PRODUCT</td>\n      <td>0</td>\n      <td>NaN</td>\n    </tr>\n  </tbody>\n</table>\n</div>"
     },
     "execution_count": 10,
     "metadata": {},
     "output_type": "execute_result"
    }
   ],
   "source": [
    "df_sessions.head()"
   ],
   "metadata": {
    "collapsed": false,
    "pycharm": {
     "name": "#%%\n"
    }
   }
  },
  {
   "cell_type": "code",
   "execution_count": 11,
   "outputs": [],
   "source": [
    "df_users['sex'] = ['Female' if name.split(' ')[0][-1] == 'a' else 'Male' for name in df_users['name']]\n",
    "sex_one_hot = df_users.sex.str.get_dummies()\n",
    "df_users.drop(columns=['sex'], inplace=True)\n",
    "df_users = df_users.join(sex_one_hot)"
   ],
   "metadata": {
    "collapsed": false,
    "pycharm": {
     "name": "#%%\n"
    }
   }
  },
  {
   "cell_type": "code",
   "execution_count": 12,
   "outputs": [
    {
     "data": {
      "text/plain": "   user_id              name                   street  Gdynia  Kraków  Poznań  \\\n0      102     Aurelia Malon  pl. Brzoskwiniowa 11/53       0       0       1   \n1      103     Mateusz Kobel        al. Wrocławska 10       0       0       1   \n2      104    Radosław Ratka           pl. Nowa 89/04       0       0       0   \n3      105  Anastazja Oszust     ul. Częstochowska 80       0       0       0   \n4      106      Sylwia Nurek          al. Wiosenna 72       0       0       0   \n\n   Radom  Szczecin  Warszawa  Wrocław  Female  Male  \n0      0         0         0        0       1     0  \n1      0         0         0        0       0     1  \n2      0         1         0        0       0     1  \n3      0         0         1        0       1     0  \n4      0         0         1        0       1     0  ",
      "text/html": "<div>\n<style scoped>\n    .dataframe tbody tr th:only-of-type {\n        vertical-align: middle;\n    }\n\n    .dataframe tbody tr th {\n        vertical-align: top;\n    }\n\n    .dataframe thead th {\n        text-align: right;\n    }\n</style>\n<table border=\"1\" class=\"dataframe\">\n  <thead>\n    <tr style=\"text-align: right;\">\n      <th></th>\n      <th>user_id</th>\n      <th>name</th>\n      <th>street</th>\n      <th>Gdynia</th>\n      <th>Kraków</th>\n      <th>Poznań</th>\n      <th>Radom</th>\n      <th>Szczecin</th>\n      <th>Warszawa</th>\n      <th>Wrocław</th>\n      <th>Female</th>\n      <th>Male</th>\n    </tr>\n  </thead>\n  <tbody>\n    <tr>\n      <th>0</th>\n      <td>102</td>\n      <td>Aurelia Malon</td>\n      <td>pl. Brzoskwiniowa 11/53</td>\n      <td>0</td>\n      <td>0</td>\n      <td>1</td>\n      <td>0</td>\n      <td>0</td>\n      <td>0</td>\n      <td>0</td>\n      <td>1</td>\n      <td>0</td>\n    </tr>\n    <tr>\n      <th>1</th>\n      <td>103</td>\n      <td>Mateusz Kobel</td>\n      <td>al. Wrocławska 10</td>\n      <td>0</td>\n      <td>0</td>\n      <td>1</td>\n      <td>0</td>\n      <td>0</td>\n      <td>0</td>\n      <td>0</td>\n      <td>0</td>\n      <td>1</td>\n    </tr>\n    <tr>\n      <th>2</th>\n      <td>104</td>\n      <td>Radosław Ratka</td>\n      <td>pl. Nowa 89/04</td>\n      <td>0</td>\n      <td>0</td>\n      <td>0</td>\n      <td>0</td>\n      <td>1</td>\n      <td>0</td>\n      <td>0</td>\n      <td>0</td>\n      <td>1</td>\n    </tr>\n    <tr>\n      <th>3</th>\n      <td>105</td>\n      <td>Anastazja Oszust</td>\n      <td>ul. Częstochowska 80</td>\n      <td>0</td>\n      <td>0</td>\n      <td>0</td>\n      <td>0</td>\n      <td>0</td>\n      <td>1</td>\n      <td>0</td>\n      <td>1</td>\n      <td>0</td>\n    </tr>\n    <tr>\n      <th>4</th>\n      <td>106</td>\n      <td>Sylwia Nurek</td>\n      <td>al. Wiosenna 72</td>\n      <td>0</td>\n      <td>0</td>\n      <td>0</td>\n      <td>0</td>\n      <td>0</td>\n      <td>1</td>\n      <td>0</td>\n      <td>1</td>\n      <td>0</td>\n    </tr>\n  </tbody>\n</table>\n</div>"
     },
     "execution_count": 12,
     "metadata": {},
     "output_type": "execute_result"
    }
   ],
   "source": [
    "df_users.head()"
   ],
   "metadata": {
    "collapsed": false,
    "pycharm": {
     "name": "#%%\n"
    }
   }
  },
  {
   "cell_type": "code",
   "execution_count": 13,
   "outputs": [
    {
     "data": {
      "text/plain": "   session_id           timestamp  user_id  product_id    event_type  \\\n0         124 2021-07-28 15:47:21      102        1283  VIEW_PRODUCT   \n1         124 2021-07-28 15:47:40      102        1283   BUY_PRODUCT   \n2         139 2021-07-01 11:28:02      102        1283  VIEW_PRODUCT   \n3         139 2021-07-01 11:31:18      102        1283   BUY_PRODUCT   \n4         144 2021-03-19 13:55:04      102        1283  VIEW_PRODUCT   \n\n   offered_discount  purchase_id  price  Akcesoria telefoniczne  Anteny RTV  \\\n0                 5          NaN  99.99                       0           0   \n1                 5      20001.0  99.99                       0           0   \n2                 0          NaN  99.99                       0           0   \n3                 0      20013.0  99.99                       0           0   \n4                 0          NaN  99.99                       0           0   \n\n   ...                   street  Gdynia  Kraków  Poznań  Radom  Szczecin  \\\n0  ...  pl. Brzoskwiniowa 11/53       0       0       1      0         0   \n1  ...  pl. Brzoskwiniowa 11/53       0       0       1      0         0   \n2  ...  pl. Brzoskwiniowa 11/53       0       0       1      0         0   \n3  ...  pl. Brzoskwiniowa 11/53       0       0       1      0         0   \n4  ...  pl. Brzoskwiniowa 11/53       0       0       1      0         0   \n\n   Warszawa  Wrocław  Female  Male  \n0         0        0       1     0  \n1         0        0       1     0  \n2         0        0       1     0  \n3         0        0       1     0  \n4         0        0       1     0  \n\n[5 rows x 47 columns]",
      "text/html": "<div>\n<style scoped>\n    .dataframe tbody tr th:only-of-type {\n        vertical-align: middle;\n    }\n\n    .dataframe tbody tr th {\n        vertical-align: top;\n    }\n\n    .dataframe thead th {\n        text-align: right;\n    }\n</style>\n<table border=\"1\" class=\"dataframe\">\n  <thead>\n    <tr style=\"text-align: right;\">\n      <th></th>\n      <th>session_id</th>\n      <th>timestamp</th>\n      <th>user_id</th>\n      <th>product_id</th>\n      <th>event_type</th>\n      <th>offered_discount</th>\n      <th>purchase_id</th>\n      <th>price</th>\n      <th>Akcesoria telefoniczne</th>\n      <th>Anteny RTV</th>\n      <th>...</th>\n      <th>street</th>\n      <th>Gdynia</th>\n      <th>Kraków</th>\n      <th>Poznań</th>\n      <th>Radom</th>\n      <th>Szczecin</th>\n      <th>Warszawa</th>\n      <th>Wrocław</th>\n      <th>Female</th>\n      <th>Male</th>\n    </tr>\n  </thead>\n  <tbody>\n    <tr>\n      <th>0</th>\n      <td>124</td>\n      <td>2021-07-28 15:47:21</td>\n      <td>102</td>\n      <td>1283</td>\n      <td>VIEW_PRODUCT</td>\n      <td>5</td>\n      <td>NaN</td>\n      <td>99.99</td>\n      <td>0</td>\n      <td>0</td>\n      <td>...</td>\n      <td>pl. Brzoskwiniowa 11/53</td>\n      <td>0</td>\n      <td>0</td>\n      <td>1</td>\n      <td>0</td>\n      <td>0</td>\n      <td>0</td>\n      <td>0</td>\n      <td>1</td>\n      <td>0</td>\n    </tr>\n    <tr>\n      <th>1</th>\n      <td>124</td>\n      <td>2021-07-28 15:47:40</td>\n      <td>102</td>\n      <td>1283</td>\n      <td>BUY_PRODUCT</td>\n      <td>5</td>\n      <td>20001.0</td>\n      <td>99.99</td>\n      <td>0</td>\n      <td>0</td>\n      <td>...</td>\n      <td>pl. Brzoskwiniowa 11/53</td>\n      <td>0</td>\n      <td>0</td>\n      <td>1</td>\n      <td>0</td>\n      <td>0</td>\n      <td>0</td>\n      <td>0</td>\n      <td>1</td>\n      <td>0</td>\n    </tr>\n    <tr>\n      <th>2</th>\n      <td>139</td>\n      <td>2021-07-01 11:28:02</td>\n      <td>102</td>\n      <td>1283</td>\n      <td>VIEW_PRODUCT</td>\n      <td>0</td>\n      <td>NaN</td>\n      <td>99.99</td>\n      <td>0</td>\n      <td>0</td>\n      <td>...</td>\n      <td>pl. Brzoskwiniowa 11/53</td>\n      <td>0</td>\n      <td>0</td>\n      <td>1</td>\n      <td>0</td>\n      <td>0</td>\n      <td>0</td>\n      <td>0</td>\n      <td>1</td>\n      <td>0</td>\n    </tr>\n    <tr>\n      <th>3</th>\n      <td>139</td>\n      <td>2021-07-01 11:31:18</td>\n      <td>102</td>\n      <td>1283</td>\n      <td>BUY_PRODUCT</td>\n      <td>0</td>\n      <td>20013.0</td>\n      <td>99.99</td>\n      <td>0</td>\n      <td>0</td>\n      <td>...</td>\n      <td>pl. Brzoskwiniowa 11/53</td>\n      <td>0</td>\n      <td>0</td>\n      <td>1</td>\n      <td>0</td>\n      <td>0</td>\n      <td>0</td>\n      <td>0</td>\n      <td>1</td>\n      <td>0</td>\n    </tr>\n    <tr>\n      <th>4</th>\n      <td>144</td>\n      <td>2021-03-19 13:55:04</td>\n      <td>102</td>\n      <td>1283</td>\n      <td>VIEW_PRODUCT</td>\n      <td>0</td>\n      <td>NaN</td>\n      <td>99.99</td>\n      <td>0</td>\n      <td>0</td>\n      <td>...</td>\n      <td>pl. Brzoskwiniowa 11/53</td>\n      <td>0</td>\n      <td>0</td>\n      <td>1</td>\n      <td>0</td>\n      <td>0</td>\n      <td>0</td>\n      <td>0</td>\n      <td>1</td>\n      <td>0</td>\n    </tr>\n  </tbody>\n</table>\n<p>5 rows × 47 columns</p>\n</div>"
     },
     "execution_count": 13,
     "metadata": {},
     "output_type": "execute_result"
    }
   ],
   "source": [
    "df = df_sessions.merge(df_products, left_on='product_id', right_on='product_id')\n",
    "df = df.merge(df_users, left_on='user_id', right_on='user_id')\n",
    "df.head()"
   ],
   "metadata": {
    "collapsed": false,
    "pycharm": {
     "name": "#%%\n"
    }
   }
  },
  {
   "cell_type": "code",
   "execution_count": 14,
   "outputs": [],
   "source": [
    "aggregation_functions = {\n",
    "    'timestamp' : lambda t: [(t.max() - t.min()).seconds, t.min(), t.max()],\n",
    "    'user_id' : 'first',\n",
    "    'product_id' : 'unique',\n",
    "    'event_type' : lambda e: 1 if len(e.unique()) > 1 else 0,\n",
    "    'offered_discount' : 'first',\n",
    "    'price' : lambda p: p.sum()\n",
    "}\n",
    "\n",
    "for name in categories_one_hot.columns:\n",
    "    aggregation_functions[name] = lambda n: n.sum()\n",
    "\n",
    "# for name in cities_one_hot.columns:\n",
    "#     aggregation_functions[name] = 'first'\n",
    "\n",
    "for name in sex_one_hot.columns:\n",
    "    aggregation_functions[name] = 'first'\n",
    "\n",
    "main_df = df.groupby(df['session_id']).aggregate(aggregation_functions)\n",
    "main_df.rename(columns={'event_type' : 'purchased'}, inplace=True)"
   ],
   "metadata": {
    "collapsed": false,
    "pycharm": {
     "name": "#%%\n"
    }
   }
  },
  {
   "cell_type": "code",
   "execution_count": 15,
   "outputs": [],
   "source": [
    "timestamp_dict = [{'session_length' : x[0], 'session_start' : x[1], 'session_end' : x[2]} for x in main_df['timestamp']]\n",
    "timestamp_df = pd.DataFrame(timestamp_dict)"
   ],
   "metadata": {
    "collapsed": false,
    "pycharm": {
     "name": "#%%\n"
    }
   }
  },
  {
   "cell_type": "code",
   "execution_count": 16,
   "outputs": [
    {
     "data": {
      "text/plain": "            user_id                                        product_id  \\\nsession_id                                                              \n0               102                                            [1283]   \n1               102  [1076, 1080, 1079, 1003, 1002, 1075, 1078, 1077]   \n2               102                                      [1281, 1278]   \n3               102                                      [1281, 1278]   \n4               102              [1008, 1007, 1013, 1012, 1004, 1010]   \n\n            offered_discount  session_length     price       session_start  \\\nsession_id                                                                   \n0                          5              19    199.98 2021-07-28 15:47:21   \n1                          0            1436  36664.54 2021-09-12 16:43:16   \n2                         15             117    222.60 2021-04-09 22:31:08   \n3                          0             519    208.50 2021-08-15 16:46:06   \n4                          0             847    568.94 2021-01-05 00:05:38   \n\n                   session_end  purchased  Female  Male  ...  Słuchawki  \\\nsession_id                                               ...              \n0          2021-07-28 15:47:40          1       1     0  ...          0   \n1          2021-09-12 17:07:12          1       1     0  ...          0   \n2          2021-04-09 22:33:05          1       1     0  ...          0   \n3          2021-08-15 16:54:45          1       1     0  ...          0   \n4          2021-01-05 00:19:45          1       1     0  ...          0   \n\n            Tablety  Tablety i akcesoria  Telefony i akcesoria  \\\nsession_id                                                       \n0                 0                    0                     0   \n1                 0                    0                     0   \n2                 0                    0                     0   \n3                 0                    0                     0   \n4                 0                    0                     0   \n\n            Telefony komórkowe  Telefony stacjonarne  Telewizory i akcesoria  \\\nsession_id                                                                     \n0                            0                     0                       2   \n1                            0                     0                       0   \n2                            0                     0                       0   \n3                            0                     0                       0   \n4                            0                     0                       0   \n\n            Video  Zestawy głośnomówiące  Zestawy słuchawkowe  \nsession_id                                                     \n0               2                      0                    0  \n1               0                      0                    0  \n2               0                      0                    0  \n3               0                      0                    0  \n4               0                      0                    0  \n\n[5 rows x 38 columns]",
      "text/html": "<div>\n<style scoped>\n    .dataframe tbody tr th:only-of-type {\n        vertical-align: middle;\n    }\n\n    .dataframe tbody tr th {\n        vertical-align: top;\n    }\n\n    .dataframe thead th {\n        text-align: right;\n    }\n</style>\n<table border=\"1\" class=\"dataframe\">\n  <thead>\n    <tr style=\"text-align: right;\">\n      <th></th>\n      <th>user_id</th>\n      <th>product_id</th>\n      <th>offered_discount</th>\n      <th>session_length</th>\n      <th>price</th>\n      <th>session_start</th>\n      <th>session_end</th>\n      <th>purchased</th>\n      <th>Female</th>\n      <th>Male</th>\n      <th>...</th>\n      <th>Słuchawki</th>\n      <th>Tablety</th>\n      <th>Tablety i akcesoria</th>\n      <th>Telefony i akcesoria</th>\n      <th>Telefony komórkowe</th>\n      <th>Telefony stacjonarne</th>\n      <th>Telewizory i akcesoria</th>\n      <th>Video</th>\n      <th>Zestawy głośnomówiące</th>\n      <th>Zestawy słuchawkowe</th>\n    </tr>\n    <tr>\n      <th>session_id</th>\n      <th></th>\n      <th></th>\n      <th></th>\n      <th></th>\n      <th></th>\n      <th></th>\n      <th></th>\n      <th></th>\n      <th></th>\n      <th></th>\n      <th></th>\n      <th></th>\n      <th></th>\n      <th></th>\n      <th></th>\n      <th></th>\n      <th></th>\n      <th></th>\n      <th></th>\n      <th></th>\n      <th></th>\n    </tr>\n  </thead>\n  <tbody>\n    <tr>\n      <th>0</th>\n      <td>102</td>\n      <td>[1283]</td>\n      <td>5</td>\n      <td>19</td>\n      <td>199.98</td>\n      <td>2021-07-28 15:47:21</td>\n      <td>2021-07-28 15:47:40</td>\n      <td>1</td>\n      <td>1</td>\n      <td>0</td>\n      <td>...</td>\n      <td>0</td>\n      <td>0</td>\n      <td>0</td>\n      <td>0</td>\n      <td>0</td>\n      <td>0</td>\n      <td>2</td>\n      <td>2</td>\n      <td>0</td>\n      <td>0</td>\n    </tr>\n    <tr>\n      <th>1</th>\n      <td>102</td>\n      <td>[1076, 1080, 1079, 1003, 1002, 1075, 1078, 1077]</td>\n      <td>0</td>\n      <td>1436</td>\n      <td>36664.54</td>\n      <td>2021-09-12 16:43:16</td>\n      <td>2021-09-12 17:07:12</td>\n      <td>1</td>\n      <td>1</td>\n      <td>0</td>\n      <td>...</td>\n      <td>0</td>\n      <td>0</td>\n      <td>0</td>\n      <td>0</td>\n      <td>0</td>\n      <td>0</td>\n      <td>0</td>\n      <td>0</td>\n      <td>0</td>\n      <td>0</td>\n    </tr>\n    <tr>\n      <th>2</th>\n      <td>102</td>\n      <td>[1281, 1278]</td>\n      <td>15</td>\n      <td>117</td>\n      <td>222.60</td>\n      <td>2021-04-09 22:31:08</td>\n      <td>2021-04-09 22:33:05</td>\n      <td>1</td>\n      <td>1</td>\n      <td>0</td>\n      <td>...</td>\n      <td>0</td>\n      <td>0</td>\n      <td>0</td>\n      <td>0</td>\n      <td>0</td>\n      <td>0</td>\n      <td>0</td>\n      <td>0</td>\n      <td>0</td>\n      <td>0</td>\n    </tr>\n    <tr>\n      <th>3</th>\n      <td>102</td>\n      <td>[1281, 1278]</td>\n      <td>0</td>\n      <td>519</td>\n      <td>208.50</td>\n      <td>2021-08-15 16:46:06</td>\n      <td>2021-08-15 16:54:45</td>\n      <td>1</td>\n      <td>1</td>\n      <td>0</td>\n      <td>...</td>\n      <td>0</td>\n      <td>0</td>\n      <td>0</td>\n      <td>0</td>\n      <td>0</td>\n      <td>0</td>\n      <td>0</td>\n      <td>0</td>\n      <td>0</td>\n      <td>0</td>\n    </tr>\n    <tr>\n      <th>4</th>\n      <td>102</td>\n      <td>[1008, 1007, 1013, 1012, 1004, 1010]</td>\n      <td>0</td>\n      <td>847</td>\n      <td>568.94</td>\n      <td>2021-01-05 00:05:38</td>\n      <td>2021-01-05 00:19:45</td>\n      <td>1</td>\n      <td>1</td>\n      <td>0</td>\n      <td>...</td>\n      <td>0</td>\n      <td>0</td>\n      <td>0</td>\n      <td>0</td>\n      <td>0</td>\n      <td>0</td>\n      <td>0</td>\n      <td>0</td>\n      <td>0</td>\n      <td>0</td>\n    </tr>\n  </tbody>\n</table>\n<p>5 rows × 38 columns</p>\n</div>"
     },
     "execution_count": 16,
     "metadata": {},
     "output_type": "execute_result"
    }
   ],
   "source": [
    "main_df.reset_index(inplace=True)\n",
    "main_df = pd.concat([main_df, timestamp_df], axis=1, join=\"inner\")\n",
    "main_df.drop(columns=['timestamp'], inplace=True)\n",
    "main_df.index.name = 'session_id'\n",
    "main_df = main_df[['user_id', 'product_id', 'offered_discount', 'session_length', 'price', 'session_start', 'session_end', 'purchased'] + list(sex_one_hot.columns.values) + list(categories_one_hot.columns.values)]\n",
    "main_df.head()"
   ],
   "metadata": {
    "collapsed": false,
    "pycharm": {
     "name": "#%%\n"
    }
   }
  },
  {
   "cell_type": "code",
   "execution_count": 17,
   "outputs": [],
   "source": [
    "main_df['n_views'] = [len(x) for x in main_df['product_id'].values]"
   ],
   "metadata": {
    "collapsed": false,
    "pycharm": {
     "name": "#%%\n"
    }
   }
  },
  {
   "cell_type": "code",
   "execution_count": 18,
   "outputs": [
    {
     "data": {
      "text/plain": "            user_id                                        product_id  \\\nsession_id                                                              \n0               102                                            [1283]   \n1               102  [1076, 1080, 1079, 1003, 1002, 1075, 1078, 1077]   \n2               102                                      [1281, 1278]   \n3               102                                      [1281, 1278]   \n4               102              [1008, 1007, 1013, 1012, 1004, 1010]   \n\n            offered_discount  session_length     price       session_start  \\\nsession_id                                                                   \n0                          5              19    199.98 2021-07-28 15:47:21   \n1                          0            1436  36664.54 2021-09-12 16:43:16   \n2                         15             117    222.60 2021-04-09 22:31:08   \n3                          0             519    208.50 2021-08-15 16:46:06   \n4                          0             847    568.94 2021-01-05 00:05:38   \n\n                   session_end  purchased  Female  Male  ...  Tablety  \\\nsession_id                                               ...            \n0          2021-07-28 15:47:40          1       1     0  ...        0   \n1          2021-09-12 17:07:12          1       1     0  ...        0   \n2          2021-04-09 22:33:05          1       1     0  ...        0   \n3          2021-08-15 16:54:45          1       1     0  ...        0   \n4          2021-01-05 00:19:45          1       1     0  ...        0   \n\n            Tablety i akcesoria  Telefony i akcesoria  Telefony komórkowe  \\\nsession_id                                                                  \n0                             0                     0                   0   \n1                             0                     0                   0   \n2                             0                     0                   0   \n3                             0                     0                   0   \n4                             0                     0                   0   \n\n            Telefony stacjonarne  Telewizory i akcesoria  Video  \\\nsession_id                                                        \n0                              0                       2      2   \n1                              0                       0      0   \n2                              0                       0      0   \n3                              0                       0      0   \n4                              0                       0      0   \n\n            Zestawy głośnomówiące  Zestawy słuchawkowe  n_views  \nsession_id                                                       \n0                               0                    0        1  \n1                               0                    0        8  \n2                               0                    0        2  \n3                               0                    0        2  \n4                               0                    0        6  \n\n[5 rows x 39 columns]",
      "text/html": "<div>\n<style scoped>\n    .dataframe tbody tr th:only-of-type {\n        vertical-align: middle;\n    }\n\n    .dataframe tbody tr th {\n        vertical-align: top;\n    }\n\n    .dataframe thead th {\n        text-align: right;\n    }\n</style>\n<table border=\"1\" class=\"dataframe\">\n  <thead>\n    <tr style=\"text-align: right;\">\n      <th></th>\n      <th>user_id</th>\n      <th>product_id</th>\n      <th>offered_discount</th>\n      <th>session_length</th>\n      <th>price</th>\n      <th>session_start</th>\n      <th>session_end</th>\n      <th>purchased</th>\n      <th>Female</th>\n      <th>Male</th>\n      <th>...</th>\n      <th>Tablety</th>\n      <th>Tablety i akcesoria</th>\n      <th>Telefony i akcesoria</th>\n      <th>Telefony komórkowe</th>\n      <th>Telefony stacjonarne</th>\n      <th>Telewizory i akcesoria</th>\n      <th>Video</th>\n      <th>Zestawy głośnomówiące</th>\n      <th>Zestawy słuchawkowe</th>\n      <th>n_views</th>\n    </tr>\n    <tr>\n      <th>session_id</th>\n      <th></th>\n      <th></th>\n      <th></th>\n      <th></th>\n      <th></th>\n      <th></th>\n      <th></th>\n      <th></th>\n      <th></th>\n      <th></th>\n      <th></th>\n      <th></th>\n      <th></th>\n      <th></th>\n      <th></th>\n      <th></th>\n      <th></th>\n      <th></th>\n      <th></th>\n      <th></th>\n      <th></th>\n    </tr>\n  </thead>\n  <tbody>\n    <tr>\n      <th>0</th>\n      <td>102</td>\n      <td>[1283]</td>\n      <td>5</td>\n      <td>19</td>\n      <td>199.98</td>\n      <td>2021-07-28 15:47:21</td>\n      <td>2021-07-28 15:47:40</td>\n      <td>1</td>\n      <td>1</td>\n      <td>0</td>\n      <td>...</td>\n      <td>0</td>\n      <td>0</td>\n      <td>0</td>\n      <td>0</td>\n      <td>0</td>\n      <td>2</td>\n      <td>2</td>\n      <td>0</td>\n      <td>0</td>\n      <td>1</td>\n    </tr>\n    <tr>\n      <th>1</th>\n      <td>102</td>\n      <td>[1076, 1080, 1079, 1003, 1002, 1075, 1078, 1077]</td>\n      <td>0</td>\n      <td>1436</td>\n      <td>36664.54</td>\n      <td>2021-09-12 16:43:16</td>\n      <td>2021-09-12 17:07:12</td>\n      <td>1</td>\n      <td>1</td>\n      <td>0</td>\n      <td>...</td>\n      <td>0</td>\n      <td>0</td>\n      <td>0</td>\n      <td>0</td>\n      <td>0</td>\n      <td>0</td>\n      <td>0</td>\n      <td>0</td>\n      <td>0</td>\n      <td>8</td>\n    </tr>\n    <tr>\n      <th>2</th>\n      <td>102</td>\n      <td>[1281, 1278]</td>\n      <td>15</td>\n      <td>117</td>\n      <td>222.60</td>\n      <td>2021-04-09 22:31:08</td>\n      <td>2021-04-09 22:33:05</td>\n      <td>1</td>\n      <td>1</td>\n      <td>0</td>\n      <td>...</td>\n      <td>0</td>\n      <td>0</td>\n      <td>0</td>\n      <td>0</td>\n      <td>0</td>\n      <td>0</td>\n      <td>0</td>\n      <td>0</td>\n      <td>0</td>\n      <td>2</td>\n    </tr>\n    <tr>\n      <th>3</th>\n      <td>102</td>\n      <td>[1281, 1278]</td>\n      <td>0</td>\n      <td>519</td>\n      <td>208.50</td>\n      <td>2021-08-15 16:46:06</td>\n      <td>2021-08-15 16:54:45</td>\n      <td>1</td>\n      <td>1</td>\n      <td>0</td>\n      <td>...</td>\n      <td>0</td>\n      <td>0</td>\n      <td>0</td>\n      <td>0</td>\n      <td>0</td>\n      <td>0</td>\n      <td>0</td>\n      <td>0</td>\n      <td>0</td>\n      <td>2</td>\n    </tr>\n    <tr>\n      <th>4</th>\n      <td>102</td>\n      <td>[1008, 1007, 1013, 1012, 1004, 1010]</td>\n      <td>0</td>\n      <td>847</td>\n      <td>568.94</td>\n      <td>2021-01-05 00:05:38</td>\n      <td>2021-01-05 00:19:45</td>\n      <td>1</td>\n      <td>1</td>\n      <td>0</td>\n      <td>...</td>\n      <td>0</td>\n      <td>0</td>\n      <td>0</td>\n      <td>0</td>\n      <td>0</td>\n      <td>0</td>\n      <td>0</td>\n      <td>0</td>\n      <td>0</td>\n      <td>6</td>\n    </tr>\n  </tbody>\n</table>\n<p>5 rows × 39 columns</p>\n</div>"
     },
     "execution_count": 18,
     "metadata": {},
     "output_type": "execute_result"
    }
   ],
   "source": [
    "main_df.head()"
   ],
   "metadata": {
    "collapsed": false,
    "pycharm": {
     "name": "#%%\n"
    }
   }
  },
  {
   "cell_type": "markdown",
   "source": [
    "## Przygotowanie danych do modelu"
   ],
   "metadata": {
    "collapsed": false,
    "pycharm": {
     "name": "#%% md\n"
    }
   }
  },
  {
   "cell_type": "code",
   "execution_count": 19,
   "outputs": [],
   "source": [
    "main_df.reset_index(inplace=True)"
   ],
   "metadata": {
    "collapsed": false,
    "pycharm": {
     "name": "#%%\n"
    }
   }
  },
  {
   "cell_type": "code",
   "execution_count": 20,
   "outputs": [],
   "source": [
    "main_df.drop(columns=['session_id', 'user_id', 'product_id'], inplace=True)"
   ],
   "metadata": {
    "collapsed": false,
    "pycharm": {
     "name": "#%%\n"
    }
   }
  },
  {
   "cell_type": "code",
   "execution_count": 21,
   "outputs": [],
   "source": [
    "dates_encoded = pd.DataFrame({\n",
    "    \"month\": main_df['session_start'].dt.month,\n",
    "    \"day\": main_df['session_start'].dt.day,\n",
    "    \"hour\": main_df['session_start'].dt.hour,\n",
    "    \"dayofweek\": main_df['session_start'].dt.dayofweek,\n",
    "})"
   ],
   "metadata": {
    "collapsed": false,
    "pycharm": {
     "name": "#%%\n"
    }
   }
  },
  {
   "cell_type": "code",
   "execution_count": 22,
   "outputs": [],
   "source": [
    "main_df = main_df.join(dates_encoded)"
   ],
   "metadata": {
    "collapsed": false,
    "pycharm": {
     "name": "#%%\n"
    }
   }
  },
  {
   "cell_type": "code",
   "execution_count": 23,
   "outputs": [],
   "source": [
    "main_df.drop(columns=['session_start', 'session_end'], inplace=True)"
   ],
   "metadata": {
    "collapsed": false,
    "pycharm": {
     "name": "#%%\n"
    }
   }
  },
  {
   "cell_type": "code",
   "execution_count": 24,
   "outputs": [
    {
     "data": {
      "text/plain": "   offered_discount  session_length     price  purchased  Female  Male  \\\n0                 5              19    199.98          1       1     0   \n1                 0            1436  36664.54          1       1     0   \n2                15             117    222.60          1       1     0   \n3                 0             519    208.50          1       1     0   \n4                 0             847    568.94          1       1     0   \n\n   Akcesoria telefoniczne  Anteny RTV  Audio  \\\n0                       0           0      0   \n1                       0           0      0   \n2                       0           0      0   \n3                       0           0      0   \n4                       0           0      0   \n\n   Biurowe urządzenia wielofunkcyjne  ...  Telefony stacjonarne  \\\n0                                  0  ...                     0   \n1                                  9  ...                     0   \n2                                  0  ...                     0   \n3                                  0  ...                     0   \n4                                  0  ...                     0   \n\n   Telewizory i akcesoria  Video  Zestawy głośnomówiące  Zestawy słuchawkowe  \\\n0                       2      2                      0                    0   \n1                       0      0                      0                    0   \n2                       0      0                      0                    0   \n3                       0      0                      0                    0   \n4                       0      0                      0                    0   \n\n   n_views  month  day  hour  dayofweek  \n0        1      7   28    15          2  \n1        8      9   12    16          6  \n2        2      4    9    22          4  \n3        2      8   15    16          6  \n4        6      1    5     0          1  \n\n[5 rows x 39 columns]",
      "text/html": "<div>\n<style scoped>\n    .dataframe tbody tr th:only-of-type {\n        vertical-align: middle;\n    }\n\n    .dataframe tbody tr th {\n        vertical-align: top;\n    }\n\n    .dataframe thead th {\n        text-align: right;\n    }\n</style>\n<table border=\"1\" class=\"dataframe\">\n  <thead>\n    <tr style=\"text-align: right;\">\n      <th></th>\n      <th>offered_discount</th>\n      <th>session_length</th>\n      <th>price</th>\n      <th>purchased</th>\n      <th>Female</th>\n      <th>Male</th>\n      <th>Akcesoria telefoniczne</th>\n      <th>Anteny RTV</th>\n      <th>Audio</th>\n      <th>Biurowe urządzenia wielofunkcyjne</th>\n      <th>...</th>\n      <th>Telefony stacjonarne</th>\n      <th>Telewizory i akcesoria</th>\n      <th>Video</th>\n      <th>Zestawy głośnomówiące</th>\n      <th>Zestawy słuchawkowe</th>\n      <th>n_views</th>\n      <th>month</th>\n      <th>day</th>\n      <th>hour</th>\n      <th>dayofweek</th>\n    </tr>\n  </thead>\n  <tbody>\n    <tr>\n      <th>0</th>\n      <td>5</td>\n      <td>19</td>\n      <td>199.98</td>\n      <td>1</td>\n      <td>1</td>\n      <td>0</td>\n      <td>0</td>\n      <td>0</td>\n      <td>0</td>\n      <td>0</td>\n      <td>...</td>\n      <td>0</td>\n      <td>2</td>\n      <td>2</td>\n      <td>0</td>\n      <td>0</td>\n      <td>1</td>\n      <td>7</td>\n      <td>28</td>\n      <td>15</td>\n      <td>2</td>\n    </tr>\n    <tr>\n      <th>1</th>\n      <td>0</td>\n      <td>1436</td>\n      <td>36664.54</td>\n      <td>1</td>\n      <td>1</td>\n      <td>0</td>\n      <td>0</td>\n      <td>0</td>\n      <td>0</td>\n      <td>9</td>\n      <td>...</td>\n      <td>0</td>\n      <td>0</td>\n      <td>0</td>\n      <td>0</td>\n      <td>0</td>\n      <td>8</td>\n      <td>9</td>\n      <td>12</td>\n      <td>16</td>\n      <td>6</td>\n    </tr>\n    <tr>\n      <th>2</th>\n      <td>15</td>\n      <td>117</td>\n      <td>222.60</td>\n      <td>1</td>\n      <td>1</td>\n      <td>0</td>\n      <td>0</td>\n      <td>0</td>\n      <td>0</td>\n      <td>0</td>\n      <td>...</td>\n      <td>0</td>\n      <td>0</td>\n      <td>0</td>\n      <td>0</td>\n      <td>0</td>\n      <td>2</td>\n      <td>4</td>\n      <td>9</td>\n      <td>22</td>\n      <td>4</td>\n    </tr>\n    <tr>\n      <th>3</th>\n      <td>0</td>\n      <td>519</td>\n      <td>208.50</td>\n      <td>1</td>\n      <td>1</td>\n      <td>0</td>\n      <td>0</td>\n      <td>0</td>\n      <td>0</td>\n      <td>0</td>\n      <td>...</td>\n      <td>0</td>\n      <td>0</td>\n      <td>0</td>\n      <td>0</td>\n      <td>0</td>\n      <td>2</td>\n      <td>8</td>\n      <td>15</td>\n      <td>16</td>\n      <td>6</td>\n    </tr>\n    <tr>\n      <th>4</th>\n      <td>0</td>\n      <td>847</td>\n      <td>568.94</td>\n      <td>1</td>\n      <td>1</td>\n      <td>0</td>\n      <td>0</td>\n      <td>0</td>\n      <td>0</td>\n      <td>0</td>\n      <td>...</td>\n      <td>0</td>\n      <td>0</td>\n      <td>0</td>\n      <td>0</td>\n      <td>0</td>\n      <td>6</td>\n      <td>1</td>\n      <td>5</td>\n      <td>0</td>\n      <td>1</td>\n    </tr>\n  </tbody>\n</table>\n<p>5 rows × 39 columns</p>\n</div>"
     },
     "execution_count": 24,
     "metadata": {},
     "output_type": "execute_result"
    }
   ],
   "source": [
    "main_df.head()"
   ],
   "metadata": {
    "collapsed": false,
    "pycharm": {
     "name": "#%%\n"
    }
   }
  },
  {
   "cell_type": "markdown",
   "source": [
    "# Wydzielenie zbioru treningowego, walidacyjnego i testowego"
   ],
   "metadata": {
    "collapsed": false,
    "pycharm": {
     "name": "#%% md\n"
    }
   }
  },
  {
   "cell_type": "code",
   "execution_count": 65,
   "outputs": [],
   "source": [
    "y = main_df['purchased'].values\n",
    "X = main_df.drop(columns=['purchased']).values"
   ],
   "metadata": {
    "collapsed": false,
    "pycharm": {
     "name": "#%%\n"
    }
   }
  },
  {
   "cell_type": "code",
   "execution_count": 66,
   "outputs": [
    {
     "data": {
      "text/plain": "array([[5.000000e+00, 1.900000e+01, 1.999800e+02, ..., 2.800000e+01,\n        1.500000e+01, 2.000000e+00],\n       [0.000000e+00, 1.436000e+03, 3.666454e+04, ..., 1.200000e+01,\n        1.600000e+01, 6.000000e+00],\n       [1.500000e+01, 1.170000e+02, 2.226000e+02, ..., 9.000000e+00,\n        2.200000e+01, 4.000000e+00],\n       ...,\n       [0.000000e+00, 1.617000e+03, 1.141660e+03, ..., 7.000000e+00,\n        7.000000e+00, 6.000000e+00],\n       [2.000000e+01, 0.000000e+00, 7.990000e+01, ..., 1.200000e+01,\n        0.000000e+00, 1.000000e+00],\n       [0.000000e+00, 0.000000e+00, 1.090000e+02, ..., 1.900000e+01,\n        2.100000e+01, 3.000000e+00]])"
     },
     "execution_count": 66,
     "metadata": {},
     "output_type": "execute_result"
    }
   ],
   "source": [
    "X"
   ],
   "metadata": {
    "collapsed": false,
    "pycharm": {
     "name": "#%%\n"
    }
   }
  },
  {
   "cell_type": "code",
   "execution_count": 67,
   "outputs": [
    {
     "data": {
      "text/plain": "array([1, 1, 1, ..., 0, 0, 0])"
     },
     "execution_count": 67,
     "metadata": {},
     "output_type": "execute_result"
    }
   ],
   "source": [
    "y"
   ],
   "metadata": {
    "collapsed": false,
    "pycharm": {
     "name": "#%%\n"
    }
   }
  },
  {
   "cell_type": "code",
   "execution_count": 68,
   "outputs": [],
   "source": [
    "X_train, X_test, y_train, y_test = train_test_split(X, y, test_size=0.3)"
   ],
   "metadata": {
    "collapsed": false,
    "pycharm": {
     "name": "#%%\n"
    }
   }
  },
  {
   "cell_type": "code",
   "execution_count": 69,
   "outputs": [
    {
     "data": {
      "text/plain": "(2859, 38)"
     },
     "execution_count": 69,
     "metadata": {},
     "output_type": "execute_result"
    }
   ],
   "source": [
    "X_test.shape"
   ],
   "metadata": {
    "collapsed": false,
    "pycharm": {
     "name": "#%%\n"
    }
   }
  },
  {
   "cell_type": "code",
   "execution_count": 70,
   "outputs": [
    {
     "data": {
      "text/plain": "(6668, 38)"
     },
     "execution_count": 70,
     "metadata": {},
     "output_type": "execute_result"
    }
   ],
   "source": [
    "X_train.shape"
   ],
   "metadata": {
    "collapsed": false,
    "pycharm": {
     "name": "#%%\n"
    }
   }
  },
  {
   "cell_type": "markdown",
   "source": [
    "## Szukanie modelu"
   ],
   "metadata": {
    "collapsed": false,
    "pycharm": {
     "name": "#%% md\n"
    }
   }
  },
  {
   "cell_type": "markdown",
   "source": [
    "## RandomForest"
   ],
   "metadata": {
    "collapsed": false,
    "pycharm": {
     "name": "#%% md\n"
    }
   }
  },
  {
   "cell_type": "code",
   "execution_count": 71,
   "outputs": [
    {
     "data": {
      "text/plain": "RandomForestClassifier()"
     },
     "execution_count": 71,
     "metadata": {},
     "output_type": "execute_result"
    }
   ],
   "source": [
    "random_forest = RandomForestClassifier()\n",
    "random_forest.fit(X_train, y_train)"
   ],
   "metadata": {
    "collapsed": false,
    "pycharm": {
     "name": "#%%\n"
    }
   }
  },
  {
   "cell_type": "code",
   "execution_count": 72,
   "outputs": [
    {
     "data": {
      "text/plain": "0.9736053144598872"
     },
     "execution_count": 72,
     "metadata": {},
     "output_type": "execute_result"
    }
   ],
   "source": [
    "rand_forest_scores = cross_val_score(random_forest, X_train, y_train, cv=10, scoring=\"accuracy\")\n",
    "rand_forest_scores.mean()"
   ],
   "metadata": {
    "collapsed": false,
    "pycharm": {
     "name": "#%%\n"
    }
   }
  },
  {
   "cell_type": "markdown",
   "source": [
    "## KNN"
   ],
   "metadata": {
    "collapsed": false,
    "pycharm": {
     "name": "#%% md\n"
    }
   }
  },
  {
   "cell_type": "code",
   "execution_count": 33,
   "outputs": [
    {
     "data": {
      "text/plain": "KNeighborsClassifier()"
     },
     "execution_count": 33,
     "metadata": {},
     "output_type": "execute_result"
    }
   ],
   "source": [
    "knn = KNeighborsClassifier()\n",
    "knn.fit(X_train, y_train)"
   ],
   "metadata": {
    "collapsed": false,
    "pycharm": {
     "name": "#%%\n"
    }
   }
  },
  {
   "cell_type": "code",
   "execution_count": 34,
   "outputs": [
    {
     "data": {
      "text/plain": "0.804441698069884"
     },
     "execution_count": 34,
     "metadata": {},
     "output_type": "execute_result"
    }
   ],
   "source": [
    "knn_forest_scores = cross_val_score(knn, X_train, y_train, cv=10, scoring=\"accuracy\")\n",
    "knn_forest_scores.mean()"
   ],
   "metadata": {
    "collapsed": false,
    "pycharm": {
     "name": "#%%\n"
    }
   }
  },
  {
   "cell_type": "markdown",
   "source": [
    "## SVM"
   ],
   "metadata": {
    "collapsed": false,
    "pycharm": {
     "name": "#%% md\n"
    }
   }
  },
  {
   "cell_type": "code",
   "execution_count": 35,
   "outputs": [],
   "source": [
    "svm = SVC(kernel=\"rbf\")"
   ],
   "metadata": {
    "collapsed": false,
    "pycharm": {
     "name": "#%%\n"
    }
   }
  },
  {
   "cell_type": "code",
   "execution_count": 36,
   "outputs": [
    {
     "data": {
      "text/plain": "0.5865342103722913"
     },
     "execution_count": 36,
     "metadata": {},
     "output_type": "execute_result"
    }
   ],
   "source": [
    "svm_scores = cross_val_score(svm, X_train, y_train, cv=10, scoring=\"accuracy\")\n",
    "svm_scores.mean()"
   ],
   "metadata": {
    "collapsed": false,
    "pycharm": {
     "name": "#%%\n"
    }
   }
  },
  {
   "cell_type": "markdown",
   "source": [
    "## Gradient Boosting"
   ],
   "metadata": {
    "collapsed": false,
    "pycharm": {
     "name": "#%% md\n"
    }
   }
  },
  {
   "cell_type": "code",
   "execution_count": 37,
   "outputs": [],
   "source": [
    "gradient_boosting = GradientBoostingClassifier()"
   ],
   "metadata": {
    "collapsed": false,
    "pycharm": {
     "name": "#%%\n"
    }
   }
  },
  {
   "cell_type": "code",
   "execution_count": 38,
   "outputs": [
    {
     "data": {
      "text/plain": "0.9305641090424833"
     },
     "execution_count": 38,
     "metadata": {},
     "output_type": "execute_result"
    }
   ],
   "source": [
    "gradient_boosting_scores = cross_val_score(gradient_boosting, X_train, y_train, cv=3, scoring=\"accuracy\")\n",
    "gradient_boosting_scores.mean()"
   ],
   "metadata": {
    "collapsed": false,
    "pycharm": {
     "name": "#%%\n"
    }
   }
  },
  {
   "cell_type": "markdown",
   "source": [
    "## Sieć neuronowa"
   ],
   "metadata": {
    "collapsed": false,
    "pycharm": {
     "name": "#%% md\n"
    }
   }
  },
  {
   "cell_type": "code",
   "execution_count": 39,
   "outputs": [
    {
     "name": "stderr",
     "output_type": "stream",
     "text": [
      "2022-01-08 18:13:06.987661: I tensorflow/stream_executor/cuda/cuda_gpu_executor.cc:939] successful NUMA node read from SysFS had negative value (-1), but there must be at least one NUMA node, so returning NUMA node zero\n",
      "2022-01-08 18:13:07.013079: W tensorflow/stream_executor/platform/default/dso_loader.cc:64] Could not load dynamic library 'libcudnn.so.8'; dlerror: libcudnn.so.8: cannot open shared object file: No such file or directory\n",
      "2022-01-08 18:13:07.013093: W tensorflow/core/common_runtime/gpu/gpu_device.cc:1850] Cannot dlopen some GPU libraries. Please make sure the missing libraries mentioned above are installed properly if you would like to use GPU. Follow the guide at https://www.tensorflow.org/install/gpu for how to download and setup the required libraries for your platform.\n",
      "Skipping registering GPU devices...\n",
      "2022-01-08 18:13:07.013547: I tensorflow/core/platform/cpu_feature_guard.cc:151] This TensorFlow binary is optimized with oneAPI Deep Neural Network Library (oneDNN) to use the following CPU instructions in performance-critical operations:  AVX2 FMA\n",
      "To enable them in other operations, rebuild TensorFlow with the appropriate compiler flags.\n"
     ]
    }
   ],
   "source": [
    "model = tf.keras.Sequential([\n",
    "    tf.keras.layers.Dense(128, activation='relu', input_dim=len(main_df.columns)-1),\n",
    "    tf.keras.layers.Dense(64, activation='relu'),\n",
    "    tf.keras.layers.Dense(32, activation='relu'),\n",
    "    tf.keras.layers.Dense(1, activation=\"sigmoid\")\n",
    "\n",
    "])"
   ],
   "metadata": {
    "collapsed": false,
    "pycharm": {
     "name": "#%%\n"
    }
   }
  },
  {
   "cell_type": "code",
   "execution_count": 40,
   "outputs": [
    {
     "name": "stdout",
     "output_type": "stream",
     "text": [
      "Model: \"sequential\"\n",
      "_________________________________________________________________\n",
      " Layer (type)                Output Shape              Param #   \n",
      "=================================================================\n",
      " dense (Dense)               (None, 128)               4992      \n",
      "                                                                 \n",
      " dense_1 (Dense)             (None, 64)                8256      \n",
      "                                                                 \n",
      " dense_2 (Dense)             (None, 32)                2080      \n",
      "                                                                 \n",
      " dense_3 (Dense)             (None, 1)                 33        \n",
      "                                                                 \n",
      "=================================================================\n",
      "Total params: 15,361\n",
      "Trainable params: 15,361\n",
      "Non-trainable params: 0\n",
      "_________________________________________________________________\n"
     ]
    }
   ],
   "source": [
    "model.summary()"
   ],
   "metadata": {
    "collapsed": false,
    "pycharm": {
     "name": "#%%\n"
    }
   }
  },
  {
   "cell_type": "code",
   "execution_count": 41,
   "outputs": [],
   "source": [
    "model.compile(optimizer='adam',\n",
    "              loss=tf.keras.losses.BinaryCrossentropy(),\n",
    "              metrics=['accuracy'])"
   ],
   "metadata": {
    "collapsed": false,
    "pycharm": {
     "name": "#%%\n"
    }
   }
  },
  {
   "cell_type": "code",
   "execution_count": 42,
   "outputs": [
    {
     "name": "stdout",
     "output_type": "stream",
     "text": [
      "Epoch 1/200\n",
      "209/209 [==============================] - 0s 628us/step - loss: 6.8104 - accuracy: 0.6053\n",
      "Epoch 2/200\n",
      "209/209 [==============================] - 0s 631us/step - loss: 4.0076 - accuracy: 0.6461\n",
      "Epoch 3/200\n",
      "209/209 [==============================] - 0s 598us/step - loss: 5.0796 - accuracy: 0.6479\n",
      "Epoch 4/200\n",
      "209/209 [==============================] - 0s 610us/step - loss: 2.8016 - accuracy: 0.6725\n",
      "Epoch 5/200\n",
      "209/209 [==============================] - 0s 561us/step - loss: 2.8625 - accuracy: 0.6593\n",
      "Epoch 6/200\n",
      "209/209 [==============================] - 0s 577us/step - loss: 2.9004 - accuracy: 0.6774\n",
      "Epoch 7/200\n",
      "209/209 [==============================] - 0s 627us/step - loss: 1.5688 - accuracy: 0.6983\n",
      "Epoch 8/200\n",
      "209/209 [==============================] - 0s 576us/step - loss: 1.7745 - accuracy: 0.6900\n",
      "Epoch 9/200\n",
      "209/209 [==============================] - 0s 626us/step - loss: 2.1750 - accuracy: 0.6855\n",
      "Epoch 10/200\n",
      "209/209 [==============================] - 0s 591us/step - loss: 1.2560 - accuracy: 0.7031\n",
      "Epoch 11/200\n",
      "209/209 [==============================] - 0s 560us/step - loss: 1.1714 - accuracy: 0.7095\n",
      "Epoch 12/200\n",
      "209/209 [==============================] - 0s 620us/step - loss: 0.7828 - accuracy: 0.7238\n",
      "Epoch 13/200\n",
      "209/209 [==============================] - 0s 601us/step - loss: 0.7439 - accuracy: 0.7287\n",
      "Epoch 14/200\n",
      "209/209 [==============================] - 0s 580us/step - loss: 0.7119 - accuracy: 0.7254\n",
      "Epoch 15/200\n",
      "209/209 [==============================] - 0s 584us/step - loss: 0.5394 - accuracy: 0.7412\n",
      "Epoch 16/200\n",
      "209/209 [==============================] - 0s 602us/step - loss: 0.5438 - accuracy: 0.7404\n",
      "Epoch 17/200\n",
      "209/209 [==============================] - 0s 624us/step - loss: 0.5305 - accuracy: 0.7457\n",
      "Epoch 18/200\n",
      "209/209 [==============================] - 0s 608us/step - loss: 0.4825 - accuracy: 0.7585\n",
      "Epoch 19/200\n",
      "209/209 [==============================] - 0s 605us/step - loss: 0.4871 - accuracy: 0.7542\n",
      "Epoch 20/200\n",
      "209/209 [==============================] - 0s 635us/step - loss: 0.4723 - accuracy: 0.7515\n",
      "Epoch 21/200\n",
      "209/209 [==============================] - 0s 631us/step - loss: 0.4422 - accuracy: 0.7606\n",
      "Epoch 22/200\n",
      "209/209 [==============================] - 0s 589us/step - loss: 0.4605 - accuracy: 0.7600\n",
      "Epoch 23/200\n",
      "209/209 [==============================] - 0s 590us/step - loss: 0.4382 - accuracy: 0.7660\n",
      "Epoch 24/200\n",
      "209/209 [==============================] - 0s 626us/step - loss: 0.4262 - accuracy: 0.7743\n",
      "Epoch 25/200\n",
      "209/209 [==============================] - 0s 649us/step - loss: 0.4227 - accuracy: 0.7783\n",
      "Epoch 26/200\n",
      "209/209 [==============================] - 0s 606us/step - loss: 0.4123 - accuracy: 0.7837\n",
      "Epoch 27/200\n",
      "209/209 [==============================] - 0s 635us/step - loss: 0.3985 - accuracy: 0.7843\n",
      "Epoch 28/200\n",
      "209/209 [==============================] - 0s 603us/step - loss: 0.3880 - accuracy: 0.7933\n",
      "Epoch 29/200\n",
      "209/209 [==============================] - 0s 580us/step - loss: 0.3788 - accuracy: 0.7962\n",
      "Epoch 30/200\n",
      "209/209 [==============================] - 0s 605us/step - loss: 0.4152 - accuracy: 0.7912\n",
      "Epoch 31/200\n",
      "209/209 [==============================] - 0s 598us/step - loss: 0.3743 - accuracy: 0.8023\n",
      "Epoch 32/200\n",
      "209/209 [==============================] - 0s 627us/step - loss: 0.3641 - accuracy: 0.8110\n",
      "Epoch 33/200\n",
      "209/209 [==============================] - 0s 547us/step - loss: 0.3645 - accuracy: 0.8109\n",
      "Epoch 34/200\n",
      "209/209 [==============================] - 0s 597us/step - loss: 0.4016 - accuracy: 0.7914\n",
      "Epoch 35/200\n",
      "209/209 [==============================] - 0s 597us/step - loss: 0.4025 - accuracy: 0.7887\n",
      "Epoch 36/200\n",
      "209/209 [==============================] - 0s 649us/step - loss: 0.4615 - accuracy: 0.7750\n",
      "Epoch 37/200\n",
      "209/209 [==============================] - 0s 559us/step - loss: 0.3727 - accuracy: 0.8025\n",
      "Epoch 38/200\n",
      "209/209 [==============================] - 0s 585us/step - loss: 0.3749 - accuracy: 0.8068\n",
      "Epoch 39/200\n",
      "209/209 [==============================] - 0s 622us/step - loss: 0.3730 - accuracy: 0.8025\n",
      "Epoch 40/200\n",
      "209/209 [==============================] - 0s 590us/step - loss: 0.3399 - accuracy: 0.8199\n",
      "Epoch 41/200\n",
      "209/209 [==============================] - 0s 584us/step - loss: 0.3298 - accuracy: 0.8254\n",
      "Epoch 42/200\n",
      "209/209 [==============================] - 0s 601us/step - loss: 0.3572 - accuracy: 0.8199\n",
      "Epoch 43/200\n",
      "209/209 [==============================] - 0s 604us/step - loss: 0.3418 - accuracy: 0.8160\n",
      "Epoch 44/200\n",
      "209/209 [==============================] - 0s 604us/step - loss: 0.2877 - accuracy: 0.8421\n",
      "Epoch 45/200\n",
      "209/209 [==============================] - 0s 623us/step - loss: 0.3006 - accuracy: 0.8371\n",
      "Epoch 46/200\n",
      "209/209 [==============================] - 0s 611us/step - loss: 0.3162 - accuracy: 0.8206\n",
      "Epoch 47/200\n",
      "209/209 [==============================] - 0s 588us/step - loss: 0.3019 - accuracy: 0.8425\n",
      "Epoch 48/200\n",
      "209/209 [==============================] - 0s 622us/step - loss: 0.3443 - accuracy: 0.8191\n",
      "Epoch 49/200\n",
      "209/209 [==============================] - 0s 606us/step - loss: 0.3138 - accuracy: 0.8257\n",
      "Epoch 50/200\n",
      "209/209 [==============================] - 0s 594us/step - loss: 0.2878 - accuracy: 0.8424\n",
      "Epoch 51/200\n",
      "209/209 [==============================] - 0s 647us/step - loss: 0.3999 - accuracy: 0.8322\n",
      "Epoch 52/200\n",
      "209/209 [==============================] - 0s 609us/step - loss: 0.2744 - accuracy: 0.8577\n",
      "Epoch 53/200\n",
      "209/209 [==============================] - 0s 598us/step - loss: 0.2994 - accuracy: 0.8439\n",
      "Epoch 54/200\n",
      "209/209 [==============================] - 0s 599us/step - loss: 0.2566 - accuracy: 0.8616\n",
      "Epoch 55/200\n",
      "209/209 [==============================] - 0s 625us/step - loss: 0.2586 - accuracy: 0.8517\n",
      "Epoch 56/200\n",
      "209/209 [==============================] - 0s 620us/step - loss: 0.2991 - accuracy: 0.8418\n",
      "Epoch 57/200\n",
      "209/209 [==============================] - 0s 589us/step - loss: 0.2832 - accuracy: 0.8431\n",
      "Epoch 58/200\n",
      "209/209 [==============================] - 0s 630us/step - loss: 0.2809 - accuracy: 0.8506\n",
      "Epoch 59/200\n",
      "209/209 [==============================] - 0s 587us/step - loss: 0.2471 - accuracy: 0.8658\n",
      "Epoch 60/200\n",
      "209/209 [==============================] - 0s 625us/step - loss: 0.2677 - accuracy: 0.8619\n",
      "Epoch 61/200\n",
      "209/209 [==============================] - 0s 608us/step - loss: 0.2219 - accuracy: 0.8761\n",
      "Epoch 62/200\n",
      "209/209 [==============================] - 0s 596us/step - loss: 0.2703 - accuracy: 0.8592\n",
      "Epoch 63/200\n",
      "209/209 [==============================] - 0s 617us/step - loss: 0.2280 - accuracy: 0.8748\n",
      "Epoch 64/200\n",
      "209/209 [==============================] - 0s 620us/step - loss: 0.2423 - accuracy: 0.8733\n",
      "Epoch 65/200\n",
      "209/209 [==============================] - 0s 628us/step - loss: 0.3012 - accuracy: 0.8500\n",
      "Epoch 66/200\n",
      "209/209 [==============================] - 0s 642us/step - loss: 0.2763 - accuracy: 0.8515\n",
      "Epoch 67/200\n",
      "209/209 [==============================] - 0s 595us/step - loss: 0.2553 - accuracy: 0.8637\n",
      "Epoch 68/200\n",
      "209/209 [==============================] - 0s 623us/step - loss: 0.2396 - accuracy: 0.8677\n",
      "Epoch 69/200\n",
      "209/209 [==============================] - 0s 600us/step - loss: 0.2375 - accuracy: 0.8716\n",
      "Epoch 70/200\n",
      "209/209 [==============================] - 0s 623us/step - loss: 0.2950 - accuracy: 0.8482\n",
      "Epoch 71/200\n",
      "209/209 [==============================] - 0s 606us/step - loss: 0.2400 - accuracy: 0.8721\n",
      "Epoch 72/200\n",
      "209/209 [==============================] - 0s 634us/step - loss: 0.2811 - accuracy: 0.8536\n",
      "Epoch 73/200\n",
      "209/209 [==============================] - 0s 637us/step - loss: 0.2110 - accuracy: 0.8809\n",
      "Epoch 74/200\n",
      "209/209 [==============================] - 0s 586us/step - loss: 0.2819 - accuracy: 0.8464\n",
      "Epoch 75/200\n",
      "209/209 [==============================] - 0s 631us/step - loss: 0.2568 - accuracy: 0.8644\n",
      "Epoch 76/200\n",
      "209/209 [==============================] - 0s 642us/step - loss: 0.2375 - accuracy: 0.8730\n",
      "Epoch 77/200\n",
      "209/209 [==============================] - 0s 617us/step - loss: 0.2122 - accuracy: 0.8856\n",
      "Epoch 78/200\n",
      "209/209 [==============================] - 0s 618us/step - loss: 0.2400 - accuracy: 0.8752\n",
      "Epoch 79/200\n",
      "209/209 [==============================] - 0s 571us/step - loss: 0.2683 - accuracy: 0.8692\n",
      "Epoch 80/200\n",
      "209/209 [==============================] - 0s 567us/step - loss: 0.2621 - accuracy: 0.8647\n",
      "Epoch 81/200\n",
      "209/209 [==============================] - 0s 548us/step - loss: 0.2582 - accuracy: 0.8616\n",
      "Epoch 82/200\n",
      "209/209 [==============================] - 0s 617us/step - loss: 0.2094 - accuracy: 0.8788\n",
      "Epoch 83/200\n",
      "209/209 [==============================] - 0s 643us/step - loss: 0.2244 - accuracy: 0.8737\n",
      "Epoch 84/200\n",
      "209/209 [==============================] - 0s 602us/step - loss: 0.2411 - accuracy: 0.8710\n",
      "Epoch 85/200\n",
      "209/209 [==============================] - 0s 585us/step - loss: 0.2253 - accuracy: 0.8835\n",
      "Epoch 86/200\n",
      "209/209 [==============================] - 0s 585us/step - loss: 0.2350 - accuracy: 0.8769\n",
      "Epoch 87/200\n",
      "209/209 [==============================] - 0s 596us/step - loss: 0.2021 - accuracy: 0.8875\n",
      "Epoch 88/200\n",
      "209/209 [==============================] - 0s 622us/step - loss: 0.2478 - accuracy: 0.8605\n",
      "Epoch 89/200\n",
      "209/209 [==============================] - 0s 625us/step - loss: 0.2391 - accuracy: 0.8764\n",
      "Epoch 90/200\n",
      "209/209 [==============================] - 0s 581us/step - loss: 0.1935 - accuracy: 0.8938\n",
      "Epoch 91/200\n",
      "209/209 [==============================] - 0s 607us/step - loss: 0.2036 - accuracy: 0.8875\n",
      "Epoch 92/200\n",
      "209/209 [==============================] - 0s 605us/step - loss: 0.3295 - accuracy: 0.8485\n",
      "Epoch 93/200\n",
      "209/209 [==============================] - 0s 605us/step - loss: 0.2018 - accuracy: 0.8889\n",
      "Epoch 94/200\n",
      "209/209 [==============================] - 0s 643us/step - loss: 0.2358 - accuracy: 0.8788\n",
      "Epoch 95/200\n",
      "209/209 [==============================] - 0s 625us/step - loss: 0.2302 - accuracy: 0.8767\n",
      "Epoch 96/200\n",
      "209/209 [==============================] - 0s 625us/step - loss: 0.2079 - accuracy: 0.8911\n",
      "Epoch 97/200\n",
      "209/209 [==============================] - 0s 622us/step - loss: 0.2388 - accuracy: 0.8877\n",
      "Epoch 98/200\n",
      "209/209 [==============================] - 0s 635us/step - loss: 0.2354 - accuracy: 0.8808\n",
      "Epoch 99/200\n",
      "209/209 [==============================] - 0s 610us/step - loss: 0.2373 - accuracy: 0.8764\n",
      "Epoch 100/200\n",
      "209/209 [==============================] - 0s 620us/step - loss: 0.1985 - accuracy: 0.8920\n",
      "Epoch 101/200\n",
      "209/209 [==============================] - 0s 672us/step - loss: 0.2227 - accuracy: 0.8758\n",
      "Epoch 102/200\n",
      "209/209 [==============================] - 0s 603us/step - loss: 0.2212 - accuracy: 0.8869\n",
      "Epoch 103/200\n",
      "209/209 [==============================] - 0s 589us/step - loss: 0.2191 - accuracy: 0.8832\n",
      "Epoch 104/200\n",
      "209/209 [==============================] - 0s 574us/step - loss: 0.2172 - accuracy: 0.8877\n",
      "Epoch 105/200\n",
      "209/209 [==============================] - 0s 604us/step - loss: 0.2561 - accuracy: 0.8593\n",
      "Epoch 106/200\n",
      "209/209 [==============================] - 0s 629us/step - loss: 0.1966 - accuracy: 0.8967\n",
      "Epoch 107/200\n",
      "209/209 [==============================] - 0s 597us/step - loss: 0.1833 - accuracy: 0.9006\n",
      "Epoch 108/200\n",
      "209/209 [==============================] - 0s 597us/step - loss: 0.2449 - accuracy: 0.8610\n",
      "Epoch 109/200\n",
      "209/209 [==============================] - 0s 665us/step - loss: 0.1962 - accuracy: 0.8967\n",
      "Epoch 110/200\n",
      "209/209 [==============================] - 0s 595us/step - loss: 0.2244 - accuracy: 0.8829\n",
      "Epoch 111/200\n",
      "209/209 [==============================] - 0s 605us/step - loss: 0.1984 - accuracy: 0.8947\n",
      "Epoch 112/200\n",
      "209/209 [==============================] - 0s 651us/step - loss: 0.2047 - accuracy: 0.8920\n",
      "Epoch 113/200\n",
      "209/209 [==============================] - 0s 622us/step - loss: 0.2301 - accuracy: 0.8857\n",
      "Epoch 114/200\n",
      "209/209 [==============================] - 0s 612us/step - loss: 0.1828 - accuracy: 0.8986\n",
      "Epoch 115/200\n",
      "209/209 [==============================] - 0s 610us/step - loss: 0.1834 - accuracy: 0.8964\n",
      "Epoch 116/200\n",
      "209/209 [==============================] - 0s 653us/step - loss: 0.3109 - accuracy: 0.8647\n",
      "Epoch 117/200\n",
      "209/209 [==============================] - 0s 584us/step - loss: 0.2035 - accuracy: 0.8940\n",
      "Epoch 118/200\n",
      "209/209 [==============================] - 0s 654us/step - loss: 0.2717 - accuracy: 0.8722\n",
      "Epoch 119/200\n",
      "209/209 [==============================] - 0s 640us/step - loss: 0.2583 - accuracy: 0.8617\n",
      "Epoch 120/200\n",
      "209/209 [==============================] - 0s 627us/step - loss: 0.2471 - accuracy: 0.8733\n",
      "Epoch 121/200\n",
      "209/209 [==============================] - 0s 607us/step - loss: 0.2134 - accuracy: 0.8860\n",
      "Epoch 122/200\n",
      "209/209 [==============================] - 0s 606us/step - loss: 0.1963 - accuracy: 0.8919\n",
      "Epoch 123/200\n",
      "209/209 [==============================] - 0s 617us/step - loss: 0.2315 - accuracy: 0.8808\n",
      "Epoch 124/200\n",
      "209/209 [==============================] - 0s 615us/step - loss: 0.2423 - accuracy: 0.8896\n",
      "Epoch 125/200\n",
      "209/209 [==============================] - 0s 633us/step - loss: 0.1910 - accuracy: 0.8973\n",
      "Epoch 126/200\n",
      "209/209 [==============================] - 0s 650us/step - loss: 0.1895 - accuracy: 0.8998\n",
      "Epoch 127/200\n",
      "209/209 [==============================] - 0s 601us/step - loss: 0.2072 - accuracy: 0.8898\n",
      "Epoch 128/200\n",
      "209/209 [==============================] - 0s 599us/step - loss: 0.1881 - accuracy: 0.8929\n",
      "Epoch 129/200\n",
      "209/209 [==============================] - 0s 622us/step - loss: 0.1840 - accuracy: 0.8988\n",
      "Epoch 130/200\n",
      "209/209 [==============================] - 0s 629us/step - loss: 0.1895 - accuracy: 0.8961\n",
      "Epoch 131/200\n",
      "209/209 [==============================] - 0s 614us/step - loss: 0.1904 - accuracy: 0.8845\n",
      "Epoch 132/200\n",
      "209/209 [==============================] - 0s 568us/step - loss: 0.2160 - accuracy: 0.8887\n",
      "Epoch 133/200\n",
      "209/209 [==============================] - 0s 580us/step - loss: 0.2256 - accuracy: 0.8910\n",
      "Epoch 134/200\n",
      "209/209 [==============================] - 0s 607us/step - loss: 0.2413 - accuracy: 0.8736\n",
      "Epoch 135/200\n",
      "209/209 [==============================] - 0s 627us/step - loss: 0.2127 - accuracy: 0.8896\n",
      "Epoch 136/200\n",
      "209/209 [==============================] - 0s 585us/step - loss: 0.1734 - accuracy: 0.9052\n",
      "Epoch 137/200\n",
      "209/209 [==============================] - 0s 640us/step - loss: 0.2335 - accuracy: 0.8491\n",
      "Epoch 138/200\n",
      "209/209 [==============================] - 0s 607us/step - loss: 0.2199 - accuracy: 0.8758\n",
      "Epoch 139/200\n",
      "209/209 [==============================] - 0s 584us/step - loss: 0.1904 - accuracy: 0.8986\n",
      "Epoch 140/200\n",
      "209/209 [==============================] - 0s 574us/step - loss: 0.1819 - accuracy: 0.9034\n",
      "Epoch 141/200\n",
      "209/209 [==============================] - 0s 601us/step - loss: 0.2039 - accuracy: 0.8965\n",
      "Epoch 142/200\n",
      "209/209 [==============================] - 0s 609us/step - loss: 0.1801 - accuracy: 0.9004\n",
      "Epoch 143/200\n",
      "209/209 [==============================] - 0s 603us/step - loss: 0.1965 - accuracy: 0.8974\n",
      "Epoch 144/200\n",
      "209/209 [==============================] - 0s 591us/step - loss: 0.1733 - accuracy: 0.9039\n",
      "Epoch 145/200\n",
      "209/209 [==============================] - 0s 615us/step - loss: 0.1835 - accuracy: 0.9057\n",
      "Epoch 146/200\n",
      "209/209 [==============================] - 0s 603us/step - loss: 0.2037 - accuracy: 0.8967\n",
      "Epoch 147/200\n",
      "209/209 [==============================] - 0s 595us/step - loss: 0.1807 - accuracy: 0.9048\n",
      "Epoch 148/200\n",
      "209/209 [==============================] - 0s 591us/step - loss: 0.2237 - accuracy: 0.8913\n",
      "Epoch 149/200\n",
      "209/209 [==============================] - 0s 591us/step - loss: 0.2015 - accuracy: 0.9000\n",
      "Epoch 150/200\n",
      "209/209 [==============================] - 0s 589us/step - loss: 0.2244 - accuracy: 0.8892\n",
      "Epoch 151/200\n",
      "209/209 [==============================] - 0s 537us/step - loss: 0.1823 - accuracy: 0.9042\n",
      "Epoch 152/200\n",
      "209/209 [==============================] - 0s 607us/step - loss: 0.2175 - accuracy: 0.8719\n",
      "Epoch 153/200\n",
      "209/209 [==============================] - 0s 658us/step - loss: 0.2176 - accuracy: 0.8802\n",
      "Epoch 154/200\n",
      "209/209 [==============================] - 0s 632us/step - loss: 0.2076 - accuracy: 0.8865\n",
      "Epoch 155/200\n",
      "209/209 [==============================] - 0s 645us/step - loss: 0.1855 - accuracy: 0.9022\n",
      "Epoch 156/200\n",
      "209/209 [==============================] - 0s 648us/step - loss: 0.1835 - accuracy: 0.9064\n",
      "Epoch 157/200\n",
      "209/209 [==============================] - 0s 622us/step - loss: 0.1668 - accuracy: 0.9139\n",
      "Epoch 158/200\n",
      "209/209 [==============================] - 0s 631us/step - loss: 0.1886 - accuracy: 0.9042\n",
      "Epoch 159/200\n",
      "209/209 [==============================] - 0s 612us/step - loss: 0.2106 - accuracy: 0.8928\n",
      "Epoch 160/200\n",
      "209/209 [==============================] - 0s 654us/step - loss: 0.2475 - accuracy: 0.8908\n",
      "Epoch 161/200\n",
      "209/209 [==============================] - 0s 587us/step - loss: 0.1738 - accuracy: 0.9130\n",
      "Epoch 162/200\n",
      "209/209 [==============================] - 0s 600us/step - loss: 0.1937 - accuracy: 0.8998\n",
      "Epoch 163/200\n",
      "209/209 [==============================] - 0s 606us/step - loss: 0.2202 - accuracy: 0.8905\n",
      "Epoch 164/200\n",
      "209/209 [==============================] - 0s 618us/step - loss: 0.1821 - accuracy: 0.9049\n",
      "Epoch 165/200\n",
      "209/209 [==============================] - 0s 608us/step - loss: 0.1643 - accuracy: 0.9190\n",
      "Epoch 166/200\n",
      "209/209 [==============================] - 0s 582us/step - loss: 0.2116 - accuracy: 0.8971\n",
      "Epoch 167/200\n",
      "209/209 [==============================] - 0s 574us/step - loss: 0.1658 - accuracy: 0.9202\n",
      "Epoch 168/200\n",
      "209/209 [==============================] - 0s 602us/step - loss: 0.1639 - accuracy: 0.9147\n",
      "Epoch 169/200\n",
      "209/209 [==============================] - 0s 658us/step - loss: 0.1791 - accuracy: 0.9085\n",
      "Epoch 170/200\n",
      "209/209 [==============================] - 0s 618us/step - loss: 0.1585 - accuracy: 0.9195\n",
      "Epoch 171/200\n",
      "209/209 [==============================] - 0s 581us/step - loss: 0.1552 - accuracy: 0.9225\n",
      "Epoch 172/200\n",
      "209/209 [==============================] - 0s 609us/step - loss: 0.1483 - accuracy: 0.9198\n",
      "Epoch 173/200\n",
      "209/209 [==============================] - 0s 577us/step - loss: 0.1618 - accuracy: 0.9175\n",
      "Epoch 174/200\n",
      "209/209 [==============================] - 0s 601us/step - loss: 0.1591 - accuracy: 0.9073\n",
      "Epoch 175/200\n",
      "209/209 [==============================] - 0s 600us/step - loss: 0.2042 - accuracy: 0.9105\n",
      "Epoch 176/200\n",
      "209/209 [==============================] - 0s 644us/step - loss: 0.1761 - accuracy: 0.9129\n",
      "Epoch 177/200\n",
      "209/209 [==============================] - 0s 617us/step - loss: 0.2402 - accuracy: 0.8956\n",
      "Epoch 178/200\n",
      "209/209 [==============================] - 0s 600us/step - loss: 0.1678 - accuracy: 0.9049\n",
      "Epoch 179/200\n",
      "209/209 [==============================] - 0s 598us/step - loss: 0.1553 - accuracy: 0.9243\n",
      "Epoch 180/200\n",
      "209/209 [==============================] - 0s 616us/step - loss: 0.1872 - accuracy: 0.9115\n",
      "Epoch 181/200\n",
      "209/209 [==============================] - 0s 568us/step - loss: 0.1898 - accuracy: 0.8961\n",
      "Epoch 182/200\n",
      "209/209 [==============================] - 0s 584us/step - loss: 0.2016 - accuracy: 0.8928\n",
      "Epoch 183/200\n",
      "209/209 [==============================] - 0s 614us/step - loss: 0.1838 - accuracy: 0.9099\n",
      "Epoch 184/200\n",
      "209/209 [==============================] - 0s 620us/step - loss: 0.1215 - accuracy: 0.9396\n",
      "Epoch 185/200\n",
      "209/209 [==============================] - 0s 630us/step - loss: 0.1903 - accuracy: 0.9154\n",
      "Epoch 186/200\n",
      "209/209 [==============================] - 0s 697us/step - loss: 0.2243 - accuracy: 0.8607\n",
      "Epoch 187/200\n",
      "209/209 [==============================] - 0s 638us/step - loss: 0.2218 - accuracy: 0.8871\n",
      "Epoch 188/200\n",
      "209/209 [==============================] - 0s 580us/step - loss: 0.1755 - accuracy: 0.9054\n",
      "Epoch 189/200\n",
      "209/209 [==============================] - 0s 652us/step - loss: 0.1928 - accuracy: 0.8970\n",
      "Epoch 190/200\n",
      "209/209 [==============================] - 0s 651us/step - loss: 0.1856 - accuracy: 0.9060\n",
      "Epoch 191/200\n",
      "209/209 [==============================] - 0s 607us/step - loss: 0.1610 - accuracy: 0.9199\n",
      "Epoch 192/200\n",
      "209/209 [==============================] - 0s 586us/step - loss: 0.1644 - accuracy: 0.9193\n",
      "Epoch 193/200\n",
      "209/209 [==============================] - 0s 637us/step - loss: 0.1706 - accuracy: 0.9096\n",
      "Epoch 194/200\n",
      "209/209 [==============================] - 0s 596us/step - loss: 0.1772 - accuracy: 0.9108\n",
      "Epoch 195/200\n",
      "209/209 [==============================] - 0s 632us/step - loss: 0.1639 - accuracy: 0.9189\n",
      "Epoch 196/200\n",
      "209/209 [==============================] - 0s 610us/step - loss: 0.1725 - accuracy: 0.9156\n",
      "Epoch 197/200\n",
      "209/209 [==============================] - 0s 603us/step - loss: 0.1457 - accuracy: 0.9285\n",
      "Epoch 198/200\n",
      "209/209 [==============================] - 0s 631us/step - loss: 0.1466 - accuracy: 0.9243\n",
      "Epoch 199/200\n",
      "209/209 [==============================] - 0s 584us/step - loss: 0.1321 - accuracy: 0.9273\n",
      "Epoch 200/200\n",
      "209/209 [==============================] - 0s 574us/step - loss: 0.2585 - accuracy: 0.8959\n"
     ]
    },
    {
     "data": {
      "text/plain": "<keras.callbacks.History at 0x7fc6eae0b850>"
     },
     "execution_count": 42,
     "metadata": {},
     "output_type": "execute_result"
    }
   ],
   "source": [
    "model.fit(np.array(X_train,dtype=np.float64), np.array(y_train,dtype=np.float64), epochs=200)"
   ],
   "metadata": {
    "collapsed": false,
    "pycharm": {
     "name": "#%%\n"
    }
   }
  },
  {
   "cell_type": "code",
   "execution_count": 43,
   "outputs": [],
   "source": [
    "predictions = model.predict(np.array(X_test,dtype=np.float64)) > 0.5"
   ],
   "metadata": {
    "collapsed": false,
    "pycharm": {
     "name": "#%%\n"
    }
   }
  },
  {
   "cell_type": "code",
   "execution_count": 44,
   "outputs": [
    {
     "data": {
      "text/plain": "0.9240993354319692"
     },
     "execution_count": 44,
     "metadata": {},
     "output_type": "execute_result"
    }
   ],
   "source": [
    "accuracy_score(y_test, predictions)"
   ],
   "metadata": {
    "collapsed": false,
    "pycharm": {
     "name": "#%%\n"
    }
   }
  },
  {
   "cell_type": "markdown",
   "source": [
    "## Wnioski:\n",
    "Wybraliśmy las losowy ze względu na bardzo szybki trening i bardzo dobre wyniki"
   ],
   "metadata": {
    "collapsed": false,
    "pycharm": {
     "name": "#%% md\n"
    }
   }
  }
 ],
 "metadata": {
  "kernelspec": {
   "display_name": "Python 3",
   "language": "python",
   "name": "python3"
  },
  "language_info": {
   "codemirror_mode": {
    "name": "ipython",
    "version": 2
   },
   "file_extension": ".py",
   "mimetype": "text/x-python",
   "name": "python",
   "nbconvert_exporter": "python",
   "pygments_lexer": "ipython2",
   "version": "2.7.6"
  }
 },
 "nbformat": 4,
 "nbformat_minor": 0
}