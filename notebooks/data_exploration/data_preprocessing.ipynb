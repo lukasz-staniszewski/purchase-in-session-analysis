{
 "cells": [
  {
   "cell_type": "code",
   "execution_count": 76,
   "metadata": {
    "collapsed": true
   },
   "outputs": [],
   "source": [
    "import pandas as pd\n",
    "from matplotlib import pyplot as plt\n",
    "%matplotlib inline\n",
    "from sklearn.metrics import accuracy_score\n",
    "from sklearn.model_selection import train_test_split, cross_val_score\n",
    "from sklearn.neighbors import KNeighborsClassifier\n",
    "from sklearn.svm import SVC\n",
    "from sklearn.ensemble import RandomForestClassifier, GradientBoostingClassifier\n",
    "import tensorflow as tf\n",
    "import numpy as np"
   ]
  },
  {
   "cell_type": "code",
   "execution_count": 77,
   "outputs": [],
   "source": [
    "df_sessions = pd.read_json(path_or_buf='../../data/raw/sessions.jsonl', lines=True)\n",
    "df_products = pd.read_json(path_or_buf='../../data/raw/products.jsonl', lines=True)\n",
    "df_users = pd.read_json(path_or_buf='../../data/raw/users.jsonl', lines=True)"
   ],
   "metadata": {
    "collapsed": false,
    "pycharm": {
     "name": "#%%\n"
    }
   }
  },
  {
   "cell_type": "code",
   "execution_count": 78,
   "outputs": [
    {
     "data": {
      "text/plain": "   user_id              name      city                   street\n0      102     Aurelia Malon    Poznań  pl. Brzoskwiniowa 11/53\n1      103     Mateusz Kobel    Poznań        al. Wrocławska 10\n2      104    Radosław Ratka  Szczecin           pl. Nowa 89/04\n3      105  Anastazja Oszust  Warszawa     ul. Częstochowska 80\n4      106      Sylwia Nurek  Warszawa          al. Wiosenna 72",
      "text/html": "<div>\n<style scoped>\n    .dataframe tbody tr th:only-of-type {\n        vertical-align: middle;\n    }\n\n    .dataframe tbody tr th {\n        vertical-align: top;\n    }\n\n    .dataframe thead th {\n        text-align: right;\n    }\n</style>\n<table border=\"1\" class=\"dataframe\">\n  <thead>\n    <tr style=\"text-align: right;\">\n      <th></th>\n      <th>user_id</th>\n      <th>name</th>\n      <th>city</th>\n      <th>street</th>\n    </tr>\n  </thead>\n  <tbody>\n    <tr>\n      <th>0</th>\n      <td>102</td>\n      <td>Aurelia Malon</td>\n      <td>Poznań</td>\n      <td>pl. Brzoskwiniowa 11/53</td>\n    </tr>\n    <tr>\n      <th>1</th>\n      <td>103</td>\n      <td>Mateusz Kobel</td>\n      <td>Poznań</td>\n      <td>al. Wrocławska 10</td>\n    </tr>\n    <tr>\n      <th>2</th>\n      <td>104</td>\n      <td>Radosław Ratka</td>\n      <td>Szczecin</td>\n      <td>pl. Nowa 89/04</td>\n    </tr>\n    <tr>\n      <th>3</th>\n      <td>105</td>\n      <td>Anastazja Oszust</td>\n      <td>Warszawa</td>\n      <td>ul. Częstochowska 80</td>\n    </tr>\n    <tr>\n      <th>4</th>\n      <td>106</td>\n      <td>Sylwia Nurek</td>\n      <td>Warszawa</td>\n      <td>al. Wiosenna 72</td>\n    </tr>\n  </tbody>\n</table>\n</div>"
     },
     "execution_count": 78,
     "metadata": {},
     "output_type": "execute_result"
    }
   ],
   "source": [
    "df_users.head()"
   ],
   "metadata": {
    "collapsed": false,
    "pycharm": {
     "name": "#%%\n"
    }
   }
  },
  {
   "cell_type": "code",
   "execution_count": 79,
   "outputs": [
    {
     "data": {
      "text/plain": "   product_id                                    product_name  \\\n0        1001                   Telefon Siemens Gigaset DA310   \n1        1002                              Kyocera FS-1135MFP   \n2        1003                              Kyocera FS-3640MFP   \n3        1004                            Fallout 3 (Xbox 360)   \n4        1005  Szalone Króliki Na żywo i w kolorze (Xbox 360)   \n\n                                       category_path    price  \n0          Telefony i akcesoria;Telefony stacjonarne    58.97  \n1  Komputery;Drukarki i skanery;Biurowe urządzeni...  2048.50  \n2  Komputery;Drukarki i skanery;Biurowe urządzeni...  7639.00  \n3          Gry i konsole;Gry na konsole;Gry Xbox 360    49.99  \n4          Gry i konsole;Gry na konsole;Gry Xbox 360    49.99  ",
      "text/html": "<div>\n<style scoped>\n    .dataframe tbody tr th:only-of-type {\n        vertical-align: middle;\n    }\n\n    .dataframe tbody tr th {\n        vertical-align: top;\n    }\n\n    .dataframe thead th {\n        text-align: right;\n    }\n</style>\n<table border=\"1\" class=\"dataframe\">\n  <thead>\n    <tr style=\"text-align: right;\">\n      <th></th>\n      <th>product_id</th>\n      <th>product_name</th>\n      <th>category_path</th>\n      <th>price</th>\n    </tr>\n  </thead>\n  <tbody>\n    <tr>\n      <th>0</th>\n      <td>1001</td>\n      <td>Telefon Siemens Gigaset DA310</td>\n      <td>Telefony i akcesoria;Telefony stacjonarne</td>\n      <td>58.97</td>\n    </tr>\n    <tr>\n      <th>1</th>\n      <td>1002</td>\n      <td>Kyocera FS-1135MFP</td>\n      <td>Komputery;Drukarki i skanery;Biurowe urządzeni...</td>\n      <td>2048.50</td>\n    </tr>\n    <tr>\n      <th>2</th>\n      <td>1003</td>\n      <td>Kyocera FS-3640MFP</td>\n      <td>Komputery;Drukarki i skanery;Biurowe urządzeni...</td>\n      <td>7639.00</td>\n    </tr>\n    <tr>\n      <th>3</th>\n      <td>1004</td>\n      <td>Fallout 3 (Xbox 360)</td>\n      <td>Gry i konsole;Gry na konsole;Gry Xbox 360</td>\n      <td>49.99</td>\n    </tr>\n    <tr>\n      <th>4</th>\n      <td>1005</td>\n      <td>Szalone Króliki Na żywo i w kolorze (Xbox 360)</td>\n      <td>Gry i konsole;Gry na konsole;Gry Xbox 360</td>\n      <td>49.99</td>\n    </tr>\n  </tbody>\n</table>\n</div>"
     },
     "execution_count": 79,
     "metadata": {},
     "output_type": "execute_result"
    }
   ],
   "source": [
    "df_products.head()"
   ],
   "metadata": {
    "collapsed": false,
    "pycharm": {
     "name": "#%%\n"
    }
   }
  },
  {
   "cell_type": "code",
   "execution_count": 80,
   "outputs": [
    {
     "data": {
      "text/plain": "   Akcesoria telefoniczne  Anteny RTV  Audio  \\\n0                       0           0      0   \n1                       0           0      0   \n2                       0           0      0   \n3                       0           0      0   \n4                       0           0      0   \n\n   Biurowe urządzenia wielofunkcyjne  Drukarki i skanery  Gry PlayStation3  \\\n0                                  0                   0                 0   \n1                                  1                   1                 0   \n2                                  1                   1                 0   \n3                                  0                   0                 0   \n4                                  0                   0                 0   \n\n   Gry Xbox 360  Gry i konsole  Gry komputerowe  Gry na konsole  ...  \\\n0             0              0                0               0  ...   \n1             0              0                0               0  ...   \n2             0              0                0               0  ...   \n3             1              1                0               1  ...   \n4             1              1                0               1  ...   \n\n   Słuchawki  Tablety  Tablety i akcesoria  Telefony i akcesoria  \\\n0          0        0                    0                     1   \n1          0        0                    0                     0   \n2          0        0                    0                     0   \n3          0        0                    0                     0   \n4          0        0                    0                     0   \n\n   Telefony komórkowe  Telefony stacjonarne  Telewizory i akcesoria  Video  \\\n0                   0                     1                       0      0   \n1                   0                     0                       0      0   \n2                   0                     0                       0      0   \n3                   0                     0                       0      0   \n4                   0                     0                       0      0   \n\n   Zestawy głośnomówiące  Zestawy słuchawkowe  \n0                      0                    0  \n1                      0                    0  \n2                      0                    0  \n3                      0                    0  \n4                      0                    0  \n\n[5 rows x 28 columns]",
      "text/html": "<div>\n<style scoped>\n    .dataframe tbody tr th:only-of-type {\n        vertical-align: middle;\n    }\n\n    .dataframe tbody tr th {\n        vertical-align: top;\n    }\n\n    .dataframe thead th {\n        text-align: right;\n    }\n</style>\n<table border=\"1\" class=\"dataframe\">\n  <thead>\n    <tr style=\"text-align: right;\">\n      <th></th>\n      <th>Akcesoria telefoniczne</th>\n      <th>Anteny RTV</th>\n      <th>Audio</th>\n      <th>Biurowe urządzenia wielofunkcyjne</th>\n      <th>Drukarki i skanery</th>\n      <th>Gry PlayStation3</th>\n      <th>Gry Xbox 360</th>\n      <th>Gry i konsole</th>\n      <th>Gry komputerowe</th>\n      <th>Gry na konsole</th>\n      <th>...</th>\n      <th>Słuchawki</th>\n      <th>Tablety</th>\n      <th>Tablety i akcesoria</th>\n      <th>Telefony i akcesoria</th>\n      <th>Telefony komórkowe</th>\n      <th>Telefony stacjonarne</th>\n      <th>Telewizory i akcesoria</th>\n      <th>Video</th>\n      <th>Zestawy głośnomówiące</th>\n      <th>Zestawy słuchawkowe</th>\n    </tr>\n  </thead>\n  <tbody>\n    <tr>\n      <th>0</th>\n      <td>0</td>\n      <td>0</td>\n      <td>0</td>\n      <td>0</td>\n      <td>0</td>\n      <td>0</td>\n      <td>0</td>\n      <td>0</td>\n      <td>0</td>\n      <td>0</td>\n      <td>...</td>\n      <td>0</td>\n      <td>0</td>\n      <td>0</td>\n      <td>1</td>\n      <td>0</td>\n      <td>1</td>\n      <td>0</td>\n      <td>0</td>\n      <td>0</td>\n      <td>0</td>\n    </tr>\n    <tr>\n      <th>1</th>\n      <td>0</td>\n      <td>0</td>\n      <td>0</td>\n      <td>1</td>\n      <td>1</td>\n      <td>0</td>\n      <td>0</td>\n      <td>0</td>\n      <td>0</td>\n      <td>0</td>\n      <td>...</td>\n      <td>0</td>\n      <td>0</td>\n      <td>0</td>\n      <td>0</td>\n      <td>0</td>\n      <td>0</td>\n      <td>0</td>\n      <td>0</td>\n      <td>0</td>\n      <td>0</td>\n    </tr>\n    <tr>\n      <th>2</th>\n      <td>0</td>\n      <td>0</td>\n      <td>0</td>\n      <td>1</td>\n      <td>1</td>\n      <td>0</td>\n      <td>0</td>\n      <td>0</td>\n      <td>0</td>\n      <td>0</td>\n      <td>...</td>\n      <td>0</td>\n      <td>0</td>\n      <td>0</td>\n      <td>0</td>\n      <td>0</td>\n      <td>0</td>\n      <td>0</td>\n      <td>0</td>\n      <td>0</td>\n      <td>0</td>\n    </tr>\n    <tr>\n      <th>3</th>\n      <td>0</td>\n      <td>0</td>\n      <td>0</td>\n      <td>0</td>\n      <td>0</td>\n      <td>0</td>\n      <td>1</td>\n      <td>1</td>\n      <td>0</td>\n      <td>1</td>\n      <td>...</td>\n      <td>0</td>\n      <td>0</td>\n      <td>0</td>\n      <td>0</td>\n      <td>0</td>\n      <td>0</td>\n      <td>0</td>\n      <td>0</td>\n      <td>0</td>\n      <td>0</td>\n    </tr>\n    <tr>\n      <th>4</th>\n      <td>0</td>\n      <td>0</td>\n      <td>0</td>\n      <td>0</td>\n      <td>0</td>\n      <td>0</td>\n      <td>1</td>\n      <td>1</td>\n      <td>0</td>\n      <td>1</td>\n      <td>...</td>\n      <td>0</td>\n      <td>0</td>\n      <td>0</td>\n      <td>0</td>\n      <td>0</td>\n      <td>0</td>\n      <td>0</td>\n      <td>0</td>\n      <td>0</td>\n      <td>0</td>\n    </tr>\n  </tbody>\n</table>\n<p>5 rows × 28 columns</p>\n</div>"
     },
     "execution_count": 80,
     "metadata": {},
     "output_type": "execute_result"
    }
   ],
   "source": [
    "categories_one_hot = df_products.category_path.str.get_dummies(';')\n",
    "categories_one_hot.head()"
   ],
   "metadata": {
    "collapsed": false,
    "pycharm": {
     "name": "#%%\n"
    }
   }
  },
  {
   "cell_type": "code",
   "execution_count": 81,
   "outputs": [
    {
     "data": {
      "text/plain": "   Gdynia  Kraków  Poznań  Radom  Szczecin  Warszawa  Wrocław\n0       0       0       1      0         0         0        0\n1       0       0       1      0         0         0        0\n2       0       0       0      0         1         0        0\n3       0       0       0      0         0         1        0\n4       0       0       0      0         0         1        0",
      "text/html": "<div>\n<style scoped>\n    .dataframe tbody tr th:only-of-type {\n        vertical-align: middle;\n    }\n\n    .dataframe tbody tr th {\n        vertical-align: top;\n    }\n\n    .dataframe thead th {\n        text-align: right;\n    }\n</style>\n<table border=\"1\" class=\"dataframe\">\n  <thead>\n    <tr style=\"text-align: right;\">\n      <th></th>\n      <th>Gdynia</th>\n      <th>Kraków</th>\n      <th>Poznań</th>\n      <th>Radom</th>\n      <th>Szczecin</th>\n      <th>Warszawa</th>\n      <th>Wrocław</th>\n    </tr>\n  </thead>\n  <tbody>\n    <tr>\n      <th>0</th>\n      <td>0</td>\n      <td>0</td>\n      <td>1</td>\n      <td>0</td>\n      <td>0</td>\n      <td>0</td>\n      <td>0</td>\n    </tr>\n    <tr>\n      <th>1</th>\n      <td>0</td>\n      <td>0</td>\n      <td>1</td>\n      <td>0</td>\n      <td>0</td>\n      <td>0</td>\n      <td>0</td>\n    </tr>\n    <tr>\n      <th>2</th>\n      <td>0</td>\n      <td>0</td>\n      <td>0</td>\n      <td>0</td>\n      <td>1</td>\n      <td>0</td>\n      <td>0</td>\n    </tr>\n    <tr>\n      <th>3</th>\n      <td>0</td>\n      <td>0</td>\n      <td>0</td>\n      <td>0</td>\n      <td>0</td>\n      <td>1</td>\n      <td>0</td>\n    </tr>\n    <tr>\n      <th>4</th>\n      <td>0</td>\n      <td>0</td>\n      <td>0</td>\n      <td>0</td>\n      <td>0</td>\n      <td>1</td>\n      <td>0</td>\n    </tr>\n  </tbody>\n</table>\n</div>"
     },
     "execution_count": 81,
     "metadata": {},
     "output_type": "execute_result"
    }
   ],
   "source": [
    "cities_one_hot = df_users.city.str.get_dummies()\n",
    "cities_one_hot.head()"
   ],
   "metadata": {
    "collapsed": false,
    "pycharm": {
     "name": "#%%\n"
    }
   }
  },
  {
   "cell_type": "code",
   "execution_count": 82,
   "outputs": [],
   "source": [
    "df_products.drop(columns=['product_name', 'category_path'], inplace=True)\n",
    "df_products = df_products.join(categories_one_hot)"
   ],
   "metadata": {
    "collapsed": false,
    "pycharm": {
     "name": "#%%\n"
    }
   }
  },
  {
   "cell_type": "code",
   "execution_count": 83,
   "outputs": [],
   "source": [
    "df_users.drop(columns=['city'], inplace=True)\n",
    "df_users = df_users.join(cities_one_hot)"
   ],
   "metadata": {
    "collapsed": false,
    "pycharm": {
     "name": "#%%\n"
    }
   }
  },
  {
   "cell_type": "code",
   "execution_count": 84,
   "outputs": [
    {
     "data": {
      "text/plain": "   product_id    price  Akcesoria telefoniczne  Anteny RTV  Audio  \\\n0        1001    58.97                       0           0      0   \n1        1002  2048.50                       0           0      0   \n2        1003  7639.00                       0           0      0   \n3        1004    49.99                       0           0      0   \n4        1005    49.99                       0           0      0   \n\n   Biurowe urządzenia wielofunkcyjne  Drukarki i skanery  Gry PlayStation3  \\\n0                                  0                   0                 0   \n1                                  1                   1                 0   \n2                                  1                   1                 0   \n3                                  0                   0                 0   \n4                                  0                   0                 0   \n\n   Gry Xbox 360  Gry i konsole  ...  Słuchawki  Tablety  Tablety i akcesoria  \\\n0             0              0  ...          0        0                    0   \n1             0              0  ...          0        0                    0   \n2             0              0  ...          0        0                    0   \n3             1              1  ...          0        0                    0   \n4             1              1  ...          0        0                    0   \n\n   Telefony i akcesoria  Telefony komórkowe  Telefony stacjonarne  \\\n0                     1                   0                     1   \n1                     0                   0                     0   \n2                     0                   0                     0   \n3                     0                   0                     0   \n4                     0                   0                     0   \n\n   Telewizory i akcesoria  Video  Zestawy głośnomówiące  Zestawy słuchawkowe  \n0                       0      0                      0                    0  \n1                       0      0                      0                    0  \n2                       0      0                      0                    0  \n3                       0      0                      0                    0  \n4                       0      0                      0                    0  \n\n[5 rows x 30 columns]",
      "text/html": "<div>\n<style scoped>\n    .dataframe tbody tr th:only-of-type {\n        vertical-align: middle;\n    }\n\n    .dataframe tbody tr th {\n        vertical-align: top;\n    }\n\n    .dataframe thead th {\n        text-align: right;\n    }\n</style>\n<table border=\"1\" class=\"dataframe\">\n  <thead>\n    <tr style=\"text-align: right;\">\n      <th></th>\n      <th>product_id</th>\n      <th>price</th>\n      <th>Akcesoria telefoniczne</th>\n      <th>Anteny RTV</th>\n      <th>Audio</th>\n      <th>Biurowe urządzenia wielofunkcyjne</th>\n      <th>Drukarki i skanery</th>\n      <th>Gry PlayStation3</th>\n      <th>Gry Xbox 360</th>\n      <th>Gry i konsole</th>\n      <th>...</th>\n      <th>Słuchawki</th>\n      <th>Tablety</th>\n      <th>Tablety i akcesoria</th>\n      <th>Telefony i akcesoria</th>\n      <th>Telefony komórkowe</th>\n      <th>Telefony stacjonarne</th>\n      <th>Telewizory i akcesoria</th>\n      <th>Video</th>\n      <th>Zestawy głośnomówiące</th>\n      <th>Zestawy słuchawkowe</th>\n    </tr>\n  </thead>\n  <tbody>\n    <tr>\n      <th>0</th>\n      <td>1001</td>\n      <td>58.97</td>\n      <td>0</td>\n      <td>0</td>\n      <td>0</td>\n      <td>0</td>\n      <td>0</td>\n      <td>0</td>\n      <td>0</td>\n      <td>0</td>\n      <td>...</td>\n      <td>0</td>\n      <td>0</td>\n      <td>0</td>\n      <td>1</td>\n      <td>0</td>\n      <td>1</td>\n      <td>0</td>\n      <td>0</td>\n      <td>0</td>\n      <td>0</td>\n    </tr>\n    <tr>\n      <th>1</th>\n      <td>1002</td>\n      <td>2048.50</td>\n      <td>0</td>\n      <td>0</td>\n      <td>0</td>\n      <td>1</td>\n      <td>1</td>\n      <td>0</td>\n      <td>0</td>\n      <td>0</td>\n      <td>...</td>\n      <td>0</td>\n      <td>0</td>\n      <td>0</td>\n      <td>0</td>\n      <td>0</td>\n      <td>0</td>\n      <td>0</td>\n      <td>0</td>\n      <td>0</td>\n      <td>0</td>\n    </tr>\n    <tr>\n      <th>2</th>\n      <td>1003</td>\n      <td>7639.00</td>\n      <td>0</td>\n      <td>0</td>\n      <td>0</td>\n      <td>1</td>\n      <td>1</td>\n      <td>0</td>\n      <td>0</td>\n      <td>0</td>\n      <td>...</td>\n      <td>0</td>\n      <td>0</td>\n      <td>0</td>\n      <td>0</td>\n      <td>0</td>\n      <td>0</td>\n      <td>0</td>\n      <td>0</td>\n      <td>0</td>\n      <td>0</td>\n    </tr>\n    <tr>\n      <th>3</th>\n      <td>1004</td>\n      <td>49.99</td>\n      <td>0</td>\n      <td>0</td>\n      <td>0</td>\n      <td>0</td>\n      <td>0</td>\n      <td>0</td>\n      <td>1</td>\n      <td>1</td>\n      <td>...</td>\n      <td>0</td>\n      <td>0</td>\n      <td>0</td>\n      <td>0</td>\n      <td>0</td>\n      <td>0</td>\n      <td>0</td>\n      <td>0</td>\n      <td>0</td>\n      <td>0</td>\n    </tr>\n    <tr>\n      <th>4</th>\n      <td>1005</td>\n      <td>49.99</td>\n      <td>0</td>\n      <td>0</td>\n      <td>0</td>\n      <td>0</td>\n      <td>0</td>\n      <td>0</td>\n      <td>1</td>\n      <td>1</td>\n      <td>...</td>\n      <td>0</td>\n      <td>0</td>\n      <td>0</td>\n      <td>0</td>\n      <td>0</td>\n      <td>0</td>\n      <td>0</td>\n      <td>0</td>\n      <td>0</td>\n      <td>0</td>\n    </tr>\n  </tbody>\n</table>\n<p>5 rows × 30 columns</p>\n</div>"
     },
     "execution_count": 84,
     "metadata": {},
     "output_type": "execute_result"
    }
   ],
   "source": [
    "df_products.head()"
   ],
   "metadata": {
    "collapsed": false,
    "pycharm": {
     "name": "#%%\n"
    }
   }
  },
  {
   "cell_type": "code",
   "execution_count": 85,
   "outputs": [
    {
     "data": {
      "text/plain": "   session_id           timestamp  user_id  product_id    event_type  \\\n0         124 2021-07-28 15:47:21      102        1283  VIEW_PRODUCT   \n1         124 2021-07-28 15:47:40      102        1283   BUY_PRODUCT   \n2         125 2021-09-12 16:43:16      102        1076  VIEW_PRODUCT   \n3         125 2021-09-12 16:46:24      102        1080  VIEW_PRODUCT   \n4         125 2021-09-12 16:48:08      102        1079  VIEW_PRODUCT   \n\n   offered_discount  purchase_id  \n0                 5          NaN  \n1                 5      20001.0  \n2                 0          NaN  \n3                 0          NaN  \n4                 0          NaN  ",
      "text/html": "<div>\n<style scoped>\n    .dataframe tbody tr th:only-of-type {\n        vertical-align: middle;\n    }\n\n    .dataframe tbody tr th {\n        vertical-align: top;\n    }\n\n    .dataframe thead th {\n        text-align: right;\n    }\n</style>\n<table border=\"1\" class=\"dataframe\">\n  <thead>\n    <tr style=\"text-align: right;\">\n      <th></th>\n      <th>session_id</th>\n      <th>timestamp</th>\n      <th>user_id</th>\n      <th>product_id</th>\n      <th>event_type</th>\n      <th>offered_discount</th>\n      <th>purchase_id</th>\n    </tr>\n  </thead>\n  <tbody>\n    <tr>\n      <th>0</th>\n      <td>124</td>\n      <td>2021-07-28 15:47:21</td>\n      <td>102</td>\n      <td>1283</td>\n      <td>VIEW_PRODUCT</td>\n      <td>5</td>\n      <td>NaN</td>\n    </tr>\n    <tr>\n      <th>1</th>\n      <td>124</td>\n      <td>2021-07-28 15:47:40</td>\n      <td>102</td>\n      <td>1283</td>\n      <td>BUY_PRODUCT</td>\n      <td>5</td>\n      <td>20001.0</td>\n    </tr>\n    <tr>\n      <th>2</th>\n      <td>125</td>\n      <td>2021-09-12 16:43:16</td>\n      <td>102</td>\n      <td>1076</td>\n      <td>VIEW_PRODUCT</td>\n      <td>0</td>\n      <td>NaN</td>\n    </tr>\n    <tr>\n      <th>3</th>\n      <td>125</td>\n      <td>2021-09-12 16:46:24</td>\n      <td>102</td>\n      <td>1080</td>\n      <td>VIEW_PRODUCT</td>\n      <td>0</td>\n      <td>NaN</td>\n    </tr>\n    <tr>\n      <th>4</th>\n      <td>125</td>\n      <td>2021-09-12 16:48:08</td>\n      <td>102</td>\n      <td>1079</td>\n      <td>VIEW_PRODUCT</td>\n      <td>0</td>\n      <td>NaN</td>\n    </tr>\n  </tbody>\n</table>\n</div>"
     },
     "execution_count": 85,
     "metadata": {},
     "output_type": "execute_result"
    }
   ],
   "source": [
    "df_sessions.head()"
   ],
   "metadata": {
    "collapsed": false,
    "pycharm": {
     "name": "#%%\n"
    }
   }
  },
  {
   "cell_type": "code",
   "execution_count": 86,
   "outputs": [],
   "source": [
    "df_users['sex'] = ['Female' if name.split(' ')[0][-1] == 'a' else 'Male' for name in df_users['name']]\n",
    "sex_one_hot = df_users.sex.str.get_dummies()\n",
    "df_users.drop(columns=['sex'], inplace=True)\n",
    "df_users = df_users.join(sex_one_hot)"
   ],
   "metadata": {
    "collapsed": false,
    "pycharm": {
     "name": "#%%\n"
    }
   }
  },
  {
   "cell_type": "code",
   "execution_count": 87,
   "outputs": [
    {
     "data": {
      "text/plain": "   user_id              name                   street  Gdynia  Kraków  Poznań  \\\n0      102     Aurelia Malon  pl. Brzoskwiniowa 11/53       0       0       1   \n1      103     Mateusz Kobel        al. Wrocławska 10       0       0       1   \n2      104    Radosław Ratka           pl. Nowa 89/04       0       0       0   \n3      105  Anastazja Oszust     ul. Częstochowska 80       0       0       0   \n4      106      Sylwia Nurek          al. Wiosenna 72       0       0       0   \n\n   Radom  Szczecin  Warszawa  Wrocław  Female  Male  \n0      0         0         0        0       1     0  \n1      0         0         0        0       0     1  \n2      0         1         0        0       0     1  \n3      0         0         1        0       1     0  \n4      0         0         1        0       1     0  ",
      "text/html": "<div>\n<style scoped>\n    .dataframe tbody tr th:only-of-type {\n        vertical-align: middle;\n    }\n\n    .dataframe tbody tr th {\n        vertical-align: top;\n    }\n\n    .dataframe thead th {\n        text-align: right;\n    }\n</style>\n<table border=\"1\" class=\"dataframe\">\n  <thead>\n    <tr style=\"text-align: right;\">\n      <th></th>\n      <th>user_id</th>\n      <th>name</th>\n      <th>street</th>\n      <th>Gdynia</th>\n      <th>Kraków</th>\n      <th>Poznań</th>\n      <th>Radom</th>\n      <th>Szczecin</th>\n      <th>Warszawa</th>\n      <th>Wrocław</th>\n      <th>Female</th>\n      <th>Male</th>\n    </tr>\n  </thead>\n  <tbody>\n    <tr>\n      <th>0</th>\n      <td>102</td>\n      <td>Aurelia Malon</td>\n      <td>pl. Brzoskwiniowa 11/53</td>\n      <td>0</td>\n      <td>0</td>\n      <td>1</td>\n      <td>0</td>\n      <td>0</td>\n      <td>0</td>\n      <td>0</td>\n      <td>1</td>\n      <td>0</td>\n    </tr>\n    <tr>\n      <th>1</th>\n      <td>103</td>\n      <td>Mateusz Kobel</td>\n      <td>al. Wrocławska 10</td>\n      <td>0</td>\n      <td>0</td>\n      <td>1</td>\n      <td>0</td>\n      <td>0</td>\n      <td>0</td>\n      <td>0</td>\n      <td>0</td>\n      <td>1</td>\n    </tr>\n    <tr>\n      <th>2</th>\n      <td>104</td>\n      <td>Radosław Ratka</td>\n      <td>pl. Nowa 89/04</td>\n      <td>0</td>\n      <td>0</td>\n      <td>0</td>\n      <td>0</td>\n      <td>1</td>\n      <td>0</td>\n      <td>0</td>\n      <td>0</td>\n      <td>1</td>\n    </tr>\n    <tr>\n      <th>3</th>\n      <td>105</td>\n      <td>Anastazja Oszust</td>\n      <td>ul. Częstochowska 80</td>\n      <td>0</td>\n      <td>0</td>\n      <td>0</td>\n      <td>0</td>\n      <td>0</td>\n      <td>1</td>\n      <td>0</td>\n      <td>1</td>\n      <td>0</td>\n    </tr>\n    <tr>\n      <th>4</th>\n      <td>106</td>\n      <td>Sylwia Nurek</td>\n      <td>al. Wiosenna 72</td>\n      <td>0</td>\n      <td>0</td>\n      <td>0</td>\n      <td>0</td>\n      <td>0</td>\n      <td>1</td>\n      <td>0</td>\n      <td>1</td>\n      <td>0</td>\n    </tr>\n  </tbody>\n</table>\n</div>"
     },
     "execution_count": 87,
     "metadata": {},
     "output_type": "execute_result"
    }
   ],
   "source": [
    "df_users.head()"
   ],
   "metadata": {
    "collapsed": false,
    "pycharm": {
     "name": "#%%\n"
    }
   }
  },
  {
   "cell_type": "code",
   "execution_count": 88,
   "outputs": [
    {
     "data": {
      "text/plain": "   session_id           timestamp  user_id  product_id    event_type  \\\n0         124 2021-07-28 15:47:21      102        1283  VIEW_PRODUCT   \n1         124 2021-07-28 15:47:40      102        1283   BUY_PRODUCT   \n2         139 2021-07-01 11:28:02      102        1283  VIEW_PRODUCT   \n3         139 2021-07-01 11:31:18      102        1283   BUY_PRODUCT   \n4         144 2021-03-19 13:55:04      102        1283  VIEW_PRODUCT   \n\n   offered_discount  purchase_id  price  Akcesoria telefoniczne  Anteny RTV  \\\n0                 5          NaN  99.99                       0           0   \n1                 5      20001.0  99.99                       0           0   \n2                 0          NaN  99.99                       0           0   \n3                 0      20013.0  99.99                       0           0   \n4                 0          NaN  99.99                       0           0   \n\n   ...                   street  Gdynia  Kraków  Poznań  Radom  Szczecin  \\\n0  ...  pl. Brzoskwiniowa 11/53       0       0       1      0         0   \n1  ...  pl. Brzoskwiniowa 11/53       0       0       1      0         0   \n2  ...  pl. Brzoskwiniowa 11/53       0       0       1      0         0   \n3  ...  pl. Brzoskwiniowa 11/53       0       0       1      0         0   \n4  ...  pl. Brzoskwiniowa 11/53       0       0       1      0         0   \n\n   Warszawa  Wrocław  Female  Male  \n0         0        0       1     0  \n1         0        0       1     0  \n2         0        0       1     0  \n3         0        0       1     0  \n4         0        0       1     0  \n\n[5 rows x 47 columns]",
      "text/html": "<div>\n<style scoped>\n    .dataframe tbody tr th:only-of-type {\n        vertical-align: middle;\n    }\n\n    .dataframe tbody tr th {\n        vertical-align: top;\n    }\n\n    .dataframe thead th {\n        text-align: right;\n    }\n</style>\n<table border=\"1\" class=\"dataframe\">\n  <thead>\n    <tr style=\"text-align: right;\">\n      <th></th>\n      <th>session_id</th>\n      <th>timestamp</th>\n      <th>user_id</th>\n      <th>product_id</th>\n      <th>event_type</th>\n      <th>offered_discount</th>\n      <th>purchase_id</th>\n      <th>price</th>\n      <th>Akcesoria telefoniczne</th>\n      <th>Anteny RTV</th>\n      <th>...</th>\n      <th>street</th>\n      <th>Gdynia</th>\n      <th>Kraków</th>\n      <th>Poznań</th>\n      <th>Radom</th>\n      <th>Szczecin</th>\n      <th>Warszawa</th>\n      <th>Wrocław</th>\n      <th>Female</th>\n      <th>Male</th>\n    </tr>\n  </thead>\n  <tbody>\n    <tr>\n      <th>0</th>\n      <td>124</td>\n      <td>2021-07-28 15:47:21</td>\n      <td>102</td>\n      <td>1283</td>\n      <td>VIEW_PRODUCT</td>\n      <td>5</td>\n      <td>NaN</td>\n      <td>99.99</td>\n      <td>0</td>\n      <td>0</td>\n      <td>...</td>\n      <td>pl. Brzoskwiniowa 11/53</td>\n      <td>0</td>\n      <td>0</td>\n      <td>1</td>\n      <td>0</td>\n      <td>0</td>\n      <td>0</td>\n      <td>0</td>\n      <td>1</td>\n      <td>0</td>\n    </tr>\n    <tr>\n      <th>1</th>\n      <td>124</td>\n      <td>2021-07-28 15:47:40</td>\n      <td>102</td>\n      <td>1283</td>\n      <td>BUY_PRODUCT</td>\n      <td>5</td>\n      <td>20001.0</td>\n      <td>99.99</td>\n      <td>0</td>\n      <td>0</td>\n      <td>...</td>\n      <td>pl. Brzoskwiniowa 11/53</td>\n      <td>0</td>\n      <td>0</td>\n      <td>1</td>\n      <td>0</td>\n      <td>0</td>\n      <td>0</td>\n      <td>0</td>\n      <td>1</td>\n      <td>0</td>\n    </tr>\n    <tr>\n      <th>2</th>\n      <td>139</td>\n      <td>2021-07-01 11:28:02</td>\n      <td>102</td>\n      <td>1283</td>\n      <td>VIEW_PRODUCT</td>\n      <td>0</td>\n      <td>NaN</td>\n      <td>99.99</td>\n      <td>0</td>\n      <td>0</td>\n      <td>...</td>\n      <td>pl. Brzoskwiniowa 11/53</td>\n      <td>0</td>\n      <td>0</td>\n      <td>1</td>\n      <td>0</td>\n      <td>0</td>\n      <td>0</td>\n      <td>0</td>\n      <td>1</td>\n      <td>0</td>\n    </tr>\n    <tr>\n      <th>3</th>\n      <td>139</td>\n      <td>2021-07-01 11:31:18</td>\n      <td>102</td>\n      <td>1283</td>\n      <td>BUY_PRODUCT</td>\n      <td>0</td>\n      <td>20013.0</td>\n      <td>99.99</td>\n      <td>0</td>\n      <td>0</td>\n      <td>...</td>\n      <td>pl. Brzoskwiniowa 11/53</td>\n      <td>0</td>\n      <td>0</td>\n      <td>1</td>\n      <td>0</td>\n      <td>0</td>\n      <td>0</td>\n      <td>0</td>\n      <td>1</td>\n      <td>0</td>\n    </tr>\n    <tr>\n      <th>4</th>\n      <td>144</td>\n      <td>2021-03-19 13:55:04</td>\n      <td>102</td>\n      <td>1283</td>\n      <td>VIEW_PRODUCT</td>\n      <td>0</td>\n      <td>NaN</td>\n      <td>99.99</td>\n      <td>0</td>\n      <td>0</td>\n      <td>...</td>\n      <td>pl. Brzoskwiniowa 11/53</td>\n      <td>0</td>\n      <td>0</td>\n      <td>1</td>\n      <td>0</td>\n      <td>0</td>\n      <td>0</td>\n      <td>0</td>\n      <td>1</td>\n      <td>0</td>\n    </tr>\n  </tbody>\n</table>\n<p>5 rows × 47 columns</p>\n</div>"
     },
     "execution_count": 88,
     "metadata": {},
     "output_type": "execute_result"
    }
   ],
   "source": [
    "df = df_sessions.merge(df_products, left_on='product_id', right_on='product_id')\n",
    "df = df.merge(df_users, left_on='user_id', right_on='user_id')\n",
    "df.head()"
   ],
   "metadata": {
    "collapsed": false,
    "pycharm": {
     "name": "#%%\n"
    }
   }
  },
  {
   "cell_type": "code",
   "execution_count": 89,
   "outputs": [],
   "source": [
    "aggregation_functions = {\n",
    "    'timestamp' : lambda t: [(t.max() - t.min()).seconds, t.min(), t.max()],\n",
    "    'user_id' : 'first',\n",
    "    'product_id' : 'unique',\n",
    "    'event_type' : lambda e: 1 if len(e.unique()) > 1 else 0,\n",
    "    'offered_discount' : 'first',\n",
    "    'price' : lambda p: p.sum()\n",
    "}\n",
    "\n",
    "for name in categories_one_hot.columns:\n",
    "    aggregation_functions[name] = lambda n: n.sum()\n",
    "\n",
    "# for name in cities_one_hot.columns:\n",
    "#     aggregation_functions[name] = 'first'\n",
    "\n",
    "for name in sex_one_hot.columns:\n",
    "    aggregation_functions[name] = 'first'\n",
    "\n",
    "main_df = df.groupby(df['session_id']).aggregate(aggregation_functions)\n",
    "main_df.rename(columns={'event_type' : 'purchased'}, inplace=True)"
   ],
   "metadata": {
    "collapsed": false,
    "pycharm": {
     "name": "#%%\n"
    }
   }
  },
  {
   "cell_type": "code",
   "execution_count": 90,
   "outputs": [],
   "source": [
    "timestamp_dict = [{'session_length' : x[0], 'session_start' : x[1], 'session_end' : x[2]} for x in main_df['timestamp']]\n",
    "timestamp_df = pd.DataFrame(timestamp_dict)"
   ],
   "metadata": {
    "collapsed": false,
    "pycharm": {
     "name": "#%%\n"
    }
   }
  },
  {
   "cell_type": "code",
   "execution_count": 91,
   "outputs": [
    {
     "data": {
      "text/plain": "            user_id                                        product_id  \\\nsession_id                                                              \n0               102                                            [1283]   \n1               102  [1076, 1080, 1079, 1003, 1002, 1075, 1078, 1077]   \n2               102                                      [1281, 1278]   \n3               102                                      [1281, 1278]   \n4               102              [1008, 1007, 1013, 1012, 1004, 1010]   \n\n            offered_discount  session_length     price       session_start  \\\nsession_id                                                                   \n0                          5              19    199.98 2021-07-28 15:47:21   \n1                          0            1436  36664.54 2021-09-12 16:43:16   \n2                         15             117    222.60 2021-04-09 22:31:08   \n3                          0             519    208.50 2021-08-15 16:46:06   \n4                          0             847    568.94 2021-01-05 00:05:38   \n\n                   session_end  purchased  Female  Male  ...  Słuchawki  \\\nsession_id                                               ...              \n0          2021-07-28 15:47:40          1       1     0  ...          0   \n1          2021-09-12 17:07:12          1       1     0  ...          0   \n2          2021-04-09 22:33:05          1       1     0  ...          0   \n3          2021-08-15 16:54:45          1       1     0  ...          0   \n4          2021-01-05 00:19:45          1       1     0  ...          0   \n\n            Tablety  Tablety i akcesoria  Telefony i akcesoria  \\\nsession_id                                                       \n0                 0                    0                     0   \n1                 0                    0                     0   \n2                 0                    0                     0   \n3                 0                    0                     0   \n4                 0                    0                     0   \n\n            Telefony komórkowe  Telefony stacjonarne  Telewizory i akcesoria  \\\nsession_id                                                                     \n0                            0                     0                       2   \n1                            0                     0                       0   \n2                            0                     0                       0   \n3                            0                     0                       0   \n4                            0                     0                       0   \n\n            Video  Zestawy głośnomówiące  Zestawy słuchawkowe  \nsession_id                                                     \n0               2                      0                    0  \n1               0                      0                    0  \n2               0                      0                    0  \n3               0                      0                    0  \n4               0                      0                    0  \n\n[5 rows x 38 columns]",
      "text/html": "<div>\n<style scoped>\n    .dataframe tbody tr th:only-of-type {\n        vertical-align: middle;\n    }\n\n    .dataframe tbody tr th {\n        vertical-align: top;\n    }\n\n    .dataframe thead th {\n        text-align: right;\n    }\n</style>\n<table border=\"1\" class=\"dataframe\">\n  <thead>\n    <tr style=\"text-align: right;\">\n      <th></th>\n      <th>user_id</th>\n      <th>product_id</th>\n      <th>offered_discount</th>\n      <th>session_length</th>\n      <th>price</th>\n      <th>session_start</th>\n      <th>session_end</th>\n      <th>purchased</th>\n      <th>Female</th>\n      <th>Male</th>\n      <th>...</th>\n      <th>Słuchawki</th>\n      <th>Tablety</th>\n      <th>Tablety i akcesoria</th>\n      <th>Telefony i akcesoria</th>\n      <th>Telefony komórkowe</th>\n      <th>Telefony stacjonarne</th>\n      <th>Telewizory i akcesoria</th>\n      <th>Video</th>\n      <th>Zestawy głośnomówiące</th>\n      <th>Zestawy słuchawkowe</th>\n    </tr>\n    <tr>\n      <th>session_id</th>\n      <th></th>\n      <th></th>\n      <th></th>\n      <th></th>\n      <th></th>\n      <th></th>\n      <th></th>\n      <th></th>\n      <th></th>\n      <th></th>\n      <th></th>\n      <th></th>\n      <th></th>\n      <th></th>\n      <th></th>\n      <th></th>\n      <th></th>\n      <th></th>\n      <th></th>\n      <th></th>\n      <th></th>\n    </tr>\n  </thead>\n  <tbody>\n    <tr>\n      <th>0</th>\n      <td>102</td>\n      <td>[1283]</td>\n      <td>5</td>\n      <td>19</td>\n      <td>199.98</td>\n      <td>2021-07-28 15:47:21</td>\n      <td>2021-07-28 15:47:40</td>\n      <td>1</td>\n      <td>1</td>\n      <td>0</td>\n      <td>...</td>\n      <td>0</td>\n      <td>0</td>\n      <td>0</td>\n      <td>0</td>\n      <td>0</td>\n      <td>0</td>\n      <td>2</td>\n      <td>2</td>\n      <td>0</td>\n      <td>0</td>\n    </tr>\n    <tr>\n      <th>1</th>\n      <td>102</td>\n      <td>[1076, 1080, 1079, 1003, 1002, 1075, 1078, 1077]</td>\n      <td>0</td>\n      <td>1436</td>\n      <td>36664.54</td>\n      <td>2021-09-12 16:43:16</td>\n      <td>2021-09-12 17:07:12</td>\n      <td>1</td>\n      <td>1</td>\n      <td>0</td>\n      <td>...</td>\n      <td>0</td>\n      <td>0</td>\n      <td>0</td>\n      <td>0</td>\n      <td>0</td>\n      <td>0</td>\n      <td>0</td>\n      <td>0</td>\n      <td>0</td>\n      <td>0</td>\n    </tr>\n    <tr>\n      <th>2</th>\n      <td>102</td>\n      <td>[1281, 1278]</td>\n      <td>15</td>\n      <td>117</td>\n      <td>222.60</td>\n      <td>2021-04-09 22:31:08</td>\n      <td>2021-04-09 22:33:05</td>\n      <td>1</td>\n      <td>1</td>\n      <td>0</td>\n      <td>...</td>\n      <td>0</td>\n      <td>0</td>\n      <td>0</td>\n      <td>0</td>\n      <td>0</td>\n      <td>0</td>\n      <td>0</td>\n      <td>0</td>\n      <td>0</td>\n      <td>0</td>\n    </tr>\n    <tr>\n      <th>3</th>\n      <td>102</td>\n      <td>[1281, 1278]</td>\n      <td>0</td>\n      <td>519</td>\n      <td>208.50</td>\n      <td>2021-08-15 16:46:06</td>\n      <td>2021-08-15 16:54:45</td>\n      <td>1</td>\n      <td>1</td>\n      <td>0</td>\n      <td>...</td>\n      <td>0</td>\n      <td>0</td>\n      <td>0</td>\n      <td>0</td>\n      <td>0</td>\n      <td>0</td>\n      <td>0</td>\n      <td>0</td>\n      <td>0</td>\n      <td>0</td>\n    </tr>\n    <tr>\n      <th>4</th>\n      <td>102</td>\n      <td>[1008, 1007, 1013, 1012, 1004, 1010]</td>\n      <td>0</td>\n      <td>847</td>\n      <td>568.94</td>\n      <td>2021-01-05 00:05:38</td>\n      <td>2021-01-05 00:19:45</td>\n      <td>1</td>\n      <td>1</td>\n      <td>0</td>\n      <td>...</td>\n      <td>0</td>\n      <td>0</td>\n      <td>0</td>\n      <td>0</td>\n      <td>0</td>\n      <td>0</td>\n      <td>0</td>\n      <td>0</td>\n      <td>0</td>\n      <td>0</td>\n    </tr>\n  </tbody>\n</table>\n<p>5 rows × 38 columns</p>\n</div>"
     },
     "execution_count": 91,
     "metadata": {},
     "output_type": "execute_result"
    }
   ],
   "source": [
    "main_df.reset_index(inplace=True)\n",
    "main_df = pd.concat([main_df, timestamp_df], axis=1, join=\"inner\")\n",
    "main_df.drop(columns=['timestamp'], inplace=True)\n",
    "main_df.index.name = 'session_id'\n",
    "main_df = main_df[['user_id', 'product_id', 'offered_discount', 'session_length', 'price', 'session_start', 'session_end', 'purchased'] + list(sex_one_hot.columns.values) + list(categories_one_hot.columns.values)]\n",
    "main_df.head()"
   ],
   "metadata": {
    "collapsed": false,
    "pycharm": {
     "name": "#%%\n"
    }
   }
  },
  {
   "cell_type": "code",
   "execution_count": 92,
   "outputs": [],
   "source": [
    "main_df['n_views'] = [len(x) for x in main_df['product_id'].values]"
   ],
   "metadata": {
    "collapsed": false,
    "pycharm": {
     "name": "#%%\n"
    }
   }
  },
  {
   "cell_type": "code",
   "execution_count": 93,
   "outputs": [
    {
     "data": {
      "text/plain": "            user_id                                        product_id  \\\nsession_id                                                              \n0               102                                            [1283]   \n1               102  [1076, 1080, 1079, 1003, 1002, 1075, 1078, 1077]   \n2               102                                      [1281, 1278]   \n3               102                                      [1281, 1278]   \n4               102              [1008, 1007, 1013, 1012, 1004, 1010]   \n\n            offered_discount  session_length     price       session_start  \\\nsession_id                                                                   \n0                          5              19    199.98 2021-07-28 15:47:21   \n1                          0            1436  36664.54 2021-09-12 16:43:16   \n2                         15             117    222.60 2021-04-09 22:31:08   \n3                          0             519    208.50 2021-08-15 16:46:06   \n4                          0             847    568.94 2021-01-05 00:05:38   \n\n                   session_end  purchased  Female  Male  ...  Tablety  \\\nsession_id                                               ...            \n0          2021-07-28 15:47:40          1       1     0  ...        0   \n1          2021-09-12 17:07:12          1       1     0  ...        0   \n2          2021-04-09 22:33:05          1       1     0  ...        0   \n3          2021-08-15 16:54:45          1       1     0  ...        0   \n4          2021-01-05 00:19:45          1       1     0  ...        0   \n\n            Tablety i akcesoria  Telefony i akcesoria  Telefony komórkowe  \\\nsession_id                                                                  \n0                             0                     0                   0   \n1                             0                     0                   0   \n2                             0                     0                   0   \n3                             0                     0                   0   \n4                             0                     0                   0   \n\n            Telefony stacjonarne  Telewizory i akcesoria  Video  \\\nsession_id                                                        \n0                              0                       2      2   \n1                              0                       0      0   \n2                              0                       0      0   \n3                              0                       0      0   \n4                              0                       0      0   \n\n            Zestawy głośnomówiące  Zestawy słuchawkowe  n_views  \nsession_id                                                       \n0                               0                    0        1  \n1                               0                    0        8  \n2                               0                    0        2  \n3                               0                    0        2  \n4                               0                    0        6  \n\n[5 rows x 39 columns]",
      "text/html": "<div>\n<style scoped>\n    .dataframe tbody tr th:only-of-type {\n        vertical-align: middle;\n    }\n\n    .dataframe tbody tr th {\n        vertical-align: top;\n    }\n\n    .dataframe thead th {\n        text-align: right;\n    }\n</style>\n<table border=\"1\" class=\"dataframe\">\n  <thead>\n    <tr style=\"text-align: right;\">\n      <th></th>\n      <th>user_id</th>\n      <th>product_id</th>\n      <th>offered_discount</th>\n      <th>session_length</th>\n      <th>price</th>\n      <th>session_start</th>\n      <th>session_end</th>\n      <th>purchased</th>\n      <th>Female</th>\n      <th>Male</th>\n      <th>...</th>\n      <th>Tablety</th>\n      <th>Tablety i akcesoria</th>\n      <th>Telefony i akcesoria</th>\n      <th>Telefony komórkowe</th>\n      <th>Telefony stacjonarne</th>\n      <th>Telewizory i akcesoria</th>\n      <th>Video</th>\n      <th>Zestawy głośnomówiące</th>\n      <th>Zestawy słuchawkowe</th>\n      <th>n_views</th>\n    </tr>\n    <tr>\n      <th>session_id</th>\n      <th></th>\n      <th></th>\n      <th></th>\n      <th></th>\n      <th></th>\n      <th></th>\n      <th></th>\n      <th></th>\n      <th></th>\n      <th></th>\n      <th></th>\n      <th></th>\n      <th></th>\n      <th></th>\n      <th></th>\n      <th></th>\n      <th></th>\n      <th></th>\n      <th></th>\n      <th></th>\n      <th></th>\n    </tr>\n  </thead>\n  <tbody>\n    <tr>\n      <th>0</th>\n      <td>102</td>\n      <td>[1283]</td>\n      <td>5</td>\n      <td>19</td>\n      <td>199.98</td>\n      <td>2021-07-28 15:47:21</td>\n      <td>2021-07-28 15:47:40</td>\n      <td>1</td>\n      <td>1</td>\n      <td>0</td>\n      <td>...</td>\n      <td>0</td>\n      <td>0</td>\n      <td>0</td>\n      <td>0</td>\n      <td>0</td>\n      <td>2</td>\n      <td>2</td>\n      <td>0</td>\n      <td>0</td>\n      <td>1</td>\n    </tr>\n    <tr>\n      <th>1</th>\n      <td>102</td>\n      <td>[1076, 1080, 1079, 1003, 1002, 1075, 1078, 1077]</td>\n      <td>0</td>\n      <td>1436</td>\n      <td>36664.54</td>\n      <td>2021-09-12 16:43:16</td>\n      <td>2021-09-12 17:07:12</td>\n      <td>1</td>\n      <td>1</td>\n      <td>0</td>\n      <td>...</td>\n      <td>0</td>\n      <td>0</td>\n      <td>0</td>\n      <td>0</td>\n      <td>0</td>\n      <td>0</td>\n      <td>0</td>\n      <td>0</td>\n      <td>0</td>\n      <td>8</td>\n    </tr>\n    <tr>\n      <th>2</th>\n      <td>102</td>\n      <td>[1281, 1278]</td>\n      <td>15</td>\n      <td>117</td>\n      <td>222.60</td>\n      <td>2021-04-09 22:31:08</td>\n      <td>2021-04-09 22:33:05</td>\n      <td>1</td>\n      <td>1</td>\n      <td>0</td>\n      <td>...</td>\n      <td>0</td>\n      <td>0</td>\n      <td>0</td>\n      <td>0</td>\n      <td>0</td>\n      <td>0</td>\n      <td>0</td>\n      <td>0</td>\n      <td>0</td>\n      <td>2</td>\n    </tr>\n    <tr>\n      <th>3</th>\n      <td>102</td>\n      <td>[1281, 1278]</td>\n      <td>0</td>\n      <td>519</td>\n      <td>208.50</td>\n      <td>2021-08-15 16:46:06</td>\n      <td>2021-08-15 16:54:45</td>\n      <td>1</td>\n      <td>1</td>\n      <td>0</td>\n      <td>...</td>\n      <td>0</td>\n      <td>0</td>\n      <td>0</td>\n      <td>0</td>\n      <td>0</td>\n      <td>0</td>\n      <td>0</td>\n      <td>0</td>\n      <td>0</td>\n      <td>2</td>\n    </tr>\n    <tr>\n      <th>4</th>\n      <td>102</td>\n      <td>[1008, 1007, 1013, 1012, 1004, 1010]</td>\n      <td>0</td>\n      <td>847</td>\n      <td>568.94</td>\n      <td>2021-01-05 00:05:38</td>\n      <td>2021-01-05 00:19:45</td>\n      <td>1</td>\n      <td>1</td>\n      <td>0</td>\n      <td>...</td>\n      <td>0</td>\n      <td>0</td>\n      <td>0</td>\n      <td>0</td>\n      <td>0</td>\n      <td>0</td>\n      <td>0</td>\n      <td>0</td>\n      <td>0</td>\n      <td>6</td>\n    </tr>\n  </tbody>\n</table>\n<p>5 rows × 39 columns</p>\n</div>"
     },
     "execution_count": 93,
     "metadata": {},
     "output_type": "execute_result"
    }
   ],
   "source": [
    "main_df.head()"
   ],
   "metadata": {
    "collapsed": false,
    "pycharm": {
     "name": "#%%\n"
    }
   }
  },
  {
   "cell_type": "markdown",
   "source": [
    "## Przygotowanie danych do modelu"
   ],
   "metadata": {
    "collapsed": false,
    "pycharm": {
     "name": "#%% md\n"
    }
   }
  },
  {
   "cell_type": "code",
   "execution_count": 94,
   "outputs": [],
   "source": [
    "main_df.reset_index(inplace=True)"
   ],
   "metadata": {
    "collapsed": false,
    "pycharm": {
     "name": "#%%\n"
    }
   }
  },
  {
   "cell_type": "code",
   "execution_count": 95,
   "outputs": [],
   "source": [
    "main_df.drop(columns=['session_id', 'user_id', 'product_id'], inplace=True)"
   ],
   "metadata": {
    "collapsed": false,
    "pycharm": {
     "name": "#%%\n"
    }
   }
  },
  {
   "cell_type": "code",
   "execution_count": 96,
   "outputs": [],
   "source": [
    "dates_encoded = pd.DataFrame({\n",
    "    \"month\": main_df['session_start'].dt.month,\n",
    "    \"day\": main_df['session_start'].dt.day,\n",
    "    \"hour\": main_df['session_start'].dt.hour,\n",
    "    \"dayofweek\": main_df['session_start'].dt.dayofweek,\n",
    "})"
   ],
   "metadata": {
    "collapsed": false,
    "pycharm": {
     "name": "#%%\n"
    }
   }
  },
  {
   "cell_type": "code",
   "execution_count": 97,
   "outputs": [],
   "source": [
    "main_df = main_df.join(dates_encoded)"
   ],
   "metadata": {
    "collapsed": false,
    "pycharm": {
     "name": "#%%\n"
    }
   }
  },
  {
   "cell_type": "code",
   "execution_count": 98,
   "outputs": [],
   "source": [
    "main_df.drop(columns=['session_start', 'session_end'], inplace=True)"
   ],
   "metadata": {
    "collapsed": false,
    "pycharm": {
     "name": "#%%\n"
    }
   }
  },
  {
   "cell_type": "code",
   "execution_count": 99,
   "outputs": [
    {
     "data": {
      "text/plain": "   offered_discount  session_length     price  purchased  Female  Male  \\\n0                 5              19    199.98          1       1     0   \n1                 0            1436  36664.54          1       1     0   \n2                15             117    222.60          1       1     0   \n3                 0             519    208.50          1       1     0   \n4                 0             847    568.94          1       1     0   \n\n   Akcesoria telefoniczne  Anteny RTV  Audio  \\\n0                       0           0      0   \n1                       0           0      0   \n2                       0           0      0   \n3                       0           0      0   \n4                       0           0      0   \n\n   Biurowe urządzenia wielofunkcyjne  ...  Telefony stacjonarne  \\\n0                                  0  ...                     0   \n1                                  9  ...                     0   \n2                                  0  ...                     0   \n3                                  0  ...                     0   \n4                                  0  ...                     0   \n\n   Telewizory i akcesoria  Video  Zestawy głośnomówiące  Zestawy słuchawkowe  \\\n0                       2      2                      0                    0   \n1                       0      0                      0                    0   \n2                       0      0                      0                    0   \n3                       0      0                      0                    0   \n4                       0      0                      0                    0   \n\n   n_views  month  day  hour  dayofweek  \n0        1      7   28    15          2  \n1        8      9   12    16          6  \n2        2      4    9    22          4  \n3        2      8   15    16          6  \n4        6      1    5     0          1  \n\n[5 rows x 39 columns]",
      "text/html": "<div>\n<style scoped>\n    .dataframe tbody tr th:only-of-type {\n        vertical-align: middle;\n    }\n\n    .dataframe tbody tr th {\n        vertical-align: top;\n    }\n\n    .dataframe thead th {\n        text-align: right;\n    }\n</style>\n<table border=\"1\" class=\"dataframe\">\n  <thead>\n    <tr style=\"text-align: right;\">\n      <th></th>\n      <th>offered_discount</th>\n      <th>session_length</th>\n      <th>price</th>\n      <th>purchased</th>\n      <th>Female</th>\n      <th>Male</th>\n      <th>Akcesoria telefoniczne</th>\n      <th>Anteny RTV</th>\n      <th>Audio</th>\n      <th>Biurowe urządzenia wielofunkcyjne</th>\n      <th>...</th>\n      <th>Telefony stacjonarne</th>\n      <th>Telewizory i akcesoria</th>\n      <th>Video</th>\n      <th>Zestawy głośnomówiące</th>\n      <th>Zestawy słuchawkowe</th>\n      <th>n_views</th>\n      <th>month</th>\n      <th>day</th>\n      <th>hour</th>\n      <th>dayofweek</th>\n    </tr>\n  </thead>\n  <tbody>\n    <tr>\n      <th>0</th>\n      <td>5</td>\n      <td>19</td>\n      <td>199.98</td>\n      <td>1</td>\n      <td>1</td>\n      <td>0</td>\n      <td>0</td>\n      <td>0</td>\n      <td>0</td>\n      <td>0</td>\n      <td>...</td>\n      <td>0</td>\n      <td>2</td>\n      <td>2</td>\n      <td>0</td>\n      <td>0</td>\n      <td>1</td>\n      <td>7</td>\n      <td>28</td>\n      <td>15</td>\n      <td>2</td>\n    </tr>\n    <tr>\n      <th>1</th>\n      <td>0</td>\n      <td>1436</td>\n      <td>36664.54</td>\n      <td>1</td>\n      <td>1</td>\n      <td>0</td>\n      <td>0</td>\n      <td>0</td>\n      <td>0</td>\n      <td>9</td>\n      <td>...</td>\n      <td>0</td>\n      <td>0</td>\n      <td>0</td>\n      <td>0</td>\n      <td>0</td>\n      <td>8</td>\n      <td>9</td>\n      <td>12</td>\n      <td>16</td>\n      <td>6</td>\n    </tr>\n    <tr>\n      <th>2</th>\n      <td>15</td>\n      <td>117</td>\n      <td>222.60</td>\n      <td>1</td>\n      <td>1</td>\n      <td>0</td>\n      <td>0</td>\n      <td>0</td>\n      <td>0</td>\n      <td>0</td>\n      <td>...</td>\n      <td>0</td>\n      <td>0</td>\n      <td>0</td>\n      <td>0</td>\n      <td>0</td>\n      <td>2</td>\n      <td>4</td>\n      <td>9</td>\n      <td>22</td>\n      <td>4</td>\n    </tr>\n    <tr>\n      <th>3</th>\n      <td>0</td>\n      <td>519</td>\n      <td>208.50</td>\n      <td>1</td>\n      <td>1</td>\n      <td>0</td>\n      <td>0</td>\n      <td>0</td>\n      <td>0</td>\n      <td>0</td>\n      <td>...</td>\n      <td>0</td>\n      <td>0</td>\n      <td>0</td>\n      <td>0</td>\n      <td>0</td>\n      <td>2</td>\n      <td>8</td>\n      <td>15</td>\n      <td>16</td>\n      <td>6</td>\n    </tr>\n    <tr>\n      <th>4</th>\n      <td>0</td>\n      <td>847</td>\n      <td>568.94</td>\n      <td>1</td>\n      <td>1</td>\n      <td>0</td>\n      <td>0</td>\n      <td>0</td>\n      <td>0</td>\n      <td>0</td>\n      <td>...</td>\n      <td>0</td>\n      <td>0</td>\n      <td>0</td>\n      <td>0</td>\n      <td>0</td>\n      <td>6</td>\n      <td>1</td>\n      <td>5</td>\n      <td>0</td>\n      <td>1</td>\n    </tr>\n  </tbody>\n</table>\n<p>5 rows × 39 columns</p>\n</div>"
     },
     "execution_count": 99,
     "metadata": {},
     "output_type": "execute_result"
    }
   ],
   "source": [
    "main_df.head()"
   ],
   "metadata": {
    "collapsed": false,
    "pycharm": {
     "name": "#%%\n"
    }
   }
  },
  {
   "cell_type": "markdown",
   "source": [
    "# Wydzielenie zbioru treningowego, walidacyjnego i testowego"
   ],
   "metadata": {
    "collapsed": false,
    "pycharm": {
     "name": "#%% md\n"
    }
   }
  },
  {
   "cell_type": "code",
   "execution_count": 25,
   "outputs": [],
   "source": [
    "y = main_df['purchased'].values\n",
    "X = main_df.drop(columns=['purchased'])"
   ],
   "metadata": {
    "collapsed": false,
    "pycharm": {
     "name": "#%%\n"
    }
   }
  },
  {
   "cell_type": "code",
   "execution_count": 26,
   "outputs": [
    {
     "data": {
      "text/plain": "      offered_discount  session_length     price  Female  Male  \\\n0                    5              19    199.98       1     0   \n1                    0            1436  36664.54       1     0   \n2                   15             117    222.60       1     0   \n3                    0             519    208.50       1     0   \n4                    0             847    568.94       1     0   \n...                ...             ...       ...     ...   ...   \n9522                 0               0     64.80       1     0   \n9523                15             116    199.98       1     0   \n9524                 0            1617   1141.66       1     0   \n9525                20               0     79.90       1     0   \n9526                 0               0    109.00       1     0   \n\n      Akcesoria telefoniczne  Anteny RTV  Audio  \\\n0                          0           0      0   \n1                          0           0      0   \n2                          0           0      0   \n3                          0           0      0   \n4                          0           0      0   \n...                      ...         ...    ...   \n9522                       0           0      0   \n9523                       0           0      0   \n9524                       0          10      0   \n9525                       0           0      0   \n9526                       0           0      0   \n\n      Biurowe urządzenia wielofunkcyjne  Drukarki i skanery  ...  \\\n0                                     0                   0  ...   \n1                                     9                   9  ...   \n2                                     0                   0  ...   \n3                                     0                   0  ...   \n4                                     0                   0  ...   \n...                                 ...                 ...  ...   \n9522                                  0                   0  ...   \n9523                                  0                   0  ...   \n9524                                  0                   0  ...   \n9525                                  0                   0  ...   \n9526                                  0                   0  ...   \n\n      Telefony stacjonarne  Telewizory i akcesoria  Video  \\\n0                        0                       2      2   \n1                        0                       0      0   \n2                        0                       0      0   \n3                        0                       0      0   \n4                        0                       0      0   \n...                    ...                     ...    ...   \n9522                     0                       0      0   \n9523                     0                       2      2   \n9524                     0                      10     10   \n9525                     0                       0      0   \n9526                     0                       0      1   \n\n      Zestawy głośnomówiące  Zestawy słuchawkowe  n_views  month  day  hour  \\\n0                         0                    0        1      7   28    15   \n1                         0                    0        8      9   12    16   \n2                         0                    0        2      4    9    22   \n3                         0                    0        2      8   15    16   \n4                         0                    0        6      1    5     0   \n...                     ...                  ...      ...    ...  ...   ...   \n9522                      0                    0        1      1   27     3   \n9523                      0                    0        1      7    6    16   \n9524                      0                    0       10      3    7     7   \n9525                      0                    0        1     10   12     0   \n9526                      0                    0        1      8   19    21   \n\n      dayofweek  \n0             2  \n1             6  \n2             4  \n3             6  \n4             1  \n...         ...  \n9522          2  \n9523          1  \n9524          6  \n9525          1  \n9526          3  \n\n[9527 rows x 38 columns]",
      "text/html": "<div>\n<style scoped>\n    .dataframe tbody tr th:only-of-type {\n        vertical-align: middle;\n    }\n\n    .dataframe tbody tr th {\n        vertical-align: top;\n    }\n\n    .dataframe thead th {\n        text-align: right;\n    }\n</style>\n<table border=\"1\" class=\"dataframe\">\n  <thead>\n    <tr style=\"text-align: right;\">\n      <th></th>\n      <th>offered_discount</th>\n      <th>session_length</th>\n      <th>price</th>\n      <th>Female</th>\n      <th>Male</th>\n      <th>Akcesoria telefoniczne</th>\n      <th>Anteny RTV</th>\n      <th>Audio</th>\n      <th>Biurowe urządzenia wielofunkcyjne</th>\n      <th>Drukarki i skanery</th>\n      <th>...</th>\n      <th>Telefony stacjonarne</th>\n      <th>Telewizory i akcesoria</th>\n      <th>Video</th>\n      <th>Zestawy głośnomówiące</th>\n      <th>Zestawy słuchawkowe</th>\n      <th>n_views</th>\n      <th>month</th>\n      <th>day</th>\n      <th>hour</th>\n      <th>dayofweek</th>\n    </tr>\n  </thead>\n  <tbody>\n    <tr>\n      <th>0</th>\n      <td>5</td>\n      <td>19</td>\n      <td>199.98</td>\n      <td>1</td>\n      <td>0</td>\n      <td>0</td>\n      <td>0</td>\n      <td>0</td>\n      <td>0</td>\n      <td>0</td>\n      <td>...</td>\n      <td>0</td>\n      <td>2</td>\n      <td>2</td>\n      <td>0</td>\n      <td>0</td>\n      <td>1</td>\n      <td>7</td>\n      <td>28</td>\n      <td>15</td>\n      <td>2</td>\n    </tr>\n    <tr>\n      <th>1</th>\n      <td>0</td>\n      <td>1436</td>\n      <td>36664.54</td>\n      <td>1</td>\n      <td>0</td>\n      <td>0</td>\n      <td>0</td>\n      <td>0</td>\n      <td>9</td>\n      <td>9</td>\n      <td>...</td>\n      <td>0</td>\n      <td>0</td>\n      <td>0</td>\n      <td>0</td>\n      <td>0</td>\n      <td>8</td>\n      <td>9</td>\n      <td>12</td>\n      <td>16</td>\n      <td>6</td>\n    </tr>\n    <tr>\n      <th>2</th>\n      <td>15</td>\n      <td>117</td>\n      <td>222.60</td>\n      <td>1</td>\n      <td>0</td>\n      <td>0</td>\n      <td>0</td>\n      <td>0</td>\n      <td>0</td>\n      <td>0</td>\n      <td>...</td>\n      <td>0</td>\n      <td>0</td>\n      <td>0</td>\n      <td>0</td>\n      <td>0</td>\n      <td>2</td>\n      <td>4</td>\n      <td>9</td>\n      <td>22</td>\n      <td>4</td>\n    </tr>\n    <tr>\n      <th>3</th>\n      <td>0</td>\n      <td>519</td>\n      <td>208.50</td>\n      <td>1</td>\n      <td>0</td>\n      <td>0</td>\n      <td>0</td>\n      <td>0</td>\n      <td>0</td>\n      <td>0</td>\n      <td>...</td>\n      <td>0</td>\n      <td>0</td>\n      <td>0</td>\n      <td>0</td>\n      <td>0</td>\n      <td>2</td>\n      <td>8</td>\n      <td>15</td>\n      <td>16</td>\n      <td>6</td>\n    </tr>\n    <tr>\n      <th>4</th>\n      <td>0</td>\n      <td>847</td>\n      <td>568.94</td>\n      <td>1</td>\n      <td>0</td>\n      <td>0</td>\n      <td>0</td>\n      <td>0</td>\n      <td>0</td>\n      <td>0</td>\n      <td>...</td>\n      <td>0</td>\n      <td>0</td>\n      <td>0</td>\n      <td>0</td>\n      <td>0</td>\n      <td>6</td>\n      <td>1</td>\n      <td>5</td>\n      <td>0</td>\n      <td>1</td>\n    </tr>\n    <tr>\n      <th>...</th>\n      <td>...</td>\n      <td>...</td>\n      <td>...</td>\n      <td>...</td>\n      <td>...</td>\n      <td>...</td>\n      <td>...</td>\n      <td>...</td>\n      <td>...</td>\n      <td>...</td>\n      <td>...</td>\n      <td>...</td>\n      <td>...</td>\n      <td>...</td>\n      <td>...</td>\n      <td>...</td>\n      <td>...</td>\n      <td>...</td>\n      <td>...</td>\n      <td>...</td>\n      <td>...</td>\n    </tr>\n    <tr>\n      <th>9522</th>\n      <td>0</td>\n      <td>0</td>\n      <td>64.80</td>\n      <td>1</td>\n      <td>0</td>\n      <td>0</td>\n      <td>0</td>\n      <td>0</td>\n      <td>0</td>\n      <td>0</td>\n      <td>...</td>\n      <td>0</td>\n      <td>0</td>\n      <td>0</td>\n      <td>0</td>\n      <td>0</td>\n      <td>1</td>\n      <td>1</td>\n      <td>27</td>\n      <td>3</td>\n      <td>2</td>\n    </tr>\n    <tr>\n      <th>9523</th>\n      <td>15</td>\n      <td>116</td>\n      <td>199.98</td>\n      <td>1</td>\n      <td>0</td>\n      <td>0</td>\n      <td>0</td>\n      <td>0</td>\n      <td>0</td>\n      <td>0</td>\n      <td>...</td>\n      <td>0</td>\n      <td>2</td>\n      <td>2</td>\n      <td>0</td>\n      <td>0</td>\n      <td>1</td>\n      <td>7</td>\n      <td>6</td>\n      <td>16</td>\n      <td>1</td>\n    </tr>\n    <tr>\n      <th>9524</th>\n      <td>0</td>\n      <td>1617</td>\n      <td>1141.66</td>\n      <td>1</td>\n      <td>0</td>\n      <td>0</td>\n      <td>10</td>\n      <td>0</td>\n      <td>0</td>\n      <td>0</td>\n      <td>...</td>\n      <td>0</td>\n      <td>10</td>\n      <td>10</td>\n      <td>0</td>\n      <td>0</td>\n      <td>10</td>\n      <td>3</td>\n      <td>7</td>\n      <td>7</td>\n      <td>6</td>\n    </tr>\n    <tr>\n      <th>9525</th>\n      <td>20</td>\n      <td>0</td>\n      <td>79.90</td>\n      <td>1</td>\n      <td>0</td>\n      <td>0</td>\n      <td>0</td>\n      <td>0</td>\n      <td>0</td>\n      <td>0</td>\n      <td>...</td>\n      <td>0</td>\n      <td>0</td>\n      <td>0</td>\n      <td>0</td>\n      <td>0</td>\n      <td>1</td>\n      <td>10</td>\n      <td>12</td>\n      <td>0</td>\n      <td>1</td>\n    </tr>\n    <tr>\n      <th>9526</th>\n      <td>0</td>\n      <td>0</td>\n      <td>109.00</td>\n      <td>1</td>\n      <td>0</td>\n      <td>0</td>\n      <td>0</td>\n      <td>0</td>\n      <td>0</td>\n      <td>0</td>\n      <td>...</td>\n      <td>0</td>\n      <td>0</td>\n      <td>1</td>\n      <td>0</td>\n      <td>0</td>\n      <td>1</td>\n      <td>8</td>\n      <td>19</td>\n      <td>21</td>\n      <td>3</td>\n    </tr>\n  </tbody>\n</table>\n<p>9527 rows × 38 columns</p>\n</div>"
     },
     "execution_count": 26,
     "metadata": {},
     "output_type": "execute_result"
    }
   ],
   "source": [
    "X"
   ],
   "metadata": {
    "collapsed": false,
    "pycharm": {
     "name": "#%%\n"
    }
   }
  },
  {
   "cell_type": "code",
   "execution_count": 27,
   "outputs": [
    {
     "data": {
      "text/plain": "array([1, 1, 1, ..., 0, 0, 0])"
     },
     "execution_count": 27,
     "metadata": {},
     "output_type": "execute_result"
    }
   ],
   "source": [
    "y"
   ],
   "metadata": {
    "collapsed": false,
    "pycharm": {
     "name": "#%%\n"
    }
   }
  },
  {
   "cell_type": "code",
   "execution_count": 28,
   "outputs": [],
   "source": [
    "X_train, X_test, y_train, y_test = train_test_split(X, y, test_size=0.3)"
   ],
   "metadata": {
    "collapsed": false,
    "pycharm": {
     "name": "#%%\n"
    }
   }
  },
  {
   "cell_type": "code",
   "execution_count": 29,
   "outputs": [
    {
     "data": {
      "text/plain": "(2859, 38)"
     },
     "execution_count": 29,
     "metadata": {},
     "output_type": "execute_result"
    }
   ],
   "source": [
    "X_test.shape"
   ],
   "metadata": {
    "collapsed": false,
    "pycharm": {
     "name": "#%%\n"
    }
   }
  },
  {
   "cell_type": "code",
   "execution_count": 30,
   "outputs": [
    {
     "data": {
      "text/plain": "(6668, 38)"
     },
     "execution_count": 30,
     "metadata": {},
     "output_type": "execute_result"
    }
   ],
   "source": [
    "X_train.shape"
   ],
   "metadata": {
    "collapsed": false,
    "pycharm": {
     "name": "#%%\n"
    }
   }
  },
  {
   "cell_type": "markdown",
   "source": [
    "## Szukanie modelu"
   ],
   "metadata": {
    "collapsed": false,
    "pycharm": {
     "name": "#%% md\n"
    }
   }
  },
  {
   "cell_type": "markdown",
   "source": [
    "## RandomForest"
   ],
   "metadata": {
    "collapsed": false,
    "pycharm": {
     "name": "#%% md\n"
    }
   }
  },
  {
   "cell_type": "code",
   "execution_count": 33,
   "outputs": [
    {
     "data": {
      "text/plain": "RandomForestClassifier()"
     },
     "execution_count": 33,
     "metadata": {},
     "output_type": "execute_result"
    }
   ],
   "source": [
    "random_forest = RandomForestClassifier()\n",
    "random_forest.fit(X_train, y_train)"
   ],
   "metadata": {
    "collapsed": false,
    "pycharm": {
     "name": "#%%\n"
    }
   }
  },
  {
   "cell_type": "code",
   "execution_count": 34,
   "outputs": [
    {
     "data": {
      "text/plain": "0.9718075646861253"
     },
     "execution_count": 34,
     "metadata": {},
     "output_type": "execute_result"
    }
   ],
   "source": [
    "rand_forest_scores = cross_val_score(random_forest, X_train, y_train, cv=10, scoring=\"accuracy\")\n",
    "rand_forest_scores.mean()"
   ],
   "metadata": {
    "collapsed": false,
    "pycharm": {
     "name": "#%%\n"
    }
   }
  },
  {
   "cell_type": "markdown",
   "source": [
    "## KNN"
   ],
   "metadata": {
    "collapsed": false,
    "pycharm": {
     "name": "#%% md\n"
    }
   }
  },
  {
   "cell_type": "code",
   "execution_count": 35,
   "outputs": [
    {
     "data": {
      "text/plain": "KNeighborsClassifier()"
     },
     "execution_count": 35,
     "metadata": {},
     "output_type": "execute_result"
    }
   ],
   "source": [
    "knn = KNeighborsClassifier()\n",
    "knn.fit(X_train, y_train)"
   ],
   "metadata": {
    "collapsed": false,
    "pycharm": {
     "name": "#%%\n"
    }
   }
  },
  {
   "cell_type": "code",
   "execution_count": 36,
   "outputs": [
    {
     "data": {
      "text/plain": "0.7897425161293227"
     },
     "execution_count": 36,
     "metadata": {},
     "output_type": "execute_result"
    }
   ],
   "source": [
    "knn_forest_scores = cross_val_score(knn, X_train, y_train, cv=10, scoring=\"accuracy\")\n",
    "knn_forest_scores.mean()"
   ],
   "metadata": {
    "collapsed": false,
    "pycharm": {
     "name": "#%%\n"
    }
   }
  },
  {
   "cell_type": "markdown",
   "source": [
    "## SVM"
   ],
   "metadata": {
    "collapsed": false,
    "pycharm": {
     "name": "#%% md\n"
    }
   }
  },
  {
   "cell_type": "code",
   "execution_count": 37,
   "outputs": [],
   "source": [
    "svm = SVC(kernel=\"rbf\")"
   ],
   "metadata": {
    "collapsed": false,
    "pycharm": {
     "name": "#%%\n"
    }
   }
  },
  {
   "cell_type": "code",
   "execution_count": 38,
   "outputs": [
    {
     "data": {
      "text/plain": "0.5947805376590983"
     },
     "execution_count": 38,
     "metadata": {},
     "output_type": "execute_result"
    }
   ],
   "source": [
    "svm_scores = cross_val_score(svm, X_train, y_train, cv=10, scoring=\"accuracy\")\n",
    "svm_scores.mean()"
   ],
   "metadata": {
    "collapsed": false,
    "pycharm": {
     "name": "#%%\n"
    }
   }
  },
  {
   "cell_type": "markdown",
   "source": [
    "## Gradient Boosting"
   ],
   "metadata": {
    "collapsed": false,
    "pycharm": {
     "name": "#%% md\n"
    }
   }
  },
  {
   "cell_type": "code",
   "execution_count": 39,
   "outputs": [],
   "source": [
    "gradient_boosting = GradientBoostingClassifier()"
   ],
   "metadata": {
    "collapsed": false,
    "pycharm": {
     "name": "#%%\n"
    }
   }
  },
  {
   "cell_type": "code",
   "execution_count": 40,
   "outputs": [
    {
     "data": {
      "text/plain": "0.9308646114274045"
     },
     "execution_count": 40,
     "metadata": {},
     "output_type": "execute_result"
    }
   ],
   "source": [
    "gradient_boosting_scores = cross_val_score(gradient_boosting, X_train, y_train, cv=3, scoring=\"accuracy\")\n",
    "gradient_boosting_scores.mean()"
   ],
   "metadata": {
    "collapsed": false,
    "pycharm": {
     "name": "#%%\n"
    }
   }
  },
  {
   "cell_type": "markdown",
   "source": [
    "## Sieć neuronowa"
   ],
   "metadata": {
    "collapsed": false,
    "pycharm": {
     "name": "#%% md\n"
    }
   }
  },
  {
   "cell_type": "code",
   "execution_count": 41,
   "outputs": [
    {
     "name": "stderr",
     "output_type": "stream",
     "text": [
      "2022-01-08 01:44:51.790330: I tensorflow/stream_executor/cuda/cuda_gpu_executor.cc:939] successful NUMA node read from SysFS had negative value (-1), but there must be at least one NUMA node, so returning NUMA node zero\n",
      "2022-01-08 01:44:51.816988: W tensorflow/stream_executor/platform/default/dso_loader.cc:64] Could not load dynamic library 'libcudnn.so.8'; dlerror: libcudnn.so.8: cannot open shared object file: No such file or directory\n",
      "2022-01-08 01:44:51.817006: W tensorflow/core/common_runtime/gpu/gpu_device.cc:1850] Cannot dlopen some GPU libraries. Please make sure the missing libraries mentioned above are installed properly if you would like to use GPU. Follow the guide at https://www.tensorflow.org/install/gpu for how to download and setup the required libraries for your platform.\n",
      "Skipping registering GPU devices...\n",
      "2022-01-08 01:44:51.818215: I tensorflow/core/platform/cpu_feature_guard.cc:151] This TensorFlow binary is optimized with oneAPI Deep Neural Network Library (oneDNN) to use the following CPU instructions in performance-critical operations:  AVX2 FMA\n",
      "To enable them in other operations, rebuild TensorFlow with the appropriate compiler flags.\n"
     ]
    }
   ],
   "source": [
    "model = tf.keras.Sequential([\n",
    "    tf.keras.layers.Dense(128, activation='relu', input_dim=len(main_df.columns)-1),\n",
    "    tf.keras.layers.Dense(64, activation='relu'),\n",
    "    tf.keras.layers.Dense(32, activation='relu'),\n",
    "    tf.keras.layers.Dense(1, activation=\"sigmoid\")\n",
    "\n",
    "])"
   ],
   "metadata": {
    "collapsed": false,
    "pycharm": {
     "name": "#%%\n"
    }
   }
  },
  {
   "cell_type": "code",
   "execution_count": 237,
   "outputs": [
    {
     "name": "stdout",
     "output_type": "stream",
     "text": [
      "Model: \"sequential_1\"\n",
      "_________________________________________________________________\n",
      " Layer (type)                Output Shape              Param #   \n",
      "=================================================================\n",
      " dense_4 (Dense)             (None, 128)               4992      \n",
      "                                                                 \n",
      " dense_5 (Dense)             (None, 64)                8256      \n",
      "                                                                 \n",
      " dense_6 (Dense)             (None, 32)                2080      \n",
      "                                                                 \n",
      " dense_7 (Dense)             (None, 1)                 33        \n",
      "                                                                 \n",
      "=================================================================\n",
      "Total params: 15,361\n",
      "Trainable params: 15,361\n",
      "Non-trainable params: 0\n",
      "_________________________________________________________________\n"
     ]
    }
   ],
   "source": [
    "model.summary()"
   ],
   "metadata": {
    "collapsed": false,
    "pycharm": {
     "name": "#%%\n"
    }
   }
  },
  {
   "cell_type": "code",
   "execution_count": 238,
   "outputs": [],
   "source": [
    "model.compile(optimizer='adam',\n",
    "              loss=tf.keras.losses.BinaryCrossentropy(),\n",
    "              metrics=['accuracy'])"
   ],
   "metadata": {
    "collapsed": false,
    "pycharm": {
     "name": "#%%\n"
    }
   }
  },
  {
   "cell_type": "code",
   "execution_count": null,
   "outputs": [
    {
     "name": "stdout",
     "output_type": "stream",
     "text": [
      "Epoch 1/200\n",
      "209/209 [==============================] - 0s 606us/step - loss: 13.1033 - accuracy: 0.5555\n",
      "Epoch 2/200\n",
      "209/209 [==============================] - 0s 634us/step - loss: 4.9674 - accuracy: 0.6317\n",
      "Epoch 3/200\n",
      "209/209 [==============================] - 0s 607us/step - loss: 4.2074 - accuracy: 0.6407\n",
      "Epoch 4/200\n",
      "209/209 [==============================] - 0s 667us/step - loss: 2.1996 - accuracy: 0.6686\n",
      "Epoch 5/200\n",
      "209/209 [==============================] - 0s 606us/step - loss: 3.1186 - accuracy: 0.6587\n",
      "Epoch 6/200\n",
      "209/209 [==============================] - 0s 616us/step - loss: 2.5689 - accuracy: 0.6671\n",
      "Epoch 7/200\n",
      "209/209 [==============================] - 0s 600us/step - loss: 1.7191 - accuracy: 0.6741\n",
      "Epoch 8/200\n",
      "209/209 [==============================] - 0s 587us/step - loss: 1.2757 - accuracy: 0.6924\n",
      "Epoch 9/200\n",
      "209/209 [==============================] - 0s 635us/step - loss: 1.2008 - accuracy: 0.6890\n",
      "Epoch 10/200\n",
      "209/209 [==============================] - 0s 656us/step - loss: 1.1036 - accuracy: 0.6900\n",
      "Epoch 11/200\n",
      "209/209 [==============================] - 0s 611us/step - loss: 0.8430 - accuracy: 0.7031\n",
      "Epoch 12/200\n",
      "209/209 [==============================] - 0s 648us/step - loss: 0.9604 - accuracy: 0.6995\n",
      "Epoch 13/200\n",
      "209/209 [==============================] - 0s 619us/step - loss: 1.0570 - accuracy: 0.6923\n",
      "Epoch 14/200\n",
      "209/209 [==============================] - 0s 575us/step - loss: 1.1244 - accuracy: 0.6848\n",
      "Epoch 15/200\n",
      "209/209 [==============================] - 0s 642us/step - loss: 0.7480 - accuracy: 0.6944\n",
      "Epoch 16/200\n",
      "209/209 [==============================] - 0s 610us/step - loss: 0.5168 - accuracy: 0.7181\n",
      "Epoch 17/200\n",
      "209/209 [==============================] - 0s 650us/step - loss: 0.5013 - accuracy: 0.7238\n",
      "Epoch 18/200\n",
      "209/209 [==============================] - 0s 634us/step - loss: 0.5173 - accuracy: 0.7209\n",
      "Epoch 19/200\n",
      "209/209 [==============================] - 0s 611us/step - loss: 0.7127 - accuracy: 0.6993\n",
      "Epoch 20/200\n",
      "209/209 [==============================] - 0s 586us/step - loss: 0.5317 - accuracy: 0.7178\n",
      "Epoch 21/200\n",
      "209/209 [==============================] - 0s 629us/step - loss: 0.4714 - accuracy: 0.7335\n",
      "Epoch 22/200\n",
      "209/209 [==============================] - 0s 622us/step - loss: 0.5330 - accuracy: 0.7304\n",
      "Epoch 23/200\n",
      "209/209 [==============================] - 0s 641us/step - loss: 0.4490 - accuracy: 0.7504\n",
      "Epoch 24/200\n",
      "209/209 [==============================] - 0s 616us/step - loss: 0.4459 - accuracy: 0.7560\n",
      "Epoch 25/200\n",
      "209/209 [==============================] - 0s 620us/step - loss: 0.4288 - accuracy: 0.7692\n",
      "Epoch 26/200\n",
      "209/209 [==============================] - 0s 618us/step - loss: 0.4217 - accuracy: 0.7741\n",
      "Epoch 27/200\n",
      "209/209 [==============================] - 0s 576us/step - loss: 0.4164 - accuracy: 0.7746\n",
      "Epoch 28/200\n",
      "209/209 [==============================] - 0s 613us/step - loss: 0.4125 - accuracy: 0.7735\n",
      "Epoch 29/200\n",
      "209/209 [==============================] - 0s 603us/step - loss: 0.3832 - accuracy: 0.7954\n",
      "Epoch 30/200\n",
      "209/209 [==============================] - 0s 631us/step - loss: 0.4034 - accuracy: 0.7785\n",
      "Epoch 31/200\n",
      "209/209 [==============================] - 0s 595us/step - loss: 0.3748 - accuracy: 0.7944\n",
      "Epoch 32/200\n",
      "209/209 [==============================] - 0s 567us/step - loss: 0.4299 - accuracy: 0.7633\n",
      "Epoch 33/200\n",
      "209/209 [==============================] - 0s 625us/step - loss: 0.3969 - accuracy: 0.7921\n",
      "Epoch 34/200\n",
      "209/209 [==============================] - 0s 584us/step - loss: 0.3832 - accuracy: 0.7956\n",
      "Epoch 35/200\n",
      "209/209 [==============================] - 0s 626us/step - loss: 0.3712 - accuracy: 0.7929\n",
      "Epoch 36/200\n",
      "209/209 [==============================] - 0s 638us/step - loss: 0.3547 - accuracy: 0.8047\n",
      "Epoch 37/200\n",
      "209/209 [==============================] - 0s 639us/step - loss: 0.3680 - accuracy: 0.8017\n",
      "Epoch 38/200\n",
      "209/209 [==============================] - 0s 653us/step - loss: 0.3516 - accuracy: 0.8071\n",
      "Epoch 39/200\n",
      "209/209 [==============================] - 0s 589us/step - loss: 0.3139 - accuracy: 0.8319\n",
      "Epoch 40/200\n",
      "209/209 [==============================] - 0s 627us/step - loss: 0.3847 - accuracy: 0.7935\n",
      "Epoch 41/200\n",
      "209/209 [==============================] - 0s 649us/step - loss: 0.3283 - accuracy: 0.8284\n",
      "Epoch 42/200\n",
      "209/209 [==============================] - 0s 611us/step - loss: 0.3666 - accuracy: 0.8013\n",
      "Epoch 43/200\n",
      "209/209 [==============================] - 0s 653us/step - loss: 0.2960 - accuracy: 0.8413\n",
      "Epoch 44/200\n",
      "209/209 [==============================] - 0s 646us/step - loss: 0.3249 - accuracy: 0.8238\n",
      "Epoch 45/200\n",
      "209/209 [==============================] - 0s 623us/step - loss: 0.2884 - accuracy: 0.8388\n",
      "Epoch 46/200\n",
      "209/209 [==============================] - 0s 629us/step - loss: 0.3065 - accuracy: 0.8302\n",
      "Epoch 47/200\n",
      "209/209 [==============================] - 0s 595us/step - loss: 0.2905 - accuracy: 0.8448\n",
      "Epoch 48/200\n",
      "209/209 [==============================] - 0s 596us/step - loss: 0.2677 - accuracy: 0.8479\n",
      "Epoch 49/200\n",
      "209/209 [==============================] - 0s 618us/step - loss: 0.3109 - accuracy: 0.8325\n",
      "Epoch 50/200\n",
      "209/209 [==============================] - 0s 627us/step - loss: 0.3583 - accuracy: 0.8187\n",
      "Epoch 51/200\n",
      "209/209 [==============================] - 0s 570us/step - loss: 0.2769 - accuracy: 0.8529\n",
      "Epoch 52/200\n",
      "209/209 [==============================] - 0s 663us/step - loss: 0.3033 - accuracy: 0.8487\n",
      "Epoch 53/200\n",
      "209/209 [==============================] - 0s 629us/step - loss: 0.3714 - accuracy: 0.8110\n",
      "Epoch 54/200\n",
      "209/209 [==============================] - 0s 615us/step - loss: 0.2401 - accuracy: 0.8554\n",
      "Epoch 55/200\n",
      "209/209 [==============================] - 0s 640us/step - loss: 0.2741 - accuracy: 0.8440\n",
      "Epoch 56/200\n",
      "209/209 [==============================] - 0s 595us/step - loss: 0.2906 - accuracy: 0.8389\n",
      "Epoch 57/200\n",
      "209/209 [==============================] - 0s 616us/step - loss: 0.2826 - accuracy: 0.8422\n",
      "Epoch 58/200\n",
      "209/209 [==============================] - 0s 596us/step - loss: 0.2822 - accuracy: 0.8493\n",
      "Epoch 59/200\n",
      "209/209 [==============================] - 0s 604us/step - loss: 0.2905 - accuracy: 0.8487\n",
      "Epoch 60/200\n",
      "209/209 [==============================] - 0s 656us/step - loss: 0.2612 - accuracy: 0.8613\n",
      "Epoch 61/200\n",
      "209/209 [==============================] - 0s 601us/step - loss: 0.2986 - accuracy: 0.8427\n",
      "Epoch 62/200\n",
      "209/209 [==============================] - 0s 637us/step - loss: 0.2632 - accuracy: 0.8526\n",
      "Epoch 63/200\n",
      "209/209 [==============================] - 0s 614us/step - loss: 0.2490 - accuracy: 0.8617\n",
      "Epoch 64/200\n",
      "209/209 [==============================] - 0s 578us/step - loss: 0.2851 - accuracy: 0.8539\n",
      "Epoch 65/200\n",
      "209/209 [==============================] - 0s 620us/step - loss: 0.2474 - accuracy: 0.8682\n",
      "Epoch 66/200\n",
      "209/209 [==============================] - 0s 585us/step - loss: 0.3087 - accuracy: 0.8373\n",
      "Epoch 67/200\n",
      "209/209 [==============================] - 0s 654us/step - loss: 0.2768 - accuracy: 0.8472\n",
      "Epoch 68/200\n",
      "209/209 [==============================] - 0s 576us/step - loss: 0.2686 - accuracy: 0.8550\n",
      "Epoch 69/200\n",
      "209/209 [==============================] - 0s 624us/step - loss: 0.3171 - accuracy: 0.8448\n",
      "Epoch 70/200\n",
      "209/209 [==============================] - 0s 613us/step - loss: 0.2871 - accuracy: 0.8472\n",
      "Epoch 71/200\n",
      "209/209 [==============================] - 0s 601us/step - loss: 0.2371 - accuracy: 0.8808\n",
      "Epoch 72/200\n",
      "209/209 [==============================] - 0s 597us/step - loss: 0.2342 - accuracy: 0.8749\n",
      "Epoch 73/200\n",
      "209/209 [==============================] - 0s 655us/step - loss: 0.2711 - accuracy: 0.8586\n",
      "Epoch 74/200\n",
      "209/209 [==============================] - 0s 571us/step - loss: 0.2955 - accuracy: 0.8458\n",
      "Epoch 75/200\n",
      "209/209 [==============================] - 0s 621us/step - loss: 0.2775 - accuracy: 0.8538\n",
      "Epoch 76/200\n",
      "209/209 [==============================] - 0s 614us/step - loss: 0.2364 - accuracy: 0.8710\n",
      "Epoch 77/200\n",
      "209/209 [==============================] - 0s 658us/step - loss: 0.2995 - accuracy: 0.8449\n",
      "Epoch 78/200\n",
      "209/209 [==============================] - 0s 610us/step - loss: 0.2591 - accuracy: 0.8737\n",
      "Epoch 79/200\n",
      "209/209 [==============================] - 0s 586us/step - loss: 0.2487 - accuracy: 0.8772\n",
      "Epoch 80/200\n",
      "209/209 [==============================] - 0s 599us/step - loss: 0.2333 - accuracy: 0.8794\n",
      "Epoch 81/200\n",
      "209/209 [==============================] - 0s 642us/step - loss: 0.2993 - accuracy: 0.8392\n",
      "Epoch 82/200\n",
      "209/209 [==============================] - 0s 561us/step - loss: 0.2183 - accuracy: 0.8767\n",
      "Epoch 83/200\n",
      "209/209 [==============================] - 0s 628us/step - loss: 0.2218 - accuracy: 0.8809\n",
      "Epoch 84/200\n",
      "209/209 [==============================] - 0s 619us/step - loss: 0.2802 - accuracy: 0.8539\n",
      "Epoch 85/200\n",
      "209/209 [==============================] - 0s 584us/step - loss: 0.2080 - accuracy: 0.8860\n",
      "Epoch 86/200\n",
      "209/209 [==============================] - 0s 603us/step - loss: 0.2968 - accuracy: 0.8413\n",
      "Epoch 87/200\n",
      "209/209 [==============================] - 0s 607us/step - loss: 0.2712 - accuracy: 0.8533\n",
      "Epoch 88/200\n",
      "209/209 [==============================] - 0s 593us/step - loss: 0.2191 - accuracy: 0.8790\n",
      "Epoch 89/200\n",
      "209/209 [==============================] - 0s 623us/step - loss: 0.2225 - accuracy: 0.8800\n",
      "Epoch 90/200\n",
      "209/209 [==============================] - 0s 588us/step - loss: 0.2270 - accuracy: 0.8833\n",
      "Epoch 91/200\n",
      "209/209 [==============================] - 0s 643us/step - loss: 0.2120 - accuracy: 0.8860\n",
      "Epoch 92/200\n",
      "209/209 [==============================] - 0s 618us/step - loss: 0.2251 - accuracy: 0.8838\n",
      "Epoch 93/200\n",
      "209/209 [==============================] - 0s 622us/step - loss: 0.4130 - accuracy: 0.8053\n",
      "Epoch 94/200\n",
      "209/209 [==============================] - 0s 600us/step - loss: 0.2618 - accuracy: 0.8560\n",
      "Epoch 95/200\n",
      "209/209 [==============================] - 0s 591us/step - loss: 0.2260 - accuracy: 0.8791\n",
      "Epoch 96/200\n",
      "209/209 [==============================] - 0s 587us/step - loss: 0.2264 - accuracy: 0.8790\n",
      "Epoch 97/200\n",
      "209/209 [==============================] - 0s 623us/step - loss: 0.1907 - accuracy: 0.8952\n",
      "Epoch 98/200\n",
      "209/209 [==============================] - 0s 613us/step - loss: 0.2560 - accuracy: 0.8644\n",
      "Epoch 99/200\n",
      "162/209 [======================>.......] - ETA: 0s - loss: 0.1965 - accuracy: 0.8935"
     ]
    }
   ],
   "source": [
    "model.fit(np.array(X_train,dtype=np.float64), np.array(y_train,dtype=np.float64), epochs=200)"
   ],
   "metadata": {
    "collapsed": false,
    "pycharm": {
     "name": "#%%\n"
    }
   }
  },
  {
   "cell_type": "code",
   "execution_count": null,
   "outputs": [],
   "source": [
    "predictions = model.predict(np.array(X_test,dtype=np.float64)) > 0.5"
   ],
   "metadata": {
    "collapsed": false,
    "pycharm": {
     "name": "#%%\n"
    }
   }
  },
  {
   "cell_type": "code",
   "execution_count": null,
   "outputs": [],
   "source": [
    "accuracy_score(y_test, predictions)"
   ],
   "metadata": {
    "collapsed": false,
    "pycharm": {
     "name": "#%%\n"
    }
   }
  },
  {
   "cell_type": "code",
   "execution_count": null,
   "outputs": [],
   "source": [],
   "metadata": {
    "collapsed": false,
    "pycharm": {
     "name": "#%%\n"
    }
   }
  }
 ],
 "metadata": {
  "kernelspec": {
   "display_name": "Python 3",
   "language": "python",
   "name": "python3"
  },
  "language_info": {
   "codemirror_mode": {
    "name": "ipython",
    "version": 2
   },
   "file_extension": ".py",
   "mimetype": "text/x-python",
   "name": "python",
   "nbconvert_exporter": "python",
   "pygments_lexer": "ipython2",
   "version": "2.7.6"
  }
 },
 "nbformat": 4,
 "nbformat_minor": 0
}