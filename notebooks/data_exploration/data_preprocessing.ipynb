{
 "cells": [
  {
   "cell_type": "code",
   "execution_count": 1,
   "metadata": {
    "collapsed": true
   },
   "outputs": [],
   "source": [
    "import pandas as pd\n",
    "from matplotlib import pyplot as plt\n",
    "%matplotlib inline\n",
    "from sklearn.metrics import accuracy_score\n",
    "from sklearn.model_selection import train_test_split, cross_val_score\n",
    "from sklearn.neighbors import KNeighborsClassifier\n",
    "from sklearn.svm import SVC\n",
    "from sklearn.ensemble import RandomForestClassifier, GradientBoostingClassifier\n",
    "import tensorflow as tf\n",
    "import numpy as np"
   ]
  },
  {
   "cell_type": "code",
   "execution_count": 2,
   "outputs": [],
   "source": [
    "df_sessions = pd.read_json(path_or_buf='../../data/raw/sessions.jsonl', lines=True)\n",
    "df_products = pd.read_json(path_or_buf='../../data/raw/products.jsonl', lines=True)\n",
    "df_users = pd.read_json(path_or_buf='../../data/raw/users.jsonl', lines=True)"
   ],
   "metadata": {
    "collapsed": false,
    "pycharm": {
     "name": "#%%\n"
    }
   }
  },
  {
   "cell_type": "code",
   "execution_count": 3,
   "outputs": [
    {
     "data": {
      "text/plain": "   user_id              name      city                   street\n0      102     Aurelia Malon    Poznań  pl. Brzoskwiniowa 11/53\n1      103     Mateusz Kobel    Poznań        al. Wrocławska 10\n2      104    Radosław Ratka  Szczecin           pl. Nowa 89/04\n3      105  Anastazja Oszust  Warszawa     ul. Częstochowska 80\n4      106      Sylwia Nurek  Warszawa          al. Wiosenna 72",
      "text/html": "<div>\n<style scoped>\n    .dataframe tbody tr th:only-of-type {\n        vertical-align: middle;\n    }\n\n    .dataframe tbody tr th {\n        vertical-align: top;\n    }\n\n    .dataframe thead th {\n        text-align: right;\n    }\n</style>\n<table border=\"1\" class=\"dataframe\">\n  <thead>\n    <tr style=\"text-align: right;\">\n      <th></th>\n      <th>user_id</th>\n      <th>name</th>\n      <th>city</th>\n      <th>street</th>\n    </tr>\n  </thead>\n  <tbody>\n    <tr>\n      <th>0</th>\n      <td>102</td>\n      <td>Aurelia Malon</td>\n      <td>Poznań</td>\n      <td>pl. Brzoskwiniowa 11/53</td>\n    </tr>\n    <tr>\n      <th>1</th>\n      <td>103</td>\n      <td>Mateusz Kobel</td>\n      <td>Poznań</td>\n      <td>al. Wrocławska 10</td>\n    </tr>\n    <tr>\n      <th>2</th>\n      <td>104</td>\n      <td>Radosław Ratka</td>\n      <td>Szczecin</td>\n      <td>pl. Nowa 89/04</td>\n    </tr>\n    <tr>\n      <th>3</th>\n      <td>105</td>\n      <td>Anastazja Oszust</td>\n      <td>Warszawa</td>\n      <td>ul. Częstochowska 80</td>\n    </tr>\n    <tr>\n      <th>4</th>\n      <td>106</td>\n      <td>Sylwia Nurek</td>\n      <td>Warszawa</td>\n      <td>al. Wiosenna 72</td>\n    </tr>\n  </tbody>\n</table>\n</div>"
     },
     "execution_count": 3,
     "metadata": {},
     "output_type": "execute_result"
    }
   ],
   "source": [
    "df_users.head()"
   ],
   "metadata": {
    "collapsed": false,
    "pycharm": {
     "name": "#%%\n"
    }
   }
  },
  {
   "cell_type": "code",
   "execution_count": 4,
   "outputs": [
    {
     "data": {
      "text/plain": "   product_id                                    product_name  \\\n0        1001                   Telefon Siemens Gigaset DA310   \n1        1002                              Kyocera FS-1135MFP   \n2        1003                              Kyocera FS-3640MFP   \n3        1004                            Fallout 3 (Xbox 360)   \n4        1005  Szalone Króliki Na żywo i w kolorze (Xbox 360)   \n\n                                       category_path    price  \n0          Telefony i akcesoria;Telefony stacjonarne    58.97  \n1  Komputery;Drukarki i skanery;Biurowe urządzeni...  2048.50  \n2  Komputery;Drukarki i skanery;Biurowe urządzeni...  7639.00  \n3          Gry i konsole;Gry na konsole;Gry Xbox 360    49.99  \n4          Gry i konsole;Gry na konsole;Gry Xbox 360    49.99  ",
      "text/html": "<div>\n<style scoped>\n    .dataframe tbody tr th:only-of-type {\n        vertical-align: middle;\n    }\n\n    .dataframe tbody tr th {\n        vertical-align: top;\n    }\n\n    .dataframe thead th {\n        text-align: right;\n    }\n</style>\n<table border=\"1\" class=\"dataframe\">\n  <thead>\n    <tr style=\"text-align: right;\">\n      <th></th>\n      <th>product_id</th>\n      <th>product_name</th>\n      <th>category_path</th>\n      <th>price</th>\n    </tr>\n  </thead>\n  <tbody>\n    <tr>\n      <th>0</th>\n      <td>1001</td>\n      <td>Telefon Siemens Gigaset DA310</td>\n      <td>Telefony i akcesoria;Telefony stacjonarne</td>\n      <td>58.97</td>\n    </tr>\n    <tr>\n      <th>1</th>\n      <td>1002</td>\n      <td>Kyocera FS-1135MFP</td>\n      <td>Komputery;Drukarki i skanery;Biurowe urządzeni...</td>\n      <td>2048.50</td>\n    </tr>\n    <tr>\n      <th>2</th>\n      <td>1003</td>\n      <td>Kyocera FS-3640MFP</td>\n      <td>Komputery;Drukarki i skanery;Biurowe urządzeni...</td>\n      <td>7639.00</td>\n    </tr>\n    <tr>\n      <th>3</th>\n      <td>1004</td>\n      <td>Fallout 3 (Xbox 360)</td>\n      <td>Gry i konsole;Gry na konsole;Gry Xbox 360</td>\n      <td>49.99</td>\n    </tr>\n    <tr>\n      <th>4</th>\n      <td>1005</td>\n      <td>Szalone Króliki Na żywo i w kolorze (Xbox 360)</td>\n      <td>Gry i konsole;Gry na konsole;Gry Xbox 360</td>\n      <td>49.99</td>\n    </tr>\n  </tbody>\n</table>\n</div>"
     },
     "execution_count": 4,
     "metadata": {},
     "output_type": "execute_result"
    }
   ],
   "source": [
    "df_products.head()"
   ],
   "metadata": {
    "collapsed": false,
    "pycharm": {
     "name": "#%%\n"
    }
   }
  },
  {
   "cell_type": "code",
   "execution_count": 5,
   "outputs": [
    {
     "data": {
      "text/plain": "   Akcesoria telefoniczne  Anteny RTV  Audio  \\\n0                       0           0      0   \n1                       0           0      0   \n2                       0           0      0   \n3                       0           0      0   \n4                       0           0      0   \n\n   Biurowe urządzenia wielofunkcyjne  Drukarki i skanery  Gry PlayStation3  \\\n0                                  0                   0                 0   \n1                                  1                   1                 0   \n2                                  1                   1                 0   \n3                                  0                   0                 0   \n4                                  0                   0                 0   \n\n   Gry Xbox 360  Gry i konsole  Gry komputerowe  Gry na konsole  ...  \\\n0             0              0                0               0  ...   \n1             0              0                0               0  ...   \n2             0              0                0               0  ...   \n3             1              1                0               1  ...   \n4             1              1                0               1  ...   \n\n   Słuchawki  Tablety  Tablety i akcesoria  Telefony i akcesoria  \\\n0          0        0                    0                     1   \n1          0        0                    0                     0   \n2          0        0                    0                     0   \n3          0        0                    0                     0   \n4          0        0                    0                     0   \n\n   Telefony komórkowe  Telefony stacjonarne  Telewizory i akcesoria  Video  \\\n0                   0                     1                       0      0   \n1                   0                     0                       0      0   \n2                   0                     0                       0      0   \n3                   0                     0                       0      0   \n4                   0                     0                       0      0   \n\n   Zestawy głośnomówiące  Zestawy słuchawkowe  \n0                      0                    0  \n1                      0                    0  \n2                      0                    0  \n3                      0                    0  \n4                      0                    0  \n\n[5 rows x 28 columns]",
      "text/html": "<div>\n<style scoped>\n    .dataframe tbody tr th:only-of-type {\n        vertical-align: middle;\n    }\n\n    .dataframe tbody tr th {\n        vertical-align: top;\n    }\n\n    .dataframe thead th {\n        text-align: right;\n    }\n</style>\n<table border=\"1\" class=\"dataframe\">\n  <thead>\n    <tr style=\"text-align: right;\">\n      <th></th>\n      <th>Akcesoria telefoniczne</th>\n      <th>Anteny RTV</th>\n      <th>Audio</th>\n      <th>Biurowe urządzenia wielofunkcyjne</th>\n      <th>Drukarki i skanery</th>\n      <th>Gry PlayStation3</th>\n      <th>Gry Xbox 360</th>\n      <th>Gry i konsole</th>\n      <th>Gry komputerowe</th>\n      <th>Gry na konsole</th>\n      <th>...</th>\n      <th>Słuchawki</th>\n      <th>Tablety</th>\n      <th>Tablety i akcesoria</th>\n      <th>Telefony i akcesoria</th>\n      <th>Telefony komórkowe</th>\n      <th>Telefony stacjonarne</th>\n      <th>Telewizory i akcesoria</th>\n      <th>Video</th>\n      <th>Zestawy głośnomówiące</th>\n      <th>Zestawy słuchawkowe</th>\n    </tr>\n  </thead>\n  <tbody>\n    <tr>\n      <th>0</th>\n      <td>0</td>\n      <td>0</td>\n      <td>0</td>\n      <td>0</td>\n      <td>0</td>\n      <td>0</td>\n      <td>0</td>\n      <td>0</td>\n      <td>0</td>\n      <td>0</td>\n      <td>...</td>\n      <td>0</td>\n      <td>0</td>\n      <td>0</td>\n      <td>1</td>\n      <td>0</td>\n      <td>1</td>\n      <td>0</td>\n      <td>0</td>\n      <td>0</td>\n      <td>0</td>\n    </tr>\n    <tr>\n      <th>1</th>\n      <td>0</td>\n      <td>0</td>\n      <td>0</td>\n      <td>1</td>\n      <td>1</td>\n      <td>0</td>\n      <td>0</td>\n      <td>0</td>\n      <td>0</td>\n      <td>0</td>\n      <td>...</td>\n      <td>0</td>\n      <td>0</td>\n      <td>0</td>\n      <td>0</td>\n      <td>0</td>\n      <td>0</td>\n      <td>0</td>\n      <td>0</td>\n      <td>0</td>\n      <td>0</td>\n    </tr>\n    <tr>\n      <th>2</th>\n      <td>0</td>\n      <td>0</td>\n      <td>0</td>\n      <td>1</td>\n      <td>1</td>\n      <td>0</td>\n      <td>0</td>\n      <td>0</td>\n      <td>0</td>\n      <td>0</td>\n      <td>...</td>\n      <td>0</td>\n      <td>0</td>\n      <td>0</td>\n      <td>0</td>\n      <td>0</td>\n      <td>0</td>\n      <td>0</td>\n      <td>0</td>\n      <td>0</td>\n      <td>0</td>\n    </tr>\n    <tr>\n      <th>3</th>\n      <td>0</td>\n      <td>0</td>\n      <td>0</td>\n      <td>0</td>\n      <td>0</td>\n      <td>0</td>\n      <td>1</td>\n      <td>1</td>\n      <td>0</td>\n      <td>1</td>\n      <td>...</td>\n      <td>0</td>\n      <td>0</td>\n      <td>0</td>\n      <td>0</td>\n      <td>0</td>\n      <td>0</td>\n      <td>0</td>\n      <td>0</td>\n      <td>0</td>\n      <td>0</td>\n    </tr>\n    <tr>\n      <th>4</th>\n      <td>0</td>\n      <td>0</td>\n      <td>0</td>\n      <td>0</td>\n      <td>0</td>\n      <td>0</td>\n      <td>1</td>\n      <td>1</td>\n      <td>0</td>\n      <td>1</td>\n      <td>...</td>\n      <td>0</td>\n      <td>0</td>\n      <td>0</td>\n      <td>0</td>\n      <td>0</td>\n      <td>0</td>\n      <td>0</td>\n      <td>0</td>\n      <td>0</td>\n      <td>0</td>\n    </tr>\n  </tbody>\n</table>\n<p>5 rows × 28 columns</p>\n</div>"
     },
     "execution_count": 5,
     "metadata": {},
     "output_type": "execute_result"
    }
   ],
   "source": [
    "categories_one_hot = df_products.category_path.str.get_dummies(';')\n",
    "categories_one_hot.head()"
   ],
   "metadata": {
    "collapsed": false,
    "pycharm": {
     "name": "#%%\n"
    }
   }
  },
  {
   "cell_type": "code",
   "execution_count": 6,
   "outputs": [
    {
     "data": {
      "text/plain": "   Gdynia  Kraków  Poznań  Radom  Szczecin  Warszawa  Wrocław\n0       0       0       1      0         0         0        0\n1       0       0       1      0         0         0        0\n2       0       0       0      0         1         0        0\n3       0       0       0      0         0         1        0\n4       0       0       0      0         0         1        0",
      "text/html": "<div>\n<style scoped>\n    .dataframe tbody tr th:only-of-type {\n        vertical-align: middle;\n    }\n\n    .dataframe tbody tr th {\n        vertical-align: top;\n    }\n\n    .dataframe thead th {\n        text-align: right;\n    }\n</style>\n<table border=\"1\" class=\"dataframe\">\n  <thead>\n    <tr style=\"text-align: right;\">\n      <th></th>\n      <th>Gdynia</th>\n      <th>Kraków</th>\n      <th>Poznań</th>\n      <th>Radom</th>\n      <th>Szczecin</th>\n      <th>Warszawa</th>\n      <th>Wrocław</th>\n    </tr>\n  </thead>\n  <tbody>\n    <tr>\n      <th>0</th>\n      <td>0</td>\n      <td>0</td>\n      <td>1</td>\n      <td>0</td>\n      <td>0</td>\n      <td>0</td>\n      <td>0</td>\n    </tr>\n    <tr>\n      <th>1</th>\n      <td>0</td>\n      <td>0</td>\n      <td>1</td>\n      <td>0</td>\n      <td>0</td>\n      <td>0</td>\n      <td>0</td>\n    </tr>\n    <tr>\n      <th>2</th>\n      <td>0</td>\n      <td>0</td>\n      <td>0</td>\n      <td>0</td>\n      <td>1</td>\n      <td>0</td>\n      <td>0</td>\n    </tr>\n    <tr>\n      <th>3</th>\n      <td>0</td>\n      <td>0</td>\n      <td>0</td>\n      <td>0</td>\n      <td>0</td>\n      <td>1</td>\n      <td>0</td>\n    </tr>\n    <tr>\n      <th>4</th>\n      <td>0</td>\n      <td>0</td>\n      <td>0</td>\n      <td>0</td>\n      <td>0</td>\n      <td>1</td>\n      <td>0</td>\n    </tr>\n  </tbody>\n</table>\n</div>"
     },
     "execution_count": 6,
     "metadata": {},
     "output_type": "execute_result"
    }
   ],
   "source": [
    "cities_one_hot = df_users.city.str.get_dummies()\n",
    "cities_one_hot.head()"
   ],
   "metadata": {
    "collapsed": false,
    "pycharm": {
     "name": "#%%\n"
    }
   }
  },
  {
   "cell_type": "code",
   "execution_count": 7,
   "outputs": [],
   "source": [
    "df_products.drop(columns=['product_name', 'category_path'], inplace=True)\n",
    "df_products = df_products.join(categories_one_hot)"
   ],
   "metadata": {
    "collapsed": false,
    "pycharm": {
     "name": "#%%\n"
    }
   }
  },
  {
   "cell_type": "code",
   "execution_count": 8,
   "outputs": [],
   "source": [
    "df_users.drop(columns=['city'], inplace=True)\n",
    "df_users = df_users.join(cities_one_hot)"
   ],
   "metadata": {
    "collapsed": false,
    "pycharm": {
     "name": "#%%\n"
    }
   }
  },
  {
   "cell_type": "code",
   "execution_count": 9,
   "outputs": [
    {
     "data": {
      "text/plain": "   product_id    price  Akcesoria telefoniczne  Anteny RTV  Audio  \\\n0        1001    58.97                       0           0      0   \n1        1002  2048.50                       0           0      0   \n2        1003  7639.00                       0           0      0   \n3        1004    49.99                       0           0      0   \n4        1005    49.99                       0           0      0   \n\n   Biurowe urządzenia wielofunkcyjne  Drukarki i skanery  Gry PlayStation3  \\\n0                                  0                   0                 0   \n1                                  1                   1                 0   \n2                                  1                   1                 0   \n3                                  0                   0                 0   \n4                                  0                   0                 0   \n\n   Gry Xbox 360  Gry i konsole  ...  Słuchawki  Tablety  Tablety i akcesoria  \\\n0             0              0  ...          0        0                    0   \n1             0              0  ...          0        0                    0   \n2             0              0  ...          0        0                    0   \n3             1              1  ...          0        0                    0   \n4             1              1  ...          0        0                    0   \n\n   Telefony i akcesoria  Telefony komórkowe  Telefony stacjonarne  \\\n0                     1                   0                     1   \n1                     0                   0                     0   \n2                     0                   0                     0   \n3                     0                   0                     0   \n4                     0                   0                     0   \n\n   Telewizory i akcesoria  Video  Zestawy głośnomówiące  Zestawy słuchawkowe  \n0                       0      0                      0                    0  \n1                       0      0                      0                    0  \n2                       0      0                      0                    0  \n3                       0      0                      0                    0  \n4                       0      0                      0                    0  \n\n[5 rows x 30 columns]",
      "text/html": "<div>\n<style scoped>\n    .dataframe tbody tr th:only-of-type {\n        vertical-align: middle;\n    }\n\n    .dataframe tbody tr th {\n        vertical-align: top;\n    }\n\n    .dataframe thead th {\n        text-align: right;\n    }\n</style>\n<table border=\"1\" class=\"dataframe\">\n  <thead>\n    <tr style=\"text-align: right;\">\n      <th></th>\n      <th>product_id</th>\n      <th>price</th>\n      <th>Akcesoria telefoniczne</th>\n      <th>Anteny RTV</th>\n      <th>Audio</th>\n      <th>Biurowe urządzenia wielofunkcyjne</th>\n      <th>Drukarki i skanery</th>\n      <th>Gry PlayStation3</th>\n      <th>Gry Xbox 360</th>\n      <th>Gry i konsole</th>\n      <th>...</th>\n      <th>Słuchawki</th>\n      <th>Tablety</th>\n      <th>Tablety i akcesoria</th>\n      <th>Telefony i akcesoria</th>\n      <th>Telefony komórkowe</th>\n      <th>Telefony stacjonarne</th>\n      <th>Telewizory i akcesoria</th>\n      <th>Video</th>\n      <th>Zestawy głośnomówiące</th>\n      <th>Zestawy słuchawkowe</th>\n    </tr>\n  </thead>\n  <tbody>\n    <tr>\n      <th>0</th>\n      <td>1001</td>\n      <td>58.97</td>\n      <td>0</td>\n      <td>0</td>\n      <td>0</td>\n      <td>0</td>\n      <td>0</td>\n      <td>0</td>\n      <td>0</td>\n      <td>0</td>\n      <td>...</td>\n      <td>0</td>\n      <td>0</td>\n      <td>0</td>\n      <td>1</td>\n      <td>0</td>\n      <td>1</td>\n      <td>0</td>\n      <td>0</td>\n      <td>0</td>\n      <td>0</td>\n    </tr>\n    <tr>\n      <th>1</th>\n      <td>1002</td>\n      <td>2048.50</td>\n      <td>0</td>\n      <td>0</td>\n      <td>0</td>\n      <td>1</td>\n      <td>1</td>\n      <td>0</td>\n      <td>0</td>\n      <td>0</td>\n      <td>...</td>\n      <td>0</td>\n      <td>0</td>\n      <td>0</td>\n      <td>0</td>\n      <td>0</td>\n      <td>0</td>\n      <td>0</td>\n      <td>0</td>\n      <td>0</td>\n      <td>0</td>\n    </tr>\n    <tr>\n      <th>2</th>\n      <td>1003</td>\n      <td>7639.00</td>\n      <td>0</td>\n      <td>0</td>\n      <td>0</td>\n      <td>1</td>\n      <td>1</td>\n      <td>0</td>\n      <td>0</td>\n      <td>0</td>\n      <td>...</td>\n      <td>0</td>\n      <td>0</td>\n      <td>0</td>\n      <td>0</td>\n      <td>0</td>\n      <td>0</td>\n      <td>0</td>\n      <td>0</td>\n      <td>0</td>\n      <td>0</td>\n    </tr>\n    <tr>\n      <th>3</th>\n      <td>1004</td>\n      <td>49.99</td>\n      <td>0</td>\n      <td>0</td>\n      <td>0</td>\n      <td>0</td>\n      <td>0</td>\n      <td>0</td>\n      <td>1</td>\n      <td>1</td>\n      <td>...</td>\n      <td>0</td>\n      <td>0</td>\n      <td>0</td>\n      <td>0</td>\n      <td>0</td>\n      <td>0</td>\n      <td>0</td>\n      <td>0</td>\n      <td>0</td>\n      <td>0</td>\n    </tr>\n    <tr>\n      <th>4</th>\n      <td>1005</td>\n      <td>49.99</td>\n      <td>0</td>\n      <td>0</td>\n      <td>0</td>\n      <td>0</td>\n      <td>0</td>\n      <td>0</td>\n      <td>1</td>\n      <td>1</td>\n      <td>...</td>\n      <td>0</td>\n      <td>0</td>\n      <td>0</td>\n      <td>0</td>\n      <td>0</td>\n      <td>0</td>\n      <td>0</td>\n      <td>0</td>\n      <td>0</td>\n      <td>0</td>\n    </tr>\n  </tbody>\n</table>\n<p>5 rows × 30 columns</p>\n</div>"
     },
     "execution_count": 9,
     "metadata": {},
     "output_type": "execute_result"
    }
   ],
   "source": [
    "df_products.head()"
   ],
   "metadata": {
    "collapsed": false,
    "pycharm": {
     "name": "#%%\n"
    }
   }
  },
  {
   "cell_type": "code",
   "execution_count": 10,
   "outputs": [
    {
     "data": {
      "text/plain": "   session_id           timestamp  user_id  product_id    event_type  \\\n0         124 2021-07-28 15:47:21      102        1283  VIEW_PRODUCT   \n1         124 2021-07-28 15:47:40      102        1283   BUY_PRODUCT   \n2         125 2021-09-12 16:43:16      102        1076  VIEW_PRODUCT   \n3         125 2021-09-12 16:46:24      102        1080  VIEW_PRODUCT   \n4         125 2021-09-12 16:48:08      102        1079  VIEW_PRODUCT   \n\n   offered_discount  purchase_id  \n0                 5          NaN  \n1                 5      20001.0  \n2                 0          NaN  \n3                 0          NaN  \n4                 0          NaN  ",
      "text/html": "<div>\n<style scoped>\n    .dataframe tbody tr th:only-of-type {\n        vertical-align: middle;\n    }\n\n    .dataframe tbody tr th {\n        vertical-align: top;\n    }\n\n    .dataframe thead th {\n        text-align: right;\n    }\n</style>\n<table border=\"1\" class=\"dataframe\">\n  <thead>\n    <tr style=\"text-align: right;\">\n      <th></th>\n      <th>session_id</th>\n      <th>timestamp</th>\n      <th>user_id</th>\n      <th>product_id</th>\n      <th>event_type</th>\n      <th>offered_discount</th>\n      <th>purchase_id</th>\n    </tr>\n  </thead>\n  <tbody>\n    <tr>\n      <th>0</th>\n      <td>124</td>\n      <td>2021-07-28 15:47:21</td>\n      <td>102</td>\n      <td>1283</td>\n      <td>VIEW_PRODUCT</td>\n      <td>5</td>\n      <td>NaN</td>\n    </tr>\n    <tr>\n      <th>1</th>\n      <td>124</td>\n      <td>2021-07-28 15:47:40</td>\n      <td>102</td>\n      <td>1283</td>\n      <td>BUY_PRODUCT</td>\n      <td>5</td>\n      <td>20001.0</td>\n    </tr>\n    <tr>\n      <th>2</th>\n      <td>125</td>\n      <td>2021-09-12 16:43:16</td>\n      <td>102</td>\n      <td>1076</td>\n      <td>VIEW_PRODUCT</td>\n      <td>0</td>\n      <td>NaN</td>\n    </tr>\n    <tr>\n      <th>3</th>\n      <td>125</td>\n      <td>2021-09-12 16:46:24</td>\n      <td>102</td>\n      <td>1080</td>\n      <td>VIEW_PRODUCT</td>\n      <td>0</td>\n      <td>NaN</td>\n    </tr>\n    <tr>\n      <th>4</th>\n      <td>125</td>\n      <td>2021-09-12 16:48:08</td>\n      <td>102</td>\n      <td>1079</td>\n      <td>VIEW_PRODUCT</td>\n      <td>0</td>\n      <td>NaN</td>\n    </tr>\n  </tbody>\n</table>\n</div>"
     },
     "execution_count": 10,
     "metadata": {},
     "output_type": "execute_result"
    }
   ],
   "source": [
    "df_sessions.head()"
   ],
   "metadata": {
    "collapsed": false,
    "pycharm": {
     "name": "#%%\n"
    }
   }
  },
  {
   "cell_type": "code",
   "execution_count": 11,
   "outputs": [],
   "source": [
    "df_users['sex'] = ['Female' if name.split(' ')[0][-1] == 'a' else 'Male' for name in df_users['name']]\n",
    "sex_one_hot = df_users.sex.str.get_dummies()\n",
    "df_users.drop(columns=['sex'], inplace=True)\n",
    "df_users = df_users.join(sex_one_hot)"
   ],
   "metadata": {
    "collapsed": false,
    "pycharm": {
     "name": "#%%\n"
    }
   }
  },
  {
   "cell_type": "code",
   "execution_count": 12,
   "outputs": [
    {
     "data": {
      "text/plain": "   user_id              name                   street  Gdynia  Kraków  Poznań  \\\n0      102     Aurelia Malon  pl. Brzoskwiniowa 11/53       0       0       1   \n1      103     Mateusz Kobel        al. Wrocławska 10       0       0       1   \n2      104    Radosław Ratka           pl. Nowa 89/04       0       0       0   \n3      105  Anastazja Oszust     ul. Częstochowska 80       0       0       0   \n4      106      Sylwia Nurek          al. Wiosenna 72       0       0       0   \n\n   Radom  Szczecin  Warszawa  Wrocław  Female  Male  \n0      0         0         0        0       1     0  \n1      0         0         0        0       0     1  \n2      0         1         0        0       0     1  \n3      0         0         1        0       1     0  \n4      0         0         1        0       1     0  ",
      "text/html": "<div>\n<style scoped>\n    .dataframe tbody tr th:only-of-type {\n        vertical-align: middle;\n    }\n\n    .dataframe tbody tr th {\n        vertical-align: top;\n    }\n\n    .dataframe thead th {\n        text-align: right;\n    }\n</style>\n<table border=\"1\" class=\"dataframe\">\n  <thead>\n    <tr style=\"text-align: right;\">\n      <th></th>\n      <th>user_id</th>\n      <th>name</th>\n      <th>street</th>\n      <th>Gdynia</th>\n      <th>Kraków</th>\n      <th>Poznań</th>\n      <th>Radom</th>\n      <th>Szczecin</th>\n      <th>Warszawa</th>\n      <th>Wrocław</th>\n      <th>Female</th>\n      <th>Male</th>\n    </tr>\n  </thead>\n  <tbody>\n    <tr>\n      <th>0</th>\n      <td>102</td>\n      <td>Aurelia Malon</td>\n      <td>pl. Brzoskwiniowa 11/53</td>\n      <td>0</td>\n      <td>0</td>\n      <td>1</td>\n      <td>0</td>\n      <td>0</td>\n      <td>0</td>\n      <td>0</td>\n      <td>1</td>\n      <td>0</td>\n    </tr>\n    <tr>\n      <th>1</th>\n      <td>103</td>\n      <td>Mateusz Kobel</td>\n      <td>al. Wrocławska 10</td>\n      <td>0</td>\n      <td>0</td>\n      <td>1</td>\n      <td>0</td>\n      <td>0</td>\n      <td>0</td>\n      <td>0</td>\n      <td>0</td>\n      <td>1</td>\n    </tr>\n    <tr>\n      <th>2</th>\n      <td>104</td>\n      <td>Radosław Ratka</td>\n      <td>pl. Nowa 89/04</td>\n      <td>0</td>\n      <td>0</td>\n      <td>0</td>\n      <td>0</td>\n      <td>1</td>\n      <td>0</td>\n      <td>0</td>\n      <td>0</td>\n      <td>1</td>\n    </tr>\n    <tr>\n      <th>3</th>\n      <td>105</td>\n      <td>Anastazja Oszust</td>\n      <td>ul. Częstochowska 80</td>\n      <td>0</td>\n      <td>0</td>\n      <td>0</td>\n      <td>0</td>\n      <td>0</td>\n      <td>1</td>\n      <td>0</td>\n      <td>1</td>\n      <td>0</td>\n    </tr>\n    <tr>\n      <th>4</th>\n      <td>106</td>\n      <td>Sylwia Nurek</td>\n      <td>al. Wiosenna 72</td>\n      <td>0</td>\n      <td>0</td>\n      <td>0</td>\n      <td>0</td>\n      <td>0</td>\n      <td>1</td>\n      <td>0</td>\n      <td>1</td>\n      <td>0</td>\n    </tr>\n  </tbody>\n</table>\n</div>"
     },
     "execution_count": 12,
     "metadata": {},
     "output_type": "execute_result"
    }
   ],
   "source": [
    "df_users.head()"
   ],
   "metadata": {
    "collapsed": false,
    "pycharm": {
     "name": "#%%\n"
    }
   }
  },
  {
   "cell_type": "code",
   "execution_count": 13,
   "outputs": [
    {
     "data": {
      "text/plain": "   session_id           timestamp  user_id  product_id    event_type  \\\n0         124 2021-07-28 15:47:21      102        1283  VIEW_PRODUCT   \n1         124 2021-07-28 15:47:40      102        1283   BUY_PRODUCT   \n2         139 2021-07-01 11:28:02      102        1283  VIEW_PRODUCT   \n3         139 2021-07-01 11:31:18      102        1283   BUY_PRODUCT   \n4         144 2021-03-19 13:55:04      102        1283  VIEW_PRODUCT   \n\n   offered_discount  purchase_id  price  Akcesoria telefoniczne  Anteny RTV  \\\n0                 5          NaN  99.99                       0           0   \n1                 5      20001.0  99.99                       0           0   \n2                 0          NaN  99.99                       0           0   \n3                 0      20013.0  99.99                       0           0   \n4                 0          NaN  99.99                       0           0   \n\n   ...                   street  Gdynia  Kraków  Poznań  Radom  Szczecin  \\\n0  ...  pl. Brzoskwiniowa 11/53       0       0       1      0         0   \n1  ...  pl. Brzoskwiniowa 11/53       0       0       1      0         0   \n2  ...  pl. Brzoskwiniowa 11/53       0       0       1      0         0   \n3  ...  pl. Brzoskwiniowa 11/53       0       0       1      0         0   \n4  ...  pl. Brzoskwiniowa 11/53       0       0       1      0         0   \n\n   Warszawa  Wrocław  Female  Male  \n0         0        0       1     0  \n1         0        0       1     0  \n2         0        0       1     0  \n3         0        0       1     0  \n4         0        0       1     0  \n\n[5 rows x 47 columns]",
      "text/html": "<div>\n<style scoped>\n    .dataframe tbody tr th:only-of-type {\n        vertical-align: middle;\n    }\n\n    .dataframe tbody tr th {\n        vertical-align: top;\n    }\n\n    .dataframe thead th {\n        text-align: right;\n    }\n</style>\n<table border=\"1\" class=\"dataframe\">\n  <thead>\n    <tr style=\"text-align: right;\">\n      <th></th>\n      <th>session_id</th>\n      <th>timestamp</th>\n      <th>user_id</th>\n      <th>product_id</th>\n      <th>event_type</th>\n      <th>offered_discount</th>\n      <th>purchase_id</th>\n      <th>price</th>\n      <th>Akcesoria telefoniczne</th>\n      <th>Anteny RTV</th>\n      <th>...</th>\n      <th>street</th>\n      <th>Gdynia</th>\n      <th>Kraków</th>\n      <th>Poznań</th>\n      <th>Radom</th>\n      <th>Szczecin</th>\n      <th>Warszawa</th>\n      <th>Wrocław</th>\n      <th>Female</th>\n      <th>Male</th>\n    </tr>\n  </thead>\n  <tbody>\n    <tr>\n      <th>0</th>\n      <td>124</td>\n      <td>2021-07-28 15:47:21</td>\n      <td>102</td>\n      <td>1283</td>\n      <td>VIEW_PRODUCT</td>\n      <td>5</td>\n      <td>NaN</td>\n      <td>99.99</td>\n      <td>0</td>\n      <td>0</td>\n      <td>...</td>\n      <td>pl. Brzoskwiniowa 11/53</td>\n      <td>0</td>\n      <td>0</td>\n      <td>1</td>\n      <td>0</td>\n      <td>0</td>\n      <td>0</td>\n      <td>0</td>\n      <td>1</td>\n      <td>0</td>\n    </tr>\n    <tr>\n      <th>1</th>\n      <td>124</td>\n      <td>2021-07-28 15:47:40</td>\n      <td>102</td>\n      <td>1283</td>\n      <td>BUY_PRODUCT</td>\n      <td>5</td>\n      <td>20001.0</td>\n      <td>99.99</td>\n      <td>0</td>\n      <td>0</td>\n      <td>...</td>\n      <td>pl. Brzoskwiniowa 11/53</td>\n      <td>0</td>\n      <td>0</td>\n      <td>1</td>\n      <td>0</td>\n      <td>0</td>\n      <td>0</td>\n      <td>0</td>\n      <td>1</td>\n      <td>0</td>\n    </tr>\n    <tr>\n      <th>2</th>\n      <td>139</td>\n      <td>2021-07-01 11:28:02</td>\n      <td>102</td>\n      <td>1283</td>\n      <td>VIEW_PRODUCT</td>\n      <td>0</td>\n      <td>NaN</td>\n      <td>99.99</td>\n      <td>0</td>\n      <td>0</td>\n      <td>...</td>\n      <td>pl. Brzoskwiniowa 11/53</td>\n      <td>0</td>\n      <td>0</td>\n      <td>1</td>\n      <td>0</td>\n      <td>0</td>\n      <td>0</td>\n      <td>0</td>\n      <td>1</td>\n      <td>0</td>\n    </tr>\n    <tr>\n      <th>3</th>\n      <td>139</td>\n      <td>2021-07-01 11:31:18</td>\n      <td>102</td>\n      <td>1283</td>\n      <td>BUY_PRODUCT</td>\n      <td>0</td>\n      <td>20013.0</td>\n      <td>99.99</td>\n      <td>0</td>\n      <td>0</td>\n      <td>...</td>\n      <td>pl. Brzoskwiniowa 11/53</td>\n      <td>0</td>\n      <td>0</td>\n      <td>1</td>\n      <td>0</td>\n      <td>0</td>\n      <td>0</td>\n      <td>0</td>\n      <td>1</td>\n      <td>0</td>\n    </tr>\n    <tr>\n      <th>4</th>\n      <td>144</td>\n      <td>2021-03-19 13:55:04</td>\n      <td>102</td>\n      <td>1283</td>\n      <td>VIEW_PRODUCT</td>\n      <td>0</td>\n      <td>NaN</td>\n      <td>99.99</td>\n      <td>0</td>\n      <td>0</td>\n      <td>...</td>\n      <td>pl. Brzoskwiniowa 11/53</td>\n      <td>0</td>\n      <td>0</td>\n      <td>1</td>\n      <td>0</td>\n      <td>0</td>\n      <td>0</td>\n      <td>0</td>\n      <td>1</td>\n      <td>0</td>\n    </tr>\n  </tbody>\n</table>\n<p>5 rows × 47 columns</p>\n</div>"
     },
     "execution_count": 13,
     "metadata": {},
     "output_type": "execute_result"
    }
   ],
   "source": [
    "df = df_sessions.merge(df_products, left_on='product_id', right_on='product_id')\n",
    "df = df.merge(df_users, left_on='user_id', right_on='user_id')\n",
    "df.head()"
   ],
   "metadata": {
    "collapsed": false,
    "pycharm": {
     "name": "#%%\n"
    }
   }
  },
  {
   "cell_type": "code",
   "execution_count": 14,
   "outputs": [],
   "source": [
    "aggregation_functions = {\n",
    "    'timestamp' : lambda t: [(t.max() - t.min()).seconds, t.min(), t.max()],\n",
    "    'user_id' : 'first',\n",
    "    'product_id' : 'unique',\n",
    "    'event_type' : lambda e: 1 if len(e.unique()) > 1 else 0,\n",
    "    'offered_discount' : 'first',\n",
    "    'price' : lambda p: p.sum()\n",
    "}\n",
    "\n",
    "for name in categories_one_hot.columns:\n",
    "    aggregation_functions[name] = lambda n: n.sum()\n",
    "\n",
    "# for name in cities_one_hot.columns:\n",
    "#     aggregation_functions[name] = 'first'\n",
    "\n",
    "for name in sex_one_hot.columns:\n",
    "    aggregation_functions[name] = 'first'\n",
    "\n",
    "main_df = df.groupby(df['session_id']).aggregate(aggregation_functions)\n",
    "main_df.rename(columns={'event_type' : 'purchased'}, inplace=True)"
   ],
   "metadata": {
    "collapsed": false,
    "pycharm": {
     "name": "#%%\n"
    }
   }
  },
  {
   "cell_type": "code",
   "execution_count": 15,
   "outputs": [],
   "source": [
    "timestamp_dict = [{'session_length' : x[0], 'session_start' : x[1], 'session_end' : x[2]} for x in main_df['timestamp']]\n",
    "timestamp_df = pd.DataFrame(timestamp_dict)"
   ],
   "metadata": {
    "collapsed": false,
    "pycharm": {
     "name": "#%%\n"
    }
   }
  },
  {
   "cell_type": "code",
   "execution_count": 16,
   "outputs": [
    {
     "data": {
      "text/plain": "            user_id                                        product_id  \\\nsession_id                                                              \n0               102                                            [1283]   \n1               102  [1076, 1080, 1079, 1003, 1002, 1075, 1078, 1077]   \n2               102                                      [1281, 1278]   \n3               102                                      [1281, 1278]   \n4               102              [1008, 1007, 1013, 1012, 1004, 1010]   \n\n            offered_discount  session_length     price       session_start  \\\nsession_id                                                                   \n0                          5              19    199.98 2021-07-28 15:47:21   \n1                          0            1436  36664.54 2021-09-12 16:43:16   \n2                         15             117    222.60 2021-04-09 22:31:08   \n3                          0             519    208.50 2021-08-15 16:46:06   \n4                          0             847    568.94 2021-01-05 00:05:38   \n\n                   session_end  purchased  Female  Male  ...  Słuchawki  \\\nsession_id                                               ...              \n0          2021-07-28 15:47:40          1       1     0  ...          0   \n1          2021-09-12 17:07:12          1       1     0  ...          0   \n2          2021-04-09 22:33:05          1       1     0  ...          0   \n3          2021-08-15 16:54:45          1       1     0  ...          0   \n4          2021-01-05 00:19:45          1       1     0  ...          0   \n\n            Tablety  Tablety i akcesoria  Telefony i akcesoria  \\\nsession_id                                                       \n0                 0                    0                     0   \n1                 0                    0                     0   \n2                 0                    0                     0   \n3                 0                    0                     0   \n4                 0                    0                     0   \n\n            Telefony komórkowe  Telefony stacjonarne  Telewizory i akcesoria  \\\nsession_id                                                                     \n0                            0                     0                       2   \n1                            0                     0                       0   \n2                            0                     0                       0   \n3                            0                     0                       0   \n4                            0                     0                       0   \n\n            Video  Zestawy głośnomówiące  Zestawy słuchawkowe  \nsession_id                                                     \n0               2                      0                    0  \n1               0                      0                    0  \n2               0                      0                    0  \n3               0                      0                    0  \n4               0                      0                    0  \n\n[5 rows x 38 columns]",
      "text/html": "<div>\n<style scoped>\n    .dataframe tbody tr th:only-of-type {\n        vertical-align: middle;\n    }\n\n    .dataframe tbody tr th {\n        vertical-align: top;\n    }\n\n    .dataframe thead th {\n        text-align: right;\n    }\n</style>\n<table border=\"1\" class=\"dataframe\">\n  <thead>\n    <tr style=\"text-align: right;\">\n      <th></th>\n      <th>user_id</th>\n      <th>product_id</th>\n      <th>offered_discount</th>\n      <th>session_length</th>\n      <th>price</th>\n      <th>session_start</th>\n      <th>session_end</th>\n      <th>purchased</th>\n      <th>Female</th>\n      <th>Male</th>\n      <th>...</th>\n      <th>Słuchawki</th>\n      <th>Tablety</th>\n      <th>Tablety i akcesoria</th>\n      <th>Telefony i akcesoria</th>\n      <th>Telefony komórkowe</th>\n      <th>Telefony stacjonarne</th>\n      <th>Telewizory i akcesoria</th>\n      <th>Video</th>\n      <th>Zestawy głośnomówiące</th>\n      <th>Zestawy słuchawkowe</th>\n    </tr>\n    <tr>\n      <th>session_id</th>\n      <th></th>\n      <th></th>\n      <th></th>\n      <th></th>\n      <th></th>\n      <th></th>\n      <th></th>\n      <th></th>\n      <th></th>\n      <th></th>\n      <th></th>\n      <th></th>\n      <th></th>\n      <th></th>\n      <th></th>\n      <th></th>\n      <th></th>\n      <th></th>\n      <th></th>\n      <th></th>\n      <th></th>\n    </tr>\n  </thead>\n  <tbody>\n    <tr>\n      <th>0</th>\n      <td>102</td>\n      <td>[1283]</td>\n      <td>5</td>\n      <td>19</td>\n      <td>199.98</td>\n      <td>2021-07-28 15:47:21</td>\n      <td>2021-07-28 15:47:40</td>\n      <td>1</td>\n      <td>1</td>\n      <td>0</td>\n      <td>...</td>\n      <td>0</td>\n      <td>0</td>\n      <td>0</td>\n      <td>0</td>\n      <td>0</td>\n      <td>0</td>\n      <td>2</td>\n      <td>2</td>\n      <td>0</td>\n      <td>0</td>\n    </tr>\n    <tr>\n      <th>1</th>\n      <td>102</td>\n      <td>[1076, 1080, 1079, 1003, 1002, 1075, 1078, 1077]</td>\n      <td>0</td>\n      <td>1436</td>\n      <td>36664.54</td>\n      <td>2021-09-12 16:43:16</td>\n      <td>2021-09-12 17:07:12</td>\n      <td>1</td>\n      <td>1</td>\n      <td>0</td>\n      <td>...</td>\n      <td>0</td>\n      <td>0</td>\n      <td>0</td>\n      <td>0</td>\n      <td>0</td>\n      <td>0</td>\n      <td>0</td>\n      <td>0</td>\n      <td>0</td>\n      <td>0</td>\n    </tr>\n    <tr>\n      <th>2</th>\n      <td>102</td>\n      <td>[1281, 1278]</td>\n      <td>15</td>\n      <td>117</td>\n      <td>222.60</td>\n      <td>2021-04-09 22:31:08</td>\n      <td>2021-04-09 22:33:05</td>\n      <td>1</td>\n      <td>1</td>\n      <td>0</td>\n      <td>...</td>\n      <td>0</td>\n      <td>0</td>\n      <td>0</td>\n      <td>0</td>\n      <td>0</td>\n      <td>0</td>\n      <td>0</td>\n      <td>0</td>\n      <td>0</td>\n      <td>0</td>\n    </tr>\n    <tr>\n      <th>3</th>\n      <td>102</td>\n      <td>[1281, 1278]</td>\n      <td>0</td>\n      <td>519</td>\n      <td>208.50</td>\n      <td>2021-08-15 16:46:06</td>\n      <td>2021-08-15 16:54:45</td>\n      <td>1</td>\n      <td>1</td>\n      <td>0</td>\n      <td>...</td>\n      <td>0</td>\n      <td>0</td>\n      <td>0</td>\n      <td>0</td>\n      <td>0</td>\n      <td>0</td>\n      <td>0</td>\n      <td>0</td>\n      <td>0</td>\n      <td>0</td>\n    </tr>\n    <tr>\n      <th>4</th>\n      <td>102</td>\n      <td>[1008, 1007, 1013, 1012, 1004, 1010]</td>\n      <td>0</td>\n      <td>847</td>\n      <td>568.94</td>\n      <td>2021-01-05 00:05:38</td>\n      <td>2021-01-05 00:19:45</td>\n      <td>1</td>\n      <td>1</td>\n      <td>0</td>\n      <td>...</td>\n      <td>0</td>\n      <td>0</td>\n      <td>0</td>\n      <td>0</td>\n      <td>0</td>\n      <td>0</td>\n      <td>0</td>\n      <td>0</td>\n      <td>0</td>\n      <td>0</td>\n    </tr>\n  </tbody>\n</table>\n<p>5 rows × 38 columns</p>\n</div>"
     },
     "execution_count": 16,
     "metadata": {},
     "output_type": "execute_result"
    }
   ],
   "source": [
    "main_df.reset_index(inplace=True)\n",
    "main_df = pd.concat([main_df, timestamp_df], axis=1, join=\"inner\")\n",
    "main_df.drop(columns=['timestamp'], inplace=True)\n",
    "main_df.index.name = 'session_id'\n",
    "main_df = main_df[['user_id', 'product_id', 'offered_discount', 'session_length', 'price', 'session_start', 'session_end', 'purchased'] + list(sex_one_hot.columns.values) + list(categories_one_hot.columns.values)]\n",
    "main_df.head()"
   ],
   "metadata": {
    "collapsed": false,
    "pycharm": {
     "name": "#%%\n"
    }
   }
  },
  {
   "cell_type": "code",
   "execution_count": 17,
   "outputs": [],
   "source": [
    "main_df['n_views'] = [len(x) for x in main_df['product_id'].values]"
   ],
   "metadata": {
    "collapsed": false,
    "pycharm": {
     "name": "#%%\n"
    }
   }
  },
  {
   "cell_type": "code",
   "execution_count": 18,
   "outputs": [
    {
     "data": {
      "text/plain": "            user_id                                        product_id  \\\nsession_id                                                              \n0               102                                            [1283]   \n1               102  [1076, 1080, 1079, 1003, 1002, 1075, 1078, 1077]   \n2               102                                      [1281, 1278]   \n3               102                                      [1281, 1278]   \n4               102              [1008, 1007, 1013, 1012, 1004, 1010]   \n\n            offered_discount  session_length     price       session_start  \\\nsession_id                                                                   \n0                          5              19    199.98 2021-07-28 15:47:21   \n1                          0            1436  36664.54 2021-09-12 16:43:16   \n2                         15             117    222.60 2021-04-09 22:31:08   \n3                          0             519    208.50 2021-08-15 16:46:06   \n4                          0             847    568.94 2021-01-05 00:05:38   \n\n                   session_end  purchased  Female  Male  ...  Tablety  \\\nsession_id                                               ...            \n0          2021-07-28 15:47:40          1       1     0  ...        0   \n1          2021-09-12 17:07:12          1       1     0  ...        0   \n2          2021-04-09 22:33:05          1       1     0  ...        0   \n3          2021-08-15 16:54:45          1       1     0  ...        0   \n4          2021-01-05 00:19:45          1       1     0  ...        0   \n\n            Tablety i akcesoria  Telefony i akcesoria  Telefony komórkowe  \\\nsession_id                                                                  \n0                             0                     0                   0   \n1                             0                     0                   0   \n2                             0                     0                   0   \n3                             0                     0                   0   \n4                             0                     0                   0   \n\n            Telefony stacjonarne  Telewizory i akcesoria  Video  \\\nsession_id                                                        \n0                              0                       2      2   \n1                              0                       0      0   \n2                              0                       0      0   \n3                              0                       0      0   \n4                              0                       0      0   \n\n            Zestawy głośnomówiące  Zestawy słuchawkowe  n_views  \nsession_id                                                       \n0                               0                    0        1  \n1                               0                    0        8  \n2                               0                    0        2  \n3                               0                    0        2  \n4                               0                    0        6  \n\n[5 rows x 39 columns]",
      "text/html": "<div>\n<style scoped>\n    .dataframe tbody tr th:only-of-type {\n        vertical-align: middle;\n    }\n\n    .dataframe tbody tr th {\n        vertical-align: top;\n    }\n\n    .dataframe thead th {\n        text-align: right;\n    }\n</style>\n<table border=\"1\" class=\"dataframe\">\n  <thead>\n    <tr style=\"text-align: right;\">\n      <th></th>\n      <th>user_id</th>\n      <th>product_id</th>\n      <th>offered_discount</th>\n      <th>session_length</th>\n      <th>price</th>\n      <th>session_start</th>\n      <th>session_end</th>\n      <th>purchased</th>\n      <th>Female</th>\n      <th>Male</th>\n      <th>...</th>\n      <th>Tablety</th>\n      <th>Tablety i akcesoria</th>\n      <th>Telefony i akcesoria</th>\n      <th>Telefony komórkowe</th>\n      <th>Telefony stacjonarne</th>\n      <th>Telewizory i akcesoria</th>\n      <th>Video</th>\n      <th>Zestawy głośnomówiące</th>\n      <th>Zestawy słuchawkowe</th>\n      <th>n_views</th>\n    </tr>\n    <tr>\n      <th>session_id</th>\n      <th></th>\n      <th></th>\n      <th></th>\n      <th></th>\n      <th></th>\n      <th></th>\n      <th></th>\n      <th></th>\n      <th></th>\n      <th></th>\n      <th></th>\n      <th></th>\n      <th></th>\n      <th></th>\n      <th></th>\n      <th></th>\n      <th></th>\n      <th></th>\n      <th></th>\n      <th></th>\n      <th></th>\n    </tr>\n  </thead>\n  <tbody>\n    <tr>\n      <th>0</th>\n      <td>102</td>\n      <td>[1283]</td>\n      <td>5</td>\n      <td>19</td>\n      <td>199.98</td>\n      <td>2021-07-28 15:47:21</td>\n      <td>2021-07-28 15:47:40</td>\n      <td>1</td>\n      <td>1</td>\n      <td>0</td>\n      <td>...</td>\n      <td>0</td>\n      <td>0</td>\n      <td>0</td>\n      <td>0</td>\n      <td>0</td>\n      <td>2</td>\n      <td>2</td>\n      <td>0</td>\n      <td>0</td>\n      <td>1</td>\n    </tr>\n    <tr>\n      <th>1</th>\n      <td>102</td>\n      <td>[1076, 1080, 1079, 1003, 1002, 1075, 1078, 1077]</td>\n      <td>0</td>\n      <td>1436</td>\n      <td>36664.54</td>\n      <td>2021-09-12 16:43:16</td>\n      <td>2021-09-12 17:07:12</td>\n      <td>1</td>\n      <td>1</td>\n      <td>0</td>\n      <td>...</td>\n      <td>0</td>\n      <td>0</td>\n      <td>0</td>\n      <td>0</td>\n      <td>0</td>\n      <td>0</td>\n      <td>0</td>\n      <td>0</td>\n      <td>0</td>\n      <td>8</td>\n    </tr>\n    <tr>\n      <th>2</th>\n      <td>102</td>\n      <td>[1281, 1278]</td>\n      <td>15</td>\n      <td>117</td>\n      <td>222.60</td>\n      <td>2021-04-09 22:31:08</td>\n      <td>2021-04-09 22:33:05</td>\n      <td>1</td>\n      <td>1</td>\n      <td>0</td>\n      <td>...</td>\n      <td>0</td>\n      <td>0</td>\n      <td>0</td>\n      <td>0</td>\n      <td>0</td>\n      <td>0</td>\n      <td>0</td>\n      <td>0</td>\n      <td>0</td>\n      <td>2</td>\n    </tr>\n    <tr>\n      <th>3</th>\n      <td>102</td>\n      <td>[1281, 1278]</td>\n      <td>0</td>\n      <td>519</td>\n      <td>208.50</td>\n      <td>2021-08-15 16:46:06</td>\n      <td>2021-08-15 16:54:45</td>\n      <td>1</td>\n      <td>1</td>\n      <td>0</td>\n      <td>...</td>\n      <td>0</td>\n      <td>0</td>\n      <td>0</td>\n      <td>0</td>\n      <td>0</td>\n      <td>0</td>\n      <td>0</td>\n      <td>0</td>\n      <td>0</td>\n      <td>2</td>\n    </tr>\n    <tr>\n      <th>4</th>\n      <td>102</td>\n      <td>[1008, 1007, 1013, 1012, 1004, 1010]</td>\n      <td>0</td>\n      <td>847</td>\n      <td>568.94</td>\n      <td>2021-01-05 00:05:38</td>\n      <td>2021-01-05 00:19:45</td>\n      <td>1</td>\n      <td>1</td>\n      <td>0</td>\n      <td>...</td>\n      <td>0</td>\n      <td>0</td>\n      <td>0</td>\n      <td>0</td>\n      <td>0</td>\n      <td>0</td>\n      <td>0</td>\n      <td>0</td>\n      <td>0</td>\n      <td>6</td>\n    </tr>\n  </tbody>\n</table>\n<p>5 rows × 39 columns</p>\n</div>"
     },
     "execution_count": 18,
     "metadata": {},
     "output_type": "execute_result"
    }
   ],
   "source": [
    "main_df.head()"
   ],
   "metadata": {
    "collapsed": false,
    "pycharm": {
     "name": "#%%\n"
    }
   }
  },
  {
   "cell_type": "markdown",
   "source": [
    "## Przygotowanie danych do modelu"
   ],
   "metadata": {
    "collapsed": false,
    "pycharm": {
     "name": "#%% md\n"
    }
   }
  },
  {
   "cell_type": "code",
   "execution_count": 19,
   "outputs": [],
   "source": [
    "main_df.reset_index(inplace=True)"
   ],
   "metadata": {
    "collapsed": false,
    "pycharm": {
     "name": "#%%\n"
    }
   }
  },
  {
   "cell_type": "code",
   "execution_count": 20,
   "outputs": [],
   "source": [
    "main_df.drop(columns=['session_id', 'user_id', 'product_id'], inplace=True)"
   ],
   "metadata": {
    "collapsed": false,
    "pycharm": {
     "name": "#%%\n"
    }
   }
  },
  {
   "cell_type": "code",
   "execution_count": 21,
   "outputs": [],
   "source": [
    "dates_encoded = pd.DataFrame({\n",
    "    \"month\": main_df['session_start'].dt.month,\n",
    "    \"day\": main_df['session_start'].dt.day,\n",
    "    \"hour\": main_df['session_start'].dt.hour,\n",
    "    \"dayofweek\": main_df['session_start'].dt.dayofweek,\n",
    "})"
   ],
   "metadata": {
    "collapsed": false,
    "pycharm": {
     "name": "#%%\n"
    }
   }
  },
  {
   "cell_type": "code",
   "execution_count": 22,
   "outputs": [],
   "source": [
    "main_df = main_df.join(dates_encoded)"
   ],
   "metadata": {
    "collapsed": false,
    "pycharm": {
     "name": "#%%\n"
    }
   }
  },
  {
   "cell_type": "code",
   "execution_count": 23,
   "outputs": [],
   "source": [
    "main_df.drop(columns=['session_start', 'session_end'], inplace=True)"
   ],
   "metadata": {
    "collapsed": false,
    "pycharm": {
     "name": "#%%\n"
    }
   }
  },
  {
   "cell_type": "code",
   "execution_count": 24,
   "outputs": [
    {
     "data": {
      "text/plain": "   offered_discount  session_length     price  purchased  Female  Male  \\\n0                 5              19    199.98          1       1     0   \n1                 0            1436  36664.54          1       1     0   \n2                15             117    222.60          1       1     0   \n3                 0             519    208.50          1       1     0   \n4                 0             847    568.94          1       1     0   \n\n   Akcesoria telefoniczne  Anteny RTV  Audio  \\\n0                       0           0      0   \n1                       0           0      0   \n2                       0           0      0   \n3                       0           0      0   \n4                       0           0      0   \n\n   Biurowe urządzenia wielofunkcyjne  ...  Telefony stacjonarne  \\\n0                                  0  ...                     0   \n1                                  9  ...                     0   \n2                                  0  ...                     0   \n3                                  0  ...                     0   \n4                                  0  ...                     0   \n\n   Telewizory i akcesoria  Video  Zestawy głośnomówiące  Zestawy słuchawkowe  \\\n0                       2      2                      0                    0   \n1                       0      0                      0                    0   \n2                       0      0                      0                    0   \n3                       0      0                      0                    0   \n4                       0      0                      0                    0   \n\n   n_views  month  day  hour  dayofweek  \n0        1      7   28    15          2  \n1        8      9   12    16          6  \n2        2      4    9    22          4  \n3        2      8   15    16          6  \n4        6      1    5     0          1  \n\n[5 rows x 39 columns]",
      "text/html": "<div>\n<style scoped>\n    .dataframe tbody tr th:only-of-type {\n        vertical-align: middle;\n    }\n\n    .dataframe tbody tr th {\n        vertical-align: top;\n    }\n\n    .dataframe thead th {\n        text-align: right;\n    }\n</style>\n<table border=\"1\" class=\"dataframe\">\n  <thead>\n    <tr style=\"text-align: right;\">\n      <th></th>\n      <th>offered_discount</th>\n      <th>session_length</th>\n      <th>price</th>\n      <th>purchased</th>\n      <th>Female</th>\n      <th>Male</th>\n      <th>Akcesoria telefoniczne</th>\n      <th>Anteny RTV</th>\n      <th>Audio</th>\n      <th>Biurowe urządzenia wielofunkcyjne</th>\n      <th>...</th>\n      <th>Telefony stacjonarne</th>\n      <th>Telewizory i akcesoria</th>\n      <th>Video</th>\n      <th>Zestawy głośnomówiące</th>\n      <th>Zestawy słuchawkowe</th>\n      <th>n_views</th>\n      <th>month</th>\n      <th>day</th>\n      <th>hour</th>\n      <th>dayofweek</th>\n    </tr>\n  </thead>\n  <tbody>\n    <tr>\n      <th>0</th>\n      <td>5</td>\n      <td>19</td>\n      <td>199.98</td>\n      <td>1</td>\n      <td>1</td>\n      <td>0</td>\n      <td>0</td>\n      <td>0</td>\n      <td>0</td>\n      <td>0</td>\n      <td>...</td>\n      <td>0</td>\n      <td>2</td>\n      <td>2</td>\n      <td>0</td>\n      <td>0</td>\n      <td>1</td>\n      <td>7</td>\n      <td>28</td>\n      <td>15</td>\n      <td>2</td>\n    </tr>\n    <tr>\n      <th>1</th>\n      <td>0</td>\n      <td>1436</td>\n      <td>36664.54</td>\n      <td>1</td>\n      <td>1</td>\n      <td>0</td>\n      <td>0</td>\n      <td>0</td>\n      <td>0</td>\n      <td>9</td>\n      <td>...</td>\n      <td>0</td>\n      <td>0</td>\n      <td>0</td>\n      <td>0</td>\n      <td>0</td>\n      <td>8</td>\n      <td>9</td>\n      <td>12</td>\n      <td>16</td>\n      <td>6</td>\n    </tr>\n    <tr>\n      <th>2</th>\n      <td>15</td>\n      <td>117</td>\n      <td>222.60</td>\n      <td>1</td>\n      <td>1</td>\n      <td>0</td>\n      <td>0</td>\n      <td>0</td>\n      <td>0</td>\n      <td>0</td>\n      <td>...</td>\n      <td>0</td>\n      <td>0</td>\n      <td>0</td>\n      <td>0</td>\n      <td>0</td>\n      <td>2</td>\n      <td>4</td>\n      <td>9</td>\n      <td>22</td>\n      <td>4</td>\n    </tr>\n    <tr>\n      <th>3</th>\n      <td>0</td>\n      <td>519</td>\n      <td>208.50</td>\n      <td>1</td>\n      <td>1</td>\n      <td>0</td>\n      <td>0</td>\n      <td>0</td>\n      <td>0</td>\n      <td>0</td>\n      <td>...</td>\n      <td>0</td>\n      <td>0</td>\n      <td>0</td>\n      <td>0</td>\n      <td>0</td>\n      <td>2</td>\n      <td>8</td>\n      <td>15</td>\n      <td>16</td>\n      <td>6</td>\n    </tr>\n    <tr>\n      <th>4</th>\n      <td>0</td>\n      <td>847</td>\n      <td>568.94</td>\n      <td>1</td>\n      <td>1</td>\n      <td>0</td>\n      <td>0</td>\n      <td>0</td>\n      <td>0</td>\n      <td>0</td>\n      <td>...</td>\n      <td>0</td>\n      <td>0</td>\n      <td>0</td>\n      <td>0</td>\n      <td>0</td>\n      <td>6</td>\n      <td>1</td>\n      <td>5</td>\n      <td>0</td>\n      <td>1</td>\n    </tr>\n  </tbody>\n</table>\n<p>5 rows × 39 columns</p>\n</div>"
     },
     "execution_count": 24,
     "metadata": {},
     "output_type": "execute_result"
    }
   ],
   "source": [
    "main_df.head()"
   ],
   "metadata": {
    "collapsed": false,
    "pycharm": {
     "name": "#%%\n"
    }
   }
  },
  {
   "cell_type": "markdown",
   "source": [
    "# Wydzielenie zbioru treningowego, walidacyjnego i testowego"
   ],
   "metadata": {
    "collapsed": false,
    "pycharm": {
     "name": "#%% md\n"
    }
   }
  },
  {
   "cell_type": "code",
   "execution_count": 65,
   "outputs": [],
   "source": [
    "y = main_df['purchased'].values\n",
    "X = main_df.drop(columns=['purchased']).values"
   ],
   "metadata": {
    "collapsed": false,
    "pycharm": {
     "name": "#%%\n"
    }
   }
  },
  {
   "cell_type": "code",
   "execution_count": 66,
   "outputs": [
    {
     "data": {
      "text/plain": "array([[5.000000e+00, 1.900000e+01, 1.999800e+02, ..., 2.800000e+01,\n        1.500000e+01, 2.000000e+00],\n       [0.000000e+00, 1.436000e+03, 3.666454e+04, ..., 1.200000e+01,\n        1.600000e+01, 6.000000e+00],\n       [1.500000e+01, 1.170000e+02, 2.226000e+02, ..., 9.000000e+00,\n        2.200000e+01, 4.000000e+00],\n       ...,\n       [0.000000e+00, 1.617000e+03, 1.141660e+03, ..., 7.000000e+00,\n        7.000000e+00, 6.000000e+00],\n       [2.000000e+01, 0.000000e+00, 7.990000e+01, ..., 1.200000e+01,\n        0.000000e+00, 1.000000e+00],\n       [0.000000e+00, 0.000000e+00, 1.090000e+02, ..., 1.900000e+01,\n        2.100000e+01, 3.000000e+00]])"
     },
     "execution_count": 66,
     "metadata": {},
     "output_type": "execute_result"
    }
   ],
   "source": [
    "X"
   ],
   "metadata": {
    "collapsed": false,
    "pycharm": {
     "name": "#%%\n"
    }
   }
  },
  {
   "cell_type": "code",
   "execution_count": 67,
   "outputs": [
    {
     "data": {
      "text/plain": "array([1, 1, 1, ..., 0, 0, 0])"
     },
     "execution_count": 67,
     "metadata": {},
     "output_type": "execute_result"
    }
   ],
   "source": [
    "y"
   ],
   "metadata": {
    "collapsed": false,
    "pycharm": {
     "name": "#%%\n"
    }
   }
  },
  {
   "cell_type": "code",
   "execution_count": 68,
   "outputs": [],
   "source": [
    "X_train, X_test, y_train, y_test = train_test_split(X, y, test_size=0.3)"
   ],
   "metadata": {
    "collapsed": false,
    "pycharm": {
     "name": "#%%\n"
    }
   }
  },
  {
   "cell_type": "code",
   "execution_count": 69,
   "outputs": [
    {
     "data": {
      "text/plain": "(2859, 38)"
     },
     "execution_count": 69,
     "metadata": {},
     "output_type": "execute_result"
    }
   ],
   "source": [
    "X_test.shape"
   ],
   "metadata": {
    "collapsed": false,
    "pycharm": {
     "name": "#%%\n"
    }
   }
  },
  {
   "cell_type": "code",
   "execution_count": 70,
   "outputs": [
    {
     "data": {
      "text/plain": "(6668, 38)"
     },
     "execution_count": 70,
     "metadata": {},
     "output_type": "execute_result"
    }
   ],
   "source": [
    "X_train.shape"
   ],
   "metadata": {
    "collapsed": false,
    "pycharm": {
     "name": "#%%\n"
    }
   }
  }
 ],
 "metadata": {
  "kernelspec": {
   "display_name": "Python 3",
   "language": "python",
   "name": "python3"
  },
  "language_info": {
   "codemirror_mode": {
    "name": "ipython",
    "version": 2
   },
   "file_extension": ".py",
   "mimetype": "text/x-python",
   "name": "python",
   "nbconvert_exporter": "python",
   "pygments_lexer": "ipython2",
   "version": "2.7.6"
  }
 },
 "nbformat": 4,
 "nbformat_minor": 0
}