{
 "cells": [
  {
   "cell_type": "code",
   "execution_count": 473,
   "metadata": {
    "collapsed": true
   },
   "outputs": [],
   "source": [
    "import pandas as pd\n",
    "from matplotlib import pyplot as plt\n",
    "%matplotlib inline\n",
    "from sklearn.metrics import mean_squared_error, accuracy_score, confusion_matrix, classification_report\n",
    "from sklearn.model_selection import train_test_split, cross_val_score, cross_val_predict\n",
    "from sklearn.neighbors import KNeighborsClassifier\n",
    "from sklearn.svm import SVC\n",
    "from sklearn.linear_model import LinearRegression\n",
    "from sklearn.ensemble import RandomForestClassifier, GradientBoostingClassifier\n",
    "import tensorflow as tf\n",
    "import numpy as np"
   ]
  },
  {
   "cell_type": "code",
   "execution_count": 474,
   "outputs": [],
   "source": [
    "df_sessions = pd.read_json(path_or_buf='../../data/raw/sessions.jsonl', lines=True)\n",
    "df_products = pd.read_json(path_or_buf='../../data/raw/products.jsonl', lines=True)\n",
    "df_users = pd.read_json(path_or_buf='../../data/raw/users.jsonl', lines=True)"
   ],
   "metadata": {
    "collapsed": false,
    "pycharm": {
     "name": "#%%\n"
    }
   }
  },
  {
   "cell_type": "code",
   "execution_count": 475,
   "outputs": [
    {
     "data": {
      "text/plain": "   user_id              name      city                   street\n0      102     Aurelia Malon    Poznań  pl. Brzoskwiniowa 11/53\n1      103     Mateusz Kobel    Poznań        al. Wrocławska 10\n2      104    Radosław Ratka  Szczecin           pl. Nowa 89/04\n3      105  Anastazja Oszust  Warszawa     ul. Częstochowska 80\n4      106      Sylwia Nurek  Warszawa          al. Wiosenna 72",
      "text/html": "<div>\n<style scoped>\n    .dataframe tbody tr th:only-of-type {\n        vertical-align: middle;\n    }\n\n    .dataframe tbody tr th {\n        vertical-align: top;\n    }\n\n    .dataframe thead th {\n        text-align: right;\n    }\n</style>\n<table border=\"1\" class=\"dataframe\">\n  <thead>\n    <tr style=\"text-align: right;\">\n      <th></th>\n      <th>user_id</th>\n      <th>name</th>\n      <th>city</th>\n      <th>street</th>\n    </tr>\n  </thead>\n  <tbody>\n    <tr>\n      <th>0</th>\n      <td>102</td>\n      <td>Aurelia Malon</td>\n      <td>Poznań</td>\n      <td>pl. Brzoskwiniowa 11/53</td>\n    </tr>\n    <tr>\n      <th>1</th>\n      <td>103</td>\n      <td>Mateusz Kobel</td>\n      <td>Poznań</td>\n      <td>al. Wrocławska 10</td>\n    </tr>\n    <tr>\n      <th>2</th>\n      <td>104</td>\n      <td>Radosław Ratka</td>\n      <td>Szczecin</td>\n      <td>pl. Nowa 89/04</td>\n    </tr>\n    <tr>\n      <th>3</th>\n      <td>105</td>\n      <td>Anastazja Oszust</td>\n      <td>Warszawa</td>\n      <td>ul. Częstochowska 80</td>\n    </tr>\n    <tr>\n      <th>4</th>\n      <td>106</td>\n      <td>Sylwia Nurek</td>\n      <td>Warszawa</td>\n      <td>al. Wiosenna 72</td>\n    </tr>\n  </tbody>\n</table>\n</div>"
     },
     "execution_count": 475,
     "metadata": {},
     "output_type": "execute_result"
    }
   ],
   "source": [
    "df_users.head()"
   ],
   "metadata": {
    "collapsed": false,
    "pycharm": {
     "name": "#%%\n"
    }
   }
  },
  {
   "cell_type": "code",
   "execution_count": 476,
   "outputs": [
    {
     "data": {
      "text/plain": "   product_id                                    product_name  \\\n0        1001                   Telefon Siemens Gigaset DA310   \n1        1002                              Kyocera FS-1135MFP   \n2        1003                              Kyocera FS-3640MFP   \n3        1004                            Fallout 3 (Xbox 360)   \n4        1005  Szalone Króliki Na żywo i w kolorze (Xbox 360)   \n\n                                       category_path    price  \n0          Telefony i akcesoria;Telefony stacjonarne    58.97  \n1  Komputery;Drukarki i skanery;Biurowe urządzeni...  2048.50  \n2  Komputery;Drukarki i skanery;Biurowe urządzeni...  7639.00  \n3          Gry i konsole;Gry na konsole;Gry Xbox 360    49.99  \n4          Gry i konsole;Gry na konsole;Gry Xbox 360    49.99  ",
      "text/html": "<div>\n<style scoped>\n    .dataframe tbody tr th:only-of-type {\n        vertical-align: middle;\n    }\n\n    .dataframe tbody tr th {\n        vertical-align: top;\n    }\n\n    .dataframe thead th {\n        text-align: right;\n    }\n</style>\n<table border=\"1\" class=\"dataframe\">\n  <thead>\n    <tr style=\"text-align: right;\">\n      <th></th>\n      <th>product_id</th>\n      <th>product_name</th>\n      <th>category_path</th>\n      <th>price</th>\n    </tr>\n  </thead>\n  <tbody>\n    <tr>\n      <th>0</th>\n      <td>1001</td>\n      <td>Telefon Siemens Gigaset DA310</td>\n      <td>Telefony i akcesoria;Telefony stacjonarne</td>\n      <td>58.97</td>\n    </tr>\n    <tr>\n      <th>1</th>\n      <td>1002</td>\n      <td>Kyocera FS-1135MFP</td>\n      <td>Komputery;Drukarki i skanery;Biurowe urządzeni...</td>\n      <td>2048.50</td>\n    </tr>\n    <tr>\n      <th>2</th>\n      <td>1003</td>\n      <td>Kyocera FS-3640MFP</td>\n      <td>Komputery;Drukarki i skanery;Biurowe urządzeni...</td>\n      <td>7639.00</td>\n    </tr>\n    <tr>\n      <th>3</th>\n      <td>1004</td>\n      <td>Fallout 3 (Xbox 360)</td>\n      <td>Gry i konsole;Gry na konsole;Gry Xbox 360</td>\n      <td>49.99</td>\n    </tr>\n    <tr>\n      <th>4</th>\n      <td>1005</td>\n      <td>Szalone Króliki Na żywo i w kolorze (Xbox 360)</td>\n      <td>Gry i konsole;Gry na konsole;Gry Xbox 360</td>\n      <td>49.99</td>\n    </tr>\n  </tbody>\n</table>\n</div>"
     },
     "execution_count": 476,
     "metadata": {},
     "output_type": "execute_result"
    }
   ],
   "source": [
    "df_products.head()"
   ],
   "metadata": {
    "collapsed": false,
    "pycharm": {
     "name": "#%%\n"
    }
   }
  },
  {
   "cell_type": "code",
   "execution_count": 477,
   "outputs": [
    {
     "data": {
      "text/plain": "   Akcesoria telefoniczne  Anteny RTV  Audio  \\\n0                       0           0      0   \n1                       0           0      0   \n2                       0           0      0   \n3                       0           0      0   \n4                       0           0      0   \n\n   Biurowe urządzenia wielofunkcyjne  Drukarki i skanery  Gry PlayStation3  \\\n0                                  0                   0                 0   \n1                                  1                   1                 0   \n2                                  1                   1                 0   \n3                                  0                   0                 0   \n4                                  0                   0                 0   \n\n   Gry Xbox 360  Gry i konsole  Gry komputerowe  Gry na konsole  ...  \\\n0             0              0                0               0  ...   \n1             0              0                0               0  ...   \n2             0              0                0               0  ...   \n3             1              1                0               1  ...   \n4             1              1                0               1  ...   \n\n   Słuchawki  Tablety  Tablety i akcesoria  Telefony i akcesoria  \\\n0          0        0                    0                     1   \n1          0        0                    0                     0   \n2          0        0                    0                     0   \n3          0        0                    0                     0   \n4          0        0                    0                     0   \n\n   Telefony komórkowe  Telefony stacjonarne  Telewizory i akcesoria  Video  \\\n0                   0                     1                       0      0   \n1                   0                     0                       0      0   \n2                   0                     0                       0      0   \n3                   0                     0                       0      0   \n4                   0                     0                       0      0   \n\n   Zestawy głośnomówiące  Zestawy słuchawkowe  \n0                      0                    0  \n1                      0                    0  \n2                      0                    0  \n3                      0                    0  \n4                      0                    0  \n\n[5 rows x 28 columns]",
      "text/html": "<div>\n<style scoped>\n    .dataframe tbody tr th:only-of-type {\n        vertical-align: middle;\n    }\n\n    .dataframe tbody tr th {\n        vertical-align: top;\n    }\n\n    .dataframe thead th {\n        text-align: right;\n    }\n</style>\n<table border=\"1\" class=\"dataframe\">\n  <thead>\n    <tr style=\"text-align: right;\">\n      <th></th>\n      <th>Akcesoria telefoniczne</th>\n      <th>Anteny RTV</th>\n      <th>Audio</th>\n      <th>Biurowe urządzenia wielofunkcyjne</th>\n      <th>Drukarki i skanery</th>\n      <th>Gry PlayStation3</th>\n      <th>Gry Xbox 360</th>\n      <th>Gry i konsole</th>\n      <th>Gry komputerowe</th>\n      <th>Gry na konsole</th>\n      <th>...</th>\n      <th>Słuchawki</th>\n      <th>Tablety</th>\n      <th>Tablety i akcesoria</th>\n      <th>Telefony i akcesoria</th>\n      <th>Telefony komórkowe</th>\n      <th>Telefony stacjonarne</th>\n      <th>Telewizory i akcesoria</th>\n      <th>Video</th>\n      <th>Zestawy głośnomówiące</th>\n      <th>Zestawy słuchawkowe</th>\n    </tr>\n  </thead>\n  <tbody>\n    <tr>\n      <th>0</th>\n      <td>0</td>\n      <td>0</td>\n      <td>0</td>\n      <td>0</td>\n      <td>0</td>\n      <td>0</td>\n      <td>0</td>\n      <td>0</td>\n      <td>0</td>\n      <td>0</td>\n      <td>...</td>\n      <td>0</td>\n      <td>0</td>\n      <td>0</td>\n      <td>1</td>\n      <td>0</td>\n      <td>1</td>\n      <td>0</td>\n      <td>0</td>\n      <td>0</td>\n      <td>0</td>\n    </tr>\n    <tr>\n      <th>1</th>\n      <td>0</td>\n      <td>0</td>\n      <td>0</td>\n      <td>1</td>\n      <td>1</td>\n      <td>0</td>\n      <td>0</td>\n      <td>0</td>\n      <td>0</td>\n      <td>0</td>\n      <td>...</td>\n      <td>0</td>\n      <td>0</td>\n      <td>0</td>\n      <td>0</td>\n      <td>0</td>\n      <td>0</td>\n      <td>0</td>\n      <td>0</td>\n      <td>0</td>\n      <td>0</td>\n    </tr>\n    <tr>\n      <th>2</th>\n      <td>0</td>\n      <td>0</td>\n      <td>0</td>\n      <td>1</td>\n      <td>1</td>\n      <td>0</td>\n      <td>0</td>\n      <td>0</td>\n      <td>0</td>\n      <td>0</td>\n      <td>...</td>\n      <td>0</td>\n      <td>0</td>\n      <td>0</td>\n      <td>0</td>\n      <td>0</td>\n      <td>0</td>\n      <td>0</td>\n      <td>0</td>\n      <td>0</td>\n      <td>0</td>\n    </tr>\n    <tr>\n      <th>3</th>\n      <td>0</td>\n      <td>0</td>\n      <td>0</td>\n      <td>0</td>\n      <td>0</td>\n      <td>0</td>\n      <td>1</td>\n      <td>1</td>\n      <td>0</td>\n      <td>1</td>\n      <td>...</td>\n      <td>0</td>\n      <td>0</td>\n      <td>0</td>\n      <td>0</td>\n      <td>0</td>\n      <td>0</td>\n      <td>0</td>\n      <td>0</td>\n      <td>0</td>\n      <td>0</td>\n    </tr>\n    <tr>\n      <th>4</th>\n      <td>0</td>\n      <td>0</td>\n      <td>0</td>\n      <td>0</td>\n      <td>0</td>\n      <td>0</td>\n      <td>1</td>\n      <td>1</td>\n      <td>0</td>\n      <td>1</td>\n      <td>...</td>\n      <td>0</td>\n      <td>0</td>\n      <td>0</td>\n      <td>0</td>\n      <td>0</td>\n      <td>0</td>\n      <td>0</td>\n      <td>0</td>\n      <td>0</td>\n      <td>0</td>\n    </tr>\n  </tbody>\n</table>\n<p>5 rows × 28 columns</p>\n</div>"
     },
     "execution_count": 477,
     "metadata": {},
     "output_type": "execute_result"
    }
   ],
   "source": [
    "categories_one_hot = df_products.category_path.str.get_dummies(';')\n",
    "categories_one_hot.head()"
   ],
   "metadata": {
    "collapsed": false,
    "pycharm": {
     "name": "#%%\n"
    }
   }
  },
  {
   "cell_type": "code",
   "execution_count": 478,
   "outputs": [
    {
     "data": {
      "text/plain": "   Gdynia  Kraków  Poznań  Radom  Szczecin  Warszawa  Wrocław\n0       0       0       1      0         0         0        0\n1       0       0       1      0         0         0        0\n2       0       0       0      0         1         0        0\n3       0       0       0      0         0         1        0\n4       0       0       0      0         0         1        0",
      "text/html": "<div>\n<style scoped>\n    .dataframe tbody tr th:only-of-type {\n        vertical-align: middle;\n    }\n\n    .dataframe tbody tr th {\n        vertical-align: top;\n    }\n\n    .dataframe thead th {\n        text-align: right;\n    }\n</style>\n<table border=\"1\" class=\"dataframe\">\n  <thead>\n    <tr style=\"text-align: right;\">\n      <th></th>\n      <th>Gdynia</th>\n      <th>Kraków</th>\n      <th>Poznań</th>\n      <th>Radom</th>\n      <th>Szczecin</th>\n      <th>Warszawa</th>\n      <th>Wrocław</th>\n    </tr>\n  </thead>\n  <tbody>\n    <tr>\n      <th>0</th>\n      <td>0</td>\n      <td>0</td>\n      <td>1</td>\n      <td>0</td>\n      <td>0</td>\n      <td>0</td>\n      <td>0</td>\n    </tr>\n    <tr>\n      <th>1</th>\n      <td>0</td>\n      <td>0</td>\n      <td>1</td>\n      <td>0</td>\n      <td>0</td>\n      <td>0</td>\n      <td>0</td>\n    </tr>\n    <tr>\n      <th>2</th>\n      <td>0</td>\n      <td>0</td>\n      <td>0</td>\n      <td>0</td>\n      <td>1</td>\n      <td>0</td>\n      <td>0</td>\n    </tr>\n    <tr>\n      <th>3</th>\n      <td>0</td>\n      <td>0</td>\n      <td>0</td>\n      <td>0</td>\n      <td>0</td>\n      <td>1</td>\n      <td>0</td>\n    </tr>\n    <tr>\n      <th>4</th>\n      <td>0</td>\n      <td>0</td>\n      <td>0</td>\n      <td>0</td>\n      <td>0</td>\n      <td>1</td>\n      <td>0</td>\n    </tr>\n  </tbody>\n</table>\n</div>"
     },
     "execution_count": 478,
     "metadata": {},
     "output_type": "execute_result"
    }
   ],
   "source": [
    "cities_one_hot = df_users.city.str.get_dummies()\n",
    "cities_one_hot.head()"
   ],
   "metadata": {
    "collapsed": false,
    "pycharm": {
     "name": "#%%\n"
    }
   }
  },
  {
   "cell_type": "code",
   "execution_count": 479,
   "outputs": [],
   "source": [
    "df_products.drop(columns=['product_name', 'category_path'], inplace=True)\n",
    "df_products = df_products.join(categories_one_hot)"
   ],
   "metadata": {
    "collapsed": false,
    "pycharm": {
     "name": "#%%\n"
    }
   }
  },
  {
   "cell_type": "code",
   "execution_count": 480,
   "outputs": [],
   "source": [
    "df_users.drop(columns=['city'], inplace=True)\n",
    "df_users = df_users.join(cities_one_hot)"
   ],
   "metadata": {
    "collapsed": false,
    "pycharm": {
     "name": "#%%\n"
    }
   }
  },
  {
   "cell_type": "code",
   "execution_count": 481,
   "outputs": [
    {
     "data": {
      "text/plain": "   product_id    price  Akcesoria telefoniczne  Anteny RTV  Audio  \\\n0        1001    58.97                       0           0      0   \n1        1002  2048.50                       0           0      0   \n2        1003  7639.00                       0           0      0   \n3        1004    49.99                       0           0      0   \n4        1005    49.99                       0           0      0   \n\n   Biurowe urządzenia wielofunkcyjne  Drukarki i skanery  Gry PlayStation3  \\\n0                                  0                   0                 0   \n1                                  1                   1                 0   \n2                                  1                   1                 0   \n3                                  0                   0                 0   \n4                                  0                   0                 0   \n\n   Gry Xbox 360  Gry i konsole  ...  Słuchawki  Tablety  Tablety i akcesoria  \\\n0             0              0  ...          0        0                    0   \n1             0              0  ...          0        0                    0   \n2             0              0  ...          0        0                    0   \n3             1              1  ...          0        0                    0   \n4             1              1  ...          0        0                    0   \n\n   Telefony i akcesoria  Telefony komórkowe  Telefony stacjonarne  \\\n0                     1                   0                     1   \n1                     0                   0                     0   \n2                     0                   0                     0   \n3                     0                   0                     0   \n4                     0                   0                     0   \n\n   Telewizory i akcesoria  Video  Zestawy głośnomówiące  Zestawy słuchawkowe  \n0                       0      0                      0                    0  \n1                       0      0                      0                    0  \n2                       0      0                      0                    0  \n3                       0      0                      0                    0  \n4                       0      0                      0                    0  \n\n[5 rows x 30 columns]",
      "text/html": "<div>\n<style scoped>\n    .dataframe tbody tr th:only-of-type {\n        vertical-align: middle;\n    }\n\n    .dataframe tbody tr th {\n        vertical-align: top;\n    }\n\n    .dataframe thead th {\n        text-align: right;\n    }\n</style>\n<table border=\"1\" class=\"dataframe\">\n  <thead>\n    <tr style=\"text-align: right;\">\n      <th></th>\n      <th>product_id</th>\n      <th>price</th>\n      <th>Akcesoria telefoniczne</th>\n      <th>Anteny RTV</th>\n      <th>Audio</th>\n      <th>Biurowe urządzenia wielofunkcyjne</th>\n      <th>Drukarki i skanery</th>\n      <th>Gry PlayStation3</th>\n      <th>Gry Xbox 360</th>\n      <th>Gry i konsole</th>\n      <th>...</th>\n      <th>Słuchawki</th>\n      <th>Tablety</th>\n      <th>Tablety i akcesoria</th>\n      <th>Telefony i akcesoria</th>\n      <th>Telefony komórkowe</th>\n      <th>Telefony stacjonarne</th>\n      <th>Telewizory i akcesoria</th>\n      <th>Video</th>\n      <th>Zestawy głośnomówiące</th>\n      <th>Zestawy słuchawkowe</th>\n    </tr>\n  </thead>\n  <tbody>\n    <tr>\n      <th>0</th>\n      <td>1001</td>\n      <td>58.97</td>\n      <td>0</td>\n      <td>0</td>\n      <td>0</td>\n      <td>0</td>\n      <td>0</td>\n      <td>0</td>\n      <td>0</td>\n      <td>0</td>\n      <td>...</td>\n      <td>0</td>\n      <td>0</td>\n      <td>0</td>\n      <td>1</td>\n      <td>0</td>\n      <td>1</td>\n      <td>0</td>\n      <td>0</td>\n      <td>0</td>\n      <td>0</td>\n    </tr>\n    <tr>\n      <th>1</th>\n      <td>1002</td>\n      <td>2048.50</td>\n      <td>0</td>\n      <td>0</td>\n      <td>0</td>\n      <td>1</td>\n      <td>1</td>\n      <td>0</td>\n      <td>0</td>\n      <td>0</td>\n      <td>...</td>\n      <td>0</td>\n      <td>0</td>\n      <td>0</td>\n      <td>0</td>\n      <td>0</td>\n      <td>0</td>\n      <td>0</td>\n      <td>0</td>\n      <td>0</td>\n      <td>0</td>\n    </tr>\n    <tr>\n      <th>2</th>\n      <td>1003</td>\n      <td>7639.00</td>\n      <td>0</td>\n      <td>0</td>\n      <td>0</td>\n      <td>1</td>\n      <td>1</td>\n      <td>0</td>\n      <td>0</td>\n      <td>0</td>\n      <td>...</td>\n      <td>0</td>\n      <td>0</td>\n      <td>0</td>\n      <td>0</td>\n      <td>0</td>\n      <td>0</td>\n      <td>0</td>\n      <td>0</td>\n      <td>0</td>\n      <td>0</td>\n    </tr>\n    <tr>\n      <th>3</th>\n      <td>1004</td>\n      <td>49.99</td>\n      <td>0</td>\n      <td>0</td>\n      <td>0</td>\n      <td>0</td>\n      <td>0</td>\n      <td>0</td>\n      <td>1</td>\n      <td>1</td>\n      <td>...</td>\n      <td>0</td>\n      <td>0</td>\n      <td>0</td>\n      <td>0</td>\n      <td>0</td>\n      <td>0</td>\n      <td>0</td>\n      <td>0</td>\n      <td>0</td>\n      <td>0</td>\n    </tr>\n    <tr>\n      <th>4</th>\n      <td>1005</td>\n      <td>49.99</td>\n      <td>0</td>\n      <td>0</td>\n      <td>0</td>\n      <td>0</td>\n      <td>0</td>\n      <td>0</td>\n      <td>1</td>\n      <td>1</td>\n      <td>...</td>\n      <td>0</td>\n      <td>0</td>\n      <td>0</td>\n      <td>0</td>\n      <td>0</td>\n      <td>0</td>\n      <td>0</td>\n      <td>0</td>\n      <td>0</td>\n      <td>0</td>\n    </tr>\n  </tbody>\n</table>\n<p>5 rows × 30 columns</p>\n</div>"
     },
     "execution_count": 481,
     "metadata": {},
     "output_type": "execute_result"
    }
   ],
   "source": [
    "df_products.head()"
   ],
   "metadata": {
    "collapsed": false,
    "pycharm": {
     "name": "#%%\n"
    }
   }
  },
  {
   "cell_type": "code",
   "execution_count": 482,
   "outputs": [
    {
     "data": {
      "text/plain": "   session_id           timestamp  user_id  product_id    event_type  \\\n0         124 2021-07-28 15:47:21      102        1283  VIEW_PRODUCT   \n1         124 2021-07-28 15:47:40      102        1283   BUY_PRODUCT   \n2         125 2021-09-12 16:43:16      102        1076  VIEW_PRODUCT   \n3         125 2021-09-12 16:46:24      102        1080  VIEW_PRODUCT   \n4         125 2021-09-12 16:48:08      102        1079  VIEW_PRODUCT   \n\n   offered_discount  purchase_id  \n0                 5          NaN  \n1                 5      20001.0  \n2                 0          NaN  \n3                 0          NaN  \n4                 0          NaN  ",
      "text/html": "<div>\n<style scoped>\n    .dataframe tbody tr th:only-of-type {\n        vertical-align: middle;\n    }\n\n    .dataframe tbody tr th {\n        vertical-align: top;\n    }\n\n    .dataframe thead th {\n        text-align: right;\n    }\n</style>\n<table border=\"1\" class=\"dataframe\">\n  <thead>\n    <tr style=\"text-align: right;\">\n      <th></th>\n      <th>session_id</th>\n      <th>timestamp</th>\n      <th>user_id</th>\n      <th>product_id</th>\n      <th>event_type</th>\n      <th>offered_discount</th>\n      <th>purchase_id</th>\n    </tr>\n  </thead>\n  <tbody>\n    <tr>\n      <th>0</th>\n      <td>124</td>\n      <td>2021-07-28 15:47:21</td>\n      <td>102</td>\n      <td>1283</td>\n      <td>VIEW_PRODUCT</td>\n      <td>5</td>\n      <td>NaN</td>\n    </tr>\n    <tr>\n      <th>1</th>\n      <td>124</td>\n      <td>2021-07-28 15:47:40</td>\n      <td>102</td>\n      <td>1283</td>\n      <td>BUY_PRODUCT</td>\n      <td>5</td>\n      <td>20001.0</td>\n    </tr>\n    <tr>\n      <th>2</th>\n      <td>125</td>\n      <td>2021-09-12 16:43:16</td>\n      <td>102</td>\n      <td>1076</td>\n      <td>VIEW_PRODUCT</td>\n      <td>0</td>\n      <td>NaN</td>\n    </tr>\n    <tr>\n      <th>3</th>\n      <td>125</td>\n      <td>2021-09-12 16:46:24</td>\n      <td>102</td>\n      <td>1080</td>\n      <td>VIEW_PRODUCT</td>\n      <td>0</td>\n      <td>NaN</td>\n    </tr>\n    <tr>\n      <th>4</th>\n      <td>125</td>\n      <td>2021-09-12 16:48:08</td>\n      <td>102</td>\n      <td>1079</td>\n      <td>VIEW_PRODUCT</td>\n      <td>0</td>\n      <td>NaN</td>\n    </tr>\n  </tbody>\n</table>\n</div>"
     },
     "execution_count": 482,
     "metadata": {},
     "output_type": "execute_result"
    }
   ],
   "source": [
    "df_sessions.head()"
   ],
   "metadata": {
    "collapsed": false,
    "pycharm": {
     "name": "#%%\n"
    }
   }
  },
  {
   "cell_type": "code",
   "execution_count": 483,
   "outputs": [],
   "source": [
    "df_users['sex'] = ['Female' if name.split(' ')[0][-1] == 'a' else 'Male' for name in df_users['name']]\n",
    "sex_one_hot = df_users.sex.str.get_dummies()\n",
    "df_users.drop(columns=['sex'], inplace=True)\n",
    "df_users = df_users.join(sex_one_hot)"
   ],
   "metadata": {
    "collapsed": false,
    "pycharm": {
     "name": "#%%\n"
    }
   }
  },
  {
   "cell_type": "code",
   "execution_count": 484,
   "outputs": [
    {
     "data": {
      "text/plain": "   user_id              name                   street  Gdynia  Kraków  Poznań  \\\n0      102     Aurelia Malon  pl. Brzoskwiniowa 11/53       0       0       1   \n1      103     Mateusz Kobel        al. Wrocławska 10       0       0       1   \n2      104    Radosław Ratka           pl. Nowa 89/04       0       0       0   \n3      105  Anastazja Oszust     ul. Częstochowska 80       0       0       0   \n4      106      Sylwia Nurek          al. Wiosenna 72       0       0       0   \n\n   Radom  Szczecin  Warszawa  Wrocław  Female  Male  \n0      0         0         0        0       1     0  \n1      0         0         0        0       0     1  \n2      0         1         0        0       0     1  \n3      0         0         1        0       1     0  \n4      0         0         1        0       1     0  ",
      "text/html": "<div>\n<style scoped>\n    .dataframe tbody tr th:only-of-type {\n        vertical-align: middle;\n    }\n\n    .dataframe tbody tr th {\n        vertical-align: top;\n    }\n\n    .dataframe thead th {\n        text-align: right;\n    }\n</style>\n<table border=\"1\" class=\"dataframe\">\n  <thead>\n    <tr style=\"text-align: right;\">\n      <th></th>\n      <th>user_id</th>\n      <th>name</th>\n      <th>street</th>\n      <th>Gdynia</th>\n      <th>Kraków</th>\n      <th>Poznań</th>\n      <th>Radom</th>\n      <th>Szczecin</th>\n      <th>Warszawa</th>\n      <th>Wrocław</th>\n      <th>Female</th>\n      <th>Male</th>\n    </tr>\n  </thead>\n  <tbody>\n    <tr>\n      <th>0</th>\n      <td>102</td>\n      <td>Aurelia Malon</td>\n      <td>pl. Brzoskwiniowa 11/53</td>\n      <td>0</td>\n      <td>0</td>\n      <td>1</td>\n      <td>0</td>\n      <td>0</td>\n      <td>0</td>\n      <td>0</td>\n      <td>1</td>\n      <td>0</td>\n    </tr>\n    <tr>\n      <th>1</th>\n      <td>103</td>\n      <td>Mateusz Kobel</td>\n      <td>al. Wrocławska 10</td>\n      <td>0</td>\n      <td>0</td>\n      <td>1</td>\n      <td>0</td>\n      <td>0</td>\n      <td>0</td>\n      <td>0</td>\n      <td>0</td>\n      <td>1</td>\n    </tr>\n    <tr>\n      <th>2</th>\n      <td>104</td>\n      <td>Radosław Ratka</td>\n      <td>pl. Nowa 89/04</td>\n      <td>0</td>\n      <td>0</td>\n      <td>0</td>\n      <td>0</td>\n      <td>1</td>\n      <td>0</td>\n      <td>0</td>\n      <td>0</td>\n      <td>1</td>\n    </tr>\n    <tr>\n      <th>3</th>\n      <td>105</td>\n      <td>Anastazja Oszust</td>\n      <td>ul. Częstochowska 80</td>\n      <td>0</td>\n      <td>0</td>\n      <td>0</td>\n      <td>0</td>\n      <td>0</td>\n      <td>1</td>\n      <td>0</td>\n      <td>1</td>\n      <td>0</td>\n    </tr>\n    <tr>\n      <th>4</th>\n      <td>106</td>\n      <td>Sylwia Nurek</td>\n      <td>al. Wiosenna 72</td>\n      <td>0</td>\n      <td>0</td>\n      <td>0</td>\n      <td>0</td>\n      <td>0</td>\n      <td>1</td>\n      <td>0</td>\n      <td>1</td>\n      <td>0</td>\n    </tr>\n  </tbody>\n</table>\n</div>"
     },
     "execution_count": 484,
     "metadata": {},
     "output_type": "execute_result"
    }
   ],
   "source": [
    "df_users.head()"
   ],
   "metadata": {
    "collapsed": false,
    "pycharm": {
     "name": "#%%\n"
    }
   }
  },
  {
   "cell_type": "code",
   "execution_count": 485,
   "outputs": [
    {
     "data": {
      "text/plain": "   session_id           timestamp  user_id  product_id    event_type  \\\n0         124 2021-07-28 15:47:21      102        1283  VIEW_PRODUCT   \n1         124 2021-07-28 15:47:40      102        1283   BUY_PRODUCT   \n2         139 2021-07-01 11:28:02      102        1283  VIEW_PRODUCT   \n3         139 2021-07-01 11:31:18      102        1283   BUY_PRODUCT   \n4         144 2021-03-19 13:55:04      102        1283  VIEW_PRODUCT   \n\n   offered_discount  purchase_id  price  Akcesoria telefoniczne  Anteny RTV  \\\n0                 5          NaN  99.99                       0           0   \n1                 5      20001.0  99.99                       0           0   \n2                 0          NaN  99.99                       0           0   \n3                 0      20013.0  99.99                       0           0   \n4                 0          NaN  99.99                       0           0   \n\n   ...                   street  Gdynia  Kraków  Poznań  Radom  Szczecin  \\\n0  ...  pl. Brzoskwiniowa 11/53       0       0       1      0         0   \n1  ...  pl. Brzoskwiniowa 11/53       0       0       1      0         0   \n2  ...  pl. Brzoskwiniowa 11/53       0       0       1      0         0   \n3  ...  pl. Brzoskwiniowa 11/53       0       0       1      0         0   \n4  ...  pl. Brzoskwiniowa 11/53       0       0       1      0         0   \n\n   Warszawa  Wrocław  Female  Male  \n0         0        0       1     0  \n1         0        0       1     0  \n2         0        0       1     0  \n3         0        0       1     0  \n4         0        0       1     0  \n\n[5 rows x 47 columns]",
      "text/html": "<div>\n<style scoped>\n    .dataframe tbody tr th:only-of-type {\n        vertical-align: middle;\n    }\n\n    .dataframe tbody tr th {\n        vertical-align: top;\n    }\n\n    .dataframe thead th {\n        text-align: right;\n    }\n</style>\n<table border=\"1\" class=\"dataframe\">\n  <thead>\n    <tr style=\"text-align: right;\">\n      <th></th>\n      <th>session_id</th>\n      <th>timestamp</th>\n      <th>user_id</th>\n      <th>product_id</th>\n      <th>event_type</th>\n      <th>offered_discount</th>\n      <th>purchase_id</th>\n      <th>price</th>\n      <th>Akcesoria telefoniczne</th>\n      <th>Anteny RTV</th>\n      <th>...</th>\n      <th>street</th>\n      <th>Gdynia</th>\n      <th>Kraków</th>\n      <th>Poznań</th>\n      <th>Radom</th>\n      <th>Szczecin</th>\n      <th>Warszawa</th>\n      <th>Wrocław</th>\n      <th>Female</th>\n      <th>Male</th>\n    </tr>\n  </thead>\n  <tbody>\n    <tr>\n      <th>0</th>\n      <td>124</td>\n      <td>2021-07-28 15:47:21</td>\n      <td>102</td>\n      <td>1283</td>\n      <td>VIEW_PRODUCT</td>\n      <td>5</td>\n      <td>NaN</td>\n      <td>99.99</td>\n      <td>0</td>\n      <td>0</td>\n      <td>...</td>\n      <td>pl. Brzoskwiniowa 11/53</td>\n      <td>0</td>\n      <td>0</td>\n      <td>1</td>\n      <td>0</td>\n      <td>0</td>\n      <td>0</td>\n      <td>0</td>\n      <td>1</td>\n      <td>0</td>\n    </tr>\n    <tr>\n      <th>1</th>\n      <td>124</td>\n      <td>2021-07-28 15:47:40</td>\n      <td>102</td>\n      <td>1283</td>\n      <td>BUY_PRODUCT</td>\n      <td>5</td>\n      <td>20001.0</td>\n      <td>99.99</td>\n      <td>0</td>\n      <td>0</td>\n      <td>...</td>\n      <td>pl. Brzoskwiniowa 11/53</td>\n      <td>0</td>\n      <td>0</td>\n      <td>1</td>\n      <td>0</td>\n      <td>0</td>\n      <td>0</td>\n      <td>0</td>\n      <td>1</td>\n      <td>0</td>\n    </tr>\n    <tr>\n      <th>2</th>\n      <td>139</td>\n      <td>2021-07-01 11:28:02</td>\n      <td>102</td>\n      <td>1283</td>\n      <td>VIEW_PRODUCT</td>\n      <td>0</td>\n      <td>NaN</td>\n      <td>99.99</td>\n      <td>0</td>\n      <td>0</td>\n      <td>...</td>\n      <td>pl. Brzoskwiniowa 11/53</td>\n      <td>0</td>\n      <td>0</td>\n      <td>1</td>\n      <td>0</td>\n      <td>0</td>\n      <td>0</td>\n      <td>0</td>\n      <td>1</td>\n      <td>0</td>\n    </tr>\n    <tr>\n      <th>3</th>\n      <td>139</td>\n      <td>2021-07-01 11:31:18</td>\n      <td>102</td>\n      <td>1283</td>\n      <td>BUY_PRODUCT</td>\n      <td>0</td>\n      <td>20013.0</td>\n      <td>99.99</td>\n      <td>0</td>\n      <td>0</td>\n      <td>...</td>\n      <td>pl. Brzoskwiniowa 11/53</td>\n      <td>0</td>\n      <td>0</td>\n      <td>1</td>\n      <td>0</td>\n      <td>0</td>\n      <td>0</td>\n      <td>0</td>\n      <td>1</td>\n      <td>0</td>\n    </tr>\n    <tr>\n      <th>4</th>\n      <td>144</td>\n      <td>2021-03-19 13:55:04</td>\n      <td>102</td>\n      <td>1283</td>\n      <td>VIEW_PRODUCT</td>\n      <td>0</td>\n      <td>NaN</td>\n      <td>99.99</td>\n      <td>0</td>\n      <td>0</td>\n      <td>...</td>\n      <td>pl. Brzoskwiniowa 11/53</td>\n      <td>0</td>\n      <td>0</td>\n      <td>1</td>\n      <td>0</td>\n      <td>0</td>\n      <td>0</td>\n      <td>0</td>\n      <td>1</td>\n      <td>0</td>\n    </tr>\n  </tbody>\n</table>\n<p>5 rows × 47 columns</p>\n</div>"
     },
     "execution_count": 485,
     "metadata": {},
     "output_type": "execute_result"
    }
   ],
   "source": [
    "df = df_sessions.merge(df_products, left_on='product_id', right_on='product_id')\n",
    "df = df.merge(df_users, left_on='user_id', right_on='user_id')\n",
    "df.head()"
   ],
   "metadata": {
    "collapsed": false,
    "pycharm": {
     "name": "#%%\n"
    }
   }
  },
  {
   "cell_type": "code",
   "execution_count": 486,
   "outputs": [],
   "source": [
    "aggregation_functions = {\n",
    "    'timestamp' : lambda t: [(t.max() - t.min()).seconds, t.min(), t.max()],\n",
    "    'user_id' : 'first',\n",
    "    'product_id' : 'unique',\n",
    "    'event_type' : lambda e: 1 if len(e.unique()) > 1 else 0,\n",
    "    'offered_discount' : 'first',\n",
    "    'price' : lambda p: p.sum()\n",
    "}\n",
    "\n",
    "for name in categories_one_hot.columns:\n",
    "    aggregation_functions[name] = lambda n: n.sum()\n",
    "\n",
    "# for name in cities_one_hot.columns:\n",
    "#     aggregation_functions[name] = 'first'\n",
    "\n",
    "for name in sex_one_hot.columns:\n",
    "    aggregation_functions[name] = 'first'\n",
    "\n",
    "main_df = df.groupby(df['session_id']).aggregate(aggregation_functions)\n",
    "main_df.rename(columns={'event_type' : 'purchased'}, inplace=True)"
   ],
   "metadata": {
    "collapsed": false,
    "pycharm": {
     "name": "#%%\n"
    }
   }
  },
  {
   "cell_type": "code",
   "execution_count": 487,
   "outputs": [],
   "source": [
    "timestamp_dict = [{'session_length' : x[0], 'session_start' : x[1], 'session_end' : x[2]} for x in main_df['timestamp']]\n",
    "timestamp_df = pd.DataFrame(timestamp_dict)"
   ],
   "metadata": {
    "collapsed": false,
    "pycharm": {
     "name": "#%%\n"
    }
   }
  },
  {
   "cell_type": "code",
   "execution_count": 488,
   "outputs": [
    {
     "data": {
      "text/plain": "            user_id                                        product_id  \\\nsession_id                                                              \n124             102                                            [1283]   \n125             102  [1076, 1080, 1079, 1003, 1002, 1075, 1078, 1077]   \n126             102                                      [1281, 1278]   \n127             102                                      [1281, 1278]   \n128             102              [1008, 1007, 1013, 1012, 1004, 1010]   \n\n            offered_discount  session_length     price       session_start  \\\nsession_id                                                                   \n124                        5             725    199.98 2021-08-26 22:27:52   \n125                        0            1547  36664.54 2021-03-08 08:14:24   \n126                       15             347    222.60 2021-02-16 17:40:31   \n127                        0             457    208.50 2021-03-13 06:48:13   \n128                        0            1010    568.94 2021-04-18 21:02:01   \n\n                   session_end  purchased  Female  Male  ...  Słuchawki  \\\nsession_id                                               ...              \n124        2021-08-26 22:39:57          1       1     0  ...          0   \n125        2021-03-08 08:40:11          1       1     0  ...          0   \n126        2021-02-16 17:46:18          1       1     0  ...          0   \n127        2021-03-13 06:55:50          1       1     0  ...          0   \n128        2021-04-18 21:18:51          1       1     0  ...          0   \n\n            Tablety  Tablety i akcesoria  Telefony i akcesoria  \\\nsession_id                                                       \n124               0                    0                     0   \n125               0                    0                     0   \n126               0                    0                     0   \n127               0                    0                     0   \n128               0                    0                     0   \n\n            Telefony komórkowe  Telefony stacjonarne  Telewizory i akcesoria  \\\nsession_id                                                                     \n124                          0                     0                       2   \n125                          0                     0                       0   \n126                          0                     0                       0   \n127                          0                     0                       0   \n128                          0                     0                       0   \n\n            Video  Zestawy głośnomówiące  Zestawy słuchawkowe  \nsession_id                                                     \n124             2                      0                    0  \n125             0                      0                    0  \n126             0                      0                    0  \n127             0                      0                    0  \n128             0                      0                    0  \n\n[5 rows x 38 columns]",
      "text/html": "<div>\n<style scoped>\n    .dataframe tbody tr th:only-of-type {\n        vertical-align: middle;\n    }\n\n    .dataframe tbody tr th {\n        vertical-align: top;\n    }\n\n    .dataframe thead th {\n        text-align: right;\n    }\n</style>\n<table border=\"1\" class=\"dataframe\">\n  <thead>\n    <tr style=\"text-align: right;\">\n      <th></th>\n      <th>user_id</th>\n      <th>product_id</th>\n      <th>offered_discount</th>\n      <th>session_length</th>\n      <th>price</th>\n      <th>session_start</th>\n      <th>session_end</th>\n      <th>purchased</th>\n      <th>Female</th>\n      <th>Male</th>\n      <th>...</th>\n      <th>Słuchawki</th>\n      <th>Tablety</th>\n      <th>Tablety i akcesoria</th>\n      <th>Telefony i akcesoria</th>\n      <th>Telefony komórkowe</th>\n      <th>Telefony stacjonarne</th>\n      <th>Telewizory i akcesoria</th>\n      <th>Video</th>\n      <th>Zestawy głośnomówiące</th>\n      <th>Zestawy słuchawkowe</th>\n    </tr>\n    <tr>\n      <th>session_id</th>\n      <th></th>\n      <th></th>\n      <th></th>\n      <th></th>\n      <th></th>\n      <th></th>\n      <th></th>\n      <th></th>\n      <th></th>\n      <th></th>\n      <th></th>\n      <th></th>\n      <th></th>\n      <th></th>\n      <th></th>\n      <th></th>\n      <th></th>\n      <th></th>\n      <th></th>\n      <th></th>\n      <th></th>\n    </tr>\n  </thead>\n  <tbody>\n    <tr>\n      <th>124</th>\n      <td>102</td>\n      <td>[1283]</td>\n      <td>5</td>\n      <td>725</td>\n      <td>199.98</td>\n      <td>2021-08-26 22:27:52</td>\n      <td>2021-08-26 22:39:57</td>\n      <td>1</td>\n      <td>1</td>\n      <td>0</td>\n      <td>...</td>\n      <td>0</td>\n      <td>0</td>\n      <td>0</td>\n      <td>0</td>\n      <td>0</td>\n      <td>0</td>\n      <td>2</td>\n      <td>2</td>\n      <td>0</td>\n      <td>0</td>\n    </tr>\n    <tr>\n      <th>125</th>\n      <td>102</td>\n      <td>[1076, 1080, 1079, 1003, 1002, 1075, 1078, 1077]</td>\n      <td>0</td>\n      <td>1547</td>\n      <td>36664.54</td>\n      <td>2021-03-08 08:14:24</td>\n      <td>2021-03-08 08:40:11</td>\n      <td>1</td>\n      <td>1</td>\n      <td>0</td>\n      <td>...</td>\n      <td>0</td>\n      <td>0</td>\n      <td>0</td>\n      <td>0</td>\n      <td>0</td>\n      <td>0</td>\n      <td>0</td>\n      <td>0</td>\n      <td>0</td>\n      <td>0</td>\n    </tr>\n    <tr>\n      <th>126</th>\n      <td>102</td>\n      <td>[1281, 1278]</td>\n      <td>15</td>\n      <td>347</td>\n      <td>222.60</td>\n      <td>2021-02-16 17:40:31</td>\n      <td>2021-02-16 17:46:18</td>\n      <td>1</td>\n      <td>1</td>\n      <td>0</td>\n      <td>...</td>\n      <td>0</td>\n      <td>0</td>\n      <td>0</td>\n      <td>0</td>\n      <td>0</td>\n      <td>0</td>\n      <td>0</td>\n      <td>0</td>\n      <td>0</td>\n      <td>0</td>\n    </tr>\n    <tr>\n      <th>127</th>\n      <td>102</td>\n      <td>[1281, 1278]</td>\n      <td>0</td>\n      <td>457</td>\n      <td>208.50</td>\n      <td>2021-03-13 06:48:13</td>\n      <td>2021-03-13 06:55:50</td>\n      <td>1</td>\n      <td>1</td>\n      <td>0</td>\n      <td>...</td>\n      <td>0</td>\n      <td>0</td>\n      <td>0</td>\n      <td>0</td>\n      <td>0</td>\n      <td>0</td>\n      <td>0</td>\n      <td>0</td>\n      <td>0</td>\n      <td>0</td>\n    </tr>\n    <tr>\n      <th>128</th>\n      <td>102</td>\n      <td>[1008, 1007, 1013, 1012, 1004, 1010]</td>\n      <td>0</td>\n      <td>1010</td>\n      <td>568.94</td>\n      <td>2021-04-18 21:02:01</td>\n      <td>2021-04-18 21:18:51</td>\n      <td>1</td>\n      <td>1</td>\n      <td>0</td>\n      <td>...</td>\n      <td>0</td>\n      <td>0</td>\n      <td>0</td>\n      <td>0</td>\n      <td>0</td>\n      <td>0</td>\n      <td>0</td>\n      <td>0</td>\n      <td>0</td>\n      <td>0</td>\n    </tr>\n  </tbody>\n</table>\n<p>5 rows × 38 columns</p>\n</div>"
     },
     "execution_count": 488,
     "metadata": {},
     "output_type": "execute_result"
    }
   ],
   "source": [
    "main_df = pd.concat([main_df, timestamp_df], axis=1, join=\"inner\")\n",
    "main_df.drop(columns=['timestamp'], inplace=True)\n",
    "main_df.index.name = 'session_id'\n",
    "main_df = main_df[['user_id', 'product_id', 'offered_discount', 'session_length', 'price', 'session_start', 'session_end', 'purchased'] + list(sex_one_hot.columns.values) + list(categories_one_hot.columns.values)]\n",
    "main_df.head()"
   ],
   "metadata": {
    "collapsed": false,
    "pycharm": {
     "name": "#%%\n"
    }
   }
  },
  {
   "cell_type": "code",
   "execution_count": 489,
   "outputs": [],
   "source": [
    "main_df['n_views'] = [len(x) for x in main_df['product_id'].values]"
   ],
   "metadata": {
    "collapsed": false,
    "pycharm": {
     "name": "#%%\n"
    }
   }
  },
  {
   "cell_type": "code",
   "execution_count": 490,
   "outputs": [
    {
     "data": {
      "text/plain": "            user_id                                        product_id  \\\nsession_id                                                              \n124             102                                            [1283]   \n125             102  [1076, 1080, 1079, 1003, 1002, 1075, 1078, 1077]   \n126             102                                      [1281, 1278]   \n127             102                                      [1281, 1278]   \n128             102              [1008, 1007, 1013, 1012, 1004, 1010]   \n\n            offered_discount  session_length     price       session_start  \\\nsession_id                                                                   \n124                        5             725    199.98 2021-08-26 22:27:52   \n125                        0            1547  36664.54 2021-03-08 08:14:24   \n126                       15             347    222.60 2021-02-16 17:40:31   \n127                        0             457    208.50 2021-03-13 06:48:13   \n128                        0            1010    568.94 2021-04-18 21:02:01   \n\n                   session_end  purchased  Female  Male  ...  Tablety  \\\nsession_id                                               ...            \n124        2021-08-26 22:39:57          1       1     0  ...        0   \n125        2021-03-08 08:40:11          1       1     0  ...        0   \n126        2021-02-16 17:46:18          1       1     0  ...        0   \n127        2021-03-13 06:55:50          1       1     0  ...        0   \n128        2021-04-18 21:18:51          1       1     0  ...        0   \n\n            Tablety i akcesoria  Telefony i akcesoria  Telefony komórkowe  \\\nsession_id                                                                  \n124                           0                     0                   0   \n125                           0                     0                   0   \n126                           0                     0                   0   \n127                           0                     0                   0   \n128                           0                     0                   0   \n\n            Telefony stacjonarne  Telewizory i akcesoria  Video  \\\nsession_id                                                        \n124                            0                       2      2   \n125                            0                       0      0   \n126                            0                       0      0   \n127                            0                       0      0   \n128                            0                       0      0   \n\n            Zestawy głośnomówiące  Zestawy słuchawkowe  n_views  \nsession_id                                                       \n124                             0                    0        1  \n125                             0                    0        8  \n126                             0                    0        2  \n127                             0                    0        2  \n128                             0                    0        6  \n\n[5 rows x 39 columns]",
      "text/html": "<div>\n<style scoped>\n    .dataframe tbody tr th:only-of-type {\n        vertical-align: middle;\n    }\n\n    .dataframe tbody tr th {\n        vertical-align: top;\n    }\n\n    .dataframe thead th {\n        text-align: right;\n    }\n</style>\n<table border=\"1\" class=\"dataframe\">\n  <thead>\n    <tr style=\"text-align: right;\">\n      <th></th>\n      <th>user_id</th>\n      <th>product_id</th>\n      <th>offered_discount</th>\n      <th>session_length</th>\n      <th>price</th>\n      <th>session_start</th>\n      <th>session_end</th>\n      <th>purchased</th>\n      <th>Female</th>\n      <th>Male</th>\n      <th>...</th>\n      <th>Tablety</th>\n      <th>Tablety i akcesoria</th>\n      <th>Telefony i akcesoria</th>\n      <th>Telefony komórkowe</th>\n      <th>Telefony stacjonarne</th>\n      <th>Telewizory i akcesoria</th>\n      <th>Video</th>\n      <th>Zestawy głośnomówiące</th>\n      <th>Zestawy słuchawkowe</th>\n      <th>n_views</th>\n    </tr>\n    <tr>\n      <th>session_id</th>\n      <th></th>\n      <th></th>\n      <th></th>\n      <th></th>\n      <th></th>\n      <th></th>\n      <th></th>\n      <th></th>\n      <th></th>\n      <th></th>\n      <th></th>\n      <th></th>\n      <th></th>\n      <th></th>\n      <th></th>\n      <th></th>\n      <th></th>\n      <th></th>\n      <th></th>\n      <th></th>\n      <th></th>\n    </tr>\n  </thead>\n  <tbody>\n    <tr>\n      <th>124</th>\n      <td>102</td>\n      <td>[1283]</td>\n      <td>5</td>\n      <td>725</td>\n      <td>199.98</td>\n      <td>2021-08-26 22:27:52</td>\n      <td>2021-08-26 22:39:57</td>\n      <td>1</td>\n      <td>1</td>\n      <td>0</td>\n      <td>...</td>\n      <td>0</td>\n      <td>0</td>\n      <td>0</td>\n      <td>0</td>\n      <td>0</td>\n      <td>2</td>\n      <td>2</td>\n      <td>0</td>\n      <td>0</td>\n      <td>1</td>\n    </tr>\n    <tr>\n      <th>125</th>\n      <td>102</td>\n      <td>[1076, 1080, 1079, 1003, 1002, 1075, 1078, 1077]</td>\n      <td>0</td>\n      <td>1547</td>\n      <td>36664.54</td>\n      <td>2021-03-08 08:14:24</td>\n      <td>2021-03-08 08:40:11</td>\n      <td>1</td>\n      <td>1</td>\n      <td>0</td>\n      <td>...</td>\n      <td>0</td>\n      <td>0</td>\n      <td>0</td>\n      <td>0</td>\n      <td>0</td>\n      <td>0</td>\n      <td>0</td>\n      <td>0</td>\n      <td>0</td>\n      <td>8</td>\n    </tr>\n    <tr>\n      <th>126</th>\n      <td>102</td>\n      <td>[1281, 1278]</td>\n      <td>15</td>\n      <td>347</td>\n      <td>222.60</td>\n      <td>2021-02-16 17:40:31</td>\n      <td>2021-02-16 17:46:18</td>\n      <td>1</td>\n      <td>1</td>\n      <td>0</td>\n      <td>...</td>\n      <td>0</td>\n      <td>0</td>\n      <td>0</td>\n      <td>0</td>\n      <td>0</td>\n      <td>0</td>\n      <td>0</td>\n      <td>0</td>\n      <td>0</td>\n      <td>2</td>\n    </tr>\n    <tr>\n      <th>127</th>\n      <td>102</td>\n      <td>[1281, 1278]</td>\n      <td>0</td>\n      <td>457</td>\n      <td>208.50</td>\n      <td>2021-03-13 06:48:13</td>\n      <td>2021-03-13 06:55:50</td>\n      <td>1</td>\n      <td>1</td>\n      <td>0</td>\n      <td>...</td>\n      <td>0</td>\n      <td>0</td>\n      <td>0</td>\n      <td>0</td>\n      <td>0</td>\n      <td>0</td>\n      <td>0</td>\n      <td>0</td>\n      <td>0</td>\n      <td>2</td>\n    </tr>\n    <tr>\n      <th>128</th>\n      <td>102</td>\n      <td>[1008, 1007, 1013, 1012, 1004, 1010]</td>\n      <td>0</td>\n      <td>1010</td>\n      <td>568.94</td>\n      <td>2021-04-18 21:02:01</td>\n      <td>2021-04-18 21:18:51</td>\n      <td>1</td>\n      <td>1</td>\n      <td>0</td>\n      <td>...</td>\n      <td>0</td>\n      <td>0</td>\n      <td>0</td>\n      <td>0</td>\n      <td>0</td>\n      <td>0</td>\n      <td>0</td>\n      <td>0</td>\n      <td>0</td>\n      <td>6</td>\n    </tr>\n  </tbody>\n</table>\n<p>5 rows × 39 columns</p>\n</div>"
     },
     "execution_count": 490,
     "metadata": {},
     "output_type": "execute_result"
    }
   ],
   "source": [
    "main_df.head()"
   ],
   "metadata": {
    "collapsed": false,
    "pycharm": {
     "name": "#%%\n"
    }
   }
  },
  {
   "cell_type": "markdown",
   "source": [
    "## Przygotowanie danych do modelu"
   ],
   "metadata": {
    "collapsed": false,
    "pycharm": {
     "name": "#%% md\n"
    }
   }
  },
  {
   "cell_type": "code",
   "execution_count": 491,
   "outputs": [],
   "source": [
    "main_df.reset_index(inplace=True)"
   ],
   "metadata": {
    "collapsed": false,
    "pycharm": {
     "name": "#%%\n"
    }
   }
  },
  {
   "cell_type": "code",
   "execution_count": 492,
   "outputs": [],
   "source": [
    "main_df.drop(columns=['session_id', 'user_id', 'product_id'], inplace=True)"
   ],
   "metadata": {
    "collapsed": false,
    "pycharm": {
     "name": "#%%\n"
    }
   }
  },
  {
   "cell_type": "code",
   "execution_count": 493,
   "outputs": [],
   "source": [
    "dates_encoded = pd.DataFrame({\n",
    "    \"month\": main_df['session_start'].dt.month,\n",
    "    \"day\": main_df['session_start'].dt.day,\n",
    "    \"hour\": main_df['session_start'].dt.hour,\n",
    "    \"dayofweek\": main_df['session_start'].dt.dayofweek,\n",
    "})"
   ],
   "metadata": {
    "collapsed": false,
    "pycharm": {
     "name": "#%%\n"
    }
   }
  },
  {
   "cell_type": "code",
   "execution_count": 494,
   "outputs": [],
   "source": [
    "main_df = main_df.join(dates_encoded)"
   ],
   "metadata": {
    "collapsed": false,
    "pycharm": {
     "name": "#%%\n"
    }
   }
  },
  {
   "cell_type": "code",
   "execution_count": 495,
   "outputs": [],
   "source": [
    "main_df.drop(columns=['session_start', 'session_end'], inplace=True)"
   ],
   "metadata": {
    "collapsed": false,
    "pycharm": {
     "name": "#%%\n"
    }
   }
  },
  {
   "cell_type": "code",
   "execution_count": 496,
   "outputs": [
    {
     "data": {
      "text/plain": "   offered_discount  session_length     price  purchased  Female  Male  \\\n0                 5             725    199.98          1       1     0   \n1                 0            1547  36664.54          1       1     0   \n2                15             347    222.60          1       1     0   \n3                 0             457    208.50          1       1     0   \n4                 0            1010    568.94          1       1     0   \n\n   Akcesoria telefoniczne  Anteny RTV  Audio  \\\n0                       0           0      0   \n1                       0           0      0   \n2                       0           0      0   \n3                       0           0      0   \n4                       0           0      0   \n\n   Biurowe urządzenia wielofunkcyjne  ...  Telefony stacjonarne  \\\n0                                  0  ...                     0   \n1                                  9  ...                     0   \n2                                  0  ...                     0   \n3                                  0  ...                     0   \n4                                  0  ...                     0   \n\n   Telewizory i akcesoria  Video  Zestawy głośnomówiące  Zestawy słuchawkowe  \\\n0                       2      2                      0                    0   \n1                       0      0                      0                    0   \n2                       0      0                      0                    0   \n3                       0      0                      0                    0   \n4                       0      0                      0                    0   \n\n   n_views  month  day  hour  dayofweek  \n0        1      8   26    22          3  \n1        8      3    8     8          0  \n2        2      2   16    17          1  \n3        2      3   13     6          5  \n4        6      4   18    21          6  \n\n[5 rows x 39 columns]",
      "text/html": "<div>\n<style scoped>\n    .dataframe tbody tr th:only-of-type {\n        vertical-align: middle;\n    }\n\n    .dataframe tbody tr th {\n        vertical-align: top;\n    }\n\n    .dataframe thead th {\n        text-align: right;\n    }\n</style>\n<table border=\"1\" class=\"dataframe\">\n  <thead>\n    <tr style=\"text-align: right;\">\n      <th></th>\n      <th>offered_discount</th>\n      <th>session_length</th>\n      <th>price</th>\n      <th>purchased</th>\n      <th>Female</th>\n      <th>Male</th>\n      <th>Akcesoria telefoniczne</th>\n      <th>Anteny RTV</th>\n      <th>Audio</th>\n      <th>Biurowe urządzenia wielofunkcyjne</th>\n      <th>...</th>\n      <th>Telefony stacjonarne</th>\n      <th>Telewizory i akcesoria</th>\n      <th>Video</th>\n      <th>Zestawy głośnomówiące</th>\n      <th>Zestawy słuchawkowe</th>\n      <th>n_views</th>\n      <th>month</th>\n      <th>day</th>\n      <th>hour</th>\n      <th>dayofweek</th>\n    </tr>\n  </thead>\n  <tbody>\n    <tr>\n      <th>0</th>\n      <td>5</td>\n      <td>725</td>\n      <td>199.98</td>\n      <td>1</td>\n      <td>1</td>\n      <td>0</td>\n      <td>0</td>\n      <td>0</td>\n      <td>0</td>\n      <td>0</td>\n      <td>...</td>\n      <td>0</td>\n      <td>2</td>\n      <td>2</td>\n      <td>0</td>\n      <td>0</td>\n      <td>1</td>\n      <td>8</td>\n      <td>26</td>\n      <td>22</td>\n      <td>3</td>\n    </tr>\n    <tr>\n      <th>1</th>\n      <td>0</td>\n      <td>1547</td>\n      <td>36664.54</td>\n      <td>1</td>\n      <td>1</td>\n      <td>0</td>\n      <td>0</td>\n      <td>0</td>\n      <td>0</td>\n      <td>9</td>\n      <td>...</td>\n      <td>0</td>\n      <td>0</td>\n      <td>0</td>\n      <td>0</td>\n      <td>0</td>\n      <td>8</td>\n      <td>3</td>\n      <td>8</td>\n      <td>8</td>\n      <td>0</td>\n    </tr>\n    <tr>\n      <th>2</th>\n      <td>15</td>\n      <td>347</td>\n      <td>222.60</td>\n      <td>1</td>\n      <td>1</td>\n      <td>0</td>\n      <td>0</td>\n      <td>0</td>\n      <td>0</td>\n      <td>0</td>\n      <td>...</td>\n      <td>0</td>\n      <td>0</td>\n      <td>0</td>\n      <td>0</td>\n      <td>0</td>\n      <td>2</td>\n      <td>2</td>\n      <td>16</td>\n      <td>17</td>\n      <td>1</td>\n    </tr>\n    <tr>\n      <th>3</th>\n      <td>0</td>\n      <td>457</td>\n      <td>208.50</td>\n      <td>1</td>\n      <td>1</td>\n      <td>0</td>\n      <td>0</td>\n      <td>0</td>\n      <td>0</td>\n      <td>0</td>\n      <td>...</td>\n      <td>0</td>\n      <td>0</td>\n      <td>0</td>\n      <td>0</td>\n      <td>0</td>\n      <td>2</td>\n      <td>3</td>\n      <td>13</td>\n      <td>6</td>\n      <td>5</td>\n    </tr>\n    <tr>\n      <th>4</th>\n      <td>0</td>\n      <td>1010</td>\n      <td>568.94</td>\n      <td>1</td>\n      <td>1</td>\n      <td>0</td>\n      <td>0</td>\n      <td>0</td>\n      <td>0</td>\n      <td>0</td>\n      <td>...</td>\n      <td>0</td>\n      <td>0</td>\n      <td>0</td>\n      <td>0</td>\n      <td>0</td>\n      <td>6</td>\n      <td>4</td>\n      <td>18</td>\n      <td>21</td>\n      <td>6</td>\n    </tr>\n  </tbody>\n</table>\n<p>5 rows × 39 columns</p>\n</div>"
     },
     "execution_count": 496,
     "metadata": {},
     "output_type": "execute_result"
    }
   ],
   "source": [
    "main_df.head()"
   ],
   "metadata": {
    "collapsed": false,
    "pycharm": {
     "name": "#%%\n"
    }
   }
  },
  {
   "cell_type": "markdown",
   "source": [
    "# Wydzielenie zbioru treningowego, walidacyjnego i testowego"
   ],
   "metadata": {
    "collapsed": false,
    "pycharm": {
     "name": "#%% md\n"
    }
   }
  },
  {
   "cell_type": "code",
   "execution_count": 497,
   "outputs": [],
   "source": [
    "y = main_df['purchased'].values\n",
    "X = main_df.drop(columns=['purchased'])"
   ],
   "metadata": {
    "collapsed": false,
    "pycharm": {
     "name": "#%%\n"
    }
   }
  },
  {
   "cell_type": "code",
   "execution_count": 498,
   "outputs": [
    {
     "data": {
      "text/plain": "      offered_discount  session_length     price  Female  Male  \\\n0                    5             725    199.98       1     0   \n1                    0            1547  36664.54       1     0   \n2                   15             347    222.60       1     0   \n3                    0             457    208.50       1     0   \n4                    0            1010    568.94       1     0   \n...                ...             ...       ...     ...   ...   \n9398                 5               0   2677.90       0     1   \n9399                 0             116  31328.54       0     1   \n9400                 5            1617   1121.66       0     1   \n9401                 0               0  17031.50       0     1   \n9402                20               0   1058.28       0     1   \n\n      Akcesoria telefoniczne  Anteny RTV  Audio  \\\n0                          0           0      0   \n1                          0           0      0   \n2                          0           0      0   \n3                          0           0      0   \n4                          0           0      0   \n...                      ...         ...    ...   \n9398                       4           0      0   \n9399                       0           0      0   \n9400                       0          10      0   \n9401                       0           0      0   \n9402                       5           0      0   \n\n      Biurowe urządzenia wielofunkcyjne  Drukarki i skanery  ...  \\\n0                                     0                   0  ...   \n1                                     9                   9  ...   \n2                                     0                   0  ...   \n3                                     0                   0  ...   \n4                                     0                   0  ...   \n...                                 ...                 ...  ...   \n9398                                  0                   0  ...   \n9399                                  8                   8  ...   \n9400                                  0                   0  ...   \n9401                                  4                   4  ...   \n9402                                  0                   0  ...   \n\n      Telefony stacjonarne  Telewizory i akcesoria  Video  \\\n0                        0                       2      2   \n1                        0                       0      0   \n2                        0                       0      0   \n3                        0                       0      0   \n4                        0                       0      0   \n...                    ...                     ...    ...   \n9398                     0                       0      0   \n9399                     0                       0      0   \n9400                     0                      10     10   \n9401                     0                       0      0   \n9402                     0                       0      0   \n\n      Zestawy głośnomówiące  Zestawy słuchawkowe  n_views  month  day  hour  \\\n0                         0                    0        1      8   26    22   \n1                         0                    0        8      3    8     8   \n2                         0                    0        2      2   16    17   \n3                         0                    0        2      3   13     6   \n4                         0                    0        6      4   18    21   \n...                     ...                  ...      ...    ...  ...   ...   \n9398                      0                    4        3      1   27     3   \n9399                      0                    0        7      7    6    16   \n9400                      0                    0        9      3    7     7   \n9401                      0                    0        4     10   12     0   \n9402                      5                    0        4      8   19    21   \n\n      dayofweek  \n0             3  \n1             0  \n2             1  \n3             5  \n4             6  \n...         ...  \n9398          2  \n9399          1  \n9400          6  \n9401          1  \n9402          3  \n\n[9403 rows x 38 columns]",
      "text/html": "<div>\n<style scoped>\n    .dataframe tbody tr th:only-of-type {\n        vertical-align: middle;\n    }\n\n    .dataframe tbody tr th {\n        vertical-align: top;\n    }\n\n    .dataframe thead th {\n        text-align: right;\n    }\n</style>\n<table border=\"1\" class=\"dataframe\">\n  <thead>\n    <tr style=\"text-align: right;\">\n      <th></th>\n      <th>offered_discount</th>\n      <th>session_length</th>\n      <th>price</th>\n      <th>Female</th>\n      <th>Male</th>\n      <th>Akcesoria telefoniczne</th>\n      <th>Anteny RTV</th>\n      <th>Audio</th>\n      <th>Biurowe urządzenia wielofunkcyjne</th>\n      <th>Drukarki i skanery</th>\n      <th>...</th>\n      <th>Telefony stacjonarne</th>\n      <th>Telewizory i akcesoria</th>\n      <th>Video</th>\n      <th>Zestawy głośnomówiące</th>\n      <th>Zestawy słuchawkowe</th>\n      <th>n_views</th>\n      <th>month</th>\n      <th>day</th>\n      <th>hour</th>\n      <th>dayofweek</th>\n    </tr>\n  </thead>\n  <tbody>\n    <tr>\n      <th>0</th>\n      <td>5</td>\n      <td>725</td>\n      <td>199.98</td>\n      <td>1</td>\n      <td>0</td>\n      <td>0</td>\n      <td>0</td>\n      <td>0</td>\n      <td>0</td>\n      <td>0</td>\n      <td>...</td>\n      <td>0</td>\n      <td>2</td>\n      <td>2</td>\n      <td>0</td>\n      <td>0</td>\n      <td>1</td>\n      <td>8</td>\n      <td>26</td>\n      <td>22</td>\n      <td>3</td>\n    </tr>\n    <tr>\n      <th>1</th>\n      <td>0</td>\n      <td>1547</td>\n      <td>36664.54</td>\n      <td>1</td>\n      <td>0</td>\n      <td>0</td>\n      <td>0</td>\n      <td>0</td>\n      <td>9</td>\n      <td>9</td>\n      <td>...</td>\n      <td>0</td>\n      <td>0</td>\n      <td>0</td>\n      <td>0</td>\n      <td>0</td>\n      <td>8</td>\n      <td>3</td>\n      <td>8</td>\n      <td>8</td>\n      <td>0</td>\n    </tr>\n    <tr>\n      <th>2</th>\n      <td>15</td>\n      <td>347</td>\n      <td>222.60</td>\n      <td>1</td>\n      <td>0</td>\n      <td>0</td>\n      <td>0</td>\n      <td>0</td>\n      <td>0</td>\n      <td>0</td>\n      <td>...</td>\n      <td>0</td>\n      <td>0</td>\n      <td>0</td>\n      <td>0</td>\n      <td>0</td>\n      <td>2</td>\n      <td>2</td>\n      <td>16</td>\n      <td>17</td>\n      <td>1</td>\n    </tr>\n    <tr>\n      <th>3</th>\n      <td>0</td>\n      <td>457</td>\n      <td>208.50</td>\n      <td>1</td>\n      <td>0</td>\n      <td>0</td>\n      <td>0</td>\n      <td>0</td>\n      <td>0</td>\n      <td>0</td>\n      <td>...</td>\n      <td>0</td>\n      <td>0</td>\n      <td>0</td>\n      <td>0</td>\n      <td>0</td>\n      <td>2</td>\n      <td>3</td>\n      <td>13</td>\n      <td>6</td>\n      <td>5</td>\n    </tr>\n    <tr>\n      <th>4</th>\n      <td>0</td>\n      <td>1010</td>\n      <td>568.94</td>\n      <td>1</td>\n      <td>0</td>\n      <td>0</td>\n      <td>0</td>\n      <td>0</td>\n      <td>0</td>\n      <td>0</td>\n      <td>...</td>\n      <td>0</td>\n      <td>0</td>\n      <td>0</td>\n      <td>0</td>\n      <td>0</td>\n      <td>6</td>\n      <td>4</td>\n      <td>18</td>\n      <td>21</td>\n      <td>6</td>\n    </tr>\n    <tr>\n      <th>...</th>\n      <td>...</td>\n      <td>...</td>\n      <td>...</td>\n      <td>...</td>\n      <td>...</td>\n      <td>...</td>\n      <td>...</td>\n      <td>...</td>\n      <td>...</td>\n      <td>...</td>\n      <td>...</td>\n      <td>...</td>\n      <td>...</td>\n      <td>...</td>\n      <td>...</td>\n      <td>...</td>\n      <td>...</td>\n      <td>...</td>\n      <td>...</td>\n      <td>...</td>\n      <td>...</td>\n    </tr>\n    <tr>\n      <th>9398</th>\n      <td>5</td>\n      <td>0</td>\n      <td>2677.90</td>\n      <td>0</td>\n      <td>1</td>\n      <td>4</td>\n      <td>0</td>\n      <td>0</td>\n      <td>0</td>\n      <td>0</td>\n      <td>...</td>\n      <td>0</td>\n      <td>0</td>\n      <td>0</td>\n      <td>0</td>\n      <td>4</td>\n      <td>3</td>\n      <td>1</td>\n      <td>27</td>\n      <td>3</td>\n      <td>2</td>\n    </tr>\n    <tr>\n      <th>9399</th>\n      <td>0</td>\n      <td>116</td>\n      <td>31328.54</td>\n      <td>0</td>\n      <td>1</td>\n      <td>0</td>\n      <td>0</td>\n      <td>0</td>\n      <td>8</td>\n      <td>8</td>\n      <td>...</td>\n      <td>0</td>\n      <td>0</td>\n      <td>0</td>\n      <td>0</td>\n      <td>0</td>\n      <td>7</td>\n      <td>7</td>\n      <td>6</td>\n      <td>16</td>\n      <td>1</td>\n    </tr>\n    <tr>\n      <th>9400</th>\n      <td>5</td>\n      <td>1617</td>\n      <td>1121.66</td>\n      <td>0</td>\n      <td>1</td>\n      <td>0</td>\n      <td>10</td>\n      <td>0</td>\n      <td>0</td>\n      <td>0</td>\n      <td>...</td>\n      <td>0</td>\n      <td>10</td>\n      <td>10</td>\n      <td>0</td>\n      <td>0</td>\n      <td>9</td>\n      <td>3</td>\n      <td>7</td>\n      <td>7</td>\n      <td>6</td>\n    </tr>\n    <tr>\n      <th>9401</th>\n      <td>0</td>\n      <td>0</td>\n      <td>17031.50</td>\n      <td>0</td>\n      <td>1</td>\n      <td>0</td>\n      <td>0</td>\n      <td>0</td>\n      <td>4</td>\n      <td>4</td>\n      <td>...</td>\n      <td>0</td>\n      <td>0</td>\n      <td>0</td>\n      <td>0</td>\n      <td>0</td>\n      <td>4</td>\n      <td>10</td>\n      <td>12</td>\n      <td>0</td>\n      <td>1</td>\n    </tr>\n    <tr>\n      <th>9402</th>\n      <td>20</td>\n      <td>0</td>\n      <td>1058.28</td>\n      <td>0</td>\n      <td>1</td>\n      <td>5</td>\n      <td>0</td>\n      <td>0</td>\n      <td>0</td>\n      <td>0</td>\n      <td>...</td>\n      <td>0</td>\n      <td>0</td>\n      <td>0</td>\n      <td>5</td>\n      <td>0</td>\n      <td>4</td>\n      <td>8</td>\n      <td>19</td>\n      <td>21</td>\n      <td>3</td>\n    </tr>\n  </tbody>\n</table>\n<p>9403 rows × 38 columns</p>\n</div>"
     },
     "execution_count": 498,
     "metadata": {},
     "output_type": "execute_result"
    }
   ],
   "source": [
    "X"
   ],
   "metadata": {
    "collapsed": false,
    "pycharm": {
     "name": "#%%\n"
    }
   }
  },
  {
   "cell_type": "code",
   "execution_count": 499,
   "outputs": [
    {
     "data": {
      "text/plain": "array([1, 1, 1, ..., 1, 0, 1])"
     },
     "execution_count": 499,
     "metadata": {},
     "output_type": "execute_result"
    }
   ],
   "source": [
    "y"
   ],
   "metadata": {
    "collapsed": false,
    "pycharm": {
     "name": "#%%\n"
    }
   }
  },
  {
   "cell_type": "code",
   "execution_count": 500,
   "outputs": [],
   "source": [
    "X_train, X_test, y_train, y_test = train_test_split(X, y, test_size=0.3)"
   ],
   "metadata": {
    "collapsed": false,
    "pycharm": {
     "name": "#%%\n"
    }
   }
  },
  {
   "cell_type": "code",
   "execution_count": 501,
   "outputs": [
    {
     "data": {
      "text/plain": "(2821, 38)"
     },
     "execution_count": 501,
     "metadata": {},
     "output_type": "execute_result"
    }
   ],
   "source": [
    "X_test.shape"
   ],
   "metadata": {
    "collapsed": false,
    "pycharm": {
     "name": "#%%\n"
    }
   }
  },
  {
   "cell_type": "code",
   "execution_count": 502,
   "outputs": [
    {
     "data": {
      "text/plain": "(6582, 38)"
     },
     "execution_count": 502,
     "metadata": {},
     "output_type": "execute_result"
    }
   ],
   "source": [
    "X_train.shape"
   ],
   "metadata": {
    "collapsed": false,
    "pycharm": {
     "name": "#%%\n"
    }
   }
  },
  {
   "cell_type": "markdown",
   "source": [
    "## Szukanie modelu"
   ],
   "metadata": {
    "collapsed": false,
    "pycharm": {
     "name": "#%% md\n"
    }
   }
  },
  {
   "cell_type": "markdown",
   "source": [
    "#### Regresja liniowa"
   ],
   "metadata": {
    "collapsed": false,
    "pycharm": {
     "name": "#%% md\n"
    }
   }
  },
  {
   "cell_type": "code",
   "execution_count": 503,
   "outputs": [
    {
     "data": {
      "text/plain": "LinearRegression()"
     },
     "execution_count": 503,
     "metadata": {},
     "output_type": "execute_result"
    }
   ],
   "source": [
    "linear_regression = LinearRegression()\n",
    "linear_regression.fit(X_train, y_train)"
   ],
   "metadata": {
    "collapsed": false,
    "pycharm": {
     "name": "#%%\n"
    }
   }
  },
  {
   "cell_type": "code",
   "execution_count": 504,
   "outputs": [
    {
     "data": {
      "text/plain": "1.0"
     },
     "execution_count": 504,
     "metadata": {},
     "output_type": "execute_result"
    }
   ],
   "source": [
    "predictions = linear_regression.predict(X_test) > 0.5\n",
    "accuracy_score(y_test, predictions)"
   ],
   "metadata": {
    "collapsed": false,
    "pycharm": {
     "name": "#%%\n"
    }
   }
  },
  {
   "cell_type": "markdown",
   "source": [
    "## RandomForest"
   ],
   "metadata": {
    "collapsed": false,
    "pycharm": {
     "name": "#%% md\n"
    }
   }
  },
  {
   "cell_type": "code",
   "execution_count": 505,
   "outputs": [
    {
     "data": {
      "text/plain": "RandomForestClassifier()"
     },
     "execution_count": 505,
     "metadata": {},
     "output_type": "execute_result"
    }
   ],
   "source": [
    "random_forest = RandomForestClassifier()\n",
    "random_forest.fit(X_train, y_train)"
   ],
   "metadata": {
    "collapsed": false,
    "pycharm": {
     "name": "#%%\n"
    }
   }
  },
  {
   "cell_type": "code",
   "execution_count": 506,
   "outputs": [
    {
     "data": {
      "text/plain": "0.9688558237358805"
     },
     "execution_count": 506,
     "metadata": {},
     "output_type": "execute_result"
    }
   ],
   "source": [
    "rand_forest_scores = cross_val_score(random_forest, X_train, y_train, cv=10, scoring=\"accuracy\")\n",
    "rand_forest_scores.mean()"
   ],
   "metadata": {
    "collapsed": false,
    "pycharm": {
     "name": "#%%\n"
    }
   }
  },
  {
   "cell_type": "markdown",
   "source": [
    "## KNN"
   ],
   "metadata": {
    "collapsed": false,
    "pycharm": {
     "name": "#%% md\n"
    }
   }
  },
  {
   "cell_type": "code",
   "execution_count": 507,
   "outputs": [
    {
     "data": {
      "text/plain": "KNeighborsClassifier()"
     },
     "execution_count": 507,
     "metadata": {},
     "output_type": "execute_result"
    }
   ],
   "source": [
    "knn = KNeighborsClassifier()\n",
    "knn.fit(X_train, y_train)"
   ],
   "metadata": {
    "collapsed": false,
    "pycharm": {
     "name": "#%%\n"
    }
   }
  },
  {
   "cell_type": "code",
   "execution_count": 508,
   "outputs": [
    {
     "data": {
      "text/plain": "0.7260736309504592"
     },
     "execution_count": 508,
     "metadata": {},
     "output_type": "execute_result"
    }
   ],
   "source": [
    "knn_forest_scores = cross_val_score(knn, X_train, y_train, cv=10, scoring=\"accuracy\")\n",
    "knn_forest_scores.mean()"
   ],
   "metadata": {
    "collapsed": false,
    "pycharm": {
     "name": "#%%\n"
    }
   }
  },
  {
   "cell_type": "markdown",
   "source": [
    "## SVM"
   ],
   "metadata": {
    "collapsed": false,
    "pycharm": {
     "name": "#%% md\n"
    }
   }
  },
  {
   "cell_type": "code",
   "execution_count": 509,
   "outputs": [],
   "source": [
    "svm = SVC(kernel=\"rbf\")"
   ],
   "metadata": {
    "collapsed": false,
    "pycharm": {
     "name": "#%%\n"
    }
   }
  },
  {
   "cell_type": "code",
   "execution_count": 510,
   "outputs": [
    {
     "data": {
      "text/plain": "0.5850803234153249"
     },
     "execution_count": 510,
     "metadata": {},
     "output_type": "execute_result"
    }
   ],
   "source": [
    "svm_scores = cross_val_score(svm, X_train, y_train, cv=10, scoring=\"accuracy\")\n",
    "svm_scores.mean()"
   ],
   "metadata": {
    "collapsed": false,
    "pycharm": {
     "name": "#%%\n"
    }
   }
  },
  {
   "cell_type": "markdown",
   "source": [
    "## Gradient Boosting"
   ],
   "metadata": {
    "collapsed": false,
    "pycharm": {
     "name": "#%% md\n"
    }
   }
  },
  {
   "cell_type": "code",
   "execution_count": 511,
   "outputs": [],
   "source": [
    "gradient_boosting = GradientBoostingClassifier()"
   ],
   "metadata": {
    "collapsed": false,
    "pycharm": {
     "name": "#%%\n"
    }
   }
  },
  {
   "cell_type": "code",
   "execution_count": 512,
   "outputs": [
    {
     "data": {
      "text/plain": "0.9152233363719234"
     },
     "execution_count": 512,
     "metadata": {},
     "output_type": "execute_result"
    }
   ],
   "source": [
    "gradient_boosting_scores = cross_val_score(gradient_boosting, X_train, y_train, cv=3, scoring=\"accuracy\")\n",
    "gradient_boosting_scores.mean()"
   ],
   "metadata": {
    "collapsed": false,
    "pycharm": {
     "name": "#%%\n"
    }
   }
  },
  {
   "cell_type": "markdown",
   "source": [
    "## Sieć neuronowa"
   ],
   "metadata": {
    "collapsed": false,
    "pycharm": {
     "name": "#%% md\n"
    }
   }
  },
  {
   "cell_type": "code",
   "execution_count": 513,
   "outputs": [],
   "source": [
    "model = tf.keras.Sequential([\n",
    "    tf.keras.layers.Dense(128, activation='relu', input_dim=len(main_df.columns)-1),\n",
    "    tf.keras.layers.Dense(64, activation='relu'),\n",
    "    tf.keras.layers.Dense(32, activation='relu'),\n",
    "    tf.keras.layers.Dense(1, activation=\"sigmoid\")\n",
    "\n",
    "])"
   ],
   "metadata": {
    "collapsed": false,
    "pycharm": {
     "name": "#%%\n"
    }
   }
  },
  {
   "cell_type": "code",
   "execution_count": 514,
   "outputs": [
    {
     "name": "stdout",
     "output_type": "stream",
     "text": [
      "Model: \"sequential_16\"\n",
      "_________________________________________________________________\n",
      " Layer (type)                Output Shape              Param #   \n",
      "=================================================================\n",
      " dense_67 (Dense)            (None, 128)               4992      \n",
      "                                                                 \n",
      " dense_68 (Dense)            (None, 64)                8256      \n",
      "                                                                 \n",
      " dense_69 (Dense)            (None, 32)                2080      \n",
      "                                                                 \n",
      " dense_70 (Dense)            (None, 1)                 33        \n",
      "                                                                 \n",
      "=================================================================\n",
      "Total params: 15,361\n",
      "Trainable params: 15,361\n",
      "Non-trainable params: 0\n",
      "_________________________________________________________________\n"
     ]
    }
   ],
   "source": [
    "model.summary()"
   ],
   "metadata": {
    "collapsed": false,
    "pycharm": {
     "name": "#%%\n"
    }
   }
  },
  {
   "cell_type": "code",
   "execution_count": 515,
   "outputs": [],
   "source": [
    "model.compile(optimizer='adam',\n",
    "              loss=tf.keras.losses.BinaryCrossentropy(),\n",
    "              metrics=['accuracy'])"
   ],
   "metadata": {
    "collapsed": false,
    "pycharm": {
     "name": "#%%\n"
    }
   }
  },
  {
   "cell_type": "code",
   "execution_count": 516,
   "outputs": [
    {
     "name": "stdout",
     "output_type": "stream",
     "text": [
      "Epoch 1/200\n",
      "206/206 [==============================] - 0s 578us/step - loss: 10.4813 - accuracy: 0.5258\n",
      "Epoch 2/200\n",
      "206/206 [==============================] - 0s 660us/step - loss: 5.3582 - accuracy: 0.5460\n",
      "Epoch 3/200\n",
      "206/206 [==============================] - 0s 619us/step - loss: 4.1893 - accuracy: 0.5684\n",
      "Epoch 4/200\n",
      "206/206 [==============================] - 0s 641us/step - loss: 2.7027 - accuracy: 0.5869\n",
      "Epoch 5/200\n",
      "206/206 [==============================] - 0s 634us/step - loss: 2.8902 - accuracy: 0.5805\n",
      "Epoch 6/200\n",
      "206/206 [==============================] - 0s 619us/step - loss: 2.3743 - accuracy: 0.5954\n",
      "Epoch 7/200\n",
      "206/206 [==============================] - 0s 583us/step - loss: 1.9626 - accuracy: 0.6026\n",
      "Epoch 8/200\n",
      "206/206 [==============================] - 0s 648us/step - loss: 1.0731 - accuracy: 0.6275\n",
      "Epoch 9/200\n",
      "206/206 [==============================] - 0s 603us/step - loss: 1.0177 - accuracy: 0.6235\n",
      "Epoch 10/200\n",
      "206/206 [==============================] - 0s 590us/step - loss: 1.0939 - accuracy: 0.6153\n",
      "Epoch 11/200\n",
      "206/206 [==============================] - 0s 647us/step - loss: 1.1566 - accuracy: 0.6196\n",
      "Epoch 12/200\n",
      "206/206 [==============================] - 0s 603us/step - loss: 0.7154 - accuracy: 0.6474\n",
      "Epoch 13/200\n",
      "206/206 [==============================] - 0s 621us/step - loss: 0.6648 - accuracy: 0.6609\n",
      "Epoch 14/200\n",
      "206/206 [==============================] - 0s 605us/step - loss: 0.6528 - accuracy: 0.6597\n",
      "Epoch 15/200\n",
      "206/206 [==============================] - 0s 633us/step - loss: 0.7513 - accuracy: 0.6414\n",
      "Epoch 16/200\n",
      "206/206 [==============================] - 0s 613us/step - loss: 0.6704 - accuracy: 0.6481\n",
      "Epoch 17/200\n",
      "206/206 [==============================] - 0s 598us/step - loss: 0.8121 - accuracy: 0.6398\n",
      "Epoch 18/200\n",
      "206/206 [==============================] - 0s 623us/step - loss: 0.7063 - accuracy: 0.6449\n",
      "Epoch 19/200\n",
      "206/206 [==============================] - 0s 585us/step - loss: 0.5782 - accuracy: 0.6784\n",
      "Epoch 20/200\n",
      "206/206 [==============================] - 0s 629us/step - loss: 0.5737 - accuracy: 0.6847\n",
      "Epoch 21/200\n",
      "206/206 [==============================] - 0s 619us/step - loss: 0.5550 - accuracy: 0.6999\n",
      "Epoch 22/200\n",
      "206/206 [==============================] - 0s 635us/step - loss: 0.5407 - accuracy: 0.7094\n",
      "Epoch 23/200\n",
      "206/206 [==============================] - 0s 583us/step - loss: 0.5273 - accuracy: 0.7262\n",
      "Epoch 24/200\n",
      "206/206 [==============================] - 0s 647us/step - loss: 0.5246 - accuracy: 0.7256\n",
      "Epoch 25/200\n",
      "206/206 [==============================] - 0s 613us/step - loss: 0.4859 - accuracy: 0.7397\n",
      "Epoch 26/200\n",
      "206/206 [==============================] - 0s 626us/step - loss: 0.4815 - accuracy: 0.7438\n",
      "Epoch 27/200\n",
      "206/206 [==============================] - 0s 594us/step - loss: 0.4393 - accuracy: 0.7718\n",
      "Epoch 28/200\n",
      "206/206 [==============================] - 0s 592us/step - loss: 0.4403 - accuracy: 0.7713\n",
      "Epoch 29/200\n",
      "206/206 [==============================] - 0s 608us/step - loss: 0.3708 - accuracy: 0.8104\n",
      "Epoch 30/200\n",
      "206/206 [==============================] - 0s 599us/step - loss: 0.4206 - accuracy: 0.7862\n",
      "Epoch 31/200\n",
      "206/206 [==============================] - 0s 618us/step - loss: 0.3554 - accuracy: 0.8122\n",
      "Epoch 32/200\n",
      "206/206 [==============================] - 0s 624us/step - loss: 0.5030 - accuracy: 0.7514\n",
      "Epoch 33/200\n",
      "206/206 [==============================] - 0s 661us/step - loss: 0.4501 - accuracy: 0.7627\n",
      "Epoch 34/200\n",
      "206/206 [==============================] - 0s 612us/step - loss: 0.4340 - accuracy: 0.7686\n",
      "Epoch 35/200\n",
      "206/206 [==============================] - 0s 620us/step - loss: 0.3935 - accuracy: 0.7867\n",
      "Epoch 36/200\n",
      "206/206 [==============================] - 0s 603us/step - loss: 0.3855 - accuracy: 0.8052\n",
      "Epoch 37/200\n",
      "206/206 [==============================] - 0s 553us/step - loss: 0.3007 - accuracy: 0.8383\n",
      "Epoch 38/200\n",
      "206/206 [==============================] - 0s 569us/step - loss: 0.3157 - accuracy: 0.8292\n",
      "Epoch 39/200\n",
      "206/206 [==============================] - 0s 615us/step - loss: 0.2970 - accuracy: 0.8446\n",
      "Epoch 40/200\n",
      "206/206 [==============================] - 0s 588us/step - loss: 0.3024 - accuracy: 0.8420\n",
      "Epoch 41/200\n",
      "206/206 [==============================] - 0s 607us/step - loss: 0.4042 - accuracy: 0.8013\n",
      "Epoch 42/200\n",
      "206/206 [==============================] - 0s 604us/step - loss: 0.2984 - accuracy: 0.8499\n",
      "Epoch 43/200\n",
      "206/206 [==============================] - 0s 616us/step - loss: 0.2741 - accuracy: 0.8570\n",
      "Epoch 44/200\n",
      "206/206 [==============================] - 0s 604us/step - loss: 0.3316 - accuracy: 0.8434\n",
      "Epoch 45/200\n",
      "206/206 [==============================] - 0s 634us/step - loss: 0.2791 - accuracy: 0.8497\n",
      "Epoch 46/200\n",
      "206/206 [==============================] - 0s 595us/step - loss: 0.3274 - accuracy: 0.8294\n",
      "Epoch 47/200\n",
      "206/206 [==============================] - 0s 618us/step - loss: 0.4189 - accuracy: 0.7900\n",
      "Epoch 48/200\n",
      "206/206 [==============================] - 0s 588us/step - loss: 0.2886 - accuracy: 0.8374\n",
      "Epoch 49/200\n",
      "206/206 [==============================] - 0s 622us/step - loss: 0.3182 - accuracy: 0.8385\n",
      "Epoch 50/200\n",
      "206/206 [==============================] - 0s 565us/step - loss: 0.2593 - accuracy: 0.8681\n",
      "Epoch 51/200\n",
      "206/206 [==============================] - 0s 558us/step - loss: 0.2817 - accuracy: 0.8541\n",
      "Epoch 52/200\n",
      "206/206 [==============================] - 0s 586us/step - loss: 0.2509 - accuracy: 0.8681\n",
      "Epoch 53/200\n",
      "206/206 [==============================] - 0s 638us/step - loss: 0.2321 - accuracy: 0.8745\n",
      "Epoch 54/200\n",
      "206/206 [==============================] - 0s 595us/step - loss: 0.2005 - accuracy: 0.8915\n",
      "Epoch 55/200\n",
      "206/206 [==============================] - 0s 633us/step - loss: 0.2590 - accuracy: 0.8619\n",
      "Epoch 56/200\n",
      "206/206 [==============================] - 0s 629us/step - loss: 0.2283 - accuracy: 0.8733\n",
      "Epoch 57/200\n",
      "206/206 [==============================] - 0s 627us/step - loss: 0.2855 - accuracy: 0.8494\n",
      "Epoch 58/200\n",
      "206/206 [==============================] - 0s 603us/step - loss: 0.2455 - accuracy: 0.8716\n",
      "Epoch 59/200\n",
      "206/206 [==============================] - 0s 611us/step - loss: 0.2605 - accuracy: 0.8525\n",
      "Epoch 60/200\n",
      "206/206 [==============================] - 0s 618us/step - loss: 0.2170 - accuracy: 0.8804\n",
      "Epoch 61/200\n",
      "206/206 [==============================] - 0s 608us/step - loss: 0.2378 - accuracy: 0.8744\n",
      "Epoch 62/200\n",
      "206/206 [==============================] - 0s 624us/step - loss: 0.2536 - accuracy: 0.8712\n",
      "Epoch 63/200\n",
      "206/206 [==============================] - 0s 608us/step - loss: 0.2391 - accuracy: 0.8757\n",
      "Epoch 64/200\n",
      "206/206 [==============================] - 0s 604us/step - loss: 0.6827 - accuracy: 0.7565\n",
      "Epoch 65/200\n",
      "206/206 [==============================] - 0s 606us/step - loss: 0.3562 - accuracy: 0.8075\n",
      "Epoch 66/200\n",
      "206/206 [==============================] - 0s 645us/step - loss: 0.4147 - accuracy: 0.7861\n",
      "Epoch 67/200\n",
      "206/206 [==============================] - 0s 624us/step - loss: 0.2855 - accuracy: 0.8443\n",
      "Epoch 68/200\n",
      "206/206 [==============================] - 0s 649us/step - loss: 0.2567 - accuracy: 0.8551\n",
      "Epoch 69/200\n",
      "206/206 [==============================] - 0s 619us/step - loss: 0.2568 - accuracy: 0.8608\n",
      "Epoch 70/200\n",
      "206/206 [==============================] - 0s 580us/step - loss: 0.2264 - accuracy: 0.8747\n",
      "Epoch 71/200\n",
      "206/206 [==============================] - 0s 605us/step - loss: 0.2319 - accuracy: 0.8768\n",
      "Epoch 72/200\n",
      "206/206 [==============================] - 0s 601us/step - loss: 0.2303 - accuracy: 0.8750\n",
      "Epoch 73/200\n",
      "206/206 [==============================] - 0s 599us/step - loss: 0.2228 - accuracy: 0.8778\n",
      "Epoch 74/200\n",
      "206/206 [==============================] - 0s 619us/step - loss: 0.2768 - accuracy: 0.8652\n",
      "Epoch 75/200\n",
      "206/206 [==============================] - 0s 625us/step - loss: 0.2596 - accuracy: 0.8734\n",
      "Epoch 76/200\n",
      "206/206 [==============================] - 0s 603us/step - loss: 0.3349 - accuracy: 0.8102\n",
      "Epoch 77/200\n",
      "206/206 [==============================] - 0s 648us/step - loss: 0.2354 - accuracy: 0.8783\n",
      "Epoch 78/200\n",
      "206/206 [==============================] - 0s 607us/step - loss: 0.2159 - accuracy: 0.8845\n",
      "Epoch 79/200\n",
      "206/206 [==============================] - 0s 595us/step - loss: 0.2267 - accuracy: 0.8891\n",
      "Epoch 80/200\n",
      "206/206 [==============================] - 0s 658us/step - loss: 0.2191 - accuracy: 0.8830\n",
      "Epoch 81/200\n",
      "206/206 [==============================] - 0s 596us/step - loss: 0.2459 - accuracy: 0.8827\n",
      "Epoch 82/200\n",
      "206/206 [==============================] - 0s 621us/step - loss: 0.2254 - accuracy: 0.8830\n",
      "Epoch 83/200\n",
      "206/206 [==============================] - 0s 584us/step - loss: 0.1904 - accuracy: 0.8949\n",
      "Epoch 84/200\n",
      "206/206 [==============================] - 0s 619us/step - loss: 0.2259 - accuracy: 0.8886\n",
      "Epoch 85/200\n",
      "206/206 [==============================] - 0s 632us/step - loss: 0.2104 - accuracy: 0.8870\n",
      "Epoch 86/200\n",
      "206/206 [==============================] - 0s 610us/step - loss: 0.2022 - accuracy: 0.8935\n",
      "Epoch 87/200\n",
      "206/206 [==============================] - 0s 630us/step - loss: 0.1920 - accuracy: 0.8996\n",
      "Epoch 88/200\n",
      "206/206 [==============================] - 0s 615us/step - loss: 0.2424 - accuracy: 0.8832\n",
      "Epoch 89/200\n",
      "206/206 [==============================] - 0s 643us/step - loss: 0.2034 - accuracy: 0.8905\n",
      "Epoch 90/200\n",
      "206/206 [==============================] - 0s 629us/step - loss: 0.1890 - accuracy: 0.8987\n",
      "Epoch 91/200\n",
      "206/206 [==============================] - 0s 607us/step - loss: 0.2234 - accuracy: 0.8874\n",
      "Epoch 92/200\n",
      "206/206 [==============================] - 0s 575us/step - loss: 0.1941 - accuracy: 0.8985\n",
      "Epoch 93/200\n",
      "206/206 [==============================] - 0s 622us/step - loss: 0.1680 - accuracy: 0.9073\n",
      "Epoch 94/200\n",
      "206/206 [==============================] - 0s 625us/step - loss: 0.1841 - accuracy: 0.9044\n",
      "Epoch 95/200\n",
      "206/206 [==============================] - 0s 597us/step - loss: 0.1962 - accuracy: 0.8943\n",
      "Epoch 96/200\n",
      "206/206 [==============================] - 0s 602us/step - loss: 0.2082 - accuracy: 0.8930\n",
      "Epoch 97/200\n",
      "206/206 [==============================] - 0s 606us/step - loss: 0.3033 - accuracy: 0.8602\n",
      "Epoch 98/200\n",
      "206/206 [==============================] - 0s 622us/step - loss: 0.1835 - accuracy: 0.9055\n",
      "Epoch 99/200\n",
      "206/206 [==============================] - 0s 604us/step - loss: 0.1834 - accuracy: 0.9050\n",
      "Epoch 100/200\n",
      "206/206 [==============================] - 0s 593us/step - loss: 0.1846 - accuracy: 0.9037\n",
      "Epoch 101/200\n",
      "206/206 [==============================] - 0s 613us/step - loss: 0.2206 - accuracy: 0.8946\n",
      "Epoch 102/200\n",
      "206/206 [==============================] - 0s 602us/step - loss: 0.2256 - accuracy: 0.8885\n",
      "Epoch 103/200\n",
      "206/206 [==============================] - 0s 666us/step - loss: 0.1758 - accuracy: 0.9038\n",
      "Epoch 104/200\n",
      "206/206 [==============================] - 0s 633us/step - loss: 0.1837 - accuracy: 0.8981\n",
      "Epoch 105/200\n",
      "206/206 [==============================] - 0s 591us/step - loss: 0.1755 - accuracy: 0.9038\n",
      "Epoch 106/200\n",
      "206/206 [==============================] - 0s 585us/step - loss: 0.1891 - accuracy: 0.9006\n",
      "Epoch 107/200\n",
      "206/206 [==============================] - 0s 620us/step - loss: 0.1436 - accuracy: 0.9189\n",
      "Epoch 108/200\n",
      "206/206 [==============================] - 0s 586us/step - loss: 0.1941 - accuracy: 0.9000\n",
      "Epoch 109/200\n",
      "206/206 [==============================] - 0s 640us/step - loss: 0.1804 - accuracy: 0.9026\n",
      "Epoch 110/200\n",
      "206/206 [==============================] - 0s 589us/step - loss: 0.1755 - accuracy: 0.9075\n",
      "Epoch 111/200\n",
      "206/206 [==============================] - 0s 596us/step - loss: 0.1855 - accuracy: 0.8996\n",
      "Epoch 112/200\n",
      "206/206 [==============================] - 0s 603us/step - loss: 0.1995 - accuracy: 0.8952\n",
      "Epoch 113/200\n",
      "206/206 [==============================] - 0s 641us/step - loss: 0.1638 - accuracy: 0.9078\n",
      "Epoch 114/200\n",
      "206/206 [==============================] - 0s 641us/step - loss: 0.2974 - accuracy: 0.8739\n",
      "Epoch 115/200\n",
      "206/206 [==============================] - 0s 576us/step - loss: 0.2102 - accuracy: 0.8874\n",
      "Epoch 116/200\n",
      "206/206 [==============================] - 0s 604us/step - loss: 0.1945 - accuracy: 0.9012\n",
      "Epoch 117/200\n",
      "206/206 [==============================] - 0s 631us/step - loss: 0.1712 - accuracy: 0.9041\n",
      "Epoch 118/200\n",
      "206/206 [==============================] - 0s 633us/step - loss: 0.1925 - accuracy: 0.8976\n",
      "Epoch 119/200\n",
      "206/206 [==============================] - 0s 639us/step - loss: 0.1666 - accuracy: 0.9090\n",
      "Epoch 120/200\n",
      "206/206 [==============================] - 0s 631us/step - loss: 0.1655 - accuracy: 0.9119\n",
      "Epoch 121/200\n",
      "206/206 [==============================] - 0s 655us/step - loss: 0.1417 - accuracy: 0.9211\n",
      "Epoch 122/200\n",
      "206/206 [==============================] - 0s 634us/step - loss: 0.1448 - accuracy: 0.9210\n",
      "Epoch 123/200\n",
      "206/206 [==============================] - 0s 575us/step - loss: 0.1505 - accuracy: 0.9158\n",
      "Epoch 124/200\n",
      "206/206 [==============================] - 0s 613us/step - loss: 0.1652 - accuracy: 0.9143\n",
      "Epoch 125/200\n",
      "206/206 [==============================] - 0s 642us/step - loss: 0.1553 - accuracy: 0.9132\n",
      "Epoch 126/200\n",
      "206/206 [==============================] - 0s 618us/step - loss: 0.1913 - accuracy: 0.9082\n",
      "Epoch 127/200\n",
      "206/206 [==============================] - 0s 623us/step - loss: 0.2555 - accuracy: 0.8862\n",
      "Epoch 128/200\n",
      "206/206 [==============================] - 0s 634us/step - loss: 0.1785 - accuracy: 0.9094\n",
      "Epoch 129/200\n",
      "206/206 [==============================] - 0s 611us/step - loss: 0.1767 - accuracy: 0.9091\n",
      "Epoch 130/200\n",
      "206/206 [==============================] - 0s 614us/step - loss: 0.1685 - accuracy: 0.9148\n",
      "Epoch 131/200\n",
      "206/206 [==============================] - 0s 601us/step - loss: 0.1703 - accuracy: 0.9119\n",
      "Epoch 132/200\n",
      "206/206 [==============================] - 0s 602us/step - loss: 0.1936 - accuracy: 0.9035\n",
      "Epoch 133/200\n",
      "206/206 [==============================] - 0s 636us/step - loss: 0.1849 - accuracy: 0.8987\n",
      "Epoch 134/200\n",
      "206/206 [==============================] - 0s 579us/step - loss: 0.1427 - accuracy: 0.9243\n",
      "Epoch 135/200\n",
      "206/206 [==============================] - 0s 604us/step - loss: 0.1566 - accuracy: 0.9198\n",
      "Epoch 136/200\n",
      "206/206 [==============================] - 0s 634us/step - loss: 0.1455 - accuracy: 0.9307\n",
      "Epoch 137/200\n",
      "206/206 [==============================] - 0s 597us/step - loss: 0.1543 - accuracy: 0.9139\n",
      "Epoch 138/200\n",
      "206/206 [==============================] - 0s 657us/step - loss: 0.1500 - accuracy: 0.9218\n",
      "Epoch 139/200\n",
      "206/206 [==============================] - 0s 651us/step - loss: 0.1529 - accuracy: 0.9225\n",
      "Epoch 140/200\n",
      "206/206 [==============================] - 0s 572us/step - loss: 0.1505 - accuracy: 0.9202\n",
      "Epoch 141/200\n",
      "206/206 [==============================] - 0s 592us/step - loss: 0.1269 - accuracy: 0.9325\n",
      "Epoch 142/200\n",
      "206/206 [==============================] - 0s 609us/step - loss: 0.1290 - accuracy: 0.9300\n",
      "Epoch 143/200\n",
      "206/206 [==============================] - 0s 620us/step - loss: 0.1359 - accuracy: 0.9280\n",
      "Epoch 144/200\n",
      "206/206 [==============================] - 0s 636us/step - loss: 0.1720 - accuracy: 0.9070\n",
      "Epoch 145/200\n",
      "206/206 [==============================] - 0s 635us/step - loss: 0.2341 - accuracy: 0.8964\n",
      "Epoch 146/200\n",
      "206/206 [==============================] - 0s 607us/step - loss: 0.1662 - accuracy: 0.9174\n",
      "Epoch 147/200\n",
      "206/206 [==============================] - 0s 615us/step - loss: 0.1534 - accuracy: 0.9163\n",
      "Epoch 148/200\n",
      "206/206 [==============================] - 0s 595us/step - loss: 0.1384 - accuracy: 0.9301\n",
      "Epoch 149/200\n",
      "206/206 [==============================] - 0s 627us/step - loss: 0.1410 - accuracy: 0.9254\n",
      "Epoch 150/200\n",
      "206/206 [==============================] - 0s 624us/step - loss: 0.1561 - accuracy: 0.9136\n",
      "Epoch 151/200\n",
      "206/206 [==============================] - 0s 628us/step - loss: 0.1680 - accuracy: 0.9201\n",
      "Epoch 152/200\n",
      "206/206 [==============================] - 0s 620us/step - loss: 0.1698 - accuracy: 0.9152\n",
      "Epoch 153/200\n",
      "206/206 [==============================] - 0s 615us/step - loss: 0.1264 - accuracy: 0.9292\n",
      "Epoch 154/200\n",
      "206/206 [==============================] - 0s 654us/step - loss: 0.1417 - accuracy: 0.9254\n",
      "Epoch 155/200\n",
      "206/206 [==============================] - 0s 585us/step - loss: 0.1498 - accuracy: 0.9207\n",
      "Epoch 156/200\n",
      "206/206 [==============================] - 0s 614us/step - loss: 0.1361 - accuracy: 0.9274\n",
      "Epoch 157/200\n",
      "206/206 [==============================] - 0s 587us/step - loss: 0.1178 - accuracy: 0.9353\n",
      "Epoch 158/200\n",
      "206/206 [==============================] - 0s 598us/step - loss: 0.1189 - accuracy: 0.9336\n",
      "Epoch 159/200\n",
      "206/206 [==============================] - 0s 613us/step - loss: 0.1255 - accuracy: 0.9325\n",
      "Epoch 160/200\n",
      "206/206 [==============================] - 0s 604us/step - loss: 0.1416 - accuracy: 0.9192\n",
      "Epoch 161/200\n",
      "206/206 [==============================] - 0s 580us/step - loss: 0.1792 - accuracy: 0.9134\n",
      "Epoch 162/200\n",
      "206/206 [==============================] - 0s 593us/step - loss: 0.1517 - accuracy: 0.9184\n",
      "Epoch 163/200\n",
      "206/206 [==============================] - 0s 608us/step - loss: 0.1300 - accuracy: 0.9297\n",
      "Epoch 164/200\n",
      "206/206 [==============================] - 0s 611us/step - loss: 0.1777 - accuracy: 0.9169\n",
      "Epoch 165/200\n",
      "206/206 [==============================] - 0s 574us/step - loss: 0.1887 - accuracy: 0.9104\n",
      "Epoch 166/200\n",
      "206/206 [==============================] - 0s 581us/step - loss: 0.1536 - accuracy: 0.9187\n",
      "Epoch 167/200\n",
      "206/206 [==============================] - 0s 640us/step - loss: 0.1533 - accuracy: 0.9219\n",
      "Epoch 168/200\n",
      "206/206 [==============================] - 0s 555us/step - loss: 0.1350 - accuracy: 0.9268\n",
      "Epoch 169/200\n",
      "206/206 [==============================] - 0s 634us/step - loss: 0.1381 - accuracy: 0.9260\n",
      "Epoch 170/200\n",
      "206/206 [==============================] - 0s 572us/step - loss: 0.1164 - accuracy: 0.9386\n",
      "Epoch 171/200\n",
      "206/206 [==============================] - 0s 632us/step - loss: 0.1199 - accuracy: 0.9307\n",
      "Epoch 172/200\n",
      "206/206 [==============================] - 0s 632us/step - loss: 0.1352 - accuracy: 0.9269\n",
      "Epoch 173/200\n",
      "206/206 [==============================] - 0s 593us/step - loss: 0.1414 - accuracy: 0.9281\n",
      "Epoch 174/200\n",
      "206/206 [==============================] - 0s 583us/step - loss: 0.1314 - accuracy: 0.9304\n",
      "Epoch 175/200\n",
      "206/206 [==============================] - 0s 591us/step - loss: 0.1086 - accuracy: 0.9421\n",
      "Epoch 176/200\n",
      "206/206 [==============================] - 0s 576us/step - loss: 0.2107 - accuracy: 0.9047\n",
      "Epoch 177/200\n",
      "206/206 [==============================] - 0s 592us/step - loss: 0.1341 - accuracy: 0.9335\n",
      "Epoch 178/200\n",
      "206/206 [==============================] - 0s 678us/step - loss: 0.1329 - accuracy: 0.9312\n",
      "Epoch 179/200\n",
      "206/206 [==============================] - 0s 601us/step - loss: 0.1045 - accuracy: 0.9417\n",
      "Epoch 180/200\n",
      "206/206 [==============================] - 0s 612us/step - loss: 0.1277 - accuracy: 0.9268\n",
      "Epoch 181/200\n",
      "206/206 [==============================] - 0s 631us/step - loss: 0.1179 - accuracy: 0.9353\n",
      "Epoch 182/200\n",
      "206/206 [==============================] - 0s 606us/step - loss: 0.1197 - accuracy: 0.9301\n",
      "Epoch 183/200\n",
      "206/206 [==============================] - 0s 623us/step - loss: 0.1103 - accuracy: 0.9394\n",
      "Epoch 184/200\n",
      "206/206 [==============================] - 0s 619us/step - loss: 0.1365 - accuracy: 0.9348\n",
      "Epoch 185/200\n",
      "206/206 [==============================] - 0s 592us/step - loss: 0.1187 - accuracy: 0.9368\n",
      "Epoch 186/200\n",
      "206/206 [==============================] - 0s 656us/step - loss: 0.1395 - accuracy: 0.9287\n",
      "Epoch 187/200\n",
      "206/206 [==============================] - 0s 571us/step - loss: 0.1481 - accuracy: 0.9297\n",
      "Epoch 188/200\n",
      "206/206 [==============================] - 0s 622us/step - loss: 0.1115 - accuracy: 0.9423\n",
      "Epoch 189/200\n",
      "206/206 [==============================] - 0s 633us/step - loss: 0.1140 - accuracy: 0.9427\n",
      "Epoch 190/200\n",
      "206/206 [==============================] - 0s 602us/step - loss: 0.1257 - accuracy: 0.9353\n",
      "Epoch 191/200\n",
      "206/206 [==============================] - 0s 627us/step - loss: 0.1143 - accuracy: 0.9435\n",
      "Epoch 192/200\n",
      "206/206 [==============================] - 0s 630us/step - loss: 0.1442 - accuracy: 0.9256\n",
      "Epoch 193/200\n",
      "206/206 [==============================] - 0s 596us/step - loss: 0.1222 - accuracy: 0.9325\n",
      "Epoch 194/200\n",
      "206/206 [==============================] - 0s 616us/step - loss: 0.1610 - accuracy: 0.9186\n",
      "Epoch 195/200\n",
      "206/206 [==============================] - 0s 623us/step - loss: 0.1515 - accuracy: 0.9246\n",
      "Epoch 196/200\n",
      "206/206 [==============================] - 0s 579us/step - loss: 0.1279 - accuracy: 0.9388\n",
      "Epoch 197/200\n",
      "206/206 [==============================] - 0s 613us/step - loss: 0.1030 - accuracy: 0.9473\n",
      "Epoch 198/200\n",
      "206/206 [==============================] - 0s 618us/step - loss: 0.1615 - accuracy: 0.9167\n",
      "Epoch 199/200\n",
      "206/206 [==============================] - 0s 621us/step - loss: 0.1114 - accuracy: 0.9412\n",
      "Epoch 200/200\n",
      "206/206 [==============================] - 0s 634us/step - loss: 0.1466 - accuracy: 0.9289\n"
     ]
    },
    {
     "data": {
      "text/plain": "<keras.callbacks.History at 0x7f449bde2220>"
     },
     "execution_count": 516,
     "metadata": {},
     "output_type": "execute_result"
    }
   ],
   "source": [
    "model.fit(np.array(X_train,dtype=np.float64), np.array(y_train,dtype=np.float64), epochs=200)"
   ],
   "metadata": {
    "collapsed": false,
    "pycharm": {
     "name": "#%%\n"
    }
   }
  },
  {
   "cell_type": "code",
   "execution_count": 517,
   "outputs": [],
   "source": [
    "predictions = model.predict(np.array(X_test,dtype=np.float64)) > 0.5"
   ],
   "metadata": {
    "collapsed": false,
    "pycharm": {
     "name": "#%%\n"
    }
   }
  },
  {
   "cell_type": "code",
   "execution_count": 518,
   "outputs": [
    {
     "data": {
      "text/plain": "0.9113789436370081"
     },
     "execution_count": 518,
     "metadata": {},
     "output_type": "execute_result"
    }
   ],
   "source": [
    "accuracy_score(y_test, predictions)"
   ],
   "metadata": {
    "collapsed": false,
    "pycharm": {
     "name": "#%%\n"
    }
   }
  },
  {
   "cell_type": "code",
   "execution_count": 518,
   "outputs": [],
   "source": [],
   "metadata": {
    "collapsed": false,
    "pycharm": {
     "name": "#%%\n"
    }
   }
  }
 ],
 "metadata": {
  "kernelspec": {
   "display_name": "Python 3",
   "language": "python",
   "name": "python3"
  },
  "language_info": {
   "codemirror_mode": {
    "name": "ipython",
    "version": 2
   },
   "file_extension": ".py",
   "mimetype": "text/x-python",
   "name": "python",
   "nbconvert_exporter": "python",
   "pygments_lexer": "ipython2",
   "version": "2.7.6"
  }
 },
 "nbformat": 4,
 "nbformat_minor": 0
}