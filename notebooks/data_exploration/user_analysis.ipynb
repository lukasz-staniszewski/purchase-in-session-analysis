{
 "cells": [
  {
   "cell_type": "code",
   "execution_count": 1,
   "metadata": {
    "collapsed": true
   },
   "outputs": [],
   "source": [
    "import pandas as pd\n",
    "from matplotlib import pyplot as plt\n",
    "import numpy as np\n",
    "%matplotlib inline"
   ]
  },
  {
   "cell_type": "code",
   "execution_count": 2,
   "outputs": [],
   "source": [
    "df_sessions = pd.read_json(path_or_buf='../../data/raw/sessions.jsonl', lines=True)\n",
    "df_users = pd.read_json(path_or_buf='../../data/raw/users.jsonl', lines=True)"
   ],
   "metadata": {
    "collapsed": false,
    "pycharm": {
     "name": "#%%\n"
    }
   }
  },
  {
   "cell_type": "code",
   "execution_count": 3,
   "outputs": [
    {
     "data": {
      "text/plain": "   session_id           timestamp  user_id  product_id    event_type  \\\n0         124 2021-07-28 15:47:21      102        1283  VIEW_PRODUCT   \n1         124 2021-07-28 15:47:40      102        1283   BUY_PRODUCT   \n2         125 2021-09-12 16:43:16      102        1076  VIEW_PRODUCT   \n3         125 2021-09-12 16:46:24      102        1080  VIEW_PRODUCT   \n4         125 2021-09-12 16:48:08      102        1079  VIEW_PRODUCT   \n\n   offered_discount  purchase_id  \n0                 5          NaN  \n1                 5      20001.0  \n2                 0          NaN  \n3                 0          NaN  \n4                 0          NaN  ",
      "text/html": "<div>\n<style scoped>\n    .dataframe tbody tr th:only-of-type {\n        vertical-align: middle;\n    }\n\n    .dataframe tbody tr th {\n        vertical-align: top;\n    }\n\n    .dataframe thead th {\n        text-align: right;\n    }\n</style>\n<table border=\"1\" class=\"dataframe\">\n  <thead>\n    <tr style=\"text-align: right;\">\n      <th></th>\n      <th>session_id</th>\n      <th>timestamp</th>\n      <th>user_id</th>\n      <th>product_id</th>\n      <th>event_type</th>\n      <th>offered_discount</th>\n      <th>purchase_id</th>\n    </tr>\n  </thead>\n  <tbody>\n    <tr>\n      <th>0</th>\n      <td>124</td>\n      <td>2021-07-28 15:47:21</td>\n      <td>102</td>\n      <td>1283</td>\n      <td>VIEW_PRODUCT</td>\n      <td>5</td>\n      <td>NaN</td>\n    </tr>\n    <tr>\n      <th>1</th>\n      <td>124</td>\n      <td>2021-07-28 15:47:40</td>\n      <td>102</td>\n      <td>1283</td>\n      <td>BUY_PRODUCT</td>\n      <td>5</td>\n      <td>20001.0</td>\n    </tr>\n    <tr>\n      <th>2</th>\n      <td>125</td>\n      <td>2021-09-12 16:43:16</td>\n      <td>102</td>\n      <td>1076</td>\n      <td>VIEW_PRODUCT</td>\n      <td>0</td>\n      <td>NaN</td>\n    </tr>\n    <tr>\n      <th>3</th>\n      <td>125</td>\n      <td>2021-09-12 16:46:24</td>\n      <td>102</td>\n      <td>1080</td>\n      <td>VIEW_PRODUCT</td>\n      <td>0</td>\n      <td>NaN</td>\n    </tr>\n    <tr>\n      <th>4</th>\n      <td>125</td>\n      <td>2021-09-12 16:48:08</td>\n      <td>102</td>\n      <td>1079</td>\n      <td>VIEW_PRODUCT</td>\n      <td>0</td>\n      <td>NaN</td>\n    </tr>\n  </tbody>\n</table>\n</div>"
     },
     "execution_count": 3,
     "metadata": {},
     "output_type": "execute_result"
    }
   ],
   "source": [
    "df_sessions.head()"
   ],
   "metadata": {
    "collapsed": false,
    "pycharm": {
     "name": "#%%\n"
    }
   }
  },
  {
   "cell_type": "code",
   "execution_count": 4,
   "outputs": [
    {
     "data": {
      "text/plain": "    session_id           timestamp  user_id  product_id    event_type  \\\n11         126 2021-04-09 22:31:08      102        1281  VIEW_PRODUCT   \n12         126 2021-04-09 22:31:40      102        1278  VIEW_PRODUCT   \n13         126 2021-04-09 22:33:05      102        1278   BUY_PRODUCT   \n\n    offered_discount  purchase_id  \n11                15          NaN  \n12                15          NaN  \n13                15      20003.0  ",
      "text/html": "<div>\n<style scoped>\n    .dataframe tbody tr th:only-of-type {\n        vertical-align: middle;\n    }\n\n    .dataframe tbody tr th {\n        vertical-align: top;\n    }\n\n    .dataframe thead th {\n        text-align: right;\n    }\n</style>\n<table border=\"1\" class=\"dataframe\">\n  <thead>\n    <tr style=\"text-align: right;\">\n      <th></th>\n      <th>session_id</th>\n      <th>timestamp</th>\n      <th>user_id</th>\n      <th>product_id</th>\n      <th>event_type</th>\n      <th>offered_discount</th>\n      <th>purchase_id</th>\n    </tr>\n  </thead>\n  <tbody>\n    <tr>\n      <th>11</th>\n      <td>126</td>\n      <td>2021-04-09 22:31:08</td>\n      <td>102</td>\n      <td>1281</td>\n      <td>VIEW_PRODUCT</td>\n      <td>15</td>\n      <td>NaN</td>\n    </tr>\n    <tr>\n      <th>12</th>\n      <td>126</td>\n      <td>2021-04-09 22:31:40</td>\n      <td>102</td>\n      <td>1278</td>\n      <td>VIEW_PRODUCT</td>\n      <td>15</td>\n      <td>NaN</td>\n    </tr>\n    <tr>\n      <th>13</th>\n      <td>126</td>\n      <td>2021-04-09 22:33:05</td>\n      <td>102</td>\n      <td>1278</td>\n      <td>BUY_PRODUCT</td>\n      <td>15</td>\n      <td>20003.0</td>\n    </tr>\n  </tbody>\n</table>\n</div>"
     },
     "execution_count": 4,
     "metadata": {},
     "output_type": "execute_result"
    }
   ],
   "source": [
    "df_sessions.loc[df_sessions['session_id'] == 126]"
   ],
   "metadata": {
    "collapsed": false,
    "pycharm": {
     "name": "#%%\n"
    }
   }
  },
  {
   "cell_type": "code",
   "execution_count": 5,
   "outputs": [
    {
     "data": {
      "text/plain": "   user_id              name      city                   street\n0      102     Aurelia Malon    Poznań  pl. Brzoskwiniowa 11/53\n1      103     Mateusz Kobel    Poznań        al. Wrocławska 10\n2      104    Radosław Ratka  Szczecin           pl. Nowa 89/04\n3      105  Anastazja Oszust  Warszawa     ul. Częstochowska 80\n4      106      Sylwia Nurek  Warszawa          al. Wiosenna 72",
      "text/html": "<div>\n<style scoped>\n    .dataframe tbody tr th:only-of-type {\n        vertical-align: middle;\n    }\n\n    .dataframe tbody tr th {\n        vertical-align: top;\n    }\n\n    .dataframe thead th {\n        text-align: right;\n    }\n</style>\n<table border=\"1\" class=\"dataframe\">\n  <thead>\n    <tr style=\"text-align: right;\">\n      <th></th>\n      <th>user_id</th>\n      <th>name</th>\n      <th>city</th>\n      <th>street</th>\n    </tr>\n  </thead>\n  <tbody>\n    <tr>\n      <th>0</th>\n      <td>102</td>\n      <td>Aurelia Malon</td>\n      <td>Poznań</td>\n      <td>pl. Brzoskwiniowa 11/53</td>\n    </tr>\n    <tr>\n      <th>1</th>\n      <td>103</td>\n      <td>Mateusz Kobel</td>\n      <td>Poznań</td>\n      <td>al. Wrocławska 10</td>\n    </tr>\n    <tr>\n      <th>2</th>\n      <td>104</td>\n      <td>Radosław Ratka</td>\n      <td>Szczecin</td>\n      <td>pl. Nowa 89/04</td>\n    </tr>\n    <tr>\n      <th>3</th>\n      <td>105</td>\n      <td>Anastazja Oszust</td>\n      <td>Warszawa</td>\n      <td>ul. Częstochowska 80</td>\n    </tr>\n    <tr>\n      <th>4</th>\n      <td>106</td>\n      <td>Sylwia Nurek</td>\n      <td>Warszawa</td>\n      <td>al. Wiosenna 72</td>\n    </tr>\n  </tbody>\n</table>\n</div>"
     },
     "execution_count": 5,
     "metadata": {},
     "output_type": "execute_result"
    }
   ],
   "source": [
    "df_users.head()"
   ],
   "metadata": {
    "collapsed": false,
    "pycharm": {
     "name": "#%%\n"
    }
   }
  },
  {
   "cell_type": "markdown",
   "source": [
    "# Data preprocessing"
   ],
   "metadata": {
    "collapsed": false,
    "pycharm": {
     "name": "#%% md\n"
    }
   }
  },
  {
   "cell_type": "markdown",
   "source": [
    "## Aggregate sessions information"
   ],
   "metadata": {
    "collapsed": false,
    "pycharm": {
     "name": "#%% md\n"
    }
   }
  },
  {
   "cell_type": "code",
   "execution_count": 6,
   "outputs": [
    {
     "data": {
      "text/plain": "            session_length  user_id  \\\nsession_id                            \n124                     19      102   \n125                   1436      102   \n126                    117      102   \n127                    519      102   \n128                    847      102   \n\n                                                  product_id  purchased  \\\nsession_id                                                                \n124                                                   [1283]          1   \n125         [1076, 1080, 1079, 1003, 1002, 1075, 1078, 1077]          1   \n126                                             [1281, 1278]          1   \n127                                             [1278, 1281]          1   \n128                     [1008, 1007, 1013, 1012, 1004, 1010]          1   \n\n            offered_discount  \nsession_id                    \n124                        5  \n125                        0  \n126                       15  \n127                        0  \n128                        0  ",
      "text/html": "<div>\n<style scoped>\n    .dataframe tbody tr th:only-of-type {\n        vertical-align: middle;\n    }\n\n    .dataframe tbody tr th {\n        vertical-align: top;\n    }\n\n    .dataframe thead th {\n        text-align: right;\n    }\n</style>\n<table border=\"1\" class=\"dataframe\">\n  <thead>\n    <tr style=\"text-align: right;\">\n      <th></th>\n      <th>session_length</th>\n      <th>user_id</th>\n      <th>product_id</th>\n      <th>purchased</th>\n      <th>offered_discount</th>\n    </tr>\n    <tr>\n      <th>session_id</th>\n      <th></th>\n      <th></th>\n      <th></th>\n      <th></th>\n      <th></th>\n    </tr>\n  </thead>\n  <tbody>\n    <tr>\n      <th>124</th>\n      <td>19</td>\n      <td>102</td>\n      <td>[1283]</td>\n      <td>1</td>\n      <td>5</td>\n    </tr>\n    <tr>\n      <th>125</th>\n      <td>1436</td>\n      <td>102</td>\n      <td>[1076, 1080, 1079, 1003, 1002, 1075, 1078, 1077]</td>\n      <td>1</td>\n      <td>0</td>\n    </tr>\n    <tr>\n      <th>126</th>\n      <td>117</td>\n      <td>102</td>\n      <td>[1281, 1278]</td>\n      <td>1</td>\n      <td>15</td>\n    </tr>\n    <tr>\n      <th>127</th>\n      <td>519</td>\n      <td>102</td>\n      <td>[1278, 1281]</td>\n      <td>1</td>\n      <td>0</td>\n    </tr>\n    <tr>\n      <th>128</th>\n      <td>847</td>\n      <td>102</td>\n      <td>[1008, 1007, 1013, 1012, 1004, 1010]</td>\n      <td>1</td>\n      <td>0</td>\n    </tr>\n  </tbody>\n</table>\n</div>"
     },
     "execution_count": 6,
     "metadata": {},
     "output_type": "execute_result"
    }
   ],
   "source": [
    "aggregation_functions = {\n",
    "    'timestamp' : lambda t: (t.max() - t.min()).seconds,\n",
    "    'user_id' : 'first',\n",
    "    'product_id' : 'unique',\n",
    "    'event_type' : lambda e: 1 if len(e.unique()) > 1 else 0,\n",
    "    'offered_discount' : 'first'\n",
    "}\n",
    "agg_sessions_df = df_sessions.groupby(df_sessions['session_id']).aggregate(aggregation_functions)\n",
    "agg_sessions_df.rename(columns={'timestamp' :'session_length', 'event_type' : 'purchased'}, inplace=True)\n",
    "agg_sessions_df.head()"
   ],
   "metadata": {
    "collapsed": false,
    "pycharm": {
     "name": "#%%\n"
    }
   }
  },
  {
   "cell_type": "markdown",
   "source": [
    "## Join user and sessions datasets"
   ],
   "metadata": {
    "collapsed": false,
    "pycharm": {
     "name": "#%% md\n"
    }
   }
  },
  {
   "cell_type": "code",
   "execution_count": 7,
   "outputs": [],
   "source": [
    "df = agg_sessions_df.join(other=df_users.set_index('user_id'), on='user_id')\n",
    "df = df[['session_length', 'user_id', 'product_id', 'offered_discount', 'name', 'city', 'street', 'purchased']]\n",
    "df.drop(columns=['name', 'street'], inplace=True)"
   ],
   "metadata": {
    "collapsed": false,
    "pycharm": {
     "name": "#%%\n"
    }
   }
  },
  {
   "cell_type": "code",
   "execution_count": 8,
   "outputs": [
    {
     "data": {
      "text/plain": "            session_length  user_id  \\\nsession_id                            \n124                     19      102   \n125                   1436      102   \n126                    117      102   \n127                    519      102   \n128                    847      102   \n\n                                                  product_id  \\\nsession_id                                                     \n124                                                   [1283]   \n125         [1076, 1080, 1079, 1003, 1002, 1075, 1078, 1077]   \n126                                             [1281, 1278]   \n127                                             [1278, 1281]   \n128                     [1008, 1007, 1013, 1012, 1004, 1010]   \n\n            offered_discount    city  purchased  \nsession_id                                       \n124                        5  Poznań          1  \n125                        0  Poznań          1  \n126                       15  Poznań          1  \n127                        0  Poznań          1  \n128                        0  Poznań          1  ",
      "text/html": "<div>\n<style scoped>\n    .dataframe tbody tr th:only-of-type {\n        vertical-align: middle;\n    }\n\n    .dataframe tbody tr th {\n        vertical-align: top;\n    }\n\n    .dataframe thead th {\n        text-align: right;\n    }\n</style>\n<table border=\"1\" class=\"dataframe\">\n  <thead>\n    <tr style=\"text-align: right;\">\n      <th></th>\n      <th>session_length</th>\n      <th>user_id</th>\n      <th>product_id</th>\n      <th>offered_discount</th>\n      <th>city</th>\n      <th>purchased</th>\n    </tr>\n    <tr>\n      <th>session_id</th>\n      <th></th>\n      <th></th>\n      <th></th>\n      <th></th>\n      <th></th>\n      <th></th>\n    </tr>\n  </thead>\n  <tbody>\n    <tr>\n      <th>124</th>\n      <td>19</td>\n      <td>102</td>\n      <td>[1283]</td>\n      <td>5</td>\n      <td>Poznań</td>\n      <td>1</td>\n    </tr>\n    <tr>\n      <th>125</th>\n      <td>1436</td>\n      <td>102</td>\n      <td>[1076, 1080, 1079, 1003, 1002, 1075, 1078, 1077]</td>\n      <td>0</td>\n      <td>Poznań</td>\n      <td>1</td>\n    </tr>\n    <tr>\n      <th>126</th>\n      <td>117</td>\n      <td>102</td>\n      <td>[1281, 1278]</td>\n      <td>15</td>\n      <td>Poznań</td>\n      <td>1</td>\n    </tr>\n    <tr>\n      <th>127</th>\n      <td>519</td>\n      <td>102</td>\n      <td>[1278, 1281]</td>\n      <td>0</td>\n      <td>Poznań</td>\n      <td>1</td>\n    </tr>\n    <tr>\n      <th>128</th>\n      <td>847</td>\n      <td>102</td>\n      <td>[1008, 1007, 1013, 1012, 1004, 1010]</td>\n      <td>0</td>\n      <td>Poznań</td>\n      <td>1</td>\n    </tr>\n  </tbody>\n</table>\n</div>"
     },
     "execution_count": 8,
     "metadata": {},
     "output_type": "execute_result"
    }
   ],
   "source": [
    "df.head()"
   ],
   "metadata": {
    "collapsed": false,
    "pycharm": {
     "name": "#%%\n"
    }
   }
  },
  {
   "cell_type": "markdown",
   "source": [
    "# Data analysis"
   ],
   "metadata": {
    "collapsed": false,
    "pycharm": {
     "name": "#%% md\n"
    }
   }
  },
  {
   "cell_type": "code",
   "execution_count": 9,
   "outputs": [],
   "source": [
    "plt.style.use('seaborn')"
   ],
   "metadata": {
    "collapsed": false,
    "pycharm": {
     "name": "#%%\n"
    }
   }
  },
  {
   "cell_type": "code",
   "execution_count": 16,
   "outputs": [
    {
     "data": {
      "text/plain": "Text(0, 0.5, 'Session length [s]')"
     },
     "execution_count": 16,
     "metadata": {},
     "output_type": "execute_result"
    },
    {
     "data": {
      "text/plain": "<Figure size 576x396 with 1 Axes>",
      "image/png": "[encoded data removed]"
     },
     "metadata": {},
     "output_type": "display_data"
    }
   ],
   "source": [
    "plt.hist(df['session_length'])\n",
    "plt.title('Distribution of sessions\\' lengths')\n",
    "plt.xlabel('Number of sessions')\n",
    "plt.ylabel('Session length [s]')"
   ],
   "metadata": {
    "collapsed": false,
    "pycharm": {
     "name": "#%%\n"
    }
   }
  },
  {
   "cell_type": "markdown",
   "source": [
    "Analyse user cities of living"
   ],
   "metadata": {
    "collapsed": false,
    "pycharm": {
     "name": "#%% md\n"
    }
   }
  },
  {
   "cell_type": "code",
   "execution_count": 11,
   "outputs": [
    {
     "data": {
      "text/plain": "Warszawa    2006\nPoznań      1617\nGdynia      1446\nRadom       1383\nSzczecin    1138\nWrocław     1120\nKraków       817\nName: city, dtype: int64"
     },
     "execution_count": 11,
     "metadata": {},
     "output_type": "execute_result"
    }
   ],
   "source": [
    "df['city'].value_counts()"
   ],
   "metadata": {
    "collapsed": false,
    "pycharm": {
     "name": "#%%\n"
    }
   }
  },
  {
   "cell_type": "code",
   "execution_count": 12,
   "outputs": [
    {
     "data": {
      "text/plain": "Text(0, 0.5, 'Number of users')"
     },
     "execution_count": 12,
     "metadata": {},
     "output_type": "execute_result"
    },
    {
     "data": {
      "text/plain": "<Figure size 576x396 with 1 Axes>",
      "image/png": "[encoded data removed]"
     },
     "metadata": {},
     "output_type": "display_data"
    }
   ],
   "source": [
    "plt.bar(df['city'].value_counts().keys(), df['city'].value_counts())\n",
    "plt.title('Users\\' cities of living')\n",
    "plt.xlabel('City')\n",
    "plt.ylabel('Number of users')"
   ],
   "metadata": {
    "collapsed": false,
    "pycharm": {
     "name": "#%%\n"
    }
   }
  },
  {
   "cell_type": "markdown",
   "source": [
    "Compare average number of products' views"
   ],
   "metadata": {
    "collapsed": false,
    "pycharm": {
     "name": "#%% md\n"
    }
   }
  },
  {
   "cell_type": "code",
   "execution_count": 13,
   "outputs": [
    {
     "data": {
      "text/plain": "3.8565717141429285"
     },
     "execution_count": 13,
     "metadata": {},
     "output_type": "execute_result"
    }
   ],
   "source": [
    "not_purchased = df.loc[df['purchased'] == 0]\n",
    "products_not_purchased = not_purchased['product_id'].values\n",
    "avg_n_views_not_purchased = np.mean([len(product_list) for product_list in products_not_purchased])\n",
    "avg_n_views_not_purchased"
   ],
   "metadata": {
    "collapsed": false,
    "pycharm": {
     "name": "#%%\n"
    }
   }
  },
  {
   "cell_type": "code",
   "execution_count": 14,
   "outputs": [
    {
     "data": {
      "text/plain": "2.5420814479638008"
     },
     "execution_count": 14,
     "metadata": {},
     "output_type": "execute_result"
    }
   ],
   "source": [
    "purchased = df.loc[df['purchased'] == 1]\n",
    "products_purchased = purchased['product_id'].values\n",
    "avg_n_views_purchased = np.mean([len(product_list) for product_list in products_purchased])\n",
    "avg_n_views_purchased"
   ],
   "metadata": {
    "collapsed": false,
    "pycharm": {
     "name": "#%%\n"
    }
   }
  },
  {
   "cell_type": "code",
   "execution_count": 15,
   "outputs": [
    {
     "data": {
      "text/plain": "Text(0, 0.5, 'Number of views')"
     },
     "execution_count": 15,
     "metadata": {},
     "output_type": "execute_result"
    },
    {
     "data": {
      "text/plain": "<Figure size 576x396 with 1 Axes>",
      "image/png": "[encoded data removed]"
     },
     "metadata": {},
     "output_type": "display_data"
    }
   ],
   "source": [
    "plt.bar(['purchased', 'not purchased'], [avg_n_views_purchased, avg_n_views_not_purchased])\n",
    "plt.title('Average number of products\\' views during session')\n",
    "plt.xlabel('If purchase during session')\n",
    "plt.ylabel('Number of views')"
   ],
   "metadata": {
    "collapsed": false,
    "pycharm": {
     "name": "#%%\n"
    }
   }
  },
  {
   "cell_type": "markdown",
   "source": [
    "It is interesting that the chance of purchase during session gets smaller as the number of views of products gets bigger."
   ],
   "metadata": {
    "collapsed": false,
    "pycharm": {
     "name": "#%% md\n"
    }
   }
  },
  {
   "cell_type": "markdown",
   "source": [
    "TODO: Plot session duration - probability of purchase"
   ],
   "metadata": {
    "collapsed": false,
    "pycharm": {
     "name": "#%% md\n"
    }
   }
  }
 ],
 "metadata": {
  "kernelspec": {
   "display_name": "Python 3",
   "language": "python",
   "name": "python3"
  },
  "language_info": {
   "codemirror_mode": {
    "name": "ipython",
    "version": 2
   },
   "file_extension": ".py",
   "mimetype": "text/x-python",
   "name": "python",
   "nbconvert_exporter": "python",
   "pygments_lexer": "ipython2",
   "version": "2.7.6"
  }
 },
 "nbformat": 4,
 "nbformat_minor": 0
}