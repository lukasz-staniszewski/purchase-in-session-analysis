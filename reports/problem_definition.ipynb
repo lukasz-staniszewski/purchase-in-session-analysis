{
 "cells": [
  {
   "cell_type": "markdown",
   "metadata": {
    "collapsed": true,
    "pycharm": {
     "name": "#%% md\n"
    }
   },
   "source": [
    "<h4><center><i>Bartosz Cywiński, Łukasz Staniszewski</i></center></h4>\n",
    "<h1><center>Inżynieria Uczenia Maszynowego - Projekt</center></h1>\n",
    "<h4><center>Analiza sesji użytkownika pod względem predykcji zakupu</center></h4>"
   ]
  },
  {
   "cell_type": "markdown",
   "source": [
    "# I. Definicja problemu biznesowego"
   ],
   "metadata": {
    "collapsed": false,
    "pycharm": {
     "name": "#%% md\n"
    }
   }
  },
  {
   "cell_type": "markdown",
   "source": [
    "\n",
    "## I.1. Obecna sytuacja\n",
    "+ Obecnie, w trakcie trwania sesji sklep zbiera informacje o sesji, tzn. jej identyfikator, dokładny moment czasu jej wystąpienia, informacje o użytkowniku, którego dotyczy sesja, informację o samym produkcie, którego dotyczy sesja, a także czy sesja ta jest zakupem produktu, czy jego obejrzeniem.\n",
    "+ Pozostałe dane, jakie gromadzi sklep dotyczą samych użytkowników (sklep posiada ich bazę), katalogu produktów i dane dotyczące wysyłki zakupionych produktów.\n",
    "+ Obecnie klient biznesowy dowiaduje się o zakupie, dopiero po zakończonej sesji użytkownika w sklepie."
   ],
   "metadata": {
    "collapsed": false,
    "pycharm": {
     "name": "#%% md\n"
    }
   }
  },
  {
   "cell_type": "markdown",
   "source": [
    "## I.3. Potencjalne ograniczenia\n",
    "+ Najważniejszym ograniczeniem w tym zadaniu jest czas - zależy nam na tym, żeby predykować zakup przed samym zakończeniem sesji - chcemy być szybsi od decyzji użytkownika o zakupie.\n",
    "+ Dodatkowo, trzeba mieć na uwadze, że sklep nie będzie miał informacji o typowym zachowaniu użytkownika w sklepie, w przypadku użytkownika, który odwiedza go pierwszy raz - mimo to, dobrze by było wnioskować z analizy sesji, czy jest możliwość dokonania zakupu.\n",
    "+ Model jest budowany jedynie na podstawie dostarczonych przez klienta biznesowego danych, zbieranie ich jest bardzo czasochłonne.\n",
    "+ Musimy brać pod uwagę również zasoby - istotny jest czas jaki jest wymagany do wytrenowania modelu, jak i zasoby sprzętowe komputera, na którym ma miejsce trenowanie."
   ],
   "metadata": {
    "collapsed": false,
    "pycharm": {
     "name": "#%% md\n"
    }
   }
  },
  {
   "cell_type": "markdown",
   "source": [
    "# II. Zadanie modelowania"
   ],
   "metadata": {
    "collapsed": false,
    "pycharm": {
     "name": "#%% md\n"
    }
   }
  },
  {
   "cell_type": "markdown",
   "source": [
    "## II.1. Dane do modelowania\n",
    "+"
   ],
   "metadata": {
    "collapsed": false,
    "pycharm": {
     "name": "#%% md\n"
    }
   }
  },
  {
   "cell_type": "markdown",
   "source": [
    "## II.2. Wyjście modelowania\n",
    "+ Interesującym konsultantów w sklepie, wynikiem modelowania będzie prawdopodobieństwo zakończenia danej sesji zakupem.\n",
    "+ Sama informacja w postaci klasyfikacji binarnej byłaby mało informatywna dla konsultantów.\n",
    "+ Dodatkowo, w przypadku wielu klientów, prawdopodobieństwo pozwala konsultantom decydować, którym klientem warto się zająć."
   ],
   "metadata": {
    "collapsed": false,
    "pycharm": {
     "name": "#%% md\n"
    }
   }
  },
  {
   "cell_type": "markdown",
   "source": [
    "## II.3. Definicja zadania modelowania\n",
    "+ Chcemy przewidywać prawdopodobieństwa zakończenia sesji zakupem przy użyciu zadania regresji, gdzie predykcje są liczbami ciągłymi z zakresu $<0;1>$."
   ],
   "metadata": {
    "collapsed": false,
    "pycharm": {
     "name": "#%% md\n"
    }
   }
  },
  {
   "cell_type": "markdown",
   "source": [
    "# III. Kryteria sukcesu"
   ],
   "metadata": {
    "collapsed": false,
    "pycharm": {
     "name": "#%% md\n"
    }
   }
  },
  {
   "cell_type": "markdown",
   "source": [
    "## III.1. Kryteria biznesowe\n",
    "+ System ma poprawić obecną sytuację - informacja o zakończeniu sesji zakupem będzie przewidywana przed jej zakończeniem. Sumarycznie wszystkie predykcje systemu mają zaoszczędzić czas konsultantom.\n"
   ],
   "metadata": {
    "collapsed": false,
    "pycharm": {
     "name": "#%% md\n"
    }
   }
  },
  {
   "cell_type": "markdown",
   "source": [
    "## III.2. Kryteria analityczne\n",
    "+ Chcemy osiągnąć wysoką wartość metryki Recall, która w naszym przypadku oznacza stosunek liczby sesji trafnie sklasyfikowanych jako zakończone zakupem do liczby wszystkich sesji zakończonych zakupem. Metryka ta jest w naszym zadaniu istotna, ponieważ duże znaczenie ma zauważenie przez konsultanta jak największej liczby sesji, które zakończą się zakupem. Konsultant może pozwolić sobie na niedużą stratę czasu związaną ze zwróceniem uwagi na sesję nie zakończoną zakupem, jednak nie chcemy, żeby nie zauważył sesji, która takim zakupem się kończy.\n",
    "+ Tak więc istotne jest spełnienie: $$ \\frac{\\text{liczba trafnych przewidzeń zakupu w sesjach w danym dniu}}{\\text{liczba zakupów w sesjach w danym dniu}} > \\frac{2}{3}$$"
   ],
   "metadata": {
    "collapsed": false,
    "pycharm": {
     "name": "#%% md\n"
    }
   }
  }
 ],
 "metadata": {
  "kernelspec": {
   "display_name": "Python 3",
   "language": "python",
   "name": "python3"
  },
  "language_info": {
   "codemirror_mode": {
    "name": "ipython",
    "version": 2
   },
   "file_extension": ".py",
   "mimetype": "text/x-python",
   "name": "python",
   "nbconvert_exporter": "python",
   "pygments_lexer": "ipython2",
   "version": "2.7.6"
  }
 },
 "nbformat": 4,
 "nbformat_minor": 0
}