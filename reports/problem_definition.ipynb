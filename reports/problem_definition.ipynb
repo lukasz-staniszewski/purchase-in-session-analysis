{
 "cells": [
  {
   "cell_type": "markdown",
   "metadata": {
    "collapsed": true,
    "pycharm": {
     "name": "#%% md\n"
    }
   },
   "source": [
    "<h4><center><i>Bartosz Cywiński, Łukasz Staniszewski</i></center></h4>\n",
    "<h1><center>Inżynieria Uczenia Maszynowego - Projekt</center></h1>\n",
    "<h4><center>Analiza sesji użytkownika pod względem predykcji zakupu</center></h4>"
   ]
  },
  {
   "cell_type": "markdown",
   "source": [
    "# I. Definicja problemu biznesowego"
   ],
   "metadata": {
    "collapsed": false,
    "pycharm": {
     "name": "#%% md\n"
    }
   }
  },
  {
   "cell_type": "markdown",
   "source": [
    "## I.1. Cel biznesowy\n",
    "Chcemy konsultantom dostarczyć informację w postaci przewidzenia, czy dana sesja użytkownika korzystającego ze sklepu e-commerce zakończy się zakupem, aby mogli oni szybciej rozwiązywać potencjalne problemy."
   ],
   "metadata": {
    "collapsed": false,
    "pycharm": {
     "name": "#%% md\n"
    }
   }
  },
  {
   "cell_type": "markdown",
   "source": [
    "\n",
    "## I.2. Obecna sytuacja\n",
    "Obecnie, w trakcie trwania sesji sklep zbiera informacje o zdarzeniach, które w ramach jej wystąpiły, tzn.:\n",
    "+ identyfikator sesji, której dotyczy zdarzenie,\n",
    "+ dokładny moment wystąpienia zdarzenia,\n",
    "+ informacje o użytkowniku, którego dotyczy zdarzenie,\n",
    "+ informację o produkcie, którego dotyczy zdarzenie,\n",
    "+ a także czy zdarzenie to jest zakupem produktu, czy jego obejrzeniem.\n",
    "\n",
    "<br>\n",
    "\n",
    "Pozostałe dane, jakie gromadzi sklep dotyczą:\n",
    "+ użytkowników (sklep posiada ich bazę),\n",
    "+ katalogu produktów,\n",
    "+ wysyłek zakupionych produktów.\n",
    "\n",
    "<br>\n",
    "\n",
    "Obecnie konsultant dowiaduje się o zakupie dopiero po zakończonej sesji użytkownika w sklepie. Sesja klientów w sklepie może nie zakończyć się zakupem, ze względu na występujące po drodze problemy natury zarówno technicznej jaki i decyzyjnej. Jeśli konsultant miałby informację o potencjalnym zainteresowaniu użytkownika przed jego rezygnacją z zakupu, mógłby mu udzielić pomocy."
   ],
   "metadata": {
    "collapsed": false,
    "pycharm": {
     "name": "#%% md\n"
    }
   }
  },
  {
   "cell_type": "markdown",
   "source": [
    "## I.3. Potencjalne ograniczenia\n",
    "Ograniczeniem w tym zadaniu jest czas - zależy nam na tym, żeby przewidywać zakup przed samym zakończeniem sesji - chcemy być szybsi od decyzji użytkownika o zakupie/rezygnacji z zakupu. Dodatkowo, model jest budowany jedynie na podstawie dostarczonych przez klienta biznesowego danych, zbieranie ich samemu byłoby bardzo czasochłonne."
   ],
   "metadata": {
    "collapsed": false,
    "pycharm": {
     "name": "#%% md\n"
    }
   }
  },
  {
   "cell_type": "markdown",
   "source": [
    "# II. Zadanie modelowania"
   ],
   "metadata": {
    "collapsed": false,
    "pycharm": {
     "name": "#%% md\n"
    }
   }
  },
  {
   "cell_type": "markdown",
   "source": [
    "## II.1. Definicja zadania modelowania\n",
    "Przygotowanie modelu klasyfikacji binarnej sekwencji na podstawie danych dostarczanych przez sklep."
   ],
   "metadata": {
    "collapsed": false,
    "pycharm": {
     "name": "#%% md\n"
    }
   }
  },
  {
   "cell_type": "markdown",
   "source": [
    "## II.2. Atrybuty wejściowe\n",
    "Dane o sesji, w postaci zdarzeń, które wystąpiły w ramach sesji użytkownika, której zakończenie przewidujemy. Zakładamy, że w przekazywanych danych będą również informacje o kliencie sklepu, a także o produktach, których sesja dotyczy."
   ],
   "metadata": {
    "collapsed": false,
    "pycharm": {
     "name": "#%% md\n"
    }
   }
  },
  {
   "cell_type": "markdown",
   "source": [
    "## II.3. Wyjście modelowania\n",
    "Decyzja o tym, czy dana sesja zakończy się zakupem czy nie."
   ],
   "metadata": {
    "collapsed": false,
    "pycharm": {
     "name": "#%% md\n"
    }
   }
  },
  {
   "cell_type": "markdown",
   "source": [
    "# III. Kryteria sukcesu"
   ],
   "metadata": {
    "collapsed": false,
    "pycharm": {
     "name": "#%% md\n"
    }
   }
  },
  {
   "cell_type": "markdown",
   "source": [
    "## III.1. Kryteria biznesowe\n",
    "System ma poprawić obecną sytuację - informacja o zakończeniu sesji zakupem będzie przewidywana przed jej zakończeniem.\n"
   ],
   "metadata": {
    "collapsed": false,
    "pycharm": {
     "name": "#%% md\n"
    }
   }
  },
  {
   "cell_type": "markdown",
   "source": [
    "## III.2. Kryteria analityczne\n",
    "\n",
    "Chcemy osiągnąć wysoką wartość metryki recall, która w naszym przypadku oznacza stosunek liczby sesji trafnie sklasyfikowanych jako zakończone zakupem do liczby wszystkich sesji zakończonych zakupem. Metryka ta jest w naszym zadaniu istotna, ponieważ duże znaczenie ma zauważenie przez konsultanta jak największej liczby sesji, które zakończą się zakupem. Konsultant może pozwolić sobie na niedużą stratę czasu związaną ze zwróceniem uwagi na sesję nie zakończoną zakupem, jednak nie chcemy, żeby nie zauważył sesji, która takim zakupem się kończy.\n",
    "<br>\n",
    "Tak więc istotne jest spełnienie warunku: $$ \\frac{\\text{liczba trafnych przewidzeń zakupu w sesjach w danym dniu}}{\\text{liczba zakupów w sesjach w danym dniu}} > \\alpha$$ gdzie $\\alpha$ to wartość metryki recall dla modelu działającego w sposób naiwny, tzn. przewidujący zakup na podstawie czasu trwania danej sesji."
   ],
   "metadata": {
    "collapsed": false,
    "pycharm": {
     "name": "#%% md\n"
    }
   }
  }
 ],
 "metadata": {
  "kernelspec": {
   "display_name": "Python 3",
   "language": "python",
   "name": "python3"
  },
  "language_info": {
   "codemirror_mode": {
    "name": "ipython",
    "version": 2
   },
   "file_extension": ".py",
   "mimetype": "text/x-python",
   "name": "python",
   "nbconvert_exporter": "python",
   "pygments_lexer": "ipython2",
   "version": "2.7.6"
  }
 },
 "nbformat": 4,
 "nbformat_minor": 0
}