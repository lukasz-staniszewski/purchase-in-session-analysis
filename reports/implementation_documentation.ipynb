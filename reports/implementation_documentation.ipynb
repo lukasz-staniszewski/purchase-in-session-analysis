{
 "cells": [
  {
   "cell_type": "markdown",
   "source": [
    "# Dokumentacja działania implementacji mikroserwisu"
   ],
   "metadata": {
    "collapsed": false,
    "pycharm": {
     "name": "#%% md\n"
    }
   }
  },
  {
   "cell_type": "markdown",
   "source": [
    "Stworzone endpointy w ramach serwisu:\n",
    "\n",
    "![image](https://user-images.githubusercontent.com/59453698/148667526-79363af5-8b04-4008-b114-5d286746e965.png)\n"
   ],
   "metadata": {
    "collapsed": false,
    "pycharm": {
     "name": "#%% md\n"
    }
   }
  },
  {
   "cell_type": "code",
   "execution_count": 1,
   "metadata": {
    "collapsed": true
   },
   "outputs": [],
   "source": [
    "import random\n",
    "\n",
    "import requests"
   ]
  },
  {
   "cell_type": "markdown",
   "source": [
    "## Możliwość zmiany modelu, który dostarcza predykcje\n",
    "Dostępne modele:\n",
    "- Las losowy\n",
    "- Sieć neuronowa\n",
    "- Model naiwny"
   ],
   "metadata": {
    "collapsed": false,
    "pycharm": {
     "name": "#%% md\n"
    }
   }
  },
  {
   "cell_type": "code",
   "execution_count": 2,
   "outputs": [
    {
     "data": {
      "text/plain": "{'result': 'Model changed to random_forest'}"
     },
     "execution_count": 2,
     "metadata": {},
     "output_type": "execute_result"
    }
   ],
   "source": [
    "# Zmiana na model lasu losowego\n",
    "requests.get(url=\"http://localhost:8000/model/choose_model/random_forest\").json()"
   ],
   "metadata": {
    "collapsed": false,
    "pycharm": {
     "name": "#%%\n"
    }
   }
  },
  {
   "cell_type": "code",
   "execution_count": 3,
   "outputs": [
    {
     "data": {
      "text/plain": "{'result': 'Model changed to nn'}"
     },
     "execution_count": 3,
     "metadata": {},
     "output_type": "execute_result"
    }
   ],
   "source": [
    "# Zmiana na model sieci neuronowej\n",
    "requests.get(url=\"http://localhost:8000/model/choose_model/nn\").json()"
   ],
   "metadata": {
    "collapsed": false,
    "pycharm": {
     "name": "#%%\n"
    }
   }
  },
  {
   "cell_type": "code",
   "execution_count": 4,
   "outputs": [
    {
     "data": {
      "text/plain": "{'result': 'Model changed to naive'}"
     },
     "execution_count": 4,
     "metadata": {},
     "output_type": "execute_result"
    }
   ],
   "source": [
    "# Zmiana na model naiwny\n",
    "requests.get(url=\"http://localhost:8000/model/choose_model/naive\").json()"
   ],
   "metadata": {
    "collapsed": false,
    "pycharm": {
     "name": "#%%\n"
    }
   }
  },
  {
   "cell_type": "markdown",
   "source": [
    "## Możliwość wyświetlenia obecnie wybranego modelu"
   ],
   "metadata": {
    "collapsed": false,
    "pycharm": {
     "name": "#%% md\n"
    }
   }
  },
  {
   "cell_type": "code",
   "execution_count": 5,
   "outputs": [
    {
     "data": {
      "text/plain": "{'model_name': 'naive'}"
     },
     "execution_count": 5,
     "metadata": {},
     "output_type": "execute_result"
    }
   ],
   "source": [
    "requests.get(url=\"http://localhost:8000/model/current_model\").json()"
   ],
   "metadata": {
    "collapsed": false,
    "pycharm": {
     "name": "#%%\n"
    }
   }
  },
  {
   "cell_type": "markdown",
   "source": [
    "## Możliwość serwowania predykcji\n",
    "Wcześniej należy wysłać requesta wybierającego porządany przez użytkownika model, który ma dostarczać predykcje"
   ],
   "metadata": {
    "collapsed": false,
    "pycharm": {
     "name": "#%% md\n"
    }
   }
  },
  {
   "cell_type": "markdown",
   "source": [
    "##### Predykcja modelem lasu losowego"
   ],
   "metadata": {
    "collapsed": false,
    "pycharm": {
     "name": "#%% md\n"
    }
   }
  },
  {
   "cell_type": "code",
   "execution_count": 6,
   "outputs": [
    {
     "data": {
      "text/plain": "{'result': 'Model changed to random_forest'}"
     },
     "execution_count": 6,
     "metadata": {},
     "output_type": "execute_result"
    }
   ],
   "source": [
    "requests.get(url=\"http://localhost:8000/model/choose_model/random_forest\").json()"
   ],
   "metadata": {
    "collapsed": false,
    "pycharm": {
     "name": "#%%\n"
    }
   }
  },
  {
   "cell_type": "code",
   "execution_count": 7,
   "outputs": [
    {
     "data": {
      "text/plain": "{'prediction:': 0.0}"
     },
     "execution_count": 7,
     "metadata": {},
     "output_type": "execute_result"
    }
   ],
   "source": [
    "requests.post(url=\"http://localhost:8000/model/predict\", json={\"data\": [5.0, 19.0,1000.98,1.0,0.0,0.0,0.0,0.0,0.0,0.0,0.0,0.0,0.0,0.0,0.0,0.0,0.0,0.0,0.0,0.0,2.0,0.0,2.0,0.0,0.0,0.0,0.0,0.0,0.0,2.0,2.0,0.0,0.0,1.0,7.0,28.0,15.0,2.0]}).json()"
   ],
   "metadata": {
    "collapsed": false,
    "pycharm": {
     "name": "#%%\n"
    }
   }
  },
  {
   "cell_type": "markdown",
   "source": [
    "##### Predykcja modelem sieci neuronowej"
   ],
   "metadata": {
    "collapsed": false,
    "pycharm": {
     "name": "#%% md\n"
    }
   }
  },
  {
   "cell_type": "code",
   "execution_count": 8,
   "outputs": [
    {
     "data": {
      "text/plain": "{'result': 'Model changed to nn'}"
     },
     "execution_count": 8,
     "metadata": {},
     "output_type": "execute_result"
    }
   ],
   "source": [
    "requests.get(url=\"http://localhost:8000/model/choose_model/nn\").json()"
   ],
   "metadata": {
    "collapsed": false,
    "pycharm": {
     "name": "#%%\n"
    }
   }
  },
  {
   "cell_type": "code",
   "execution_count": 9,
   "outputs": [
    {
     "data": {
      "text/plain": "{'prediction:': 1.0}"
     },
     "execution_count": 9,
     "metadata": {},
     "output_type": "execute_result"
    }
   ],
   "source": [
    "requests.post(url=\"http://localhost:8000/model/predict\", json={\"data\": [5.0, 19.0,1000.98,1.0,0.0,0.0,0.0,0.0,0.0,0.0,0.0,0.0,0.0,0.0,0.0,0.0,0.0,0.0,0.0,0.0,2.0,0.0,2.0,0.0,0.0,0.0,0.0,0.0,0.0,2.0,2.0,0.0,0.0,1.0,7.0,28.0,15.0,2.0]}).json()"
   ],
   "metadata": {
    "collapsed": false,
    "pycharm": {
     "name": "#%%\n"
    }
   }
  },
  {
   "cell_type": "markdown",
   "source": [
    "##### Predykcja modelem naiwnym"
   ],
   "metadata": {
    "collapsed": false,
    "pycharm": {
     "name": "#%% md\n"
    }
   }
  },
  {
   "cell_type": "code",
   "execution_count": 10,
   "outputs": [
    {
     "data": {
      "text/plain": "{'result': 'Model changed to naive'}"
     },
     "execution_count": 10,
     "metadata": {},
     "output_type": "execute_result"
    }
   ],
   "source": [
    "requests.get(url=\"http://localhost:8000/model/choose_model/naive\").json()"
   ],
   "metadata": {
    "collapsed": false,
    "pycharm": {
     "name": "#%%\n"
    }
   }
  },
  {
   "cell_type": "code",
   "execution_count": 11,
   "outputs": [
    {
     "data": {
      "text/plain": "{'prediction:': 0.0}"
     },
     "execution_count": 11,
     "metadata": {},
     "output_type": "execute_result"
    }
   ],
   "source": [
    "requests.post(url=\"http://localhost:8000/model/predict\", json={\"data\": [5.0, 19.0,1000.98,1.0,0.0,0.0,0.0,0.0,0.0,0.0,0.0,0.0,0.0,0.0,0.0,0.0,0.0,0.0,0.0,0.0,2.0,0.0,2.0,0.0,0.0,0.0,0.0,0.0,0.0,2.0,2.0,0.0,0.0,1.0,7.0,28.0,15.0,2.0]}).json()"
   ],
   "metadata": {
    "collapsed": false,
    "pycharm": {
     "name": "#%%\n"
    }
   }
  },
  {
   "cell_type": "markdown",
   "source": [
    "## Możliwość realizacji eksperymentu A/B\n",
    "W przypadku tego projektu, eksperyment jest realizowany między modelem A - lasu losowego, a modelem B - naiwnym (wykonującym predykcję na podstawie czasu trwania sesji). Miarę, jaką zastosujemy to, zgodnie z założeniami wstępnymi, accuracy dla obu modeli.\n",
    "\n",
    "Aby rozpocząć na nowo eksperyment A/B, użytkownik przesyła do mikroserwisu request'a, restartującego zbiór próbek, który mikroserwis przygotuje, aby móc przeprowadzić eksperyment."
   ],
   "metadata": {
    "collapsed": false,
    "pycharm": {
     "name": "#%% md\n"
    }
   }
  },
  {
   "cell_type": "code",
   "execution_count": 12,
   "outputs": [
    {
     "data": {
      "text/plain": "{'msg': 'Reset of AB predictions file performed!'}"
     },
     "execution_count": 12,
     "metadata": {},
     "output_type": "execute_result"
    }
   ],
   "source": [
    "requests.post(url=\"http://localhost:8000/model/ab/reset_ab\").json()"
   ],
   "metadata": {
    "collapsed": false,
    "pycharm": {
     "name": "#%%\n"
    }
   }
  },
  {
   "cell_type": "markdown",
   "source": [
    "Następnie rozpoczyna się etap zbierania próby do przeprowadzenia eksperymentu A/B. W naszym przypadku założyliśmy, że do mikroserwisu przekazywane są dane wejściowe dla modelów wraz z informacją, jakiej sesji one dotyczą.\n",
    "\n",
    "Dla ułatwienia zadania stworzyliśmy funkcję, która dla podanego session_id ze zbioru testowego, zwraca ciało zapytania, które jest wysyłane do mikroserwisu.\n",
    "\n",
    "Podział na próby jest wykonywany w taki sposób, że sesje o numerze nieparzystym trafiają do grupy z modelem naiwnym, natomiast te z parzystym - do grupy z modelem zaawansowanym. Wyniki są zapisywane do pliku w postaci logów, które potem mikroserwis wykorzysta aby porównać modele."
   ],
   "metadata": {
    "collapsed": false,
    "pycharm": {
     "name": "#%% md\n"
    }
   }
  },
  {
   "cell_type": "code",
   "execution_count": 17,
   "outputs": [
    {
     "name": "stderr",
     "output_type": "stream",
     "text": [
      "C:\\Users\\01149762\\Documents\\AI\\purchase-in-session-analysis\\venv\\lib\\site-packages\\pandas\\core\\frame.py:4906: SettingWithCopyWarning: \n",
      "A value is trying to be set on a copy of a slice from a DataFrame\n",
      "\n",
      "See the caveats in the documentation: https://pandas.pydata.org/pandas-docs/stable/user_guide/indexing.html#returning-a-view-versus-a-copy\n",
      "  return super().drop(\n"
     ]
    },
    {
     "name": "stdout",
     "output_type": "stream",
     "text": [
      "{'model_name': 'naive', 'prediction': 1}\n",
      "{'model_name': 'naive', 'prediction': 1}\n",
      "{'model_name': 'naive', 'prediction': 1}\n",
      "{'model_name': 'random_forest', 'prediction': 0.0}\n",
      "{'model_name': 'naive', 'prediction': 0}\n",
      "{'model_name': 'random_forest', 'prediction': 0.0}\n",
      "{'model_name': 'random_forest', 'prediction': 0.0}\n",
      "{'model_name': 'random_forest', 'prediction': 0.0}\n",
      "{'model_name': 'random_forest', 'prediction': 1.0}\n",
      "{'model_name': 'random_forest', 'prediction': 0.0}\n"
     ]
    }
   ],
   "source": [
    "from tests.microservice_test import create_input_for_microservice\n",
    "import pandas as pd\n",
    "\n",
    "test_df = pd.read_json(path_or_buf='../data/processed/test_set.jsonl')\n",
    "possible_sessions_id = test_df['session_id'].values.tolist()\n",
    "responses = []\n",
    "SAMPLE_SIZE = 150\n",
    "\n",
    "for index in range(SAMPLE_SIZE):\n",
    "    inp_data = create_input_for_microservice(possible_sessions_id[index])\n",
    "    resp = requests.post(url=\"http://localhost:8000/model/ab/add_sample\", json=inp_data).json()\n",
    "    responses.append(resp)\n",
    "\n",
    "responses = random.sample(responses, 10)\n",
    "\n",
    "for el in responses:\n",
    "    print(el)"
   ],
   "metadata": {
    "collapsed": false,
    "pycharm": {
     "name": "#%%\n"
    }
   }
  },
  {
   "cell_type": "markdown",
   "source": [
    "Przykładowy wygląd loga, który tworzy mikroserwis, zbierając dane do przeprowadzenia eksperymentu A/B:\n",
    "\n",
    "![image](https://user-images.githubusercontent.com/59453698/148668439-c9b70190-f10c-4541-977b-a203812be4ec.png)\n"
   ],
   "metadata": {
    "collapsed": false,
    "pycharm": {
     "name": "#%% md\n"
    }
   }
  },
  {
   "cell_type": "markdown",
   "source": [
    "Na końcu, gdy już uzbierzemy próbę o wystarczającej wielkości, możemy wykonać porównanie modeli w kontekście tych zebranych prób.\n",
    "\n",
    "<i>W tym projekcie założyliśmy, że próbki, które tworzą próbę w eksperymencie a/b pochodzą ze zbioru testowego - tzn. mikroserwis, gdy już uzbiera próbę o wystarczającej wielkości, porównuje oba modele zestawiając swój log (przechowujący predykcje modeli w ramach konkretnych sesji) ze zbiorem testowym (porównuje konkretne session_id).</i>"
   ],
   "metadata": {
    "collapsed": false
   }
  },
  {
   "cell_type": "code",
   "execution_count": 18,
   "outputs": [
    {
     "data": {
      "text/plain": "{'Naive accuracy on A/B test:': '68.116%',\n 'Random forest accuracy on A/B test:': '100.000%'}"
     },
     "execution_count": 18,
     "metadata": {},
     "output_type": "execute_result"
    }
   ],
   "source": [
    "requests.post(url=\"http://localhost:8000/model/ab/perform_ab\").json()"
   ],
   "metadata": {
    "collapsed": false,
    "pycharm": {
     "name": "#%%\n"
    }
   }
  }
 ],
 "metadata": {
  "kernelspec": {
   "display_name": "Python 3",
   "language": "python",
   "name": "python3"
  },
  "language_info": {
   "codemirror_mode": {
    "name": "ipython",
    "version": 2
   },
   "file_extension": ".py",
   "mimetype": "text/x-python",
   "name": "python",
   "nbconvert_exporter": "python",
   "pygments_lexer": "ipython2",
   "version": "2.7.6"
  }
 },
 "nbformat": 4,
 "nbformat_minor": 0
}